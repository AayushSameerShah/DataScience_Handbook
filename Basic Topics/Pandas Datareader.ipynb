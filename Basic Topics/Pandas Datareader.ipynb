{
 "cells": [
  {
   "cell_type": "code",
   "execution_count": 1,
   "metadata": {},
   "outputs": [],
   "source": [
    "import pandas as pd\n",
    "import numpy as np"
   ]
  },
  {
   "cell_type": "code",
   "execution_count": 2,
   "metadata": {},
   "outputs": [],
   "source": [
    "from pandas_datareader import data"
   ]
  },
  {
   "cell_type": "markdown",
   "metadata": {},
   "source": [
    "# Works so fine... "
   ]
  },
  {
   "cell_type": "code",
   "execution_count": 3,
   "metadata": {},
   "outputs": [
    {
     "data": {
      "text/html": [
       "<div>\n",
       "<style scoped>\n",
       "    .dataframe tbody tr th:only-of-type {\n",
       "        vertical-align: middle;\n",
       "    }\n",
       "\n",
       "    .dataframe tbody tr th {\n",
       "        vertical-align: top;\n",
       "    }\n",
       "\n",
       "    .dataframe thead th {\n",
       "        text-align: right;\n",
       "    }\n",
       "</style>\n",
       "<table border=\"1\" class=\"dataframe\">\n",
       "  <thead>\n",
       "    <tr style=\"text-align: right;\">\n",
       "      <th></th>\n",
       "      <th>High</th>\n",
       "      <th>Low</th>\n",
       "      <th>Open</th>\n",
       "      <th>Close</th>\n",
       "      <th>Volume</th>\n",
       "      <th>Adj Close</th>\n",
       "    </tr>\n",
       "    <tr>\n",
       "      <th>Date</th>\n",
       "      <th></th>\n",
       "      <th></th>\n",
       "      <th></th>\n",
       "      <th></th>\n",
       "      <th></th>\n",
       "      <th></th>\n",
       "    </tr>\n",
       "  </thead>\n",
       "  <tbody>\n",
       "    <tr>\n",
       "      <th>2021-01-01</th>\n",
       "      <td>11.35</td>\n",
       "      <td>10.60</td>\n",
       "      <td>10.75</td>\n",
       "      <td>11.20</td>\n",
       "      <td>423793813</td>\n",
       "      <td>11.20</td>\n",
       "    </tr>\n",
       "    <tr>\n",
       "      <th>2021-01-04</th>\n",
       "      <td>12.15</td>\n",
       "      <td>11.45</td>\n",
       "      <td>11.80</td>\n",
       "      <td>11.90</td>\n",
       "      <td>649973524</td>\n",
       "      <td>11.90</td>\n",
       "    </tr>\n",
       "    <tr>\n",
       "      <th>2021-01-05</th>\n",
       "      <td>12.15</td>\n",
       "      <td>11.60</td>\n",
       "      <td>11.80</td>\n",
       "      <td>11.90</td>\n",
       "      <td>335592305</td>\n",
       "      <td>11.90</td>\n",
       "    </tr>\n",
       "    <tr>\n",
       "      <th>2021-01-06</th>\n",
       "      <td>12.25</td>\n",
       "      <td>11.50</td>\n",
       "      <td>12.00</td>\n",
       "      <td>11.85</td>\n",
       "      <td>374712576</td>\n",
       "      <td>11.85</td>\n",
       "    </tr>\n",
       "    <tr>\n",
       "      <th>2021-01-07</th>\n",
       "      <td>12.35</td>\n",
       "      <td>11.85</td>\n",
       "      <td>11.95</td>\n",
       "      <td>11.95</td>\n",
       "      <td>352143303</td>\n",
       "      <td>11.95</td>\n",
       "    </tr>\n",
       "    <tr>\n",
       "      <th>2021-01-08</th>\n",
       "      <td>12.30</td>\n",
       "      <td>11.65</td>\n",
       "      <td>12.10</td>\n",
       "      <td>11.75</td>\n",
       "      <td>290761549</td>\n",
       "      <td>11.75</td>\n",
       "    </tr>\n",
       "    <tr>\n",
       "      <th>2021-01-11</th>\n",
       "      <td>12.05</td>\n",
       "      <td>11.35</td>\n",
       "      <td>11.95</td>\n",
       "      <td>11.50</td>\n",
       "      <td>221429001</td>\n",
       "      <td>11.50</td>\n",
       "    </tr>\n",
       "    <tr>\n",
       "      <th>2021-01-12</th>\n",
       "      <td>12.25</td>\n",
       "      <td>11.30</td>\n",
       "      <td>11.45</td>\n",
       "      <td>12.10</td>\n",
       "      <td>389146921</td>\n",
       "      <td>12.10</td>\n",
       "    </tr>\n",
       "    <tr>\n",
       "      <th>2021-01-13</th>\n",
       "      <td>12.75</td>\n",
       "      <td>11.90</td>\n",
       "      <td>12.25</td>\n",
       "      <td>12.25</td>\n",
       "      <td>672714234</td>\n",
       "      <td>12.25</td>\n",
       "    </tr>\n",
       "    <tr>\n",
       "      <th>2021-01-14</th>\n",
       "      <td>12.45</td>\n",
       "      <td>12.10</td>\n",
       "      <td>12.35</td>\n",
       "      <td>12.30</td>\n",
       "      <td>167998404</td>\n",
       "      <td>12.30</td>\n",
       "    </tr>\n",
       "    <tr>\n",
       "      <th>2021-01-15</th>\n",
       "      <td>13.80</td>\n",
       "      <td>12.30</td>\n",
       "      <td>12.35</td>\n",
       "      <td>13.65</td>\n",
       "      <td>150727721</td>\n",
       "      <td>13.65</td>\n",
       "    </tr>\n",
       "    <tr>\n",
       "      <th>2021-01-18</th>\n",
       "      <td>13.65</td>\n",
       "      <td>12.60</td>\n",
       "      <td>13.65</td>\n",
       "      <td>13.00</td>\n",
       "      <td>494595504</td>\n",
       "      <td>13.00</td>\n",
       "    </tr>\n",
       "    <tr>\n",
       "      <th>2021-01-19</th>\n",
       "      <td>13.65</td>\n",
       "      <td>13.10</td>\n",
       "      <td>13.15</td>\n",
       "      <td>13.30</td>\n",
       "      <td>260285118</td>\n",
       "      <td>13.30</td>\n",
       "    </tr>\n",
       "    <tr>\n",
       "      <th>2021-01-20</th>\n",
       "      <td>13.50</td>\n",
       "      <td>13.20</td>\n",
       "      <td>13.30</td>\n",
       "      <td>13.35</td>\n",
       "      <td>196034331</td>\n",
       "      <td>13.35</td>\n",
       "    </tr>\n",
       "    <tr>\n",
       "      <th>2021-01-21</th>\n",
       "      <td>13.65</td>\n",
       "      <td>12.80</td>\n",
       "      <td>13.35</td>\n",
       "      <td>12.90</td>\n",
       "      <td>275489083</td>\n",
       "      <td>12.90</td>\n",
       "    </tr>\n",
       "    <tr>\n",
       "      <th>2021-01-22</th>\n",
       "      <td>13.10</td>\n",
       "      <td>12.40</td>\n",
       "      <td>12.95</td>\n",
       "      <td>12.70</td>\n",
       "      <td>359520848</td>\n",
       "      <td>12.70</td>\n",
       "    </tr>\n",
       "    <tr>\n",
       "      <th>2021-01-25</th>\n",
       "      <td>12.85</td>\n",
       "      <td>11.55</td>\n",
       "      <td>12.80</td>\n",
       "      <td>11.75</td>\n",
       "      <td>462082038</td>\n",
       "      <td>11.75</td>\n",
       "    </tr>\n",
       "    <tr>\n",
       "      <th>2021-01-27</th>\n",
       "      <td>12.00</td>\n",
       "      <td>11.35</td>\n",
       "      <td>11.70</td>\n",
       "      <td>11.60</td>\n",
       "      <td>425911676</td>\n",
       "      <td>11.60</td>\n",
       "    </tr>\n",
       "    <tr>\n",
       "      <th>2021-01-28</th>\n",
       "      <td>12.25</td>\n",
       "      <td>11.40</td>\n",
       "      <td>11.50</td>\n",
       "      <td>11.75</td>\n",
       "      <td>455920820</td>\n",
       "      <td>11.75</td>\n",
       "    </tr>\n",
       "    <tr>\n",
       "      <th>2021-01-29</th>\n",
       "      <td>12.00</td>\n",
       "      <td>10.95</td>\n",
       "      <td>11.80</td>\n",
       "      <td>11.20</td>\n",
       "      <td>289672779</td>\n",
       "      <td>11.20</td>\n",
       "    </tr>\n",
       "    <tr>\n",
       "      <th>2021-02-01</th>\n",
       "      <td>11.80</td>\n",
       "      <td>10.85</td>\n",
       "      <td>11.10</td>\n",
       "      <td>11.70</td>\n",
       "      <td>277025482</td>\n",
       "      <td>11.70</td>\n",
       "    </tr>\n",
       "    <tr>\n",
       "      <th>2021-02-02</th>\n",
       "      <td>11.95</td>\n",
       "      <td>11.50</td>\n",
       "      <td>11.85</td>\n",
       "      <td>11.85</td>\n",
       "      <td>219351517</td>\n",
       "      <td>11.85</td>\n",
       "    </tr>\n",
       "    <tr>\n",
       "      <th>2021-02-03</th>\n",
       "      <td>12.75</td>\n",
       "      <td>11.70</td>\n",
       "      <td>11.90</td>\n",
       "      <td>12.25</td>\n",
       "      <td>354263383</td>\n",
       "      <td>12.25</td>\n",
       "    </tr>\n",
       "    <tr>\n",
       "      <th>2021-02-04</th>\n",
       "      <td>12.50</td>\n",
       "      <td>12.10</td>\n",
       "      <td>12.30</td>\n",
       "      <td>12.15</td>\n",
       "      <td>163102730</td>\n",
       "      <td>12.15</td>\n",
       "    </tr>\n",
       "    <tr>\n",
       "      <th>2021-02-05</th>\n",
       "      <td>12.45</td>\n",
       "      <td>11.90</td>\n",
       "      <td>12.20</td>\n",
       "      <td>12.00</td>\n",
       "      <td>196604376</td>\n",
       "      <td>12.00</td>\n",
       "    </tr>\n",
       "  </tbody>\n",
       "</table>\n",
       "</div>"
      ],
      "text/plain": [
       "             High    Low   Open  Close     Volume  Adj Close\n",
       "Date                                                        \n",
       "2021-01-01  11.35  10.60  10.75  11.20  423793813      11.20\n",
       "2021-01-04  12.15  11.45  11.80  11.90  649973524      11.90\n",
       "2021-01-05  12.15  11.60  11.80  11.90  335592305      11.90\n",
       "2021-01-06  12.25  11.50  12.00  11.85  374712576      11.85\n",
       "2021-01-07  12.35  11.85  11.95  11.95  352143303      11.95\n",
       "2021-01-08  12.30  11.65  12.10  11.75  290761549      11.75\n",
       "2021-01-11  12.05  11.35  11.95  11.50  221429001      11.50\n",
       "2021-01-12  12.25  11.30  11.45  12.10  389146921      12.10\n",
       "2021-01-13  12.75  11.90  12.25  12.25  672714234      12.25\n",
       "2021-01-14  12.45  12.10  12.35  12.30  167998404      12.30\n",
       "2021-01-15  13.80  12.30  12.35  13.65  150727721      13.65\n",
       "2021-01-18  13.65  12.60  13.65  13.00  494595504      13.00\n",
       "2021-01-19  13.65  13.10  13.15  13.30  260285118      13.30\n",
       "2021-01-20  13.50  13.20  13.30  13.35  196034331      13.35\n",
       "2021-01-21  13.65  12.80  13.35  12.90  275489083      12.90\n",
       "2021-01-22  13.10  12.40  12.95  12.70  359520848      12.70\n",
       "2021-01-25  12.85  11.55  12.80  11.75  462082038      11.75\n",
       "2021-01-27  12.00  11.35  11.70  11.60  425911676      11.60\n",
       "2021-01-28  12.25  11.40  11.50  11.75  455920820      11.75\n",
       "2021-01-29  12.00  10.95  11.80  11.20  289672779      11.20\n",
       "2021-02-01  11.80  10.85  11.10  11.70  277025482      11.70\n",
       "2021-02-02  11.95  11.50  11.85  11.85  219351517      11.85\n",
       "2021-02-03  12.75  11.70  11.90  12.25  354263383      12.25\n",
       "2021-02-04  12.50  12.10  12.30  12.15  163102730      12.15\n",
       "2021-02-05  12.45  11.90  12.20  12.00  196604376      12.00"
      ]
     },
     "execution_count": 3,
     "metadata": {},
     "output_type": "execute_result"
    }
   ],
   "source": [
    "data.DataReader('IDEA.NS', start= 2021, data_source= 'yahoo')"
   ]
  },
  {
   "cell_type": "markdown",
   "metadata": {},
   "source": [
    "### Now, Let's plot it!"
   ]
  },
  {
   "cell_type": "code",
   "execution_count": 4,
   "metadata": {},
   "outputs": [],
   "source": [
    "IDEA2021 = data.DataReader('IDEA.NS', start= 2021, data_source= 'yahoo')"
   ]
  },
  {
   "cell_type": "code",
   "execution_count": 5,
   "metadata": {},
   "outputs": [
    {
     "data": {
      "text/html": [
       "<div>\n",
       "<style scoped>\n",
       "    .dataframe tbody tr th:only-of-type {\n",
       "        vertical-align: middle;\n",
       "    }\n",
       "\n",
       "    .dataframe tbody tr th {\n",
       "        vertical-align: top;\n",
       "    }\n",
       "\n",
       "    .dataframe thead th {\n",
       "        text-align: right;\n",
       "    }\n",
       "</style>\n",
       "<table border=\"1\" class=\"dataframe\">\n",
       "  <thead>\n",
       "    <tr style=\"text-align: right;\">\n",
       "      <th></th>\n",
       "      <th>High</th>\n",
       "      <th>Low</th>\n",
       "      <th>Open</th>\n",
       "      <th>Close</th>\n",
       "      <th>Volume</th>\n",
       "      <th>Adj Close</th>\n",
       "    </tr>\n",
       "    <tr>\n",
       "      <th>Date</th>\n",
       "      <th></th>\n",
       "      <th></th>\n",
       "      <th></th>\n",
       "      <th></th>\n",
       "      <th></th>\n",
       "      <th></th>\n",
       "    </tr>\n",
       "  </thead>\n",
       "  <tbody>\n",
       "    <tr>\n",
       "      <th>2021-01-01</th>\n",
       "      <td>11.35</td>\n",
       "      <td>10.60</td>\n",
       "      <td>10.75</td>\n",
       "      <td>11.20</td>\n",
       "      <td>423793813</td>\n",
       "      <td>11.20</td>\n",
       "    </tr>\n",
       "    <tr>\n",
       "      <th>2021-01-04</th>\n",
       "      <td>12.15</td>\n",
       "      <td>11.45</td>\n",
       "      <td>11.80</td>\n",
       "      <td>11.90</td>\n",
       "      <td>649973524</td>\n",
       "      <td>11.90</td>\n",
       "    </tr>\n",
       "    <tr>\n",
       "      <th>2021-01-05</th>\n",
       "      <td>12.15</td>\n",
       "      <td>11.60</td>\n",
       "      <td>11.80</td>\n",
       "      <td>11.90</td>\n",
       "      <td>335592305</td>\n",
       "      <td>11.90</td>\n",
       "    </tr>\n",
       "    <tr>\n",
       "      <th>2021-01-06</th>\n",
       "      <td>12.25</td>\n",
       "      <td>11.50</td>\n",
       "      <td>12.00</td>\n",
       "      <td>11.85</td>\n",
       "      <td>374712576</td>\n",
       "      <td>11.85</td>\n",
       "    </tr>\n",
       "    <tr>\n",
       "      <th>2021-01-07</th>\n",
       "      <td>12.35</td>\n",
       "      <td>11.85</td>\n",
       "      <td>11.95</td>\n",
       "      <td>11.95</td>\n",
       "      <td>352143303</td>\n",
       "      <td>11.95</td>\n",
       "    </tr>\n",
       "  </tbody>\n",
       "</table>\n",
       "</div>"
      ],
      "text/plain": [
       "             High    Low   Open  Close     Volume  Adj Close\n",
       "Date                                                        \n",
       "2021-01-01  11.35  10.60  10.75  11.20  423793813      11.20\n",
       "2021-01-04  12.15  11.45  11.80  11.90  649973524      11.90\n",
       "2021-01-05  12.15  11.60  11.80  11.90  335592305      11.90\n",
       "2021-01-06  12.25  11.50  12.00  11.85  374712576      11.85\n",
       "2021-01-07  12.35  11.85  11.95  11.95  352143303      11.95"
      ]
     },
     "execution_count": 5,
     "metadata": {},
     "output_type": "execute_result"
    }
   ],
   "source": [
    "IDEA2021.head()"
   ]
  },
  {
   "cell_type": "code",
   "execution_count": 6,
   "metadata": {},
   "outputs": [
    {
     "data": {
      "text/plain": [
       "<AxesSubplot:xlabel='Date'>"
      ]
     },
     "execution_count": 6,
     "metadata": {},
     "output_type": "execute_result"
    },
    {
     "data": {
      "image/png": "[encoded data removed]",
      "text/plain": [
       "<Figure size 432x288 with 1 Axes>"
      ]
     },
     "metadata": {
      "needs_background": "light"
     },
     "output_type": "display_data"
    }
   ],
   "source": [
    "IDEA2021.Close.plot()"
   ]
  },
  {
   "cell_type": "markdown",
   "metadata": {},
   "source": [
    "### And also check that, the Indices are the DateRange!"
   ]
  },
  {
   "cell_type": "code",
   "execution_count": 6,
   "metadata": {},
   "outputs": [
    {
     "data": {
      "text/plain": [
       "DatetimeIndex(['2021-01-01', '2021-01-04', '2021-01-05', '2021-01-06',\n",
       "               '2021-01-07', '2021-01-08', '2021-01-11', '2021-01-12',\n",
       "               '2021-01-13', '2021-01-14', '2021-01-15', '2021-01-18',\n",
       "               '2021-01-19', '2021-01-20', '2021-01-21', '2021-01-22',\n",
       "               '2021-01-25', '2021-01-27', '2021-01-28', '2021-01-29',\n",
       "               '2021-02-01', '2021-02-02', '2021-02-03', '2021-02-04',\n",
       "               '2021-02-05'],\n",
       "              dtype='datetime64[ns]', name='Date', freq=None)"
      ]
     },
     "execution_count": 6,
     "metadata": {},
     "output_type": "execute_result"
    }
   ],
   "source": [
    "IDEA2021.index"
   ]
  },
  {
   "cell_type": "code",
   "execution_count": 3,
   "metadata": {},
   "outputs": [
    {
     "data": {
      "text/plain": [
       "<AxesSubplot:xlabel='Date'>"
      ]
     },
     "execution_count": 3,
     "metadata": {},
     "output_type": "execute_result"
    },
    {
     "data": {
      "image/png": "[encoded data removed]",
      "text/plain": [
       "<Figure size 432x288 with 1 Axes>"
      ]
     },
     "metadata": {
      "needs_background": "light"
     },
     "output_type": "display_data"
    }
   ],
   "source": [
    "# More data, for an Example\n",
    "IDEA_from_2015 = data.DataReader('IDEA.NS', start= 2015, data_source= 'yahoo')['Close']\n",
    "IDEA_from_2015.plot()"
   ]
  },
  {
   "cell_type": "markdown",
   "metadata": {},
   "source": [
    "###  "
   ]
  },
  {
   "cell_type": "markdown",
   "metadata": {},
   "source": [
    "# Resempling for Good "
   ]
  },
  {
   "cell_type": "code",
   "execution_count": 8,
   "metadata": {},
   "outputs": [
    {
     "data": {
      "text/plain": [
       "Date\n",
       "2021-12-31    12.154\n",
       "Freq: BA-DEC, Name: Close, dtype: float64"
      ]
     },
     "execution_count": 8,
     "metadata": {},
     "output_type": "execute_result"
    }
   ],
   "source": [
    "IDEA2021['Close'].resample('BA').mean()"
   ]
  },
  {
   "cell_type": "code",
   "execution_count": 9,
   "metadata": {},
   "outputs": [
    {
     "data": {
      "text/plain": [
       "Date\n",
       "2015-12-31    96.793562\n",
       "2016-12-31    58.946104\n",
       "2017-12-31    54.045353\n",
       "2018-12-31    36.419206\n",
       "2019-12-31    11.736941\n",
       "2020-12-31     7.514000\n",
       "2021-12-31    12.154000\n",
       "Freq: A-DEC, Name: Close, dtype: float64"
      ]
     },
     "execution_count": 9,
     "metadata": {},
     "output_type": "execute_result"
    }
   ],
   "source": [
    "IDEA_from_2015.resample('A').mean()\n"
   ]
  },
  {
   "cell_type": "code",
   "execution_count": 10,
   "metadata": {},
   "outputs": [
    {
     "data": {
      "text/plain": [
       "Date\n",
       "2015-12-31    96.793562\n",
       "2016-12-30    58.946104\n",
       "2017-12-29    54.045353\n",
       "2018-12-31    36.419206\n",
       "2019-12-31    11.736941\n",
       "2020-12-31     7.514000\n",
       "2021-12-31    12.154000\n",
       "Freq: BA-DEC, Name: Close, dtype: float64"
      ]
     },
     "execution_count": 10,
     "metadata": {},
     "output_type": "execute_result"
    }
   ],
   "source": [
    "IDEA_from_2015.resample('BA').mean()\n"
   ]
  },
  {
   "cell_type": "code",
   "execution_count": 11,
   "metadata": {},
   "outputs": [
    {
     "data": {
      "text/plain": [
       "<AxesSubplot:xlabel='Date'>"
      ]
     },
     "execution_count": 11,
     "metadata": {},
     "output_type": "execute_result"
    },
    {
     "data": {
      "image/png": "[encoded data removed]",
      "text/plain": [
       "<Figure size 432x288 with 1 Axes>"
      ]
     },
     "metadata": {
      "needs_background": "light"
     },
     "output_type": "display_data"
    }
   ],
   "source": [
    "IDEA_from_2015.plot(alpha= 0.5)\n",
    "IDEA_from_2015.resample('BA').mean().plot(style= ':')"
   ]
  },
  {
   "cell_type": "code",
   "execution_count": 12,
   "metadata": {},
   "outputs": [
    {
     "data": {
      "text/plain": [
       "Date\n",
       "2015-12-31    86.616501\n",
       "2016-12-30    44.710152\n",
       "2017-12-29    65.211098\n",
       "2018-12-31    22.762079\n",
       "2019-12-31     6.150000\n",
       "2020-12-31    10.650000\n",
       "Freq: BA-DEC, Name: Close, dtype: float64"
      ]
     },
     "execution_count": 12,
     "metadata": {},
     "output_type": "execute_result"
    }
   ],
   "source": [
    "IDEA_from_2015.asfreq('BA')"
   ]
  },
  {
   "cell_type": "code",
   "execution_count": 13,
   "metadata": {},
   "outputs": [],
   "source": [
    "import matplotlib.pyplot as plt"
   ]
  },
  {
   "cell_type": "code",
   "execution_count": 14,
   "metadata": {},
   "outputs": [
    {
     "data": {
      "text/plain": [
       "<matplotlib.legend.Legend at 0x2cc6b0dbd90>"
      ]
     },
     "execution_count": 14,
     "metadata": {},
     "output_type": "execute_result"
    },
    {
     "data": {
      "image/png": "[encoded data removed]",
      "text/plain": [
       "<Figure size 432x288 with 1 Axes>"
      ]
     },
     "metadata": {
      "needs_background": "light"
     },
     "output_type": "display_data"
    }
   ],
   "source": [
    "IDEA_from_2015.plot(alpha= 0.5)\n",
    "IDEA_from_2015.resample('BA').mean().plot(style= ':')\n",
    "IDEA_from_2015.asfreq('BA').plot(style= '--')\n",
    "plt.legend(['Normal','Resample (mean)', 'Asfreq'])"
   ]
  },
  {
   "cell_type": "markdown",
   "metadata": {},
   "source": [
    "## Now trying some other kind of date freqs to showcase the `NA` values and how to handle them. "
   ]
  },
  {
   "cell_type": "code",
   "execution_count": 15,
   "metadata": {},
   "outputs": [
    {
     "data": {
      "text/plain": [
       "Date\n",
       "2015-01-30     93.369751\n",
       "2015-02-27     93.309456\n",
       "2015-03-31    110.946297\n",
       "2015-04-30    105.519577\n",
       "2015-05-29    104.434235\n",
       "                 ...    \n",
       "2020-09-30      9.550000\n",
       "2020-10-30      8.750000\n",
       "2020-11-30           NaN\n",
       "2020-12-31     10.650000\n",
       "2021-01-29     11.200000\n",
       "Freq: BM, Name: Close, Length: 73, dtype: float64"
      ]
     },
     "execution_count": 15,
     "metadata": {},
     "output_type": "execute_result"
    }
   ],
   "source": [
    "IDEA_from_2015.asfreq('BM')"
   ]
  },
  {
   "cell_type": "markdown",
   "metadata": {},
   "source": [
    "    Here, I want the values of stocks at end of Each Month, so, I will write\n",
    "    'BA'. But as it will only show the Business days i.e. non Saturday-Sunday, it will not be able to recognize that even on non weedends, there can be missing values because of some holidays.\n",
    "    \n",
    "    ( That can also be a case on 'BA' where the last day of the month is holiday and non weekend )\n",
    "    \n",
    "But for now... let's talk about the current sitution where the freq is 'BM'"
   ]
  },
  {
   "cell_type": "code",
   "execution_count": 16,
   "metadata": {},
   "outputs": [
    {
     "data": {
      "text/plain": [
       "Date\n",
       "2015-01-30     93.369751\n",
       "2015-02-27     93.309456\n",
       "2015-03-31    110.946297\n",
       "2015-04-30    105.519577\n",
       "2015-05-29    104.434235\n",
       "                 ...    \n",
       "2020-09-30      9.550000\n",
       "2020-10-30      8.750000\n",
       "2020-11-30           NaN\n",
       "2020-12-31     10.650000\n",
       "2021-01-29     11.200000\n",
       "Freq: BM, Name: Close, Length: 73, dtype: float64"
      ]
     },
     "execution_count": 16,
     "metadata": {},
     "output_type": "execute_result"
    }
   ],
   "source": [
    "IDEA_from_2015.asfreq('BM')"
   ]
  },
  {
   "cell_type": "code",
   "execution_count": 17,
   "metadata": {},
   "outputs": [
    {
     "data": {
      "text/plain": [
       "<AxesSubplot:xlabel='Date'>"
      ]
     },
     "execution_count": 17,
     "metadata": {},
     "output_type": "execute_result"
    },
    {
     "data": {
      "image/png": "[encoded data removed]",
      "text/plain": [
       "<Figure size 432x288 with 1 Axes>"
      ]
     },
     "metadata": {
      "needs_background": "light"
     },
     "output_type": "display_data"
    }
   ],
   "source": [
    "IDEA_from_2015.asfreq('BM').plot()"
   ]
  },
  {
   "cell_type": "code",
   "execution_count": 18,
   "metadata": {},
   "outputs": [
    {
     "data": {
      "text/plain": [
       "Date\n",
       "2015-01-30     93.369751\n",
       "2015-02-27     93.309456\n",
       "2015-03-31    110.946297\n",
       "2015-04-30    105.519577\n",
       "2015-05-29    104.434235\n",
       "                 ...    \n",
       "2020-09-30      9.550000\n",
       "2020-10-30      8.750000\n",
       "2020-11-30      9.800000\n",
       "2020-12-31     10.650000\n",
       "2021-01-29     11.200000\n",
       "Freq: BM, Name: Close, Length: 73, dtype: float64"
      ]
     },
     "execution_count": 18,
     "metadata": {},
     "output_type": "execute_result"
    }
   ],
   "source": [
    "IDEA_from_2015.asfreq('BM', method= 'ffill')"
   ]
  },
  {
   "cell_type": "code",
   "execution_count": 19,
   "metadata": {},
   "outputs": [
    {
     "data": {
      "text/plain": [
       "<AxesSubplot:xlabel='Date'>"
      ]
     },
     "execution_count": 19,
     "metadata": {},
     "output_type": "execute_result"
    },
    {
     "data": {
      "image/png": "[encoded data removed]",
      "text/plain": [
       "<Figure size 432x288 with 1 Axes>"
      ]
     },
     "metadata": {
      "needs_background": "light"
     },
     "output_type": "display_data"
    }
   ],
   "source": [
    "IDEA_from_2015.asfreq('BM', method= 'ffill').plot()"
   ]
  },
  {
   "cell_type": "markdown",
   "metadata": {},
   "source": [
    "### Don't get fooled.\n",
    "For the example of 20-11-2020 <- there was NaN, and you see it has not filled with the 30-10 / 31-12 but it has not. So it **will fill the data from its ADJESENT date man!** i.e. 29-11 / 1-12 ! Simple!"
   ]
  },
  {
   "cell_type": "markdown",
   "metadata": {},
   "source": [
    "#### In the book, they have taken the freq as 'D', now let's try that..."
   ]
  },
  {
   "cell_type": "code",
   "execution_count": 20,
   "metadata": {},
   "outputs": [
    {
     "data": {
      "text/plain": [
       "Date\n",
       "2015-01-01    96.083115\n",
       "2015-01-02    96.414749\n",
       "2015-01-03          NaN\n",
       "2015-01-04          NaN\n",
       "2015-01-05    92.585892\n",
       "                ...    \n",
       "2021-02-01    11.700000\n",
       "2021-02-02    11.850000\n",
       "2021-02-03    12.250000\n",
       "2021-02-04    12.150000\n",
       "2021-02-05    12.000000\n",
       "Freq: D, Name: Close, Length: 2228, dtype: float64"
      ]
     },
     "execution_count": 20,
     "metadata": {},
     "output_type": "execute_result"
    }
   ],
   "source": [
    "IDEA_from_2015.asfreq('D')"
   ]
  },
  {
   "cell_type": "code",
   "execution_count": 27,
   "metadata": {},
   "outputs": [
    {
     "data": {
      "text/plain": [
       "Date\n",
       "2015-01-03   NaN\n",
       "2015-01-04   NaN\n",
       "2015-01-10   NaN\n",
       "2015-01-11   NaN\n",
       "2015-01-17   NaN\n",
       "              ..\n",
       "2021-01-23   NaN\n",
       "2021-01-24   NaN\n",
       "2021-01-26   NaN\n",
       "2021-01-30   NaN\n",
       "2021-01-31   NaN\n",
       "Name: Close, Length: 725, dtype: float64"
      ]
     },
     "execution_count": 27,
     "metadata": {},
     "output_type": "execute_result"
    }
   ],
   "source": [
    "IDEA_from_2015.asfreq('D')[ IDEA_from_2015.asfreq('D').isnull() == True ]"
   ]
  },
  {
   "cell_type": "markdown",
   "metadata": {},
   "source": [
    "    That means there are 725 days are Holidays from 2228 days data.\n",
    "    Now, we can even reduce that...\n",
    "    \n",
    "We can use **B** instead of **D**"
   ]
  },
  {
   "cell_type": "code",
   "execution_count": 28,
   "metadata": {},
   "outputs": [
    {
     "data": {
      "text/plain": [
       "Date\n",
       "2015-01-01    96.083115\n",
       "2015-01-02    96.414749\n",
       "2015-01-05    92.585892\n",
       "2015-01-06    90.746834\n",
       "2015-01-07    90.294609\n",
       "                ...    \n",
       "2021-02-01    11.700000\n",
       "2021-02-02    11.850000\n",
       "2021-02-03    12.250000\n",
       "2021-02-04    12.150000\n",
       "2021-02-05    12.000000\n",
       "Freq: B, Name: Close, Length: 1592, dtype: float64"
      ]
     },
     "execution_count": 28,
     "metadata": {},
     "output_type": "execute_result"
    }
   ],
   "source": [
    "IDEA_from_2015.asfreq('B')"
   ]
  },
  {
   "cell_type": "code",
   "execution_count": 29,
   "metadata": {},
   "outputs": [
    {
     "data": {
      "text/plain": [
       "Date\n",
       "2015-01-26   NaN\n",
       "2015-02-17   NaN\n",
       "2015-03-06   NaN\n",
       "2015-04-02   NaN\n",
       "2015-04-03   NaN\n",
       "              ..\n",
       "2020-10-02   NaN\n",
       "2020-11-16   NaN\n",
       "2020-11-30   NaN\n",
       "2020-12-25   NaN\n",
       "2021-01-26   NaN\n",
       "Name: Close, Length: 89, dtype: float64"
      ]
     },
     "execution_count": 29,
     "metadata": {},
     "output_type": "execute_result"
    }
   ],
   "source": [
    "IDEA_from_2015.asfreq('B')[ IDEA_from_2015.asfreq('B').isnull() == True ]"
   ]
  },
  {
   "cell_type": "markdown",
   "metadata": {},
   "source": [
    "    See? Only 89 days are found NaN from 1592 ... that means the ratio is...\n",
    "    \n",
    "    725 / 2228 * 100 = 32%\n",
    "    89 / 1592 * 100 = 5%\n",
    "    \n",
    "    Cool!"
   ]
  },
  {
   "cell_type": "markdown",
   "metadata": {},
   "source": [
    "# `shift()` and `tshift()`\n",
    "\n",
    "`shift()` : It will shift the DATA\n",
    "`tshift()` : It will shift the TIME (index) \n",
    "\n",
    "***What and Why***:\n",
    "\n",
    "    Here, first SHIFT:\n",
    "        It will shift the DATA from UP to BOTTOM like...\n",
    "        Original:\n",
    "            1-1-2020 123\n",
    "            2-1-2020 324\n",
    "            3-1-2020 223\n",
    "            4-1-2020 443\n",
    "        Shifted by 2:\n",
    "            1-1-2020 NaN\n",
    "            2-1-2020 NaN\n",
    "            3-1-2020 123\n",
    "            4-1-2020 324\n",
    "            \n",
    "        That also means that the data will be lost in the first 2 and last 2 rows.\n",
    "        • The good thing about this is that, it can Also be used without DATE as the INDEX!\n",
    "        \n",
    "    Now, TSHIFT:\n",
    "        • It REQUIRES the DATE as it's INDEX.\n",
    "        \n",
    "        Original:\n",
    "            1-1-2020 123\n",
    "            2-1-2020 324\n",
    "            3-1-2020 223\n",
    "            4-1-2020 443\n",
    "        Shifted by 2:\n",
    "            3-1-2020 123\n",
    "            4-1-2020 324\n",
    "            5-1-2020 223\n",
    "            6-1-2020 443\n",
    "            \n",
    "            \n",
    "        Here, you will not lose any data, but the indices will be changed!\n",
    "## SEE!        \n",
    "`tshift()` function has been removed from the new pandas library, but to use that just use `shfit()` and provide the `freq='D'` argument. To make it act like `tshift()`!\n",
    "        \n",
    "        \n",
    "            "
   ]
  },
  {
   "cell_type": "markdown",
   "metadata": {},
   "source": [
    "#### `shift()`"
   ]
  },
  {
   "cell_type": "code",
   "execution_count": 51,
   "metadata": {},
   "outputs": [
    {
     "data": {
      "text/plain": [
       "Date\n",
       "2015-01-01    96.083115\n",
       "2015-01-02    96.414749\n",
       "2015-01-05    92.585892\n",
       "2015-01-06    90.746834\n",
       "2015-01-07    90.294609\n",
       "                ...    \n",
       "2021-02-01    11.700000\n",
       "2021-02-02    11.850000\n",
       "2021-02-03    12.250000\n",
       "2021-02-04    12.150000\n",
       "2021-02-05    12.000000\n",
       "Name: Close, Length: 1503, dtype: float64"
      ]
     },
     "execution_count": 51,
     "metadata": {},
     "output_type": "execute_result"
    }
   ],
   "source": [
    "IDEA_from_2015"
   ]
  },
  {
   "cell_type": "code",
   "execution_count": 37,
   "metadata": {},
   "outputs": [
    {
     "data": {
      "text/plain": [
       "Date\n",
       "2015-01-01          NaN\n",
       "2015-01-02          NaN\n",
       "2015-01-05    96.083115\n",
       "2015-01-06    96.414749\n",
       "2015-01-07    92.585892\n",
       "                ...    \n",
       "2021-02-01    11.750000\n",
       "2021-02-02    11.200000\n",
       "2021-02-03    11.700000\n",
       "2021-02-04    11.850000\n",
       "2021-02-05    12.250000\n",
       "Name: Close, Length: 1503, dtype: float64"
      ]
     },
     "execution_count": 37,
     "metadata": {},
     "output_type": "execute_result"
    }
   ],
   "source": [
    "IDEA_from_2015.shift(2)"
   ]
  },
  {
   "cell_type": "markdown",
   "metadata": {},
   "source": [
    "#### `tshift()` = `shift(freq='D')`"
   ]
  },
  {
   "cell_type": "code",
   "execution_count": 49,
   "metadata": {},
   "outputs": [
    {
     "data": {
      "text/plain": [
       "Date\n",
       "2015-01-01    96.083115\n",
       "2015-01-02    96.414749\n",
       "2015-01-05    92.585892\n",
       "2015-01-06    90.746834\n",
       "2015-01-07    90.294609\n",
       "                ...    \n",
       "2021-02-01    11.700000\n",
       "2021-02-02    11.850000\n",
       "2021-02-03    12.250000\n",
       "2021-02-04    12.150000\n",
       "2021-02-05    12.000000\n",
       "Name: Close, Length: 1503, dtype: float64"
      ]
     },
     "execution_count": 49,
     "metadata": {},
     "output_type": "execute_result"
    }
   ],
   "source": [
    "IDEA_from_2015"
   ]
  },
  {
   "cell_type": "code",
   "execution_count": 52,
   "metadata": {},
   "outputs": [
    {
     "data": {
      "text/plain": [
       "Date\n",
       "2015-01-03    96.083115\n",
       "2015-01-04    96.414749\n",
       "2015-01-07    92.585892\n",
       "2015-01-08    90.746834\n",
       "2015-01-09    90.294609\n",
       "                ...    \n",
       "2021-02-03    11.700000\n",
       "2021-02-04    11.850000\n",
       "2021-02-05    12.250000\n",
       "2021-02-06    12.150000\n",
       "2021-02-07    12.000000\n",
       "Name: Close, Length: 1503, dtype: float64"
      ]
     },
     "execution_count": 52,
     "metadata": {},
     "output_type": "execute_result"
    }
   ],
   "source": [
    "IDEA_from_2015.shift(2, freq= 'D')"
   ]
  },
  {
   "cell_type": "code",
   "execution_count": 54,
   "metadata": {},
   "outputs": [
    {
     "data": {
      "text/plain": [
       "Timestamp('2021-01-21 00:00:00')"
      ]
     },
     "execution_count": 54,
     "metadata": {},
     "output_type": "execute_result"
    }
   ],
   "source": [
    "pd.to_datetime('1-1-2021') + pd.Timedelta(20, 'D')"
   ]
  },
  {
   "cell_type": "markdown",
   "metadata": {},
   "source": [
    "###  "
   ]
  },
  {
   "cell_type": "code",
   "execution_count": 56,
   "metadata": {},
   "outputs": [
    {
     "data": {
      "text/plain": [
       "Rolling [window=365,center=True,axis=0]"
      ]
     },
     "execution_count": 56,
     "metadata": {},
     "output_type": "execute_result"
    }
   ],
   "source": [
    "IDEA_from_2015.rolling(365, center= True)"
   ]
  },
  {
   "cell_type": "markdown",
   "metadata": {},
   "source": [
    "### Trying in the fake data"
   ]
  },
  {
   "cell_type": "code",
   "execution_count": 5,
   "metadata": {},
   "outputs": [
    {
     "data": {
      "text/plain": [
       "DatetimeIndex(['2019-01-01', '2019-01-02', '2019-01-03', '2019-01-04',\n",
       "               '2019-01-05', '2019-01-06', '2019-01-07', '2019-01-08',\n",
       "               '2019-01-09', '2019-01-10',\n",
       "               ...\n",
       "               '2020-12-22', '2020-12-23', '2020-12-24', '2020-12-25',\n",
       "               '2020-12-26', '2020-12-27', '2020-12-28', '2020-12-29',\n",
       "               '2020-12-30', '2020-12-31'],\n",
       "              dtype='datetime64[ns]', length=731, freq='D')"
      ]
     },
     "execution_count": 5,
     "metadata": {},
     "output_type": "execute_result"
    }
   ],
   "source": [
    "indices = pd.date_range('2019','2020-12-31')\n",
    "indices"
   ]
  },
  {
   "cell_type": "code",
   "execution_count": 6,
   "metadata": {},
   "outputs": [
    {
     "data": {
      "text/plain": [
       "2019-01-01    684\n",
       "2019-01-02    313\n",
       "2019-01-03    663\n",
       "2019-01-04    274\n",
       "2019-01-05    611\n",
       "             ... \n",
       "2020-12-27    557\n",
       "2020-12-28    294\n",
       "2020-12-29    636\n",
       "2020-12-30    411\n",
       "2020-12-31    203\n",
       "Freq: D, Length: 731, dtype: int32"
      ]
     },
     "execution_count": 6,
     "metadata": {},
     "output_type": "execute_result"
    }
   ],
   "source": [
    "tmp = pd.Series(np.random.randint(1,731,731), index= indices)\n",
    "tmp"
   ]
  },
  {
   "cell_type": "code",
   "execution_count": 7,
   "metadata": {},
   "outputs": [],
   "source": [
    "roller = tmp.rolling(5, center= False)"
   ]
  },
  {
   "cell_type": "code",
   "execution_count": 8,
   "metadata": {},
   "outputs": [],
   "source": [
    "newdata = pd.DataFrame({'Input': tmp,\n",
    "                        'rolling Mean': roller.mean(),\n",
    "                        'rolling Sum': roller.sum()})"
   ]
  },
  {
   "cell_type": "code",
   "execution_count": 9,
   "metadata": {},
   "outputs": [
    {
     "data": {
      "text/plain": [
       "2019-01-01    684\n",
       "2019-01-02    313\n",
       "2019-01-03    663\n",
       "2019-01-04    274\n",
       "2019-01-05    611\n",
       "Freq: D, dtype: int32"
      ]
     },
     "execution_count": 9,
     "metadata": {},
     "output_type": "execute_result"
    }
   ],
   "source": [
    "tmp.head()"
   ]
  },
  {
   "cell_type": "code",
   "execution_count": 10,
   "metadata": {},
   "outputs": [
    {
     "data": {
      "text/html": [
       "<div>\n",
       "<style scoped>\n",
       "    .dataframe tbody tr th:only-of-type {\n",
       "        vertical-align: middle;\n",
       "    }\n",
       "\n",
       "    .dataframe tbody tr th {\n",
       "        vertical-align: top;\n",
       "    }\n",
       "\n",
       "    .dataframe thead th {\n",
       "        text-align: right;\n",
       "    }\n",
       "</style>\n",
       "<table border=\"1\" class=\"dataframe\">\n",
       "  <thead>\n",
       "    <tr style=\"text-align: right;\">\n",
       "      <th></th>\n",
       "      <th>Input</th>\n",
       "      <th>rolling Mean</th>\n",
       "      <th>rolling Sum</th>\n",
       "    </tr>\n",
       "  </thead>\n",
       "  <tbody>\n",
       "    <tr>\n",
       "      <th>2019-01-01</th>\n",
       "      <td>684</td>\n",
       "      <td>NaN</td>\n",
       "      <td>NaN</td>\n",
       "    </tr>\n",
       "    <tr>\n",
       "      <th>2019-01-02</th>\n",
       "      <td>313</td>\n",
       "      <td>NaN</td>\n",
       "      <td>NaN</td>\n",
       "    </tr>\n",
       "    <tr>\n",
       "      <th>2019-01-03</th>\n",
       "      <td>663</td>\n",
       "      <td>NaN</td>\n",
       "      <td>NaN</td>\n",
       "    </tr>\n",
       "    <tr>\n",
       "      <th>2019-01-04</th>\n",
       "      <td>274</td>\n",
       "      <td>NaN</td>\n",
       "      <td>NaN</td>\n",
       "    </tr>\n",
       "    <tr>\n",
       "      <th>2019-01-05</th>\n",
       "      <td>611</td>\n",
       "      <td>509.0</td>\n",
       "      <td>2545.0</td>\n",
       "    </tr>\n",
       "    <tr>\n",
       "      <th>2019-01-06</th>\n",
       "      <td>676</td>\n",
       "      <td>507.4</td>\n",
       "      <td>2537.0</td>\n",
       "    </tr>\n",
       "    <tr>\n",
       "      <th>2019-01-07</th>\n",
       "      <td>130</td>\n",
       "      <td>470.8</td>\n",
       "      <td>2354.0</td>\n",
       "    </tr>\n",
       "    <tr>\n",
       "      <th>2019-01-08</th>\n",
       "      <td>502</td>\n",
       "      <td>438.6</td>\n",
       "      <td>2193.0</td>\n",
       "    </tr>\n",
       "    <tr>\n",
       "      <th>2019-01-09</th>\n",
       "      <td>571</td>\n",
       "      <td>498.0</td>\n",
       "      <td>2490.0</td>\n",
       "    </tr>\n",
       "    <tr>\n",
       "      <th>2019-01-10</th>\n",
       "      <td>267</td>\n",
       "      <td>429.2</td>\n",
       "      <td>2146.0</td>\n",
       "    </tr>\n",
       "  </tbody>\n",
       "</table>\n",
       "</div>"
      ],
      "text/plain": [
       "            Input  rolling Mean  rolling Sum\n",
       "2019-01-01    684           NaN          NaN\n",
       "2019-01-02    313           NaN          NaN\n",
       "2019-01-03    663           NaN          NaN\n",
       "2019-01-04    274           NaN          NaN\n",
       "2019-01-05    611         509.0       2545.0\n",
       "2019-01-06    676         507.4       2537.0\n",
       "2019-01-07    130         470.8       2354.0\n",
       "2019-01-08    502         438.6       2193.0\n",
       "2019-01-09    571         498.0       2490.0\n",
       "2019-01-10    267         429.2       2146.0"
      ]
     },
     "execution_count": 10,
     "metadata": {},
     "output_type": "execute_result"
    }
   ],
   "source": [
    "newdata.head(10)"
   ]
  },
  {
   "cell_type": "markdown",
   "metadata": {},
   "source": [
    "### Works amazingly with Roller...\n",
    "\n",
    "But what if I want to achieve the same thinig with groupby?\n"
   ]
  },
  {
   "cell_type": "markdown",
   "metadata": {},
   "source": [
    "    Here I am simply going throught the solutions, for Explanation, please refer the Book itself where I have\n",
    "    noted the explanation on Pg. 202"
   ]
  },
  {
   "cell_type": "code",
   "execution_count": 11,
   "metadata": {},
   "outputs": [
    {
     "data": {
      "text/plain": [
       "2019-01-01    684\n",
       "2019-01-02    313\n",
       "2019-01-03    663\n",
       "2019-01-04    274\n",
       "2019-01-05    611\n",
       "             ... \n",
       "2020-12-27    557\n",
       "2020-12-28    294\n",
       "2020-12-29    636\n",
       "2020-12-30    411\n",
       "2020-12-31    203\n",
       "Freq: D, Length: 731, dtype: int32"
      ]
     },
     "execution_count": 11,
     "metadata": {},
     "output_type": "execute_result"
    }
   ],
   "source": [
    "tmp"
   ]
  },
  {
   "cell_type": "markdown",
   "metadata": {},
   "source": [
    "#### With Rolling"
   ]
  },
  {
   "cell_type": "code",
   "execution_count": 12,
   "metadata": {},
   "outputs": [],
   "source": [
    "roller = tmp.rolling(2)"
   ]
  },
  {
   "cell_type": "code",
   "execution_count": 13,
   "metadata": {},
   "outputs": [
    {
     "data": {
      "text/plain": [
       "2019-01-01       NaN\n",
       "2019-01-02     997.0\n",
       "2019-01-03     976.0\n",
       "2019-01-04     937.0\n",
       "2019-01-05     885.0\n",
       "               ...  \n",
       "2020-12-27     616.0\n",
       "2020-12-28     851.0\n",
       "2020-12-29     930.0\n",
       "2020-12-30    1047.0\n",
       "2020-12-31     614.0\n",
       "Freq: D, Length: 731, dtype: float64"
      ]
     },
     "execution_count": 13,
     "metadata": {},
     "output_type": "execute_result"
    }
   ],
   "source": [
    "roller.sum()"
   ]
  },
  {
   "cell_type": "markdown",
   "metadata": {},
   "source": [
    "#### With Groupby (self made) \n",
    "This is not my solution, please refer this [link](https://stackoverflow.com/questions/46478518/groupby-dataframe-by-n-columns-or-n-rows/46478576#46478576)"
   ]
  },
  {
   "cell_type": "code",
   "execution_count": 14,
   "metadata": {},
   "outputs": [],
   "source": [
    "groupper = np.arange( tmp.shape[0] )"
   ]
  },
  {
   "cell_type": "code",
   "execution_count": 15,
   "metadata": {},
   "outputs": [
    {
     "data": {
      "text/plain": [
       "array([  0,   1,   2,   3,   4,   5,   6,   7,   8,   9,  10,  11,  12,\n",
       "        13,  14,  15,  16,  17,  18,  19,  20,  21,  22,  23,  24,  25,\n",
       "        26,  27,  28,  29,  30,  31,  32,  33,  34,  35,  36,  37,  38,\n",
       "        39,  40,  41,  42,  43,  44,  45,  46,  47,  48,  49,  50,  51,\n",
       "        52,  53,  54,  55,  56,  57,  58,  59,  60,  61,  62,  63,  64,\n",
       "        65,  66,  67,  68,  69,  70,  71,  72,  73,  74,  75,  76,  77,\n",
       "        78,  79,  80,  81,  82,  83,  84,  85,  86,  87,  88,  89,  90,\n",
       "        91,  92,  93,  94,  95,  96,  97,  98,  99, 100, 101, 102, 103,\n",
       "       104, 105, 106, 107, 108, 109, 110, 111, 112, 113, 114, 115, 116,\n",
       "       117, 118, 119, 120, 121, 122, 123, 124, 125, 126, 127, 128, 129,\n",
       "       130, 131, 132, 133, 134, 135, 136, 137, 138, 139, 140, 141, 142,\n",
       "       143, 144, 145, 146, 147, 148, 149, 150, 151, 152, 153, 154, 155,\n",
       "       156, 157, 158, 159, 160, 161, 162, 163, 164, 165, 166, 167, 168,\n",
       "       169, 170, 171, 172, 173, 174, 175, 176, 177, 178, 179, 180, 181,\n",
       "       182, 183, 184, 185, 186, 187, 188, 189, 190, 191, 192, 193, 194,\n",
       "       195, 196, 197, 198, 199, 200, 201, 202, 203, 204, 205, 206, 207,\n",
       "       208, 209, 210, 211, 212, 213, 214, 215, 216, 217, 218, 219, 220,\n",
       "       221, 222, 223, 224, 225, 226, 227, 228, 229, 230, 231, 232, 233,\n",
       "       234, 235, 236, 237, 238, 239, 240, 241, 242, 243, 244, 245, 246,\n",
       "       247, 248, 249, 250, 251, 252, 253, 254, 255, 256, 257, 258, 259,\n",
       "       260, 261, 262, 263, 264, 265, 266, 267, 268, 269, 270, 271, 272,\n",
       "       273, 274, 275, 276, 277, 278, 279, 280, 281, 282, 283, 284, 285,\n",
       "       286, 287, 288, 289, 290, 291, 292, 293, 294, 295, 296, 297, 298,\n",
       "       299, 300, 301, 302, 303, 304, 305, 306, 307, 308, 309, 310, 311,\n",
       "       312, 313, 314, 315, 316, 317, 318, 319, 320, 321, 322, 323, 324,\n",
       "       325, 326, 327, 328, 329, 330, 331, 332, 333, 334, 335, 336, 337,\n",
       "       338, 339, 340, 341, 342, 343, 344, 345, 346, 347, 348, 349, 350,\n",
       "       351, 352, 353, 354, 355, 356, 357, 358, 359, 360, 361, 362, 363,\n",
       "       364, 365, 366, 367, 368, 369, 370, 371, 372, 373, 374, 375, 376,\n",
       "       377, 378, 379, 380, 381, 382, 383, 384, 385, 386, 387, 388, 389,\n",
       "       390, 391, 392, 393, 394, 395, 396, 397, 398, 399, 400, 401, 402,\n",
       "       403, 404, 405, 406, 407, 408, 409, 410, 411, 412, 413, 414, 415,\n",
       "       416, 417, 418, 419, 420, 421, 422, 423, 424, 425, 426, 427, 428,\n",
       "       429, 430, 431, 432, 433, 434, 435, 436, 437, 438, 439, 440, 441,\n",
       "       442, 443, 444, 445, 446, 447, 448, 449, 450, 451, 452, 453, 454,\n",
       "       455, 456, 457, 458, 459, 460, 461, 462, 463, 464, 465, 466, 467,\n",
       "       468, 469, 470, 471, 472, 473, 474, 475, 476, 477, 478, 479, 480,\n",
       "       481, 482, 483, 484, 485, 486, 487, 488, 489, 490, 491, 492, 493,\n",
       "       494, 495, 496, 497, 498, 499, 500, 501, 502, 503, 504, 505, 506,\n",
       "       507, 508, 509, 510, 511, 512, 513, 514, 515, 516, 517, 518, 519,\n",
       "       520, 521, 522, 523, 524, 525, 526, 527, 528, 529, 530, 531, 532,\n",
       "       533, 534, 535, 536, 537, 538, 539, 540, 541, 542, 543, 544, 545,\n",
       "       546, 547, 548, 549, 550, 551, 552, 553, 554, 555, 556, 557, 558,\n",
       "       559, 560, 561, 562, 563, 564, 565, 566, 567, 568, 569, 570, 571,\n",
       "       572, 573, 574, 575, 576, 577, 578, 579, 580, 581, 582, 583, 584,\n",
       "       585, 586, 587, 588, 589, 590, 591, 592, 593, 594, 595, 596, 597,\n",
       "       598, 599, 600, 601, 602, 603, 604, 605, 606, 607, 608, 609, 610,\n",
       "       611, 612, 613, 614, 615, 616, 617, 618, 619, 620, 621, 622, 623,\n",
       "       624, 625, 626, 627, 628, 629, 630, 631, 632, 633, 634, 635, 636,\n",
       "       637, 638, 639, 640, 641, 642, 643, 644, 645, 646, 647, 648, 649,\n",
       "       650, 651, 652, 653, 654, 655, 656, 657, 658, 659, 660, 661, 662,\n",
       "       663, 664, 665, 666, 667, 668, 669, 670, 671, 672, 673, 674, 675,\n",
       "       676, 677, 678, 679, 680, 681, 682, 683, 684, 685, 686, 687, 688,\n",
       "       689, 690, 691, 692, 693, 694, 695, 696, 697, 698, 699, 700, 701,\n",
       "       702, 703, 704, 705, 706, 707, 708, 709, 710, 711, 712, 713, 714,\n",
       "       715, 716, 717, 718, 719, 720, 721, 722, 723, 724, 725, 726, 727,\n",
       "       728, 729, 730])"
      ]
     },
     "execution_count": 15,
     "metadata": {},
     "output_type": "execute_result"
    }
   ],
   "source": [
    "groupper"
   ]
  },
  {
   "cell_type": "code",
   "execution_count": 16,
   "metadata": {},
   "outputs": [
    {
     "data": {
      "text/plain": [
       "array([  0,   0,   1,   1,   2,   2,   3,   3,   4,   4,   5,   5,   6,\n",
       "         6,   7,   7,   8,   8,   9,   9,  10,  10,  11,  11,  12,  12,\n",
       "        13,  13,  14,  14,  15,  15,  16,  16,  17,  17,  18,  18,  19,\n",
       "        19,  20,  20,  21,  21,  22,  22,  23,  23,  24,  24,  25,  25,\n",
       "        26,  26,  27,  27,  28,  28,  29,  29,  30,  30,  31,  31,  32,\n",
       "        32,  33,  33,  34,  34,  35,  35,  36,  36,  37,  37,  38,  38,\n",
       "        39,  39,  40,  40,  41,  41,  42,  42,  43,  43,  44,  44,  45,\n",
       "        45,  46,  46,  47,  47,  48,  48,  49,  49,  50,  50,  51,  51,\n",
       "        52,  52,  53,  53,  54,  54,  55,  55,  56,  56,  57,  57,  58,\n",
       "        58,  59,  59,  60,  60,  61,  61,  62,  62,  63,  63,  64,  64,\n",
       "        65,  65,  66,  66,  67,  67,  68,  68,  69,  69,  70,  70,  71,\n",
       "        71,  72,  72,  73,  73,  74,  74,  75,  75,  76,  76,  77,  77,\n",
       "        78,  78,  79,  79,  80,  80,  81,  81,  82,  82,  83,  83,  84,\n",
       "        84,  85,  85,  86,  86,  87,  87,  88,  88,  89,  89,  90,  90,\n",
       "        91,  91,  92,  92,  93,  93,  94,  94,  95,  95,  96,  96,  97,\n",
       "        97,  98,  98,  99,  99, 100, 100, 101, 101, 102, 102, 103, 103,\n",
       "       104, 104, 105, 105, 106, 106, 107, 107, 108, 108, 109, 109, 110,\n",
       "       110, 111, 111, 112, 112, 113, 113, 114, 114, 115, 115, 116, 116,\n",
       "       117, 117, 118, 118, 119, 119, 120, 120, 121, 121, 122, 122, 123,\n",
       "       123, 124, 124, 125, 125, 126, 126, 127, 127, 128, 128, 129, 129,\n",
       "       130, 130, 131, 131, 132, 132, 133, 133, 134, 134, 135, 135, 136,\n",
       "       136, 137, 137, 138, 138, 139, 139, 140, 140, 141, 141, 142, 142,\n",
       "       143, 143, 144, 144, 145, 145, 146, 146, 147, 147, 148, 148, 149,\n",
       "       149, 150, 150, 151, 151, 152, 152, 153, 153, 154, 154, 155, 155,\n",
       "       156, 156, 157, 157, 158, 158, 159, 159, 160, 160, 161, 161, 162,\n",
       "       162, 163, 163, 164, 164, 165, 165, 166, 166, 167, 167, 168, 168,\n",
       "       169, 169, 170, 170, 171, 171, 172, 172, 173, 173, 174, 174, 175,\n",
       "       175, 176, 176, 177, 177, 178, 178, 179, 179, 180, 180, 181, 181,\n",
       "       182, 182, 183, 183, 184, 184, 185, 185, 186, 186, 187, 187, 188,\n",
       "       188, 189, 189, 190, 190, 191, 191, 192, 192, 193, 193, 194, 194,\n",
       "       195, 195, 196, 196, 197, 197, 198, 198, 199, 199, 200, 200, 201,\n",
       "       201, 202, 202, 203, 203, 204, 204, 205, 205, 206, 206, 207, 207,\n",
       "       208, 208, 209, 209, 210, 210, 211, 211, 212, 212, 213, 213, 214,\n",
       "       214, 215, 215, 216, 216, 217, 217, 218, 218, 219, 219, 220, 220,\n",
       "       221, 221, 222, 222, 223, 223, 224, 224, 225, 225, 226, 226, 227,\n",
       "       227, 228, 228, 229, 229, 230, 230, 231, 231, 232, 232, 233, 233,\n",
       "       234, 234, 235, 235, 236, 236, 237, 237, 238, 238, 239, 239, 240,\n",
       "       240, 241, 241, 242, 242, 243, 243, 244, 244, 245, 245, 246, 246,\n",
       "       247, 247, 248, 248, 249, 249, 250, 250, 251, 251, 252, 252, 253,\n",
       "       253, 254, 254, 255, 255, 256, 256, 257, 257, 258, 258, 259, 259,\n",
       "       260, 260, 261, 261, 262, 262, 263, 263, 264, 264, 265, 265, 266,\n",
       "       266, 267, 267, 268, 268, 269, 269, 270, 270, 271, 271, 272, 272,\n",
       "       273, 273, 274, 274, 275, 275, 276, 276, 277, 277, 278, 278, 279,\n",
       "       279, 280, 280, 281, 281, 282, 282, 283, 283, 284, 284, 285, 285,\n",
       "       286, 286, 287, 287, 288, 288, 289, 289, 290, 290, 291, 291, 292,\n",
       "       292, 293, 293, 294, 294, 295, 295, 296, 296, 297, 297, 298, 298,\n",
       "       299, 299, 300, 300, 301, 301, 302, 302, 303, 303, 304, 304, 305,\n",
       "       305, 306, 306, 307, 307, 308, 308, 309, 309, 310, 310, 311, 311,\n",
       "       312, 312, 313, 313, 314, 314, 315, 315, 316, 316, 317, 317, 318,\n",
       "       318, 319, 319, 320, 320, 321, 321, 322, 322, 323, 323, 324, 324,\n",
       "       325, 325, 326, 326, 327, 327, 328, 328, 329, 329, 330, 330, 331,\n",
       "       331, 332, 332, 333, 333, 334, 334, 335, 335, 336, 336, 337, 337,\n",
       "       338, 338, 339, 339, 340, 340, 341, 341, 342, 342, 343, 343, 344,\n",
       "       344, 345, 345, 346, 346, 347, 347, 348, 348, 349, 349, 350, 350,\n",
       "       351, 351, 352, 352, 353, 353, 354, 354, 355, 355, 356, 356, 357,\n",
       "       357, 358, 358, 359, 359, 360, 360, 361, 361, 362, 362, 363, 363,\n",
       "       364, 364, 365], dtype=int32)"
      ]
     },
     "execution_count": 16,
     "metadata": {},
     "output_type": "execute_result"
    }
   ],
   "source": [
    "groupper // 2"
   ]
  },
  {
   "cell_type": "markdown",
   "metadata": {},
   "source": [
    "### See the change? \n",
    "The values are repeted for the times we have written in it.\n",
    "So the grouping is so easy now!"
   ]
  },
  {
   "cell_type": "code",
   "execution_count": 17,
   "metadata": {},
   "outputs": [],
   "source": [
    "groupper //= 2"
   ]
  },
  {
   "cell_type": "code",
   "execution_count": 18,
   "metadata": {},
   "outputs": [
    {
     "data": {
      "text/plain": [
       "0       997\n",
       "1       937\n",
       "2      1287\n",
       "3       632\n",
       "4       838\n",
       "       ... \n",
       "361     202\n",
       "362     210\n",
       "363     851\n",
       "364    1047\n",
       "365     203\n",
       "Length: 366, dtype: int32"
      ]
     },
     "execution_count": 18,
     "metadata": {},
     "output_type": "execute_result"
    }
   ],
   "source": [
    "tmp.groupby(groupper).sum()"
   ]
  },
  {
   "cell_type": "markdown",
   "metadata": {},
   "source": [
    "Seen that? "
   ]
  },
  {
   "cell_type": "markdown",
   "metadata": {},
   "source": [
    "### But the results are not the same!\n",
    "Why?\n",
    "\n",
    "If you see in the Roller example, you will notice that, the total rows are still 731 and here onlt 366...\n",
    "<br>\n",
    "That means the window is `NOT OVERLAPPING` as it does in the Rolling...\n",
    "<br>\n",
    "The solution?"
   ]
  },
  {
   "cell_type": "code",
   "execution_count": 20,
   "metadata": {},
   "outputs": [
    {
     "data": {
      "text/plain": [
       "2019-01-01    684\n",
       "2019-01-02    313\n",
       "2019-01-03    663\n",
       "2019-01-04    274\n",
       "2019-01-05    611\n",
       "             ... \n",
       "2020-12-27    557\n",
       "2020-12-28    294\n",
       "2020-12-29    636\n",
       "2020-12-30    411\n",
       "2020-12-31    203\n",
       "Freq: D, Length: 731, dtype: int32"
      ]
     },
     "execution_count": 20,
     "metadata": {},
     "output_type": "execute_result"
    }
   ],
   "source": [
    "tmp"
   ]
  },
  {
   "cell_type": "code",
   "execution_count": 37,
   "metadata": {},
   "outputs": [],
   "source": [
    "tmp = tmp.reset_index()"
   ]
  },
  {
   "cell_type": "code",
   "execution_count": 50,
   "metadata": {},
   "outputs": [
    {
     "data": {
      "text/html": [
       "<div>\n",
       "<style scoped>\n",
       "    .dataframe tbody tr th:only-of-type {\n",
       "        vertical-align: middle;\n",
       "    }\n",
       "\n",
       "    .dataframe tbody tr th {\n",
       "        vertical-align: top;\n",
       "    }\n",
       "\n",
       "    .dataframe thead th {\n",
       "        text-align: right;\n",
       "    }\n",
       "</style>\n",
       "<table border=\"1\" class=\"dataframe\">\n",
       "  <thead>\n",
       "    <tr style=\"text-align: right;\">\n",
       "      <th></th>\n",
       "      <th>index</th>\n",
       "      <th>0</th>\n",
       "    </tr>\n",
       "  </thead>\n",
       "  <tbody>\n",
       "    <tr>\n",
       "      <th>0</th>\n",
       "      <td>2019-01-01</td>\n",
       "      <td>684</td>\n",
       "    </tr>\n",
       "    <tr>\n",
       "      <th>1</th>\n",
       "      <td>2019-01-02</td>\n",
       "      <td>313</td>\n",
       "    </tr>\n",
       "    <tr>\n",
       "      <th>2</th>\n",
       "      <td>2019-01-03</td>\n",
       "      <td>663</td>\n",
       "    </tr>\n",
       "    <tr>\n",
       "      <th>3</th>\n",
       "      <td>2019-01-04</td>\n",
       "      <td>274</td>\n",
       "    </tr>\n",
       "    <tr>\n",
       "      <th>4</th>\n",
       "      <td>2019-01-05</td>\n",
       "      <td>611</td>\n",
       "    </tr>\n",
       "    <tr>\n",
       "      <th>...</th>\n",
       "      <td>...</td>\n",
       "      <td>...</td>\n",
       "    </tr>\n",
       "    <tr>\n",
       "      <th>726</th>\n",
       "      <td>2020-12-27</td>\n",
       "      <td>557</td>\n",
       "    </tr>\n",
       "    <tr>\n",
       "      <th>727</th>\n",
       "      <td>2020-12-28</td>\n",
       "      <td>294</td>\n",
       "    </tr>\n",
       "    <tr>\n",
       "      <th>728</th>\n",
       "      <td>2020-12-29</td>\n",
       "      <td>636</td>\n",
       "    </tr>\n",
       "    <tr>\n",
       "      <th>729</th>\n",
       "      <td>2020-12-30</td>\n",
       "      <td>411</td>\n",
       "    </tr>\n",
       "    <tr>\n",
       "      <th>730</th>\n",
       "      <td>2020-12-31</td>\n",
       "      <td>203</td>\n",
       "    </tr>\n",
       "  </tbody>\n",
       "</table>\n",
       "<p>731 rows × 2 columns</p>\n",
       "</div>"
      ],
      "text/plain": [
       "         index    0\n",
       "0   2019-01-01  684\n",
       "1   2019-01-02  313\n",
       "2   2019-01-03  663\n",
       "3   2019-01-04  274\n",
       "4   2019-01-05  611\n",
       "..         ...  ...\n",
       "726 2020-12-27  557\n",
       "727 2020-12-28  294\n",
       "728 2020-12-29  636\n",
       "729 2020-12-30  411\n",
       "730 2020-12-31  203\n",
       "\n",
       "[731 rows x 2 columns]"
      ]
     },
     "execution_count": 50,
     "metadata": {},
     "output_type": "execute_result"
    }
   ],
   "source": [
    "tmp"
   ]
  },
  {
   "cell_type": "code",
   "execution_count": 52,
   "metadata": {},
   "outputs": [],
   "source": [
    "tmp['rolling_sum'] = tmp.groupby('index')[0].transform(lambda x: x.expanding().sum())"
   ]
  },
  {
   "cell_type": "code",
   "execution_count": 53,
   "metadata": {},
   "outputs": [
    {
     "data": {
      "text/html": [
       "<div>\n",
       "<style scoped>\n",
       "    .dataframe tbody tr th:only-of-type {\n",
       "        vertical-align: middle;\n",
       "    }\n",
       "\n",
       "    .dataframe tbody tr th {\n",
       "        vertical-align: top;\n",
       "    }\n",
       "\n",
       "    .dataframe thead th {\n",
       "        text-align: right;\n",
       "    }\n",
       "</style>\n",
       "<table border=\"1\" class=\"dataframe\">\n",
       "  <thead>\n",
       "    <tr style=\"text-align: right;\">\n",
       "      <th></th>\n",
       "      <th>index</th>\n",
       "      <th>0</th>\n",
       "      <th>rolling_sum</th>\n",
       "    </tr>\n",
       "  </thead>\n",
       "  <tbody>\n",
       "    <tr>\n",
       "      <th>0</th>\n",
       "      <td>2019-01-01</td>\n",
       "      <td>684</td>\n",
       "      <td>684</td>\n",
       "    </tr>\n",
       "    <tr>\n",
       "      <th>1</th>\n",
       "      <td>2019-01-02</td>\n",
       "      <td>313</td>\n",
       "      <td>313</td>\n",
       "    </tr>\n",
       "    <tr>\n",
       "      <th>2</th>\n",
       "      <td>2019-01-03</td>\n",
       "      <td>663</td>\n",
       "      <td>663</td>\n",
       "    </tr>\n",
       "    <tr>\n",
       "      <th>3</th>\n",
       "      <td>2019-01-04</td>\n",
       "      <td>274</td>\n",
       "      <td>274</td>\n",
       "    </tr>\n",
       "    <tr>\n",
       "      <th>4</th>\n",
       "      <td>2019-01-05</td>\n",
       "      <td>611</td>\n",
       "      <td>611</td>\n",
       "    </tr>\n",
       "    <tr>\n",
       "      <th>...</th>\n",
       "      <td>...</td>\n",
       "      <td>...</td>\n",
       "      <td>...</td>\n",
       "    </tr>\n",
       "    <tr>\n",
       "      <th>726</th>\n",
       "      <td>2020-12-27</td>\n",
       "      <td>557</td>\n",
       "      <td>557</td>\n",
       "    </tr>\n",
       "    <tr>\n",
       "      <th>727</th>\n",
       "      <td>2020-12-28</td>\n",
       "      <td>294</td>\n",
       "      <td>294</td>\n",
       "    </tr>\n",
       "    <tr>\n",
       "      <th>728</th>\n",
       "      <td>2020-12-29</td>\n",
       "      <td>636</td>\n",
       "      <td>636</td>\n",
       "    </tr>\n",
       "    <tr>\n",
       "      <th>729</th>\n",
       "      <td>2020-12-30</td>\n",
       "      <td>411</td>\n",
       "      <td>411</td>\n",
       "    </tr>\n",
       "    <tr>\n",
       "      <th>730</th>\n",
       "      <td>2020-12-31</td>\n",
       "      <td>203</td>\n",
       "      <td>203</td>\n",
       "    </tr>\n",
       "  </tbody>\n",
       "</table>\n",
       "<p>731 rows × 3 columns</p>\n",
       "</div>"
      ],
      "text/plain": [
       "         index    0  rolling_sum\n",
       "0   2019-01-01  684          684\n",
       "1   2019-01-02  313          313\n",
       "2   2019-01-03  663          663\n",
       "3   2019-01-04  274          274\n",
       "4   2019-01-05  611          611\n",
       "..         ...  ...          ...\n",
       "726 2020-12-27  557          557\n",
       "727 2020-12-28  294          294\n",
       "728 2020-12-29  636          636\n",
       "729 2020-12-30  411          411\n",
       "730 2020-12-31  203          203\n",
       "\n",
       "[731 rows x 3 columns]"
      ]
     },
     "execution_count": 53,
     "metadata": {},
     "output_type": "execute_result"
    }
   ],
   "source": [
    "tmp"
   ]
  },
  {
   "cell_type": "code",
   "execution_count": 94,
   "metadata": {},
   "outputs": [],
   "source": [
    "data = dict(keys= list('ABCBCBCACABCA'), values= [11,332,44,22,333,22,11,55,44,55,66,66,55])"
   ]
  },
  {
   "cell_type": "code",
   "execution_count": 95,
   "metadata": {},
   "outputs": [],
   "source": [
    "df = pd.DataFrame(data)"
   ]
  },
  {
   "cell_type": "code",
   "execution_count": 96,
   "metadata": {},
   "outputs": [
    {
     "data": {
      "text/html": [
       "<div>\n",
       "<style scoped>\n",
       "    .dataframe tbody tr th:only-of-type {\n",
       "        vertical-align: middle;\n",
       "    }\n",
       "\n",
       "    .dataframe tbody tr th {\n",
       "        vertical-align: top;\n",
       "    }\n",
       "\n",
       "    .dataframe thead th {\n",
       "        text-align: right;\n",
       "    }\n",
       "</style>\n",
       "<table border=\"1\" class=\"dataframe\">\n",
       "  <thead>\n",
       "    <tr style=\"text-align: right;\">\n",
       "      <th></th>\n",
       "      <th>keys</th>\n",
       "      <th>values</th>\n",
       "    </tr>\n",
       "  </thead>\n",
       "  <tbody>\n",
       "    <tr>\n",
       "      <th>0</th>\n",
       "      <td>A</td>\n",
       "      <td>11</td>\n",
       "    </tr>\n",
       "    <tr>\n",
       "      <th>1</th>\n",
       "      <td>B</td>\n",
       "      <td>332</td>\n",
       "    </tr>\n",
       "    <tr>\n",
       "      <th>2</th>\n",
       "      <td>C</td>\n",
       "      <td>44</td>\n",
       "    </tr>\n",
       "    <tr>\n",
       "      <th>3</th>\n",
       "      <td>B</td>\n",
       "      <td>22</td>\n",
       "    </tr>\n",
       "    <tr>\n",
       "      <th>4</th>\n",
       "      <td>C</td>\n",
       "      <td>333</td>\n",
       "    </tr>\n",
       "    <tr>\n",
       "      <th>5</th>\n",
       "      <td>B</td>\n",
       "      <td>22</td>\n",
       "    </tr>\n",
       "    <tr>\n",
       "      <th>6</th>\n",
       "      <td>C</td>\n",
       "      <td>11</td>\n",
       "    </tr>\n",
       "    <tr>\n",
       "      <th>7</th>\n",
       "      <td>A</td>\n",
       "      <td>55</td>\n",
       "    </tr>\n",
       "    <tr>\n",
       "      <th>8</th>\n",
       "      <td>C</td>\n",
       "      <td>44</td>\n",
       "    </tr>\n",
       "    <tr>\n",
       "      <th>9</th>\n",
       "      <td>A</td>\n",
       "      <td>55</td>\n",
       "    </tr>\n",
       "    <tr>\n",
       "      <th>10</th>\n",
       "      <td>B</td>\n",
       "      <td>66</td>\n",
       "    </tr>\n",
       "    <tr>\n",
       "      <th>11</th>\n",
       "      <td>C</td>\n",
       "      <td>66</td>\n",
       "    </tr>\n",
       "    <tr>\n",
       "      <th>12</th>\n",
       "      <td>A</td>\n",
       "      <td>55</td>\n",
       "    </tr>\n",
       "  </tbody>\n",
       "</table>\n",
       "</div>"
      ],
      "text/plain": [
       "   keys  values\n",
       "0     A      11\n",
       "1     B     332\n",
       "2     C      44\n",
       "3     B      22\n",
       "4     C     333\n",
       "5     B      22\n",
       "6     C      11\n",
       "7     A      55\n",
       "8     C      44\n",
       "9     A      55\n",
       "10    B      66\n",
       "11    C      66\n",
       "12    A      55"
      ]
     },
     "execution_count": 96,
     "metadata": {},
     "output_type": "execute_result"
    }
   ],
   "source": [
    "df"
   ]
  },
  {
   "cell_type": "code",
   "execution_count": 63,
   "metadata": {},
   "outputs": [
    {
     "data": {
      "text/html": [
       "<div>\n",
       "<style scoped>\n",
       "    .dataframe tbody tr th:only-of-type {\n",
       "        vertical-align: middle;\n",
       "    }\n",
       "\n",
       "    .dataframe tbody tr th {\n",
       "        vertical-align: top;\n",
       "    }\n",
       "\n",
       "    .dataframe thead th {\n",
       "        text-align: right;\n",
       "    }\n",
       "</style>\n",
       "<table border=\"1\" class=\"dataframe\">\n",
       "  <thead>\n",
       "    <tr style=\"text-align: right;\">\n",
       "      <th></th>\n",
       "      <th>keys</th>\n",
       "      <th>values</th>\n",
       "    </tr>\n",
       "  </thead>\n",
       "  <tbody>\n",
       "    <tr>\n",
       "      <th>0</th>\n",
       "      <td>A</td>\n",
       "      <td>11</td>\n",
       "    </tr>\n",
       "    <tr>\n",
       "      <th>7</th>\n",
       "      <td>A</td>\n",
       "      <td>55</td>\n",
       "    </tr>\n",
       "    <tr>\n",
       "      <th>9</th>\n",
       "      <td>A</td>\n",
       "      <td>55</td>\n",
       "    </tr>\n",
       "    <tr>\n",
       "      <th>12</th>\n",
       "      <td>A</td>\n",
       "      <td>55</td>\n",
       "    </tr>\n",
       "    <tr>\n",
       "      <th>1</th>\n",
       "      <td>B</td>\n",
       "      <td>332</td>\n",
       "    </tr>\n",
       "    <tr>\n",
       "      <th>3</th>\n",
       "      <td>B</td>\n",
       "      <td>22</td>\n",
       "    </tr>\n",
       "    <tr>\n",
       "      <th>5</th>\n",
       "      <td>B</td>\n",
       "      <td>22</td>\n",
       "    </tr>\n",
       "    <tr>\n",
       "      <th>10</th>\n",
       "      <td>B</td>\n",
       "      <td>66</td>\n",
       "    </tr>\n",
       "    <tr>\n",
       "      <th>2</th>\n",
       "      <td>C</td>\n",
       "      <td>44</td>\n",
       "    </tr>\n",
       "    <tr>\n",
       "      <th>4</th>\n",
       "      <td>C</td>\n",
       "      <td>333</td>\n",
       "    </tr>\n",
       "    <tr>\n",
       "      <th>6</th>\n",
       "      <td>C</td>\n",
       "      <td>11</td>\n",
       "    </tr>\n",
       "    <tr>\n",
       "      <th>8</th>\n",
       "      <td>C</td>\n",
       "      <td>44</td>\n",
       "    </tr>\n",
       "    <tr>\n",
       "      <th>11</th>\n",
       "      <td>C</td>\n",
       "      <td>66</td>\n",
       "    </tr>\n",
       "  </tbody>\n",
       "</table>\n",
       "</div>"
      ],
      "text/plain": [
       "   keys  values\n",
       "0     A      11\n",
       "7     A      55\n",
       "9     A      55\n",
       "12    A      55\n",
       "1     B     332\n",
       "3     B      22\n",
       "5     B      22\n",
       "10    B      66\n",
       "2     C      44\n",
       "4     C     333\n",
       "6     C      11\n",
       "8     C      44\n",
       "11    C      66"
      ]
     },
     "execution_count": 63,
     "metadata": {},
     "output_type": "execute_result"
    }
   ],
   "source": [
    "df.sort_values('keys')"
   ]
  },
  {
   "cell_type": "code",
   "execution_count": 68,
   "metadata": {},
   "outputs": [
    {
     "data": {
      "text/html": [
       "<div>\n",
       "<style scoped>\n",
       "    .dataframe tbody tr th:only-of-type {\n",
       "        vertical-align: middle;\n",
       "    }\n",
       "\n",
       "    .dataframe tbody tr th {\n",
       "        vertical-align: top;\n",
       "    }\n",
       "\n",
       "    .dataframe thead th {\n",
       "        text-align: right;\n",
       "    }\n",
       "</style>\n",
       "<table border=\"1\" class=\"dataframe\">\n",
       "  <thead>\n",
       "    <tr style=\"text-align: right;\">\n",
       "      <th></th>\n",
       "      <th></th>\n",
       "      <th>values</th>\n",
       "    </tr>\n",
       "    <tr>\n",
       "      <th>keys</th>\n",
       "      <th></th>\n",
       "      <th></th>\n",
       "    </tr>\n",
       "  </thead>\n",
       "  <tbody>\n",
       "    <tr>\n",
       "      <th rowspan=\"4\" valign=\"top\">A</th>\n",
       "      <th>0</th>\n",
       "      <td>NaN</td>\n",
       "    </tr>\n",
       "    <tr>\n",
       "      <th>7</th>\n",
       "      <td>66.0</td>\n",
       "    </tr>\n",
       "    <tr>\n",
       "      <th>9</th>\n",
       "      <td>110.0</td>\n",
       "    </tr>\n",
       "    <tr>\n",
       "      <th>12</th>\n",
       "      <td>110.0</td>\n",
       "    </tr>\n",
       "    <tr>\n",
       "      <th rowspan=\"4\" valign=\"top\">B</th>\n",
       "      <th>1</th>\n",
       "      <td>NaN</td>\n",
       "    </tr>\n",
       "    <tr>\n",
       "      <th>3</th>\n",
       "      <td>354.0</td>\n",
       "    </tr>\n",
       "    <tr>\n",
       "      <th>5</th>\n",
       "      <td>44.0</td>\n",
       "    </tr>\n",
       "    <tr>\n",
       "      <th>10</th>\n",
       "      <td>88.0</td>\n",
       "    </tr>\n",
       "    <tr>\n",
       "      <th rowspan=\"5\" valign=\"top\">C</th>\n",
       "      <th>2</th>\n",
       "      <td>NaN</td>\n",
       "    </tr>\n",
       "    <tr>\n",
       "      <th>4</th>\n",
       "      <td>377.0</td>\n",
       "    </tr>\n",
       "    <tr>\n",
       "      <th>6</th>\n",
       "      <td>344.0</td>\n",
       "    </tr>\n",
       "    <tr>\n",
       "      <th>8</th>\n",
       "      <td>55.0</td>\n",
       "    </tr>\n",
       "    <tr>\n",
       "      <th>11</th>\n",
       "      <td>110.0</td>\n",
       "    </tr>\n",
       "  </tbody>\n",
       "</table>\n",
       "</div>"
      ],
      "text/plain": [
       "         values\n",
       "keys           \n",
       "A    0      NaN\n",
       "     7     66.0\n",
       "     9    110.0\n",
       "     12   110.0\n",
       "B    1      NaN\n",
       "     3    354.0\n",
       "     5     44.0\n",
       "     10    88.0\n",
       "C    2      NaN\n",
       "     4    377.0\n",
       "     6    344.0\n",
       "     8     55.0\n",
       "     11   110.0"
      ]
     },
     "execution_count": 68,
     "metadata": {},
     "output_type": "execute_result"
    }
   ],
   "source": [
    "df.groupby('keys').rolling(2).sum()"
   ]
  },
  {
   "cell_type": "markdown",
   "metadata": {},
   "source": [
    "The operation above still does not prove the rolling with group by, it was just to demonstrate the power of rolling even with the group by!"
   ]
  },
  {
   "cell_type": "markdown",
   "metadata": {},
   "source": [
    "Here, ↓ is another way t operfro mrolling with group by from the website, saved in the pocket"
   ]
  },
  {
   "cell_type": "code",
   "execution_count": 69,
   "metadata": {},
   "outputs": [
    {
     "data": {
      "text/html": [
       "<div>\n",
       "<style scoped>\n",
       "    .dataframe tbody tr th:only-of-type {\n",
       "        vertical-align: middle;\n",
       "    }\n",
       "\n",
       "    .dataframe tbody tr th {\n",
       "        vertical-align: top;\n",
       "    }\n",
       "\n",
       "    .dataframe thead th {\n",
       "        text-align: right;\n",
       "    }\n",
       "</style>\n",
       "<table border=\"1\" class=\"dataframe\">\n",
       "  <thead>\n",
       "    <tr style=\"text-align: right;\">\n",
       "      <th></th>\n",
       "      <th>Platoon</th>\n",
       "      <th>Casualties</th>\n",
       "    </tr>\n",
       "  </thead>\n",
       "  <tbody>\n",
       "    <tr>\n",
       "      <th>0</th>\n",
       "      <td>A</td>\n",
       "      <td>1</td>\n",
       "    </tr>\n",
       "    <tr>\n",
       "      <th>1</th>\n",
       "      <td>A</td>\n",
       "      <td>4</td>\n",
       "    </tr>\n",
       "    <tr>\n",
       "      <th>2</th>\n",
       "      <td>A</td>\n",
       "      <td>5</td>\n",
       "    </tr>\n",
       "    <tr>\n",
       "      <th>3</th>\n",
       "      <td>A</td>\n",
       "      <td>7</td>\n",
       "    </tr>\n",
       "    <tr>\n",
       "      <th>4</th>\n",
       "      <td>A</td>\n",
       "      <td>5</td>\n",
       "    </tr>\n",
       "    <tr>\n",
       "      <th>5</th>\n",
       "      <td>A</td>\n",
       "      <td>5</td>\n",
       "    </tr>\n",
       "    <tr>\n",
       "      <th>6</th>\n",
       "      <td>B</td>\n",
       "      <td>6</td>\n",
       "    </tr>\n",
       "    <tr>\n",
       "      <th>7</th>\n",
       "      <td>B</td>\n",
       "      <td>1</td>\n",
       "    </tr>\n",
       "    <tr>\n",
       "      <th>8</th>\n",
       "      <td>B</td>\n",
       "      <td>4</td>\n",
       "    </tr>\n",
       "    <tr>\n",
       "      <th>9</th>\n",
       "      <td>B</td>\n",
       "      <td>5</td>\n",
       "    </tr>\n",
       "    <tr>\n",
       "      <th>10</th>\n",
       "      <td>B</td>\n",
       "      <td>6</td>\n",
       "    </tr>\n",
       "    <tr>\n",
       "      <th>11</th>\n",
       "      <td>C</td>\n",
       "      <td>7</td>\n",
       "    </tr>\n",
       "    <tr>\n",
       "      <th>12</th>\n",
       "      <td>C</td>\n",
       "      <td>4</td>\n",
       "    </tr>\n",
       "    <tr>\n",
       "      <th>13</th>\n",
       "      <td>C</td>\n",
       "      <td>6</td>\n",
       "    </tr>\n",
       "    <tr>\n",
       "      <th>14</th>\n",
       "      <td>C</td>\n",
       "      <td>4</td>\n",
       "    </tr>\n",
       "    <tr>\n",
       "      <th>15</th>\n",
       "      <td>C</td>\n",
       "      <td>6</td>\n",
       "    </tr>\n",
       "  </tbody>\n",
       "</table>\n",
       "</div>"
      ],
      "text/plain": [
       "   Platoon  Casualties\n",
       "0        A           1\n",
       "1        A           4\n",
       "2        A           5\n",
       "3        A           7\n",
       "4        A           5\n",
       "5        A           5\n",
       "6        B           6\n",
       "7        B           1\n",
       "8        B           4\n",
       "9        B           5\n",
       "10       B           6\n",
       "11       C           7\n",
       "12       C           4\n",
       "13       C           6\n",
       "14       C           4\n",
       "15       C           6"
      ]
     },
     "execution_count": 69,
     "metadata": {},
     "output_type": "execute_result"
    }
   ],
   "source": [
    "data = {'Platoon': ['A','A','A','A','A','A','B','B','B','B','B','C','C','C','C','C'],\n",
    "       'Casualties': [1,4,5,7,5,5,6,1,4,5,6,7,4,6,4,6]}\n",
    "df = pd.DataFrame(data)\n",
    "df"
   ]
  },
  {
   "cell_type": "code",
   "execution_count": 72,
   "metadata": {},
   "outputs": [
    {
     "data": {
      "text/plain": [
       "0     NaN\n",
       "1     2.5\n",
       "2     4.5\n",
       "3     6.0\n",
       "4     6.0\n",
       "5     5.0\n",
       "6     NaN\n",
       "7     3.5\n",
       "8     2.5\n",
       "9     4.5\n",
       "10    5.5\n",
       "11    NaN\n",
       "12    5.5\n",
       "13    5.0\n",
       "14    5.0\n",
       "15    5.0\n",
       "Name: Casualties, dtype: float64"
      ]
     },
     "execution_count": 72,
     "metadata": {},
     "output_type": "execute_result"
    }
   ],
   "source": [
    "df.groupby('Platoon')['Casualties'].apply(lambda x:x.rolling(center=False,window=2).mean())\n"
   ]
  },
  {
   "cell_type": "code",
   "execution_count": 80,
   "metadata": {},
   "outputs": [
    {
     "data": {
      "text/plain": [
       "Platoon    \n",
       "A        0     NaN\n",
       "         1     2.5\n",
       "         2     4.5\n",
       "         3     6.0\n",
       "         4     6.0\n",
       "         5     5.0\n",
       "B        6     NaN\n",
       "         7     3.5\n",
       "         8     2.5\n",
       "         9     4.5\n",
       "         10    5.5\n",
       "C        11    NaN\n",
       "         12    5.5\n",
       "         13    5.0\n",
       "         14    5.0\n",
       "         15    5.0\n",
       "Name: Casualties, dtype: float64"
      ]
     },
     "execution_count": 80,
     "metadata": {},
     "output_type": "execute_result"
    }
   ],
   "source": [
    "df.groupby('Platoon')['Casualties'].rolling(center=False,window=2).mean()"
   ]
  },
  {
   "cell_type": "code",
   "execution_count": 83,
   "metadata": {},
   "outputs": [
    {
     "data": {
      "text/html": [
       "<div>\n",
       "<style scoped>\n",
       "    .dataframe tbody tr th:only-of-type {\n",
       "        vertical-align: middle;\n",
       "    }\n",
       "\n",
       "    .dataframe tbody tr th {\n",
       "        vertical-align: top;\n",
       "    }\n",
       "\n",
       "    .dataframe thead th {\n",
       "        text-align: right;\n",
       "    }\n",
       "</style>\n",
       "<table border=\"1\" class=\"dataframe\">\n",
       "  <thead>\n",
       "    <tr style=\"text-align: right;\">\n",
       "      <th></th>\n",
       "      <th>Platoon</th>\n",
       "      <th>Casualties</th>\n",
       "    </tr>\n",
       "  </thead>\n",
       "  <tbody>\n",
       "    <tr>\n",
       "      <th>0</th>\n",
       "      <td>A</td>\n",
       "      <td>1</td>\n",
       "    </tr>\n",
       "    <tr>\n",
       "      <th>1</th>\n",
       "      <td>A</td>\n",
       "      <td>4</td>\n",
       "    </tr>\n",
       "    <tr>\n",
       "      <th>2</th>\n",
       "      <td>A</td>\n",
       "      <td>5</td>\n",
       "    </tr>\n",
       "    <tr>\n",
       "      <th>3</th>\n",
       "      <td>A</td>\n",
       "      <td>7</td>\n",
       "    </tr>\n",
       "    <tr>\n",
       "      <th>4</th>\n",
       "      <td>A</td>\n",
       "      <td>5</td>\n",
       "    </tr>\n",
       "    <tr>\n",
       "      <th>5</th>\n",
       "      <td>A</td>\n",
       "      <td>5</td>\n",
       "    </tr>\n",
       "    <tr>\n",
       "      <th>6</th>\n",
       "      <td>B</td>\n",
       "      <td>6</td>\n",
       "    </tr>\n",
       "    <tr>\n",
       "      <th>7</th>\n",
       "      <td>B</td>\n",
       "      <td>1</td>\n",
       "    </tr>\n",
       "    <tr>\n",
       "      <th>8</th>\n",
       "      <td>B</td>\n",
       "      <td>4</td>\n",
       "    </tr>\n",
       "    <tr>\n",
       "      <th>9</th>\n",
       "      <td>B</td>\n",
       "      <td>5</td>\n",
       "    </tr>\n",
       "    <tr>\n",
       "      <th>10</th>\n",
       "      <td>B</td>\n",
       "      <td>6</td>\n",
       "    </tr>\n",
       "    <tr>\n",
       "      <th>11</th>\n",
       "      <td>C</td>\n",
       "      <td>7</td>\n",
       "    </tr>\n",
       "    <tr>\n",
       "      <th>12</th>\n",
       "      <td>C</td>\n",
       "      <td>4</td>\n",
       "    </tr>\n",
       "    <tr>\n",
       "      <th>13</th>\n",
       "      <td>C</td>\n",
       "      <td>6</td>\n",
       "    </tr>\n",
       "    <tr>\n",
       "      <th>14</th>\n",
       "      <td>C</td>\n",
       "      <td>4</td>\n",
       "    </tr>\n",
       "    <tr>\n",
       "      <th>15</th>\n",
       "      <td>C</td>\n",
       "      <td>6</td>\n",
       "    </tr>\n",
       "  </tbody>\n",
       "</table>\n",
       "</div>"
      ],
      "text/plain": [
       "   Platoon  Casualties\n",
       "0        A           1\n",
       "1        A           4\n",
       "2        A           5\n",
       "3        A           7\n",
       "4        A           5\n",
       "5        A           5\n",
       "6        B           6\n",
       "7        B           1\n",
       "8        B           4\n",
       "9        B           5\n",
       "10       B           6\n",
       "11       C           7\n",
       "12       C           4\n",
       "13       C           6\n",
       "14       C           4\n",
       "15       C           6"
      ]
     },
     "execution_count": 83,
     "metadata": {},
     "output_type": "execute_result"
    }
   ],
   "source": [
    "df"
   ]
  },
  {
   "cell_type": "markdown",
   "metadata": {},
   "source": [
    "### Just trying `cumulative sum` - `cumsum()`"
   ]
  },
  {
   "cell_type": "code",
   "execution_count": 82,
   "metadata": {},
   "outputs": [
    {
     "data": {
      "text/html": [
       "<div>\n",
       "<style scoped>\n",
       "    .dataframe tbody tr th:only-of-type {\n",
       "        vertical-align: middle;\n",
       "    }\n",
       "\n",
       "    .dataframe tbody tr th {\n",
       "        vertical-align: top;\n",
       "    }\n",
       "\n",
       "    .dataframe thead th {\n",
       "        text-align: right;\n",
       "    }\n",
       "</style>\n",
       "<table border=\"1\" class=\"dataframe\">\n",
       "  <thead>\n",
       "    <tr style=\"text-align: right;\">\n",
       "      <th></th>\n",
       "      <th>Platoon</th>\n",
       "      <th>Casualties</th>\n",
       "    </tr>\n",
       "  </thead>\n",
       "  <tbody>\n",
       "    <tr>\n",
       "      <th>0</th>\n",
       "      <td>A</td>\n",
       "      <td>1</td>\n",
       "    </tr>\n",
       "    <tr>\n",
       "      <th>1</th>\n",
       "      <td>AA</td>\n",
       "      <td>5</td>\n",
       "    </tr>\n",
       "    <tr>\n",
       "      <th>2</th>\n",
       "      <td>AAA</td>\n",
       "      <td>10</td>\n",
       "    </tr>\n",
       "    <tr>\n",
       "      <th>3</th>\n",
       "      <td>AAAA</td>\n",
       "      <td>17</td>\n",
       "    </tr>\n",
       "    <tr>\n",
       "      <th>4</th>\n",
       "      <td>AAAAA</td>\n",
       "      <td>22</td>\n",
       "    </tr>\n",
       "    <tr>\n",
       "      <th>5</th>\n",
       "      <td>AAAAAA</td>\n",
       "      <td>27</td>\n",
       "    </tr>\n",
       "    <tr>\n",
       "      <th>6</th>\n",
       "      <td>AAAAAAB</td>\n",
       "      <td>33</td>\n",
       "    </tr>\n",
       "    <tr>\n",
       "      <th>7</th>\n",
       "      <td>AAAAAABB</td>\n",
       "      <td>34</td>\n",
       "    </tr>\n",
       "    <tr>\n",
       "      <th>8</th>\n",
       "      <td>AAAAAABBB</td>\n",
       "      <td>38</td>\n",
       "    </tr>\n",
       "    <tr>\n",
       "      <th>9</th>\n",
       "      <td>AAAAAABBBB</td>\n",
       "      <td>43</td>\n",
       "    </tr>\n",
       "    <tr>\n",
       "      <th>10</th>\n",
       "      <td>AAAAAABBBBB</td>\n",
       "      <td>49</td>\n",
       "    </tr>\n",
       "    <tr>\n",
       "      <th>11</th>\n",
       "      <td>AAAAAABBBBBC</td>\n",
       "      <td>56</td>\n",
       "    </tr>\n",
       "    <tr>\n",
       "      <th>12</th>\n",
       "      <td>AAAAAABBBBBCC</td>\n",
       "      <td>60</td>\n",
       "    </tr>\n",
       "    <tr>\n",
       "      <th>13</th>\n",
       "      <td>AAAAAABBBBBCCC</td>\n",
       "      <td>66</td>\n",
       "    </tr>\n",
       "    <tr>\n",
       "      <th>14</th>\n",
       "      <td>AAAAAABBBBBCCCC</td>\n",
       "      <td>70</td>\n",
       "    </tr>\n",
       "    <tr>\n",
       "      <th>15</th>\n",
       "      <td>AAAAAABBBBBCCCCC</td>\n",
       "      <td>76</td>\n",
       "    </tr>\n",
       "  </tbody>\n",
       "</table>\n",
       "</div>"
      ],
      "text/plain": [
       "             Platoon  Casualties\n",
       "0                  A           1\n",
       "1                 AA           5\n",
       "2                AAA          10\n",
       "3               AAAA          17\n",
       "4              AAAAA          22\n",
       "5             AAAAAA          27\n",
       "6            AAAAAAB          33\n",
       "7           AAAAAABB          34\n",
       "8          AAAAAABBB          38\n",
       "9         AAAAAABBBB          43\n",
       "10       AAAAAABBBBB          49\n",
       "11      AAAAAABBBBBC          56\n",
       "12     AAAAAABBBBBCC          60\n",
       "13    AAAAAABBBBBCCC          66\n",
       "14   AAAAAABBBBBCCCC          70\n",
       "15  AAAAAABBBBBCCCCC          76"
      ]
     },
     "execution_count": 82,
     "metadata": {},
     "output_type": "execute_result"
    }
   ],
   "source": [
    "df.cumsum()"
   ]
  },
  {
   "cell_type": "markdown",
   "metadata": {},
   "source": [
    "# Any solution?"
   ]
  },
  {
   "cell_type": "code",
   "execution_count": 97,
   "metadata": {},
   "outputs": [
    {
     "data": {
      "text/html": [
       "<div>\n",
       "<style scoped>\n",
       "    .dataframe tbody tr th:only-of-type {\n",
       "        vertical-align: middle;\n",
       "    }\n",
       "\n",
       "    .dataframe tbody tr th {\n",
       "        vertical-align: top;\n",
       "    }\n",
       "\n",
       "    .dataframe thead th {\n",
       "        text-align: right;\n",
       "    }\n",
       "</style>\n",
       "<table border=\"1\" class=\"dataframe\">\n",
       "  <thead>\n",
       "    <tr style=\"text-align: right;\">\n",
       "      <th></th>\n",
       "      <th>keys</th>\n",
       "      <th>values</th>\n",
       "    </tr>\n",
       "  </thead>\n",
       "  <tbody>\n",
       "    <tr>\n",
       "      <th>0</th>\n",
       "      <td>A</td>\n",
       "      <td>11</td>\n",
       "    </tr>\n",
       "    <tr>\n",
       "      <th>1</th>\n",
       "      <td>B</td>\n",
       "      <td>332</td>\n",
       "    </tr>\n",
       "    <tr>\n",
       "      <th>2</th>\n",
       "      <td>C</td>\n",
       "      <td>44</td>\n",
       "    </tr>\n",
       "    <tr>\n",
       "      <th>3</th>\n",
       "      <td>B</td>\n",
       "      <td>22</td>\n",
       "    </tr>\n",
       "    <tr>\n",
       "      <th>4</th>\n",
       "      <td>C</td>\n",
       "      <td>333</td>\n",
       "    </tr>\n",
       "    <tr>\n",
       "      <th>5</th>\n",
       "      <td>B</td>\n",
       "      <td>22</td>\n",
       "    </tr>\n",
       "    <tr>\n",
       "      <th>6</th>\n",
       "      <td>C</td>\n",
       "      <td>11</td>\n",
       "    </tr>\n",
       "    <tr>\n",
       "      <th>7</th>\n",
       "      <td>A</td>\n",
       "      <td>55</td>\n",
       "    </tr>\n",
       "    <tr>\n",
       "      <th>8</th>\n",
       "      <td>C</td>\n",
       "      <td>44</td>\n",
       "    </tr>\n",
       "    <tr>\n",
       "      <th>9</th>\n",
       "      <td>A</td>\n",
       "      <td>55</td>\n",
       "    </tr>\n",
       "    <tr>\n",
       "      <th>10</th>\n",
       "      <td>B</td>\n",
       "      <td>66</td>\n",
       "    </tr>\n",
       "    <tr>\n",
       "      <th>11</th>\n",
       "      <td>C</td>\n",
       "      <td>66</td>\n",
       "    </tr>\n",
       "    <tr>\n",
       "      <th>12</th>\n",
       "      <td>A</td>\n",
       "      <td>55</td>\n",
       "    </tr>\n",
       "  </tbody>\n",
       "</table>\n",
       "</div>"
      ],
      "text/plain": [
       "   keys  values\n",
       "0     A      11\n",
       "1     B     332\n",
       "2     C      44\n",
       "3     B      22\n",
       "4     C     333\n",
       "5     B      22\n",
       "6     C      11\n",
       "7     A      55\n",
       "8     C      44\n",
       "9     A      55\n",
       "10    B      66\n",
       "11    C      66\n",
       "12    A      55"
      ]
     },
     "execution_count": 97,
     "metadata": {},
     "output_type": "execute_result"
    }
   ],
   "source": [
    "df"
   ]
  },
  {
   "cell_type": "code",
   "execution_count": 101,
   "metadata": {},
   "outputs": [
    {
     "data": {
      "text/html": [
       "<div>\n",
       "<style scoped>\n",
       "    .dataframe tbody tr th:only-of-type {\n",
       "        vertical-align: middle;\n",
       "    }\n",
       "\n",
       "    .dataframe tbody tr th {\n",
       "        vertical-align: top;\n",
       "    }\n",
       "\n",
       "    .dataframe thead tr th {\n",
       "        text-align: left;\n",
       "    }\n",
       "\n",
       "    .dataframe thead tr:last-of-type th {\n",
       "        text-align: right;\n",
       "    }\n",
       "</style>\n",
       "<table border=\"1\" class=\"dataframe\">\n",
       "  <thead>\n",
       "    <tr>\n",
       "      <th></th>\n",
       "      <th></th>\n",
       "      <th colspan=\"2\" halign=\"left\">values</th>\n",
       "    </tr>\n",
       "    <tr>\n",
       "      <th></th>\n",
       "      <th></th>\n",
       "      <th>sum</th>\n",
       "      <th>mean</th>\n",
       "    </tr>\n",
       "    <tr>\n",
       "      <th>keys</th>\n",
       "      <th></th>\n",
       "      <th></th>\n",
       "      <th></th>\n",
       "    </tr>\n",
       "  </thead>\n",
       "  <tbody>\n",
       "    <tr>\n",
       "      <th rowspan=\"4\" valign=\"top\">A</th>\n",
       "      <th>0</th>\n",
       "      <td>NaN</td>\n",
       "      <td>NaN</td>\n",
       "    </tr>\n",
       "    <tr>\n",
       "      <th>7</th>\n",
       "      <td>66.0</td>\n",
       "      <td>33.0</td>\n",
       "    </tr>\n",
       "    <tr>\n",
       "      <th>9</th>\n",
       "      <td>110.0</td>\n",
       "      <td>55.0</td>\n",
       "    </tr>\n",
       "    <tr>\n",
       "      <th>12</th>\n",
       "      <td>110.0</td>\n",
       "      <td>55.0</td>\n",
       "    </tr>\n",
       "    <tr>\n",
       "      <th rowspan=\"4\" valign=\"top\">B</th>\n",
       "      <th>1</th>\n",
       "      <td>NaN</td>\n",
       "      <td>NaN</td>\n",
       "    </tr>\n",
       "    <tr>\n",
       "      <th>3</th>\n",
       "      <td>354.0</td>\n",
       "      <td>177.0</td>\n",
       "    </tr>\n",
       "    <tr>\n",
       "      <th>5</th>\n",
       "      <td>44.0</td>\n",
       "      <td>22.0</td>\n",
       "    </tr>\n",
       "    <tr>\n",
       "      <th>10</th>\n",
       "      <td>88.0</td>\n",
       "      <td>44.0</td>\n",
       "    </tr>\n",
       "    <tr>\n",
       "      <th rowspan=\"5\" valign=\"top\">C</th>\n",
       "      <th>2</th>\n",
       "      <td>NaN</td>\n",
       "      <td>NaN</td>\n",
       "    </tr>\n",
       "    <tr>\n",
       "      <th>4</th>\n",
       "      <td>377.0</td>\n",
       "      <td>188.5</td>\n",
       "    </tr>\n",
       "    <tr>\n",
       "      <th>6</th>\n",
       "      <td>344.0</td>\n",
       "      <td>172.0</td>\n",
       "    </tr>\n",
       "    <tr>\n",
       "      <th>8</th>\n",
       "      <td>55.0</td>\n",
       "      <td>27.5</td>\n",
       "    </tr>\n",
       "    <tr>\n",
       "      <th>11</th>\n",
       "      <td>110.0</td>\n",
       "      <td>55.0</td>\n",
       "    </tr>\n",
       "  </tbody>\n",
       "</table>\n",
       "</div>"
      ],
      "text/plain": [
       "        values       \n",
       "           sum   mean\n",
       "keys                 \n",
       "A    0     NaN    NaN\n",
       "     7    66.0   33.0\n",
       "     9   110.0   55.0\n",
       "     12  110.0   55.0\n",
       "B    1     NaN    NaN\n",
       "     3   354.0  177.0\n",
       "     5    44.0   22.0\n",
       "     10   88.0   44.0\n",
       "C    2     NaN    NaN\n",
       "     4   377.0  188.5\n",
       "     6   344.0  172.0\n",
       "     8    55.0   27.5\n",
       "     11  110.0   55.0"
      ]
     },
     "execution_count": 101,
     "metadata": {},
     "output_type": "execute_result"
    }
   ],
   "source": [
    "df.groupby('keys').rolling(2).aggregate(['sum','mean'])"
   ]
  },
  {
   "cell_type": "code",
   "execution_count": null,
   "metadata": {},
   "outputs": [],
   "source": []
  }
 ],
 "metadata": {
  "kernelspec": {
   "display_name": "Python 3",
   "language": "python",
   "name": "python3"
  },
  "language_info": {
   "codemirror_mode": {
    "name": "ipython",
    "version": 3
   },
   "file_extension": ".py",
   "mimetype": "text/x-python",
   "name": "python",
   "nbconvert_exporter": "python",
   "pygments_lexer": "ipython3",
   "version": "3.8.5"
  }
 },
 "nbformat": 4,
 "nbformat_minor": 4
}
