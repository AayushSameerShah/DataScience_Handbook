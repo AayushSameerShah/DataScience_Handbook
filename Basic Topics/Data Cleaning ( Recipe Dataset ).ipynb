{
 "cells": [
  {
   "cell_type": "markdown",
   "metadata": {},
   "source": [
    "# First time, a Real Datacleaning experience"
   ]
  },
  {
   "cell_type": "code",
   "execution_count": 1,
   "metadata": {},
   "outputs": [],
   "source": [
    "import pandas as pd\n",
    "import numpy as np"
   ]
  },
  {
   "cell_type": "code",
   "execution_count": 4,
   "metadata": {
    "collapsed": true
   },
   "outputs": [
    {
     "name": "stderr",
     "output_type": "stream",
     "text": [
      "  % Total    % Received % Xferd  Average Speed   Time    Time     Time  Current\n",
      "                                 Dload  Upload   Total   Spent    Left  Speed\n",
      "\n",
      "  0     0    0     0    0     0      0      0 --:--:-- --:--:-- --:--:--     0\n",
      "  0     0    0     0    0     0      0      0 --:--:-- --:--:-- --:--:--     0\n",
      "  0     0    0     0    0     0      0      0 --:--:--  0:00:01 --:--:--     0\n",
      "  0 29.3M    0 17040    0     0   7174      0  1:11:32  0:00:02  1:11:30  7174\n",
      "  0 29.3M    0  101k    0     0  31780      0  0:16:09  0:00:03  0:16:06 31780\n",
      "  0 29.3M    0  254k    0     0  61023      0  0:08:24  0:00:04  0:08:20 61023\n",
      "  1 29.3M    1  458k    0     0  86427      0  0:05:56  0:00:05  0:05:51 91763\n",
      "  2 29.3M    2  611k    0     0  99987      0  0:05:07  0:00:06  0:05:01  130k\n",
      "  2 29.3M    2  764k    0     0   102k      0  0:04:53  0:00:07  0:04:46  147k\n",
      "  2 29.3M    2  900k    0     0   106k      0  0:04:43  0:00:08  0:04:35  153k\n",
      "  3 29.3M    3 1019k    0     0   110k      0  0:04:33  0:00:09  0:04:24  153k\n",
      "  3 29.3M    3 1155k    0     0   112k      0  0:04:28  0:00:10  0:04:18  142k\n",
      "  4 29.3M    4 1274k    0     0   112k      0  0:04:27  0:00:11  0:04:16  130k\n",
      "  4 29.3M    4 1376k    0     0   111k      0  0:04:30  0:00:12  0:04:18  124k\n",
      "  4 29.3M    4 1478k    0     0   111k      0  0:04:30  0:00:13  0:04:17  120k\n",
      "  5 29.3M    5 1596k    0     0   111k      0  0:04:29  0:00:14  0:04:15  114k\n",
      "  5 29.3M    5 1648k    0     0   108k      0  0:04:38  0:00:15  0:04:23   99k\n",
      "  5 29.3M    5 1733k    0     0   105k      0  0:04:43  0:00:16  0:04:27 93516\n",
      "  5 29.3M    5 1801k    0     0   103k      0  0:04:49  0:00:17  0:04:32 87494\n",
      "  6 29.3M    6 1920k    0     0   105k      0  0:04:45  0:00:18  0:04:27 90921\n",
      "  6 29.3M    6 2022k    0     0   104k      0  0:04:47  0:00:19  0:04:28 87227\n",
      "  7 29.3M    7 2141k    0     0   105k      0  0:04:45  0:00:20  0:04:25   97k\n",
      "  7 29.3M    7 2226k    0     0   103k      0  0:04:50  0:00:21  0:04:29 97665\n",
      "  7 29.3M    7 2277k    0     0   102k      0  0:04:54  0:00:22  0:04:32 98628\n",
      "  7 29.3M    7 2379k    0     0   102k      0  0:04:54  0:00:23  0:04:31 93909\n",
      "  8 29.3M    8 2464k    0     0   100k      0  0:04:58  0:00:24  0:04:34 87748\n",
      "  8 29.3M    8 2549k    0     0   100k      0  0:04:58  0:00:25  0:04:33 83060\n",
      "  8 29.3M    8 2600k    0     0    98k      0  0:05:04  0:00:26  0:04:38 80137\n",
      "  8 29.3M    8 2634k    0     0  98743      0  0:05:11  0:00:27  0:04:44 72793\n",
      "  9 29.3M    9 2719k    0     0  98472      0  0:05:12  0:00:28  0:04:44 69451\n",
      "  9 29.3M    9 2753k    0     0  96361      0  0:05:19  0:00:29  0:04:50 61627\n",
      "  9 29.3M    9 2838k    0     0  95822      0  0:05:21  0:00:30  0:04:51 59104\n",
      "  9 29.3M    9 2906k    0     0  94962      0  0:05:24  0:00:31  0:04:53 62183\n",
      "  9 29.3M    9 2991k    0     0  94752      0  0:05:25  0:00:32  0:04:53 72996\n",
      " 10 29.3M   10 3075k    0     0  94464      0  0:05:26  0:00:33  0:04:53 72072\n",
      " 10 29.3M   10 3160k    0     0  94388      0  0:05:26  0:00:34  0:04:52 82922\n",
      " 10 29.3M   10 3263k    0     0  94761      0  0:05:24  0:00:35  0:04:49 88240\n",
      " 11 29.3M   11 3348k    0     0  93947      0  0:05:27  0:00:36  0:04:51 87799\n",
      " 11 29.3M   11 3416k    0     0  93014      0  0:05:31  0:00:37  0:04:54 82377\n",
      " 11 29.3M   11 3501k    0     0  92543      0  0:05:32  0:00:38  0:04:54 80707\n",
      " 11 29.3M   11 3569k    0     0  92982      0  0:05:31  0:00:39  0:04:52 83396\n",
      " 12 29.3M   12 3671k    0     0  93268      0  0:05:30  0:00:40  0:04:50 82829\n",
      " 12 29.3M   12 3756k    0     0  92965      0  0:05:31  0:00:41  0:04:50 85613\n",
      " 12 29.3M   12 3841k    0     0  93033      0  0:05:31  0:00:42  0:04:49 93170\n",
      " 13 29.3M   13 3909k    0     0  92540      0  0:05:32  0:00:43  0:04:49 92493\n",
      " 13 29.3M   13 3960k    0     0  91334      0  0:05:37  0:00:44  0:04:53 78614\n",
      " 13 29.3M   13 3994k    0     0  89885      0  0:05:42  0:00:45  0:04:57 63655\n",
      " 13 29.3M   13 4028k    0     0  88571      0  0:05:47  0:00:46  0:05:01 53593\n",
      " 13 29.3M   13 4062k    0     0  87668      0  0:05:51  0:00:47  0:05:04 43789\n",
      " 13 29.3M   13 4112k    0     0  86539      0  0:05:55  0:00:48  0:05:07 38487\n",
      " 13 29.3M   13 4130k    0     0  85713      0  0:05:59  0:00:49  0:05:10 35217\n",
      " 13 29.3M   13 4164k    0     0  84641      0  0:06:03  0:00:50  0:05:13 35694\n",
      " 13 29.3M   13 4181k    0     0  83108      0  0:06:10  0:00:51  0:05:19 31663\n",
      " 14 29.3M   14 4215k    0     0  82098      0  0:06:15  0:00:52  0:05:23 30558\n",
      " 14 29.3M   14 4266k    0     0  81652      0  0:06:17  0:00:53  0:05:24 32548\n",
      " 14 29.3M   14 4283k    0     0  80653      0  0:06:21  0:00:54  0:05:27 31104\n",
      " 14 29.3M   14 4333k    0     0  80220      0  0:06:23  0:00:55  0:05:28 35074\n",
      " 14 29.3M   14 4368k    0     0  79380      0  0:06:27  0:00:56  0:05:31 39629\n",
      " 14 29.3M   14 4419k    0     0  78348      0  0:06:33  0:00:57  0:05:36 40304\n",
      " 14 29.3M   14 4453k    0     0  78163      0  0:06:33  0:00:58  0:05:35 39571\n",
      " 14 29.3M   14 4504k    0     0  77672      0  0:06:36  0:00:59  0:05:37 45251\n",
      " 15 29.3M   15 4554k    0     0  77395      0  0:06:37  0:01:00  0:05:37 45773\n",
      " 15 29.3M   15 4606k    0     0  76958      0  0:06:40  0:01:01  0:05:39 49334\n",
      " 15 29.3M   15 4657k    0     0  76597      0  0:06:42  0:01:02  0:05:40 54122\n",
      " 15 29.3M   15 4725k    0     0  76472      0  0:06:42  0:01:03  0:05:39 56473\n",
      " 16 29.3M   16 4861k    0     0  77358      0  0:06:38  0:01:04  0:05:34 73599\n",
      " 16 29.3M   16 5065k    0     0  79122      0  0:06:29  0:01:05  0:05:24 98784\n",
      " 17 29.3M   17 5167k    0     0  79758      0  0:06:26  0:01:06  0:05:20  111k\n",
      " 17 29.3M   17 5337k    0     0  81239      0  0:06:19  0:01:07  0:05:12  135k\n",
      " 18 29.3M   18 5541k    0     0  83119      0  0:06:10  0:01:08  0:05:02  163k\n",
      " 18 29.3M   18 5693k    0     0  83974      0  0:06:06  0:01:09  0:04:57  163k\n",
      " 19 29.3M   19 5847k    0     0  85221      0  0:06:01  0:01:10  0:04:51  166k\n",
      " 19 29.3M   19 5949k    0     0  85459      0  0:06:00  0:01:11  0:04:49  158k\n",
      " 20 29.3M   20 6051k    0     0  85736      0  0:05:59  0:01:12  0:04:47  142k\n",
      " 20 29.3M   20 6169k    0     0  86154      0  0:05:57  0:01:13  0:04:44  124k\n",
      " 20 29.3M   20 6254k    0     0  86234      0  0:05:57  0:01:14  0:04:43  115k\n",
      " 21 29.3M   21 6322k    0     0  85946      0  0:05:58  0:01:15  0:04:43 96031\n",
      " 21 29.3M   21 6425k    0     0  86246      0  0:05:57  0:01:16  0:04:41 97484\n",
      " 21 29.3M   21 6527k    0     0  86436      0  0:05:56  0:01:17  0:04:39 96443\n",
      " 21 29.3M   21 6612k    0     0  86503      0  0:05:56  0:01:18  0:04:38 91679\n",
      " 22 29.3M   22 6714k    0     0  86594      0  0:05:55  0:01:19  0:04:36 91820\n",
      " 22 29.3M   22 6799k    0     0  86402      0  0:05:56  0:01:20  0:04:36 92931\n",
      " 22 29.3M   22 6799k    0     0  85496      0  0:06:00  0:01:21  0:04:39 74378\n",
      " 22 29.3M   22 6867k    0     0  85465      0  0:06:00  0:01:22  0:04:38 70292\n",
      " 23 29.3M   23 6969k    0     0  85680      0  0:05:59  0:01:23  0:04:36 72836\n",
      " 23 29.3M   23 7071k    0     0  85755      0  0:05:59  0:01:24  0:04:35 72533\n",
      " 23 29.3M   23 7172k    0     0  86003      0  0:05:58  0:01:25  0:04:33 79308\n",
      " 24 29.3M   24 7275k    0     0  86344      0  0:05:56  0:01:26  0:04:30   98k\n",
      " 24 29.3M   24 7428k    0     0  87168      0  0:05:53  0:01:27  0:04:26  112k\n",
      " 25 29.3M   25 7649k    0     0  88737      0  0:05:47  0:01:28  0:04:19  136k\n",
      " 26 29.3M   26 7989k    0     0  91634      0  0:05:36  0:01:29  0:04:07  189k\n",
      " 28 29.3M   28 8516k    0     0  96619      0  0:05:18  0:01:30  0:03:48  276k\n",
      " 30 29.3M   30 9111k    0     0    99k      0  0:05:01  0:01:31  0:03:30  368k\n",
      " 32 29.3M   32 9638k    0     0   104k      0  0:04:47  0:01:32  0:03:15  442k\n",
      " 33 29.3M   33  9.9M    0     0   109k      0  0:04:35  0:01:33  0:03:02  504k\n",
      " 35 29.3M   35 10.4M    0     0   113k      0  0:04:24  0:01:34  0:02:50  545k\n",
      " 37 29.3M   37 11.0M    0     0   119k      0  0:04:12  0:01:35  0:02:37  564k\n",
      " 39 29.3M   39 11.5M    0     0   122k      0  0:04:05  0:01:36  0:02:29  525k\n",
      " 40 29.3M   40 11.8M    0     0   124k      0  0:04:01  0:01:37  0:02:24  484k\n",
      " 41 29.3M   41 12.2M    0     0   127k      0  0:03:56  0:01:38  0:02:18  461k\n",
      " 42 29.3M   42 12.4M    0     0   128k      0  0:03:54  0:01:39  0:02:15  400k\n",
      " 43 29.3M   43 12.7M    0     0   130k      0  0:03:51  0:01:40  0:02:11  338k\n",
      " 44 29.3M   44 13.0M    0     0   131k      0  0:03:48  0:01:41  0:02:07  317k\n",
      " 44 29.3M   44 13.2M    0     0   132k      0  0:03:47  0:01:42  0:02:05  284k\n",
      " 45 29.3M   45 13.4M    0     0   133k      0  0:03:45  0:01:43  0:02:02  262k\n",
      " 46 29.3M   46 13.7M    0     0   135k      0  0:03:42  0:01:44  0:01:58  275k\n",
      " 47 29.3M   47 14.0M    0     0   136k      0  0:03:40  0:01:45  0:01:55  262k\n",
      " 48 29.3M   48 14.2M    0     0   137k      0  0:03:38  0:01:46  0:01:52  253k\n",
      " 49 29.3M   49 14.5M    0     0   139k      0  0:03:36  0:01:47  0:01:49  280k\n",
      " 50 29.3M   50 14.8M    0     0   140k      0  0:03:34  0:01:48  0:01:46  282k\n",
      " 51 29.3M   51 15.1M    0     0   142k      0  0:03:31  0:01:49  0:01:42  286k\n",
      " 52 29.3M   52 15.4M    0     0   143k      0  0:03:29  0:01:50  0:01:39  302k\n",
      " 53 29.3M   53 15.8M    0     0   145k      0  0:03:26  0:01:51  0:01:35  318k\n",
      " 55 29.3M   55 16.1M    0     0   147k      0  0:03:23  0:01:52  0:01:31  331k\n",
      " 56 29.3M   56 16.6M    0     0   150k      0  0:03:20  0:01:53  0:01:27  363k\n",
      " 58 29.3M   58 17.1M    0     0   154k      0  0:03:15  0:01:54  0:01:21  413k\n",
      " 60 29.3M   60 17.8M    0     0   157k      0  0:03:10  0:01:55  0:01:15  434k\n",
      " 62 29.3M   62 18.2M    0     0   160k      0  0:03:06  0:01:56  0:01:10  499k\n",
      " 63 29.3M   63 18.5M    0     0   162k      0  0:03:05  0:01:57  0:01:08  493k\n",
      " 64 29.3M   64 18.8M    0     0   163k      0  0:03:04  0:01:58  0:01:06  458k\n",
      " 65 29.3M   65 19.1M    0     0   164k      0  0:03:03  0:01:59  0:01:04  394k\n",
      " 65 29.3M   65 19.3M    0     0   164k      0  0:03:02  0:02:00  0:01:02  341k\n",
      " 66 29.3M   66 19.5M    0     0   164k      0  0:03:02  0:02:01  0:01:01  256k\n",
      " 67 29.3M   67 19.7M    0     0   165k      0  0:03:02  0:02:02  0:01:00  228k\n",
      " 67 29.3M   67 19.8M    0     0   165k      0  0:03:02  0:02:03  0:00:59  203k\n",
      " 68 29.3M   68 19.9M    0     0   164k      0  0:03:02  0:02:04  0:00:58  175k\n",
      " 68 29.3M   68 20.0M    0     0   164k      0  0:03:03  0:02:05  0:00:58  152k\n",
      " 68 29.3M   68 20.1M    0     0   163k      0  0:03:04  0:02:06  0:00:58  129k\n",
      " 68 29.3M   68 20.2M    0     0   162k      0  0:03:04  0:02:07  0:00:57  105k\n",
      " 69 29.3M   69 20.3M    0     0   162k      0  0:03:05  0:02:08  0:00:57 92747\n",
      " 69 29.3M   69 20.4M    0     0   161k      0  0:03:05  0:02:09  0:00:56 94780\n",
      " 70 29.3M   70 20.5M    0     0   161k      0  0:03:06  0:02:10  0:00:56  102k\n",
      " 70 29.3M   70 20.7M    0     0   161k      0  0:03:06  0:02:11  0:00:55  112k\n",
      " 71 29.3M   71 20.8M    0     0   161k      0  0:03:06  0:02:12  0:00:54  129k\n",
      " 71 29.3M   71 21.0M    0     0   161k      0  0:03:06  0:02:13  0:00:53  141k\n",
      " 72 29.3M   72 21.1M    0     0   161k      0  0:03:06  0:02:14  0:00:52  149k\n",
      " 72 29.3M   72 21.3M    0     0   161k      0  0:03:06  0:02:15  0:00:51  152k\n",
      " 73 29.3M   73 21.4M    0     0   161k      0  0:03:06  0:02:16  0:00:50  156k\n",
      " 73 29.3M   73 21.6M    0     0   161k      0  0:03:06  0:02:17  0:00:49  160k\n",
      " 74 29.3M   74 21.8M    0     0   162k      0  0:03:05  0:02:18  0:00:47  180k\n",
      " 75 29.3M   75 22.1M    0     0   162k      0  0:03:04  0:02:19  0:00:45  199k\n",
      " 76 29.3M   76 22.4M    0     0   164k      0  0:03:03  0:02:20  0:00:43  236k\n",
      " 77 29.3M   77 22.7M    0     0   164k      0  0:03:02  0:02:21  0:00:41  260k\n",
      " 78 29.3M   78 22.9M    0     0   165k      0  0:03:02  0:02:22  0:00:40  267k\n",
      " 78 29.3M   78 23.1M    0     0   165k      0  0:03:01  0:02:23  0:00:38  261k\n",
      " 79 29.3M   79 23.3M    0     0   166k      0  0:03:01  0:02:24  0:00:37  256k\n",
      " 80 29.3M   80 23.6M    0     0   166k      0  0:03:00  0:02:25  0:00:35  236k\n",
      " 81 29.3M   81 23.9M    0     0   167k      0  0:02:59  0:02:26  0:00:33  241k\n",
      " 82 29.3M   82 24.1M    0     0   167k      0  0:02:59  0:02:27  0:00:32  237k\n",
      " 82 29.3M   82 24.3M    0     0   167k      0  0:02:59  0:02:28  0:00:31  229k\n",
      " 83 29.3M   83 24.5M    0     0   168k      0  0:02:58  0:02:29  0:00:29  231k\n",
      " 84 29.3M   84 24.8M    0     0   169k      0  0:02:57  0:02:30  0:00:27  244k\n",
      " 85 29.3M   85 25.1M    0     0   169k      0  0:02:57  0:02:31  0:00:26  235k\n",
      " 86 29.3M   86 25.3M    0     0   170k      0  0:02:56  0:02:32  0:00:24  252k\n",
      " 87 29.3M   87 25.6M    0     0   171k      0  0:02:55  0:02:33  0:00:22  276k\n",
      " 87 29.3M   87 25.8M    0     0   171k      0  0:02:55  0:02:34  0:00:21  256k\n",
      " 88 29.3M   88 26.0M    0     0   171k      0  0:02:54  0:02:35  0:00:19  254k\n",
      " 89 29.3M   89 26.2M    0     0   172k      0  0:02:54  0:02:36  0:00:18  250k\n",
      " 90 29.3M   90 26.4M    0     0   172k      0  0:02:54  0:02:37  0:00:17  233k\n",
      " 91 29.3M   91 26.7M    0     0   172k      0  0:02:54  0:02:38  0:00:16  215k\n",
      " 91 29.3M   91 26.8M    0     0   172k      0  0:02:54  0:02:39  0:00:15  223k\n",
      " 91 29.3M   91 26.9M    0     0   172k      0  0:02:54  0:02:40  0:00:14  189k\n",
      " 92 29.3M   92 27.1M    0     0   172k      0  0:02:54  0:02:41  0:00:13  169k\n",
      " 92 29.3M   92 27.2M    0     0   171k      0  0:02:54  0:02:42  0:00:12  153k\n",
      " 93 29.3M   93 27.3M    0     0   171k      0  0:02:55  0:02:43  0:00:12  137k\n",
      " 93 29.3M   93 27.5M    0     0   171k      0  0:02:55  0:02:44  0:00:11  135k\n",
      " 94 29.3M   94 27.6M    0     0   171k      0  0:02:55  0:02:45  0:00:10  142k\n",
      " 95 29.3M   95 27.9M    0     0   172k      0  0:02:54  0:02:46  0:00:08  170k\n",
      " 96 29.3M   96 28.2M    0     0   172k      0  0:02:53  0:02:47  0:00:06  204k\n",
      " 98 29.3M   98 28.7M    0     0   175k      0  0:02:51  0:02:48  0:00:03  287k\n",
      " 99 29.3M   99 29.2M    0     0   176k      0  0:02:49  0:02:49 --:--:--  355k\n",
      "100 29.3M  100 29.3M    0     0   177k      0  0:02:49  0:02:49 --:--:--  426k\n",
      "recipeitems-latest.json.gz: No such file or directory\n",
      "gzip: \n"
     ]
    }
   ],
   "source": [
    "!curl -O https://s3.amazonaws.com/openrecipes/20170107-061401-recipeitems.json.gz              #Downloaded the File"
   ]
  },
  {
   "cell_type": "code",
   "execution_count": 5,
   "metadata": {},
   "outputs": [],
   "source": [
    "!gunzip 20170107-061401-recipeitems.json.gz                                              # Unzipped and renamed Recipe"
   ]
  },
  {
   "cell_type": "markdown",
   "metadata": {},
   "source": [
    "### Now, let's explore!"
   ]
  },
  {
   "cell_type": "code",
   "execution_count": 9,
   "metadata": {},
   "outputs": [
    {
     "ename": "ValueError",
     "evalue": "Trailing data",
     "output_type": "error",
     "traceback": [
      "\u001b[1;31mValueError\u001b[0m\u001b[1;31m:\u001b[0m Trailing data\n"
     ]
    }
   ],
   "source": [
    "pd.read_json('Recipe.json')"
   ]
  },
  {
   "cell_type": "markdown",
   "metadata": {},
   "source": [
    "### Oops! We've got an Error!"
   ]
  },
  {
   "cell_type": "markdown",
   "metadata": {},
   "source": [
    "• The error came because we have json file consisting more than one `line` and each line is ending with `\\n` instead of `','`.<br>\n",
    "• To resolve that, we have the **Easy way** ( which has been added in the new Pandas `add lines=True parameter`.\n",
    "<br>\n",
    "• **Another way** is to add `','` manually at the end of each lines.\n",
    "\n",
    "More discussions at: [Stackoverflow](https://stackoverflow.com/questions/30088006/loading-a-file-with-more-than-one-line-of-json-into-pandas)"
   ]
  },
  {
   "cell_type": "markdown",
   "metadata": {},
   "source": [
    "#### Easy Way"
   ]
  },
  {
   "cell_type": "code",
   "execution_count": 11,
   "metadata": {
    "scrolled": true
   },
   "outputs": [
    {
     "data": {
      "text/html": [
       "<div>\n",
       "<style scoped>\n",
       "    .dataframe tbody tr th:only-of-type {\n",
       "        vertical-align: middle;\n",
       "    }\n",
       "\n",
       "    .dataframe tbody tr th {\n",
       "        vertical-align: top;\n",
       "    }\n",
       "\n",
       "    .dataframe thead th {\n",
       "        text-align: right;\n",
       "    }\n",
       "</style>\n",
       "<table border=\"1\" class=\"dataframe\">\n",
       "  <thead>\n",
       "    <tr style=\"text-align: right;\">\n",
       "      <th></th>\n",
       "      <th>_id</th>\n",
       "      <th>name</th>\n",
       "      <th>ingredients</th>\n",
       "      <th>url</th>\n",
       "      <th>image</th>\n",
       "      <th>ts</th>\n",
       "      <th>cookTime</th>\n",
       "      <th>source</th>\n",
       "      <th>recipeYield</th>\n",
       "      <th>datePublished</th>\n",
       "      <th>prepTime</th>\n",
       "      <th>description</th>\n",
       "      <th>totalTime</th>\n",
       "      <th>creator</th>\n",
       "      <th>recipeCategory</th>\n",
       "      <th>dateModified</th>\n",
       "      <th>recipeInstructions</th>\n",
       "    </tr>\n",
       "  </thead>\n",
       "  <tbody>\n",
       "    <tr>\n",
       "      <th>0</th>\n",
       "      <td>{'$oid': '5160756b96cc62079cc2db15'}</td>\n",
       "      <td>Drop Biscuits and Sausage Gravy</td>\n",
       "      <td>Biscuits\\n3 cups All-purpose Flour\\n2 Tablespo...</td>\n",
       "      <td>http://thepioneerwoman.com/cooking/2013/03/dro...</td>\n",
       "      <td>http://static.thepioneerwoman.com/cooking/file...</td>\n",
       "      <td>{'$date': 1365276011104}</td>\n",
       "      <td>PT30M</td>\n",
       "      <td>thepioneerwoman</td>\n",
       "      <td>12</td>\n",
       "      <td>2013-03-11</td>\n",
       "      <td>PT10M</td>\n",
       "      <td>Late Saturday afternoon, after Marlboro Man ha...</td>\n",
       "      <td>NaN</td>\n",
       "      <td>NaN</td>\n",
       "      <td>NaN</td>\n",
       "      <td>NaN</td>\n",
       "      <td>NaN</td>\n",
       "    </tr>\n",
       "    <tr>\n",
       "      <th>1</th>\n",
       "      <td>{'$oid': '5160756d96cc62079cc2db16'}</td>\n",
       "      <td>Hot Roast Beef Sandwiches</td>\n",
       "      <td>12 whole Dinner Rolls Or Small Sandwich Buns (...</td>\n",
       "      <td>http://thepioneerwoman.com/cooking/2013/03/hot...</td>\n",
       "      <td>http://static.thepioneerwoman.com/cooking/file...</td>\n",
       "      <td>{'$date': 1365276013902}</td>\n",
       "      <td>PT20M</td>\n",
       "      <td>thepioneerwoman</td>\n",
       "      <td>12</td>\n",
       "      <td>2013-03-13</td>\n",
       "      <td>PT20M</td>\n",
       "      <td>When I was growing up, I participated in my Ep...</td>\n",
       "      <td>NaN</td>\n",
       "      <td>NaN</td>\n",
       "      <td>NaN</td>\n",
       "      <td>NaN</td>\n",
       "      <td>NaN</td>\n",
       "    </tr>\n",
       "  </tbody>\n",
       "</table>\n",
       "</div>"
      ],
      "text/plain": [
       "                                    _id                             name  \\\n",
       "0  {'$oid': '5160756b96cc62079cc2db15'}  Drop Biscuits and Sausage Gravy   \n",
       "1  {'$oid': '5160756d96cc62079cc2db16'}        Hot Roast Beef Sandwiches   \n",
       "\n",
       "                                         ingredients  \\\n",
       "0  Biscuits\\n3 cups All-purpose Flour\\n2 Tablespo...   \n",
       "1  12 whole Dinner Rolls Or Small Sandwich Buns (...   \n",
       "\n",
       "                                                 url  \\\n",
       "0  http://thepioneerwoman.com/cooking/2013/03/dro...   \n",
       "1  http://thepioneerwoman.com/cooking/2013/03/hot...   \n",
       "\n",
       "                                               image  \\\n",
       "0  http://static.thepioneerwoman.com/cooking/file...   \n",
       "1  http://static.thepioneerwoman.com/cooking/file...   \n",
       "\n",
       "                         ts cookTime           source recipeYield  \\\n",
       "0  {'$date': 1365276011104}    PT30M  thepioneerwoman          12   \n",
       "1  {'$date': 1365276013902}    PT20M  thepioneerwoman          12   \n",
       "\n",
       "  datePublished prepTime                                        description  \\\n",
       "0    2013-03-11    PT10M  Late Saturday afternoon, after Marlboro Man ha...   \n",
       "1    2013-03-13    PT20M  When I was growing up, I participated in my Ep...   \n",
       "\n",
       "  totalTime creator recipeCategory dateModified recipeInstructions  \n",
       "0       NaN     NaN            NaN          NaN                NaN  \n",
       "1       NaN     NaN            NaN          NaN                NaN  "
      ]
     },
     "execution_count": 11,
     "metadata": {},
     "output_type": "execute_result"
    }
   ],
   "source": [
    "pd.read_json('Recipe.json', lines= True).head(2)"
   ]
  },
  {
   "cell_type": "markdown",
   "metadata": {},
   "source": [
    "### Another Way"
   ]
  },
  {
   "cell_type": "code",
   "execution_count": 70,
   "metadata": {},
   "outputs": [
    {
     "ename": "NameError",
     "evalue": "name 'null' is not defined",
     "output_type": "error",
     "traceback": [
      "\u001b[1;31mNameError\u001b[0m\u001b[1;31m:\u001b[0m name 'null' is not defined\n"
     ]
    }
   ],
   "source": [
    "with open('Recipe.json',  encoding=\"utf8\") as json:\n",
    "    data = (line.strip() for line in json)    #Makes a Generator so it doesn't occupy the space\n",
    "    data_json = []\n",
    "    for line in data:\n",
    "        data_json.append(eval(line))"
   ]
  },
  {
   "cell_type": "markdown",
   "metadata": {},
   "source": [
    "    Both ↑ and ↓ ways are good, but there is the 'null' values, which are becoming a bullshit."
   ]
  },
  {
   "cell_type": "code",
   "execution_count": 50,
   "metadata": {},
   "outputs": [
    {
     "ename": "NameError",
     "evalue": "name 'null' is not defined",
     "output_type": "error",
     "traceback": [
      "\u001b[1;31mNameError\u001b[0m\u001b[1;31m:\u001b[0m name 'null' is not defined\n"
     ]
    }
   ],
   "source": [
    "with open('Recipe.json',  encoding=\"utf8\") as f:\n",
    "    lines = f.readlines()\n",
    "    \n",
    "# Now we have [ '{}', '{}', ... '{}' ]\n",
    "lines = [eval(line) for line in lines]\n",
    "pd.DataFrame(lines)"
   ]
  },
  {
   "cell_type": "markdown",
   "metadata": {},
   "source": [
    "###  So, from the Book!"
   ]
  },
  {
   "cell_type": "code",
   "execution_count": 94,
   "metadata": {},
   "outputs": [
    {
     "data": {
      "text/plain": [
       "141105255"
      ]
     },
     "execution_count": 94,
     "metadata": {},
     "output_type": "execute_result"
    }
   ],
   "source": [
    "with open('Recipe.json', 'r', encoding= 'U8') as json:\n",
    "    data = (line.strip() for line in json)\n",
    "    data_json = \"{0}\".format(','.join(data)) # ',' join on Iterable! That is generator!\n",
    "    \n",
    "len(data_json)                                 # Total characters! As json file has to be in TOTAL STRING!"
   ]
  },
  {
   "cell_type": "code",
   "execution_count": 99,
   "metadata": {},
   "outputs": [
    {
     "ename": "ValueError",
     "evalue": "Protocol not known:  and do a little sexy twirl?  Such a flirty little thing!\\n\\n\\\"Asian Lettuce Wraps\\\" or \\\"Asian Lettuce Cups\\\" is the most requested recipe on my site....\" },{ \"_id\" : { \"$oid\" : \"5428a17596cc6211615607e2\" }, \"name\" : \"Baby Bok Choy with Ground Chicken Stir Fry\", \"ingredients\" : \"2 teaspoons cooking oil\\n1/2 pound ground chicken\\n1 stalk green onion, chopped\\n2 teaspoons grated fresh ginger\\n2 cloves garlic, finely minced\\n1 pound bok choy, cut in half lengthwise\\n1 tablespoon water\\n2 teaspoons soy sauce\\n1 teaspoon sesame oil\", \"url\" : \"http",
     "output_type": "error",
     "traceback": [
      "\u001b[1;31mValueError\u001b[0m\u001b[1;31m:\u001b[0m Protocol not known:  and do a little sexy twirl?  Such a flirty little thing!\\n\\n\\\"Asian Lettuce Wraps\\\" or \\\"Asian Lettuce Cups\\\" is the most requested recipe on my site....\" },{ \"_id\" : { \"$oid\" : \"5428a17596cc6211615607e2\" }, \"name\" : \"Baby Bok Choy with Ground Chicken Stir Fry\", \"ingredients\" : \"2 teaspoons cooking oil\\n1/2 pound ground chicken\\n1 stalk green onion, chopped\\n2 teaspoons grated fresh ginger\\n2 cloves garlic, finely minced\\n1 pound bok choy, cut in half lengthwise\\n1 tablespoon water\\n2 teaspoons soy sauce\\n1 teaspoon sesame oil\", \"url\" : \"http\n"
     ]
    }
   ],
   "source": [
    "pd.read_json(data_json)"
   ]
  },
  {
   "cell_type": "markdown",
   "metadata": {},
   "source": [
    "# So, yeah! That didn't work as well.\n",
    "In new pandas, they have changed the `read_json` functionality and that's why it gives an error. More: [Here](https://stackoverflow.com/questions/63553845/pandas-read-json-valueerror-protocol-not-known)\n",
    "\n",
    "**In short: We will use its built in `lines = True` just fine!**"
   ]
  },
  {
   "cell_type": "markdown",
   "metadata": {},
   "source": [
    "###  "
   ]
  },
  {
   "cell_type": "markdown",
   "metadata": {},
   "source": [
    "###  "
   ]
  },
  {
   "cell_type": "code",
   "execution_count": 2,
   "metadata": {},
   "outputs": [],
   "source": [
    "#Yes, that easy way...\n",
    "recipes = pd.read_json('Recipe.json', lines= True)"
   ]
  },
  {
   "cell_type": "code",
   "execution_count": 3,
   "metadata": {},
   "outputs": [
    {
     "data": {
      "text/plain": [
       "(173278, 17)"
      ]
     },
     "execution_count": 3,
     "metadata": {},
     "output_type": "execute_result"
    }
   ],
   "source": [
    "recipes.shape"
   ]
  },
  {
   "cell_type": "code",
   "execution_count": 5,
   "metadata": {},
   "outputs": [
    {
     "data": {
      "text/plain": [
       "_id                                {'$oid': '5160756d96cc62079cc2db16'}\n",
       "name                                          Hot Roast Beef Sandwiches\n",
       "ingredients           12 whole Dinner Rolls Or Small Sandwich Buns (...\n",
       "url                   http://thepioneerwoman.com/cooking/2013/03/hot...\n",
       "image                 http://static.thepioneerwoman.com/cooking/file...\n",
       "ts                                             {'$date': 1365276013902}\n",
       "cookTime                                                          PT20M\n",
       "source                                                  thepioneerwoman\n",
       "recipeYield                                                          12\n",
       "datePublished                                                2013-03-13\n",
       "prepTime                                                          PT20M\n",
       "description           When I was growing up, I participated in my Ep...\n",
       "totalTime                                                           NaN\n",
       "creator                                                             NaN\n",
       "recipeCategory                                                      NaN\n",
       "dateModified                                                        NaN\n",
       "recipeInstructions                                                  NaN\n",
       "Name: 1, dtype: object"
      ]
     },
     "execution_count": 5,
     "metadata": {},
     "output_type": "execute_result"
    }
   ],
   "source": [
    "recipes.iloc[1]"
   ]
  },
  {
   "cell_type": "markdown",
   "metadata": {},
   "source": [
    "### Good way... Remember it ↓"
   ]
  },
  {
   "cell_type": "code",
   "execution_count": 7,
   "metadata": {},
   "outputs": [
    {
     "data": {
      "text/plain": [
       "count    173278.000000\n",
       "mean        244.617926\n",
       "std         146.705285\n",
       "min           0.000000\n",
       "25%         147.000000\n",
       "50%         221.000000\n",
       "75%         314.000000\n",
       "max        9067.000000\n",
       "Name: ingredients, dtype: float64"
      ]
     },
     "execution_count": 7,
     "metadata": {},
     "output_type": "execute_result"
    }
   ],
   "source": [
    "recipes['ingredients'].str.len().describe()"
   ]
  },
  {
   "cell_type": "markdown",
   "metadata": {},
   "source": [
    "The maximumn number of Ingredients are 9067... let's find which one is that!"
   ]
  },
  {
   "cell_type": "code",
   "execution_count": 12,
   "metadata": {},
   "outputs": [
    {
     "data": {
      "text/plain": [
       "9067"
      ]
     },
     "execution_count": 12,
     "metadata": {},
     "output_type": "execute_result"
    }
   ],
   "source": [
    "np.max(recipes['ingredients'].str.len())"
   ]
  },
  {
   "cell_type": "code",
   "execution_count": 13,
   "metadata": {},
   "outputs": [
    {
     "data": {
      "text/plain": [
       "135598"
      ]
     },
     "execution_count": 13,
     "metadata": {},
     "output_type": "execute_result"
    }
   ],
   "source": [
    "np.argmax(recipes['ingredients'].str.len())"
   ]
  },
  {
   "cell_type": "markdown",
   "metadata": {},
   "source": [
    "#### <font face='nexa'> I LIKE THIS LINE!"
   ]
  },
  {
   "cell_type": "code",
   "execution_count": 10,
   "metadata": {},
   "outputs": [
    {
     "data": {
      "text/plain": [
       "'Carrot Pineapple Spice &amp; Brownie Layer Cake with Whipped Cream &amp; Cream Cheese Frosting and Marzipan Carrots'"
      ]
     },
     "execution_count": 10,
     "metadata": {},
     "output_type": "execute_result"
    }
   ],
   "source": [
    "recipes['name'][ np.argmax( recipes['ingredients'].str.len() ) ]"
   ]
  },
  {
   "cell_type": "markdown",
   "metadata": {},
   "source": [
    "# "
   ]
  },
  {
   "cell_type": "markdown",
   "metadata": {},
   "source": [
    "See which are *Breakfast* foods `str.contains`"
   ]
  },
  {
   "cell_type": "code",
   "execution_count": 17,
   "metadata": {},
   "outputs": [
    {
     "data": {
      "text/plain": [
       "3524"
      ]
     },
     "execution_count": 17,
     "metadata": {},
     "output_type": "execute_result"
    }
   ],
   "source": [
    "recipes['description'].str.contains(\"[Bb]reakfast\").sum()        # See the [Bb] here!!!!"
   ]
  },
  {
   "cell_type": "markdown",
   "metadata": {},
   "source": [
    "# "
   ]
  },
  {
   "cell_type": "markdown",
   "metadata": {},
   "source": [
    "# "
   ]
  },
  {
   "cell_type": "markdown",
   "metadata": {},
   "source": [
    "### <font face='nexa'> NOW LET'S HAVE `A little` HICCUP!\n",
    "Building a recomendation system!"
   ]
  },
  {
   "cell_type": "markdown",
   "metadata": {},
   "source": [
    "How it works?\n",
    "    \n",
    "    This is bases on the Ingredients that we put in, so if the recipe contains those,\n",
    "    it will give a reply!\n",
    "    \n",
    "    Simple!"
   ]
  },
  {
   "cell_type": "code",
   "execution_count": 110,
   "metadata": {},
   "outputs": [
    {
     "data": {
      "text/plain": [
       "34     1 medium sweet potato\\n½ medium onion\\n⅓ cup g...\n",
       "456    2 Marcona almonds\\n1 olive oil\\n1 smoked papri...\n",
       "334    4 large potatoes, preferably Maris Piper \\n, f...\n",
       "Name: ingredients, dtype: object"
      ]
     },
     "execution_count": 110,
     "metadata": {},
     "output_type": "execute_result"
    }
   ],
   "source": [
    "recipes.loc[[34,456,334], 'ingredients']"
   ]
  },
  {
   "cell_type": "code",
   "execution_count": 32,
   "metadata": {},
   "outputs": [],
   "source": [
    "tempDF = pd.DataFrame({'ings': recipes['ingredients'].str.split('\\n') })"
   ]
  },
  {
   "cell_type": "code",
   "execution_count": 35,
   "metadata": {},
   "outputs": [],
   "source": [
    "from collections import Counter"
   ]
  },
  {
   "cell_type": "code",
   "execution_count": 50,
   "metadata": {},
   "outputs": [],
   "source": [
    "temp = list(tempDF['ings'].iloc[0:10])"
   ]
  },
  {
   "cell_type": "code",
   "execution_count": 56,
   "metadata": {},
   "outputs": [],
   "source": [
    "final = []\n",
    "for i in temp:\n",
    "    for kaka in i:\n",
    "        for j in kaka.split():\n",
    "            final.append(j.strip())"
   ]
  },
  {
   "cell_type": "code",
   "execution_count": 58,
   "metadata": {},
   "outputs": [
    {
     "data": {
      "text/plain": [
       "Counter({'Biscuits': 2,\n",
       "         '3': 4,\n",
       "         'cups': 6,\n",
       "         'All-purpose': 3,\n",
       "         'Flour': 3,\n",
       "         '2': 13,\n",
       "         'Tablespoons': 6,\n",
       "         'Baking': 2,\n",
       "         'Powder': 2,\n",
       "         '1/2': 7,\n",
       "         'teaspoon': 11,\n",
       "         'Salt': 4,\n",
       "         '1-1/2': 2,\n",
       "         'stick': 2,\n",
       "         '(3/4': 2,\n",
       "         'Cup)': 2,\n",
       "         'Cold': 3,\n",
       "         'Butter,': 2,\n",
       "         'Cut': 2,\n",
       "         'Into': 2,\n",
       "         'Pieces': 2,\n",
       "         '1-1/4': 2,\n",
       "         'cup': 19,\n",
       "         'Butermilk': 1,\n",
       "         'SAUSAGE': 1,\n",
       "         'GRAVY': 1,\n",
       "         '1': 16,\n",
       "         'pound': 3,\n",
       "         'Breakfast': 1,\n",
       "         'Sausage,': 1,\n",
       "         'Hot': 2,\n",
       "         'Or': 4,\n",
       "         'Mild': 1,\n",
       "         '1/3': 4,\n",
       "         '4': 3,\n",
       "         'Whole': 2,\n",
       "         'Milk': 1,\n",
       "         'Seasoned': 1,\n",
       "         'teaspoons': 2,\n",
       "         'Black': 1,\n",
       "         'Pepper,': 3,\n",
       "         'More': 1,\n",
       "         'To': 2,\n",
       "         'Taste': 1,\n",
       "         '12': 1,\n",
       "         'whole': 5,\n",
       "         'Dinner': 1,\n",
       "         'Rolls': 1,\n",
       "         'Small': 3,\n",
       "         'Sandwich': 1,\n",
       "         'Buns': 1,\n",
       "         '(I': 1,\n",
       "         'Used': 1,\n",
       "         'Wheat)': 1,\n",
       "         'Thinly': 1,\n",
       "         'Shaved': 1,\n",
       "         'Roast': 1,\n",
       "         'Beef': 1,\n",
       "         'Ham': 1,\n",
       "         '(or': 5,\n",
       "         'Both!)': 1,\n",
       "         'Cheese': 1,\n",
       "         '(Provolone,': 1,\n",
       "         'Swiss,': 1,\n",
       "         'Mozzarella,': 1,\n",
       "         'Even': 1,\n",
       "         'Cheez': 1,\n",
       "         'Whiz!)': 1,\n",
       "         '1/4': 1,\n",
       "         'Mayonnaise': 1,\n",
       "         'Grated': 1,\n",
       "         'Onion': 3,\n",
       "         'Tbsp': 1,\n",
       "         'Dried': 2,\n",
       "         'Flakes))': 1,\n",
       "         'Tablespoon': 3,\n",
       "         'Poppy': 1,\n",
       "         'Seeds': 1,\n",
       "         'Spicy': 1,\n",
       "         'Mustard': 1,\n",
       "         'Horseradish': 2,\n",
       "         'Mayo': 1,\n",
       "         'Straight': 1,\n",
       "         'Prepared': 1,\n",
       "         'Dash': 1,\n",
       "         'Of': 3,\n",
       "         'Worcestershire': 1,\n",
       "         'Optional': 1,\n",
       "         'Dressing': 1,\n",
       "         'Ingredients:': 1,\n",
       "         'Sriracha,': 1,\n",
       "         'Sauce,': 1,\n",
       "         'Flakes': 1,\n",
       "         'Instead': 1,\n",
       "         'Fresh,': 1,\n",
       "         'Garlic': 1,\n",
       "         'Powder,': 1,\n",
       "         'Etc.)': 1,\n",
       "         'Dressing:': 1,\n",
       "         'tablespoon': 3,\n",
       "         'cumin': 1,\n",
       "         'seeds': 5,\n",
       "         '/': 3,\n",
       "         '80': 1,\n",
       "         'ml': 1,\n",
       "         'extra': 1,\n",
       "         'virgin': 1,\n",
       "         'olive': 1,\n",
       "         'oil': 2,\n",
       "         'tablespoons': 4,\n",
       "         'fresh': 6,\n",
       "         'lemon': 1,\n",
       "         'juice': 3,\n",
       "         'honey': 4,\n",
       "         'fine': 2,\n",
       "         'sea': 3,\n",
       "         'salt,': 2,\n",
       "         'plus': 1,\n",
       "         'more': 1,\n",
       "         'to': 3,\n",
       "         'taste': 3,\n",
       "         '1/8': 1,\n",
       "         'cayenne': 1,\n",
       "         'pepper': 1,\n",
       "         '10': 1,\n",
       "         'ounces': 2,\n",
       "         'carrots,': 1,\n",
       "         'shredded': 1,\n",
       "         'on': 2,\n",
       "         'a': 6,\n",
       "         'box': 1,\n",
       "         'grater': 1,\n",
       "         'or': 6,\n",
       "         'sliced': 1,\n",
       "         'whisper': 1,\n",
       "         'thin': 1,\n",
       "         'mandolin': 1,\n",
       "         'cooked': 1,\n",
       "         'chickpeas': 1,\n",
       "         'one': 1,\n",
       "         '15-': 1,\n",
       "         'ounce': 1,\n",
       "         'can,': 1,\n",
       "         'drained': 1,\n",
       "         'and': 2,\n",
       "         'rinsed)': 1,\n",
       "         '2/3': 1,\n",
       "         '100': 1,\n",
       "         'g': 2,\n",
       "         'dried': 2,\n",
       "         'pluots,': 1,\n",
       "         'plums,': 1,\n",
       "         'dates': 1,\n",
       "         'cut': 1,\n",
       "         'into': 1,\n",
       "         'chickpea-sized': 1,\n",
       "         'pieces': 1,\n",
       "         '30': 1,\n",
       "         'mint,': 1,\n",
       "         'torn': 1,\n",
       "         'For': 2,\n",
       "         'serving:': 1,\n",
       "         'lots': 1,\n",
       "         'of': 6,\n",
       "         'toasted': 3,\n",
       "         'almond': 1,\n",
       "         'slices,': 1,\n",
       "         'rose': 2,\n",
       "         'petals': 1,\n",
       "         '-': 1,\n",
       "         'all': 1,\n",
       "         'optional': 1,\n",
       "         '(but': 1,\n",
       "         'great': 1,\n",
       "         'additions!)': 1,\n",
       "         'Sugar': 4,\n",
       "         'Buttermilk': 1,\n",
       "         'Almond': 1,\n",
       "         'Extract': 1,\n",
       "         '(optional)': 1,\n",
       "         'Berries': 2,\n",
       "         'pints': 1,\n",
       "         'Mixed': 1,\n",
       "         'And/or': 1,\n",
       "         'Sliced': 1,\n",
       "         'Strawberries': 1,\n",
       "         'Zest': 1,\n",
       "         'And': 2,\n",
       "         'Juice': 1,\n",
       "         'Orange': 1,\n",
       "         'SWEET': 1,\n",
       "         'YOGURT': 1,\n",
       "         'CREAM': 1,\n",
       "         'package': 2,\n",
       "         '(7': 1,\n",
       "         'Ounces)': 2,\n",
       "         'Plain': 1,\n",
       "         'Greek': 2,\n",
       "         'Yogurt': 1,\n",
       "         'Heavy': 1,\n",
       "         'Cream': 1,\n",
       "         'Brown': 1,\n",
       "         'each': 1,\n",
       "         'bowl:': 1,\n",
       "         'big': 1,\n",
       "         'dollop': 1,\n",
       "         'yogurt': 1,\n",
       "         'pomegranate': 2,\n",
       "         'drizzle': 1,\n",
       "         'handful': 1,\n",
       "         'puffed': 1,\n",
       "         'quinoa': 1,\n",
       "         'crisps': 1,\n",
       "         'other': 1,\n",
       "         'cereal/granola)': 1,\n",
       "         'sprinkling': 1,\n",
       "         'sunflower': 2,\n",
       "         'optional:': 1,\n",
       "         'fresh/dried': 1,\n",
       "         'petals,': 1,\n",
       "         'bit': 1,\n",
       "         'bee': 1,\n",
       "         'pollen': 1,\n",
       "         'Butter': 1,\n",
       "         '(10': 1,\n",
       "         'Mini': 1,\n",
       "         'Marshmallows': 1,\n",
       "         '6': 2,\n",
       "         'Rice': 1,\n",
       "         'Krispies': 1,\n",
       "         'Assorted': 1,\n",
       "         'Sprinkles': 1,\n",
       "         'Chocolate': 1,\n",
       "         'Easter': 2,\n",
       "         'Eggs': 3,\n",
       "         'Plastic': 1,\n",
       "         '3-4': 1,\n",
       "         'handfuls': 1,\n",
       "         'spinach': 1,\n",
       "         '½': 5,\n",
       "         'kamut,': 1,\n",
       "         'uncooked': 1,\n",
       "         '¼': 2,\n",
       "         'feta': 1,\n",
       "         'squeezed': 1,\n",
       "         'orange': 1,\n",
       "         '(app.': 1,\n",
       "         'oranges)': 1,\n",
       "         'walnut': 2,\n",
       "         '¼-1/2': 1,\n",
       "         'red': 1,\n",
       "         'chili': 1,\n",
       "         'flakes': 1,\n",
       "         'Medium': 1,\n",
       "         'Russet': 1,\n",
       "         'Potatoes': 1,\n",
       "         '(6': 1,\n",
       "         '8)': 1,\n",
       "         '24': 1,\n",
       "         'Large': 1,\n",
       "         'Non-stick': 1,\n",
       "         'Cooking': 1,\n",
       "         'Spray': 1,\n",
       "         'thyme': 1,\n",
       "         'leaves,': 1,\n",
       "         'stripped': 1,\n",
       "         'from': 1,\n",
       "         'stems': 1,\n",
       "         'equivalent': 1,\n",
       "         'dried)': 1,\n",
       "         'ground': 1,\n",
       "         'sumac*': 1,\n",
       "         'scant': 1,\n",
       "         'sesame': 1,\n",
       "         '1½': 2,\n",
       "         'wheat': 1,\n",
       "         'pastry': 1,\n",
       "         'flour': 1,\n",
       "         '1¾': 1,\n",
       "         'roasted': 1,\n",
       "         'unsalted': 1,\n",
       "         'shelled': 1,\n",
       "         'pistachios': 1,\n",
       "         'baking': 2,\n",
       "         'powder': 1,\n",
       "         'soda': 1,\n",
       "         'salt': 1,\n",
       "         '¾': 1,\n",
       "         'milk': 1,\n",
       "         'eggs': 1,\n",
       "         'coconut': 1,\n",
       "         'oil,': 2,\n",
       "         'melted': 1,\n",
       "         'butter': 1,\n",
       "         'chocolate': 1,\n",
       "         'chips': 1})"
      ]
     },
     "execution_count": 58,
     "metadata": {},
     "output_type": "execute_result"
    }
   ],
   "source": [
    "Counter(final)"
   ]
  },
  {
   "cell_type": "markdown",
   "metadata": {},
   "source": [
    "Here I tried to do like this, I mean to get the Ingredients, one by one and ↑ just 10 records! So, not feasible.\n",
    "Need Machine Learning for this...\n",
    "\n",
    "Following the book's way..."
   ]
  },
  {
   "cell_type": "code",
   "execution_count": 59,
   "metadata": {},
   "outputs": [],
   "source": [
    "ingredients = ['salt', 'pepper', 'papper', 'oregano', 'sage', 'rosemary', 'tarragon', 'paprika']"
   ]
  },
  {
   "cell_type": "code",
   "execution_count": 95,
   "metadata": {},
   "outputs": [],
   "source": [
    "availablein = dict( ((i, recipes['ingredients'].str.contains( i )) for i in ingredients))"
   ]
  },
  {
   "cell_type": "code",
   "execution_count": 96,
   "metadata": {},
   "outputs": [
    {
     "data": {
      "text/html": [
       "<div>\n",
       "<style scoped>\n",
       "    .dataframe tbody tr th:only-of-type {\n",
       "        vertical-align: middle;\n",
       "    }\n",
       "\n",
       "    .dataframe tbody tr th {\n",
       "        vertical-align: top;\n",
       "    }\n",
       "\n",
       "    .dataframe thead th {\n",
       "        text-align: right;\n",
       "    }\n",
       "</style>\n",
       "<table border=\"1\" class=\"dataframe\">\n",
       "  <thead>\n",
       "    <tr style=\"text-align: right;\">\n",
       "      <th></th>\n",
       "      <th>salt</th>\n",
       "      <th>pepper</th>\n",
       "      <th>papper</th>\n",
       "      <th>oregano</th>\n",
       "      <th>sage</th>\n",
       "      <th>rosemary</th>\n",
       "      <th>tarragon</th>\n",
       "      <th>paprika</th>\n",
       "    </tr>\n",
       "  </thead>\n",
       "  <tbody>\n",
       "    <tr>\n",
       "      <th>0</th>\n",
       "      <td>False</td>\n",
       "      <td>False</td>\n",
       "      <td>False</td>\n",
       "      <td>False</td>\n",
       "      <td>True</td>\n",
       "      <td>False</td>\n",
       "      <td>False</td>\n",
       "      <td>False</td>\n",
       "    </tr>\n",
       "    <tr>\n",
       "      <th>1</th>\n",
       "      <td>False</td>\n",
       "      <td>False</td>\n",
       "      <td>False</td>\n",
       "      <td>False</td>\n",
       "      <td>False</td>\n",
       "      <td>False</td>\n",
       "      <td>False</td>\n",
       "      <td>False</td>\n",
       "    </tr>\n",
       "    <tr>\n",
       "      <th>2</th>\n",
       "      <td>True</td>\n",
       "      <td>True</td>\n",
       "      <td>False</td>\n",
       "      <td>False</td>\n",
       "      <td>False</td>\n",
       "      <td>False</td>\n",
       "      <td>False</td>\n",
       "      <td>False</td>\n",
       "    </tr>\n",
       "    <tr>\n",
       "      <th>3</th>\n",
       "      <td>False</td>\n",
       "      <td>False</td>\n",
       "      <td>False</td>\n",
       "      <td>False</td>\n",
       "      <td>False</td>\n",
       "      <td>False</td>\n",
       "      <td>False</td>\n",
       "      <td>False</td>\n",
       "    </tr>\n",
       "    <tr>\n",
       "      <th>4</th>\n",
       "      <td>False</td>\n",
       "      <td>False</td>\n",
       "      <td>False</td>\n",
       "      <td>False</td>\n",
       "      <td>False</td>\n",
       "      <td>False</td>\n",
       "      <td>False</td>\n",
       "      <td>False</td>\n",
       "    </tr>\n",
       "    <tr>\n",
       "      <th>...</th>\n",
       "      <td>...</td>\n",
       "      <td>...</td>\n",
       "      <td>...</td>\n",
       "      <td>...</td>\n",
       "      <td>...</td>\n",
       "      <td>...</td>\n",
       "      <td>...</td>\n",
       "      <td>...</td>\n",
       "    </tr>\n",
       "    <tr>\n",
       "      <th>173273</th>\n",
       "      <td>False</td>\n",
       "      <td>False</td>\n",
       "      <td>False</td>\n",
       "      <td>False</td>\n",
       "      <td>False</td>\n",
       "      <td>False</td>\n",
       "      <td>False</td>\n",
       "      <td>False</td>\n",
       "    </tr>\n",
       "    <tr>\n",
       "      <th>173274</th>\n",
       "      <td>False</td>\n",
       "      <td>False</td>\n",
       "      <td>False</td>\n",
       "      <td>False</td>\n",
       "      <td>False</td>\n",
       "      <td>False</td>\n",
       "      <td>False</td>\n",
       "      <td>False</td>\n",
       "    </tr>\n",
       "    <tr>\n",
       "      <th>173275</th>\n",
       "      <td>True</td>\n",
       "      <td>True</td>\n",
       "      <td>False</td>\n",
       "      <td>False</td>\n",
       "      <td>False</td>\n",
       "      <td>False</td>\n",
       "      <td>False</td>\n",
       "      <td>True</td>\n",
       "    </tr>\n",
       "    <tr>\n",
       "      <th>173276</th>\n",
       "      <td>True</td>\n",
       "      <td>True</td>\n",
       "      <td>False</td>\n",
       "      <td>False</td>\n",
       "      <td>False</td>\n",
       "      <td>False</td>\n",
       "      <td>False</td>\n",
       "      <td>False</td>\n",
       "    </tr>\n",
       "    <tr>\n",
       "      <th>173277</th>\n",
       "      <td>True</td>\n",
       "      <td>False</td>\n",
       "      <td>False</td>\n",
       "      <td>False</td>\n",
       "      <td>False</td>\n",
       "      <td>False</td>\n",
       "      <td>False</td>\n",
       "      <td>False</td>\n",
       "    </tr>\n",
       "  </tbody>\n",
       "</table>\n",
       "<p>173278 rows × 8 columns</p>\n",
       "</div>"
      ],
      "text/plain": [
       "         salt  pepper  papper  oregano   sage  rosemary  tarragon  paprika\n",
       "0       False   False   False    False   True     False     False    False\n",
       "1       False   False   False    False  False     False     False    False\n",
       "2        True    True   False    False  False     False     False    False\n",
       "3       False   False   False    False  False     False     False    False\n",
       "4       False   False   False    False  False     False     False    False\n",
       "...       ...     ...     ...      ...    ...       ...       ...      ...\n",
       "173273  False   False   False    False  False     False     False    False\n",
       "173274  False   False   False    False  False     False     False    False\n",
       "173275   True    True   False    False  False     False     False     True\n",
       "173276   True    True   False    False  False     False     False    False\n",
       "173277   True   False   False    False  False     False     False    False\n",
       "\n",
       "[173278 rows x 8 columns]"
      ]
     },
     "execution_count": 96,
     "metadata": {},
     "output_type": "execute_result"
    }
   ],
   "source": [
    "availablein = pd.DataFrame(availablein)\n",
    "availablein"
   ]
  },
  {
   "cell_type": "code",
   "execution_count": 103,
   "metadata": {},
   "outputs": [
    {
     "data": {
      "text/plain": [
       "rosemary    3039\n",
       "paprika     3528\n",
       "oregano     3468\n",
       "dtype: int64"
      ]
     },
     "execution_count": 103,
     "metadata": {},
     "output_type": "execute_result"
    }
   ],
   "source": [
    "# Now, getting the requirements...\n",
    "availablein[['rosemary', 'paprika', 'oregano']].sum()"
   ]
  },
  {
   "cell_type": "markdown",
   "metadata": {},
   "source": [
    "No, that shows where the `rosemary, paprika, oreganor` are available! <br>\n",
    "We want only whose where these three are together!"
   ]
  },
  {
   "cell_type": "code",
   "execution_count": 106,
   "metadata": {},
   "outputs": [],
   "source": [
    "selection = availablein[ (availablein['rosemary']) & (availablein['paprika']) & (availablein['oregano'])]"
   ]
  },
  {
   "cell_type": "code",
   "execution_count": 107,
   "metadata": {},
   "outputs": [
    {
     "data": {
      "text/plain": [
       "17"
      ]
     },
     "execution_count": 107,
     "metadata": {},
     "output_type": "execute_result"
    }
   ],
   "source": [
    "len(selection)"
   ]
  },
  {
   "cell_type": "markdown",
   "metadata": {},
   "source": [
    "Getting their names..."
   ]
  },
  {
   "cell_type": "code",
   "execution_count": 114,
   "metadata": {},
   "outputs": [
    {
     "data": {
      "text/plain": [
       "66245                                    Emeril's Beef Stew\n",
       "69307                         Vegetarian Five Bean Soup Mix\n",
       "70209     Tapas feast: tortilla, glazed chorizo, mancheg...\n",
       "71443     Tapas feast: tortilla, glazed chorizo, mancheg...\n",
       "76489                                   Pasta alla Giovanni\n",
       "86870                                           Magic Sauce\n",
       "90652                    Balsamic Marinated Chicken Breasts\n",
       "92889         Book Club Herb Roasted Chicken and Vegetables\n",
       "95737                              Buttermilk Fried Chicken\n",
       "105548                         Garlic Herb Skillet Potatoes\n",
       "110866                                           Kas' Chili\n",
       "112590      Mama's Oh-So-Savory Lamb and Eggplant Casserole\n",
       "118282                      Peruvian Style Beer Can Chicken\n",
       "121140                           Red Pepper and Tomato Soup\n",
       "121811    Roasted Pork Chops with Tomatoes, Mushrooms, a...\n",
       "125461                                 Special Italian Meat\n",
       "150598                        Vegetarian Five Bean Soup Mix\n",
       "Name: name, dtype: object"
      ]
     },
     "execution_count": 114,
     "metadata": {},
     "output_type": "execute_result"
    }
   ],
   "source": [
    "recipes.name[ selection.index ]"
   ]
  },
  {
   "cell_type": "markdown",
   "metadata": {},
   "source": [
    "# "
   ]
  },
  {
   "cell_type": "markdown",
   "metadata": {},
   "source": [
    "# <font face='consolas' size=6> Yeah I know that this is not entierly done by me, I have referenced the book, but, Still I learnt a lot, and this is my first data cleaning task! \n",
    "  "
   ]
  }
 ],
 "metadata": {
  "kernelspec": {
   "display_name": "Python 3",
   "language": "python",
   "name": "python3"
  },
  "language_info": {
   "codemirror_mode": {
    "name": "ipython",
    "version": 3
   },
   "file_extension": ".py",
   "mimetype": "text/x-python",
   "name": "python",
   "nbconvert_exporter": "python",
   "pygments_lexer": "ipython3",
   "version": "3.8.5"
  }
 },
 "nbformat": 4,
 "nbformat_minor": 4
}
