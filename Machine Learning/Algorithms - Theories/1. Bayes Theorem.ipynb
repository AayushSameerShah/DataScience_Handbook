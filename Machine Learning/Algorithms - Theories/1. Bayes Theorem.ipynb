{
 "cells": [
  {
   "cell_type": "markdown",
   "metadata": {},
   "source": [
    "# First step in the mouth of ML.\n",
    "___\n",
    "\n",
    "<b> <font face='consolas' size=5> 'Bayes theorem' </font> </b>  "
   ]
  },
  {
   "cell_type": "markdown",
   "metadata": {},
   "source": [
    "Baysian theorem is the base of Naive bayes, which we will cover in the following section.  \n",
    "\n",
    "First see, what's what.  \n",
    "$$ P(A|B) = \\frac {P(B|A) • P(A)} {P(B)}$$"
   ]
  },
  {
   "cell_type": "markdown",
   "metadata": {},
   "source": [
    "This is what makes up the Bayes theorem. Bayes did nothing in it - he just used the `Conditional Probability` to makeup this one.  \n",
    "\n",
    "Conditional Prob:\n",
    "\n",
    "$$ P(A | B) = \\frac {P(A \\cap B)} {P(B)} $$\n",
    "\n",
    "And then there is the derivation of the formula comparing A|B and B|A then getting the Baysian formula as seen above."
   ]
  },
  {
   "cell_type": "markdown",
   "metadata": {},
   "source": [
    "Now, the thing is - how to interpret this? I mean most of the things are covered in the Book itself (I mean my notes) so I am not going to write them here and waste the time but time - to - time you should check out the videos I made for you.\n",
    "\n",
    "If they are cancelled out ot deleted: Here is a quick list:  \n",
    "* [Follows a simple introduction](https://medium.com/@mark.rethana/bayesian-statistics-and-naive-bayes-classifier-33b735ad7b16)\n",
    "* [A level up - but simple](https://medium.com/analytics-vidhya/everything-you-need-to-know-about-na%C3%AFve-bayes-9a97cff1cba3)\n",
    "* [Article with Baby hands](https://www.probabilisticworld.com/what-is-bayes-theorem/)\n",
    "* [Something on Baysian Networks](https://www.probabilisticworld.com/bayesian-belief-networks-part-1/)\n",
    "* [Follows the understanding of simple Bayes](https://www.probabilisticworld.com/anatomy-bayes-theorem/)\n",
    "* [Different approaches](https://www.probabilisticworld.com/frequentist-bayesian-approaches-inferential-statistics/)\n",
    "* [Other than Bayes](https://www.probabilisticworld.com/mean-variance-probability-distributions/#samples-vs-populations)"
   ]
  },
  {
   "cell_type": "markdown",
   "metadata": {},
   "source": [
    "### Naive Bayes"
   ]
  },
  {
   "cell_type": "markdown",
   "metadata": {},
   "source": [
    "Now here naive means assuming the features and their dependency.  \n",
    "\n",
    "**The problem**:  \n",
    "When there are multiple features, we need to think that how the features are related with each other because you see that this is NOT the ML task, where the model 'learns'. Rather it simply creates the table of probabilities of different features and based on that it predicts the new variable - remember, \"Based on the probability\".\n",
    "\n",
    "That's why it is called the 'Simplest' in the field.\n",
    "\n",
    "So, as it is not 'learning' the relationship between the features, we need to Tell them what is the relationship between them. Do there the word **naive** comes into play.\n",
    "\n",
    "So, there can be multiple assumptions to assume right?  \n",
    "The common ones are..."
   ]
  },
  {
   "cell_type": "code",
   "execution_count": 2,
   "metadata": {},
   "outputs": [],
   "source": [
    "import sklearn.naive_bayes"
   ]
  },
  {
   "cell_type": "code",
   "execution_count": 5,
   "metadata": {},
   "outputs": [
    {
     "data": {
      "text/plain": [
       "['BaseDiscreteNB',\n",
       " 'BaseNB',\n",
       " 'BernoulliNB',\n",
       " 'CategoricalNB',\n",
       " 'ComplementNB',\n",
       " 'GaussianNB',\n",
       " 'MultinomialNB']"
      ]
     },
     "execution_count": 5,
     "metadata": {},
     "output_type": "execute_result"
    }
   ],
   "source": [
    "[NB for NB in dir(sklearn.naive_bayes) if NB.endswith('NB') and not NB.startswith('_')]"
   ]
  },
  {
   "cell_type": "markdown",
   "metadata": {},
   "source": [
    "**Here we will care only about the most popular ones, Gaussian and Multinomial**"
   ]
  },
  {
   "cell_type": "markdown",
   "metadata": {},
   "source": [
    "# Gaussian NB"
   ]
  },
  {
   "cell_type": "markdown",
   "metadata": {},
   "source": [
    "> Here the assumption is that `The data from each label is drawn from a simple`**`Gaussian distribution`**"
   ]
  },
  {
   "cell_type": "markdown",
   "metadata": {},
   "source": [
    "The new thing introduced here is, how to make such Gaussian Distribution with Multiple categories.  \n",
    "I mean, yeah we can make the **normal distribution** but we also need to make the two different categories (can be more than one - will check them out)\n",
    "\n",
    "```python\n",
    "from sklearn.datasets import make_blobs\n",
    "```"
   ]
  },
  {
   "cell_type": "code",
   "execution_count": 7,
   "metadata": {},
   "outputs": [],
   "source": [
    "from sklearn.datasets import make_blobs"
   ]
  },
  {
   "cell_type": "code",
   "execution_count": 14,
   "metadata": {},
   "outputs": [],
   "source": [
    "X, y = make_blobs(n_samples= 100, n_features= 2)"
   ]
  },
  {
   "cell_type": "markdown",
   "metadata": {},
   "source": [
    "## "
   ]
  },
  {
   "cell_type": "code",
   "execution_count": 11,
   "metadata": {},
   "outputs": [],
   "source": [
    "import matplotlib.pyplot as plt"
   ]
  },
  {
   "cell_type": "code",
   "execution_count": 15,
   "metadata": {},
   "outputs": [
    {
     "data": {
      "text/plain": [
       "(100, 2)"
      ]
     },
     "execution_count": 15,
     "metadata": {},
     "output_type": "execute_result"
    }
   ],
   "source": [
    "X.shape"
   ]
  },
  {
   "cell_type": "code",
   "execution_count": 16,
   "metadata": {},
   "outputs": [
    {
     "data": {
      "text/plain": [
       "(100,)"
      ]
     },
     "execution_count": 16,
     "metadata": {},
     "output_type": "execute_result"
    }
   ],
   "source": [
    "y.shape"
   ]
  },
  {
   "cell_type": "code",
   "execution_count": 48,
   "metadata": {},
   "outputs": [
    {
     "data": {
      "text/plain": [
       "<matplotlib.collections.PathCollection at 0x2b49e1dd6d0>"
      ]
     },
     "execution_count": 48,
     "metadata": {},
     "output_type": "execute_result"
    },
    {
     "data": {
      "image/png": "[encoded data removed]",
      "text/plain": [
       "<Figure size 432x288 with 1 Axes>"
      ]
     },
     "metadata": {
      "needs_background": "light"
     },
     "output_type": "display_data"
    }
   ],
   "source": [
    "X, y = make_blobs(n_samples= 500, n_features= 2, cluster_std= 1.2)\n",
    "plt.scatter(X[:, 0], X[:, 1], c= y, s= 50, cmap= 'jet')"
   ]
  },
  {
   "cell_type": "code",
   "execution_count": 90,
   "metadata": {},
   "outputs": [],
   "source": [
    "from sklearn.naive_bayes import GaussianNB"
   ]
  },
  {
   "cell_type": "code",
   "execution_count": 92,
   "metadata": {},
   "outputs": [],
   "source": [
    "model = GaussianNB()"
   ]
  },
  {
   "cell_type": "code",
   "execution_count": 93,
   "metadata": {},
   "outputs": [
    {
     "data": {
      "text/plain": [
       "GaussianNB()"
      ]
     },
     "execution_count": 93,
     "metadata": {},
     "output_type": "execute_result"
    }
   ],
   "source": [
    "model.fit(X, y)"
   ]
  },
  {
   "cell_type": "code",
   "execution_count": 113,
   "metadata": {},
   "outputs": [],
   "source": [
    "Xnew = [-6, -14] + [14, 18] * np.random.rand(2000, 2)"
   ]
  },
  {
   "cell_type": "code",
   "execution_count": 114,
   "metadata": {},
   "outputs": [],
   "source": [
    "Ynew = model.predict(Xnew)"
   ]
  },
  {
   "cell_type": "code",
   "execution_count": 115,
   "metadata": {},
   "outputs": [
    {
     "data": {
      "image/png": "[encoded data removed]",
      "text/plain": [
       "<Figure size 432x288 with 1 Axes>"
      ]
     },
     "metadata": {
      "needs_background": "light"
     },
     "output_type": "display_data"
    }
   ],
   "source": [
    "plt.scatter(X[:, 0], X[:, 1], c= y, s= 50, cmap= 'jet')\n",
    "lim = plt.axis()\n",
    "plt.scatter(Xnew[:, 0], Xnew[:, 1], c= Ynew, s= 10, cmap= 'jet', alpha= 0.1)\n",
    "plt.axis(lim);"
   ]
  },
  {
   "cell_type": "markdown",
   "metadata": {},
   "source": [
    "## So cool! Isn't it?"
   ]
  },
  {
   "cell_type": "markdown",
   "metadata": {},
   "source": [
    "###  "
   ]
  },
  {
   "cell_type": "markdown",
   "metadata": {},
   "source": [
    "###  "
   ]
  },
  {
   "cell_type": "markdown",
   "metadata": {},
   "source": [
    "# Going inside - ML mouth\n",
    "'Multinomial NB'"
   ]
  },
  {
   "cell_type": "markdown",
   "metadata": {},
   "source": [
    "This naive bayes assumes that the features which are generated are from the 'Multinomial Distribution'.  \n",
    "\n",
    "It describes the number of probabilities based on the counts of that perticular category. The best application of such algorithm is Classifying text.\n",
    "\n",
    "**See** there is the theorem and the formulae for this, but while I am typing I don't have the ready / researched material to put it down. But when I get its understanding, I will explaing it in this notebook."
   ]
  },
  {
   "cell_type": "markdown",
   "metadata": {},
   "source": [
    "###  "
   ]
  },
  {
   "cell_type": "markdown",
   "metadata": {},
   "source": [
    "#### So basic intuition: Testing the mode - mood of the message. "
   ]
  },
  {
   "cell_type": "code",
   "execution_count": 1,
   "metadata": {},
   "outputs": [],
   "source": [
    "from sklearn.naive_bayes import MultinomialNB"
   ]
  },
  {
   "cell_type": "code",
   "execution_count": 2,
   "metadata": {},
   "outputs": [],
   "source": [
    "from sklearn.feature_extraction.text import TfidfVectorizer"
   ]
  },
  {
   "cell_type": "markdown",
   "metadata": {},
   "source": [
    "###  "
   ]
  },
  {
   "cell_type": "markdown",
   "metadata": {},
   "source": [
    "Getting the data..."
   ]
  },
  {
   "cell_type": "code",
   "execution_count": 3,
   "metadata": {},
   "outputs": [],
   "source": [
    "from sklearn.datasets import fetch_20newsgroups"
   ]
  },
  {
   "cell_type": "code",
   "execution_count": 4,
   "metadata": {},
   "outputs": [],
   "source": [
    "news = fetch_20newsgroups()"
   ]
  },
  {
   "cell_type": "code",
   "execution_count": 6,
   "metadata": {},
   "outputs": [
    {
     "data": {
      "text/plain": [
       "(11314,)"
      ]
     },
     "execution_count": 6,
     "metadata": {},
     "output_type": "execute_result"
    }
   ],
   "source": [
    "news.target.shape"
   ]
  },
  {
   "cell_type": "code",
   "execution_count": 9,
   "metadata": {},
   "outputs": [
    {
     "data": {
      "text/plain": [
       "11314"
      ]
     },
     "execution_count": 9,
     "metadata": {},
     "output_type": "execute_result"
    }
   ],
   "source": [
    "len(news.data)"
   ]
  },
  {
   "cell_type": "code",
   "execution_count": 13,
   "metadata": {},
   "outputs": [
    {
     "data": {
      "text/plain": [
       "['alt.atheism',\n",
       " 'comp.graphics',\n",
       " 'comp.os.ms-windows.misc',\n",
       " 'comp.sys.ibm.pc.hardware',\n",
       " 'comp.sys.mac.hardware',\n",
       " 'comp.windows.x',\n",
       " 'misc.forsale',\n",
       " 'rec.autos',\n",
       " 'rec.motorcycles',\n",
       " 'rec.sport.baseball',\n",
       " 'rec.sport.hockey',\n",
       " 'sci.crypt',\n",
       " 'sci.electronics',\n",
       " 'sci.med',\n",
       " 'sci.space',\n",
       " 'soc.religion.christian',\n",
       " 'talk.politics.guns',\n",
       " 'talk.politics.mideast',\n",
       " 'talk.politics.misc',\n",
       " 'talk.religion.misc']"
      ]
     },
     "execution_count": 13,
     "metadata": {},
     "output_type": "execute_result"
    }
   ],
   "source": [
    "news.target_names"
   ]
  },
  {
   "cell_type": "code",
   "execution_count": 19,
   "metadata": {},
   "outputs": [],
   "source": [
    "train = fetch_20newsgroups(subset= 'train', categories= ['comp.graphics', 'rec.motorcycles', 'sci.crypt', 'sci.electronics', 'sci.space', 'talk.politics.misc'])\n",
    "test = fetch_20newsgroups(subset= 'test', categories= ['comp.graphics', 'rec.motorcycles', 'sci.crypt', 'sci.electronics', 'sci.space', 'talk.politics.misc'])"
   ]
  },
  {
   "cell_type": "code",
   "execution_count": 20,
   "metadata": {},
   "outputs": [
    {
     "data": {
      "text/plain": [
       "3426"
      ]
     },
     "execution_count": 20,
     "metadata": {},
     "output_type": "execute_result"
    }
   ],
   "source": [
    "len(train.data)"
   ]
  },
  {
   "cell_type": "code",
   "execution_count": 21,
   "metadata": {},
   "outputs": [
    {
     "data": {
      "text/plain": [
       "2280"
      ]
     },
     "execution_count": 21,
     "metadata": {},
     "output_type": "execute_result"
    }
   ],
   "source": [
    "len(test.data)"
   ]
  },
  {
   "cell_type": "code",
   "execution_count": 36,
   "metadata": {},
   "outputs": [
    {
     "name": "stdout",
     "output_type": "stream",
     "text": [
      "From: cramer@optilink.COM (Clayton Cramer)\n",
      "Subject: Re: Lincoln & slavery (Re: Top Ten Tricks You Can Play on the American Voter)\n",
      "Article-I.D.: optilink.15229\n",
      "Organization: Optilink Corporation, Petaluma, CA\n",
      "Lines: 36\n",
      "\n",
      "In article <1993Apr3.185448.13811@isc-br.isc-br.com>, steveh@thor.isc-br.com (Steve Hendricks) writes:\n",
      "> In article <kmitchelC4wA87.HLz@netcom.com> kmitchel@netcom.com (Kenneth C. Mitchell) writes:\n",
      "# #Slavery makes economic sense (it NEVER makes MORAL sense) when human\n",
      "# #muscle power is an economically valuable asset. Agricultural slavery might\n",
      "# #have lasted right up to the first mechanical cotton reaper, but no\n",
      "# #further; reapers are cheaper than slaves, and don't have to be fed during\n",
      "# #the winter. \n",
      "# \n",
      "# This argument makes a several fundamental errors.  First \"agricultural\"\n",
      "# slavery was not limited to production of cotton.  In the American south\n",
      "# slave labor was used extensively to grow tobacco, sugar, and rice, all\n",
      "# of which remained labor intensive enterprises well into the 20th century.\n",
      "\n",
      "And of course, in states like Kentucky and Virginia, not well-suited to\n",
      "large-scale plantations, slave labor was used to make one of the most \n",
      "valuable agricultural products of all: more slaves.  In some ways, this\n",
      "treatment of humans beings as breeding livestock is the most horrifying\n",
      "aspect of American slavery.\n",
      "\n",
      "# Second, although mechanization of cotton production could be expected to\n",
      "# reduce the demands for labor eventually, it was only in the 1940's \n",
      "# the mechanization of cotton production in the South largely eliminated\n",
      "# the labor intensive character of the operation, long after the \"first\n",
      "# mechanical cotton reaper\" was invented.\n",
      "\n",
      "This is an interesting question.  Steinbeck's _Grapes of Wrath_\n",
      "(published in the 1930s), uses agricultural mechanization of cotton\n",
      "production in Arkansas as the cause of the Joad family being evicted\n",
      "from the land.  How many years were involved in the mechanization of\n",
      "cotton farming?  When did this first appear?\n",
      "\n",
      "# #Ken Mitchell       | The powers not delegated to the United States by the\n",
      "# Steve Hendricks                        |  DOMAIN:  steveh@thor.ISC-BR.COM   \n",
      "-- \n",
      "Clayton E. Cramer {uunet,pyramid}!optilink!cramer  My opinions, all mine!\n",
      "Relations between people to be by mutual consent, or not at all.\n",
      "\n"
     ]
    }
   ],
   "source": [
    "print(train.data[3])"
   ]
  },
  {
   "cell_type": "code",
   "execution_count": 35,
   "metadata": {},
   "outputs": [
    {
     "name": "stdout",
     "output_type": "stream",
     "text": [
      "sci.electronics\n"
     ]
    }
   ],
   "source": [
    "print(train.target_names[3])"
   ]
  },
  {
   "cell_type": "markdown",
   "metadata": {},
   "source": [
    "##  "
   ]
  },
  {
   "cell_type": "markdown",
   "metadata": {},
   "source": [
    "As we have the data, which is - well clear - we can now do the stuff!"
   ]
  },
  {
   "cell_type": "code",
   "execution_count": 53,
   "metadata": {},
   "outputs": [],
   "source": [
    "from sklearn.pipeline import make_pipeline"
   ]
  },
  {
   "cell_type": "code",
   "execution_count": 54,
   "metadata": {},
   "outputs": [],
   "source": [
    "model = make_pipeline(TfidfVectorizer(), MultinomialNB())"
   ]
  },
  {
   "cell_type": "code",
   "execution_count": 55,
   "metadata": {},
   "outputs": [
    {
     "data": {
      "text/plain": [
       "Pipeline(steps=[('tfidfvectorizer', TfidfVectorizer()),\n",
       "                ('multinomialnb', MultinomialNB())])"
      ]
     },
     "execution_count": 55,
     "metadata": {},
     "output_type": "execute_result"
    }
   ],
   "source": [
    "model.fit(train.data, train.target)"
   ]
  },
  {
   "cell_type": "code",
   "execution_count": 56,
   "metadata": {},
   "outputs": [],
   "source": [
    "predictions = model.predict(test.data)"
   ]
  },
  {
   "cell_type": "code",
   "execution_count": 59,
   "metadata": {},
   "outputs": [
    {
     "data": {
      "text/plain": [
       "1920"
      ]
     },
     "execution_count": 59,
     "metadata": {},
     "output_type": "execute_result"
    }
   ],
   "source": [
    "sum(predictions == test.target) #Got correct"
   ]
  },
  {
   "cell_type": "code",
   "execution_count": 60,
   "metadata": {},
   "outputs": [
    {
     "data": {
      "text/plain": [
       "2280"
      ]
     },
     "execution_count": 60,
     "metadata": {},
     "output_type": "execute_result"
    }
   ],
   "source": [
    "len(test.target)               #Out of these many"
   ]
  },
  {
   "cell_type": "code",
   "execution_count": 61,
   "metadata": {},
   "outputs": [
    {
     "data": {
      "text/plain": [
       "84.21052631578948"
      ]
     },
     "execution_count": 61,
     "metadata": {},
     "output_type": "execute_result"
    }
   ],
   "source": [
    "192000 / 2280"
   ]
  },
  {
   "cell_type": "markdown",
   "metadata": {},
   "source": [
    "### Let's visualize it"
   ]
  },
  {
   "cell_type": "code",
   "execution_count": 65,
   "metadata": {},
   "outputs": [],
   "source": [
    "from sklearn.metrics import confusion_matrix\n",
    "import seaborn as sns"
   ]
  },
  {
   "cell_type": "code",
   "execution_count": 64,
   "metadata": {},
   "outputs": [
    {
     "data": {
      "text/plain": [
       "array([[312,   0,   2,   7,   5,   1],\n",
       "       [  2, 387,   0,  10,   1,   6],\n",
       "       [ 56,   8, 391,  96,  17,  96],\n",
       "       [ 11,   0,   3, 269,   1,   0],\n",
       "       [  8,   3,   0,  11, 369,  15],\n",
       "       [  0,   0,   0,   0,   1, 192]], dtype=int64)"
      ]
     },
     "execution_count": 64,
     "metadata": {},
     "output_type": "execute_result"
    }
   ],
   "source": [
    "mat = confusion_matrix(predictions, test.target)\n",
    "mat"
   ]
  },
  {
   "cell_type": "code",
   "execution_count": 71,
   "metadata": {},
   "outputs": [
    {
     "data": {
      "image/png": "[encoded data removed]",
      "text/plain": [
       "<Figure size 432x288 with 1 Axes>"
      ]
     },
     "metadata": {
      "needs_background": "light"
     },
     "output_type": "display_data"
    }
   ],
   "source": [
    "sns.heatmap(mat.T, annot= True, square= True, fmt= 'd', cbar= False,\n",
    "            xticklabels= train.target_names, yticklabels= train.target_names);"
   ]
  },
  {
   "cell_type": "code",
   "execution_count": 113,
   "metadata": {},
   "outputs": [
    {
     "data": {
      "text/plain": [
       "'sci.space'"
      ]
     },
     "execution_count": 113,
     "metadata": {},
     "output_type": "execute_result"
    }
   ],
   "source": [
    "# Testing\n",
    "pred = model.predict(['military'])\n",
    "train.target_names[pred[0]]"
   ]
  },
  {
   "cell_type": "markdown",
   "metadata": {},
   "source": [
    "NO!"
   ]
  },
  {
   "cell_type": "markdown",
   "metadata": {},
   "source": [
    "<img src=\"Bayes Walkthrough.jpg\" width= 500 height= 1000>"
   ]
  },
  {
   "cell_type": "markdown",
   "metadata": {},
   "source": [
    "# Please attach the workaround of both of these theories images in this notebook.\n",
    "\n",
    "Tick Yes : <input type='checkbox'>"
   ]
  }
 ],
 "metadata": {
  "kernelspec": {
   "display_name": "Python 3",
   "language": "python",
   "name": "python3"
  },
  "language_info": {
   "codemirror_mode": {
    "name": "ipython",
    "version": 3
   },
   "file_extension": ".py",
   "mimetype": "text/x-python",
   "name": "python",
   "nbconvert_exporter": "python",
   "pygments_lexer": "ipython3",
   "version": "3.8.5"
  }
 },
 "nbformat": 4,
 "nbformat_minor": 4
}
