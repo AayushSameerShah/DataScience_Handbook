{
 "cells": [
  {
   "cell_type": "code",
   "execution_count": 178,
   "metadata": {},
   "outputs": [],
   "source": [
    "X = np.random.randint(1,10,(10,2))"
   ]
  },
  {
   "cell_type": "code",
   "execution_count": 179,
   "metadata": {},
   "outputs": [
    {
     "data": {
      "text/plain": [
       "array([[9, 3],\n",
       "       [7, 6],\n",
       "       [2, 1],\n",
       "       [7, 1],\n",
       "       [2, 4],\n",
       "       [3, 2],\n",
       "       [1, 3],\n",
       "       [5, 9],\n",
       "       [2, 4],\n",
       "       [5, 4]])"
      ]
     },
     "execution_count": 179,
     "metadata": {},
     "output_type": "execute_result"
    }
   ],
   "source": [
    "X"
   ]
  },
  {
   "cell_type": "code",
   "execution_count": 181,
   "metadata": {},
   "outputs": [
    {
     "data": {
      "text/plain": [
       "<matplotlib.collections.PathCollection at 0x5cb10544c0>"
      ]
     },
     "execution_count": 181,
     "metadata": {},
     "output_type": "execute_result"
    },
    {
     "data": {
      "image/png": "[encoded data removed]",
      "text/plain": [
       "<Figure size 432x288 with 1 Axes>"
      ]
     },
     "metadata": {
      "needs_background": "light"
     },
     "output_type": "display_data"
    }
   ],
   "source": [
    "plt.scatter(X[:,0], X[:,1])"
   ]
  },
  {
   "cell_type": "code",
   "execution_count": 184,
   "metadata": {},
   "outputs": [],
   "source": [
    "tenSet = X[:, np.newaxis, :]"
   ]
  },
  {
   "cell_type": "code",
   "execution_count": 185,
   "metadata": {},
   "outputs": [],
   "source": [
    "oneSet = X[np.newaxis, :, :]"
   ]
  },
  {
   "cell_type": "code",
   "execution_count": 191,
   "metadata": {},
   "outputs": [],
   "source": [
    "difference = tenSet - oneSet"
   ]
  },
  {
   "cell_type": "code",
   "execution_count": 192,
   "metadata": {},
   "outputs": [],
   "source": [
    "sq = difference ** 2"
   ]
  },
  {
   "cell_type": "code",
   "execution_count": 200,
   "metadata": {},
   "outputs": [
    {
     "data": {
      "text/plain": [
       "array([[ 0, 13, 53,  8, 50, 37, 64, 52, 50, 17],\n",
       "       [13,  0, 50, 25, 29, 32, 45, 13, 29,  8],\n",
       "       [53, 50,  0, 25,  9,  2,  5, 73,  9, 18],\n",
       "       [ 8, 25, 25,  0, 34, 17, 40, 68, 34, 13],\n",
       "       [50, 29,  9, 34,  0,  5,  2, 34,  0,  9],\n",
       "       [37, 32,  2, 17,  5,  0,  5, 53,  5,  8],\n",
       "       [64, 45,  5, 40,  2,  5,  0, 52,  2, 17],\n",
       "       [52, 13, 73, 68, 34, 53, 52,  0, 34, 25],\n",
       "       [50, 29,  9, 34,  0,  5,  2, 34,  0,  9],\n",
       "       [17,  8, 18, 13,  9,  8, 17, 25,  9,  0]], dtype=int32)"
      ]
     },
     "execution_count": 200,
     "metadata": {},
     "output_type": "execute_result"
    }
   ],
   "source": [
    "sq.sum(-1)"
   ]
  },
  {
   "cell_type": "code",
   "execution_count": 243,
   "metadata": {},
   "outputs": [
    {
     "ename": "ValueError",
     "evalue": "invalid literal for int() with base 10: 'age'",
     "output_type": "error",
     "traceback": [
      "\u001b[1;31m---------------------------------------------------------------------------\u001b[0m",
      "\u001b[1;31mValueError\u001b[0m                                Traceback (most recent call last)",
      "\u001b[1;32m<ipython-input-243-539f5ab52d9e>\u001b[0m in \u001b[0;36m<module>\u001b[1;34m\u001b[0m\n\u001b[0;32m      5\u001b[0m }\n\u001b[0;32m      6\u001b[0m \u001b[1;33m\u001b[0m\u001b[0m\n\u001b[1;32m----> 7\u001b[1;33m \u001b[0mhome_made_pandas\u001b[0m \u001b[1;33m=\u001b[0m \u001b[0mnp\u001b[0m\u001b[1;33m.\u001b[0m\u001b[0mzeros\u001b[0m\u001b[1;33m(\u001b[0m\u001b[1;36m4\u001b[0m\u001b[1;33m,\u001b[0m \u001b[0mdtype\u001b[0m \u001b[1;33m=\u001b[0m \u001b[0mdic\u001b[0m\u001b[1;33m)\u001b[0m\u001b[1;33m\u001b[0m\u001b[1;33m\u001b[0m\u001b[0m\n\u001b[0m",
      "\u001b[1;32m~\\anaconda3\\lib\\site-packages\\numpy\\core\\_internal.py\u001b[0m in \u001b[0;36m_usefields\u001b[1;34m(adict, align)\u001b[0m\n\u001b[0;32m     60\u001b[0m         \u001b[0mnames\u001b[0m \u001b[1;33m=\u001b[0m \u001b[1;32mNone\u001b[0m\u001b[1;33m\u001b[0m\u001b[1;33m\u001b[0m\u001b[0m\n\u001b[0;32m     61\u001b[0m     \u001b[1;32mif\u001b[0m \u001b[0mnames\u001b[0m \u001b[1;32mis\u001b[0m \u001b[1;32mNone\u001b[0m\u001b[1;33m:\u001b[0m\u001b[1;33m\u001b[0m\u001b[1;33m\u001b[0m\u001b[0m\n\u001b[1;32m---> 62\u001b[1;33m         \u001b[0mnames\u001b[0m\u001b[1;33m,\u001b[0m \u001b[0mformats\u001b[0m\u001b[1;33m,\u001b[0m \u001b[0moffsets\u001b[0m\u001b[1;33m,\u001b[0m \u001b[0mtitles\u001b[0m \u001b[1;33m=\u001b[0m \u001b[0m_makenames_list\u001b[0m\u001b[1;33m(\u001b[0m\u001b[0madict\u001b[0m\u001b[1;33m,\u001b[0m \u001b[0malign\u001b[0m\u001b[1;33m)\u001b[0m\u001b[1;33m\u001b[0m\u001b[1;33m\u001b[0m\u001b[0m\n\u001b[0m\u001b[0;32m     63\u001b[0m     \u001b[1;32melse\u001b[0m\u001b[1;33m:\u001b[0m\u001b[1;33m\u001b[0m\u001b[1;33m\u001b[0m\u001b[0m\n\u001b[0;32m     64\u001b[0m         \u001b[0mformats\u001b[0m \u001b[1;33m=\u001b[0m \u001b[1;33m[\u001b[0m\u001b[1;33m]\u001b[0m\u001b[1;33m\u001b[0m\u001b[1;33m\u001b[0m\u001b[0m\n",
      "\u001b[1;32m~\\anaconda3\\lib\\site-packages\\numpy\\core\\_internal.py\u001b[0m in \u001b[0;36m_makenames_list\u001b[1;34m(adict, align)\u001b[0m\n\u001b[0;32m     33\u001b[0m         \u001b[1;32mif\u001b[0m \u001b[1;33m(\u001b[0m\u001b[0mn\u001b[0m \u001b[1;33m>\u001b[0m \u001b[1;36m2\u001b[0m\u001b[1;33m)\u001b[0m \u001b[1;32mand\u001b[0m \u001b[1;33m(\u001b[0m\u001b[0mobj\u001b[0m\u001b[1;33m[\u001b[0m\u001b[1;36m2\u001b[0m\u001b[1;33m]\u001b[0m \u001b[1;33m==\u001b[0m \u001b[0mfname\u001b[0m\u001b[1;33m)\u001b[0m\u001b[1;33m:\u001b[0m\u001b[1;33m\u001b[0m\u001b[1;33m\u001b[0m\u001b[0m\n\u001b[0;32m     34\u001b[0m             \u001b[1;32mcontinue\u001b[0m\u001b[1;33m\u001b[0m\u001b[1;33m\u001b[0m\u001b[0m\n\u001b[1;32m---> 35\u001b[1;33m         \u001b[0mnum\u001b[0m \u001b[1;33m=\u001b[0m \u001b[0mint\u001b[0m\u001b[1;33m(\u001b[0m\u001b[0mobj\u001b[0m\u001b[1;33m[\u001b[0m\u001b[1;36m1\u001b[0m\u001b[1;33m]\u001b[0m\u001b[1;33m)\u001b[0m\u001b[1;33m\u001b[0m\u001b[1;33m\u001b[0m\u001b[0m\n\u001b[0m\u001b[0;32m     36\u001b[0m         \u001b[1;32mif\u001b[0m \u001b[1;33m(\u001b[0m\u001b[0mnum\u001b[0m \u001b[1;33m<\u001b[0m \u001b[1;36m0\u001b[0m\u001b[1;33m)\u001b[0m\u001b[1;33m:\u001b[0m\u001b[1;33m\u001b[0m\u001b[1;33m\u001b[0m\u001b[0m\n\u001b[0;32m     37\u001b[0m             \u001b[1;32mraise\u001b[0m \u001b[0mValueError\u001b[0m\u001b[1;33m(\u001b[0m\u001b[1;34m\"invalid offset.\"\u001b[0m\u001b[1;33m)\u001b[0m\u001b[1;33m\u001b[0m\u001b[1;33m\u001b[0m\u001b[0m\n",
      "\u001b[1;31mValueError\u001b[0m: invalid literal for int() with base 10: 'age'"
     ]
    }
   ],
   "source": [
    "dic=\\\n",
    "{\n",
    "    'names': ('name', 'age'),\n",
    "    'format': ('U10', 'I4')\n",
    "}\n",
    "\n",
    "home_made_pandas = np.zeros(4, dtype = dic)"
   ]
  },
  {
   "cell_type": "code",
   "execution_count": 228,
   "metadata": {},
   "outputs": [
    {
     "data": {
      "text/plain": [
       "8"
      ]
     },
     "execution_count": 228,
     "metadata": {},
     "output_type": "execute_result"
    }
   ],
   "source": [
    "home_made_pandas.itemsize"
   ]
  },
  {
   "cell_type": "code",
   "execution_count": 268,
   "metadata": {},
   "outputs": [],
   "source": [
    "a  =  np.array([[(1,'AAYUSH')],[(2,'SHAH')]])"
   ]
  },
  {
   "cell_type": "code",
   "execution_count": 270,
   "metadata": {},
   "outputs": [
    {
     "data": {
      "text/plain": [
       "array([[['1', 'AAYUSH']],\n",
       "\n",
       "       [['2', 'SHAH']]], dtype='<U11')"
      ]
     },
     "execution_count": 270,
     "metadata": {},
     "output_type": "execute_result"
    }
   ],
   "source": [
    "a"
   ]
  },
  {
   "cell_type": "code",
   "execution_count": 274,
   "metadata": {},
   "outputs": [],
   "source": [
    "dtype = [('name', 'U10'), ('age', 'i4'), ('weight', 'f8')]"
   ]
  },
  {
   "cell_type": "code",
   "execution_count": 276,
   "metadata": {},
   "outputs": [],
   "source": [
    "KAKA = np.zeros(4, dtype= dtype)"
   ]
  },
  {
   "cell_type": "code",
   "execution_count": 279,
   "metadata": {},
   "outputs": [],
   "source": [
    "KAKA['name'] = \"AAYUSH\""
   ]
  },
  {
   "cell_type": "code",
   "execution_count": 283,
   "metadata": {},
   "outputs": [],
   "source": [
    "KAKA['age'] = 12"
   ]
  },
  {
   "cell_type": "code",
   "execution_count": 285,
   "metadata": {},
   "outputs": [],
   "source": [
    "KAKA['weight'] = 13.4"
   ]
  },
  {
   "cell_type": "code",
   "execution_count": 286,
   "metadata": {},
   "outputs": [
    {
     "data": {
      "text/plain": [
       "array([('AAYUSH', 12, 13.4), ('AAYUSH', 12, 13.4), ('AAYUSH', 12, 13.4),\n",
       "       ('AAYUSH', 12, 13.4)],\n",
       "      dtype=[('name', '<U10'), ('age', '<i4'), ('weight', '<f8')])"
      ]
     },
     "execution_count": 286,
     "metadata": {},
     "output_type": "execute_result"
    }
   ],
   "source": [
    "KAKA"
   ]
  },
  {
   "cell_type": "code",
   "execution_count": 294,
   "metadata": {},
   "outputs": [],
   "source": [
    "name = ['KAKA']\n",
    "age = [1]\n",
    "weight = [22.3]"
   ]
  },
  {
   "cell_type": "code",
   "execution_count": 295,
   "metadata": {},
   "outputs": [],
   "source": [
    "KAKA['name'] = name\n",
    "KAKA['age'] = age\n",
    "KAKA['weight'] = weight"
   ]
  },
  {
   "cell_type": "code",
   "execution_count": 296,
   "metadata": {},
   "outputs": [
    {
     "data": {
      "text/plain": [
       "array([('KAKA', 1, 22.3), ('KAKA', 1, 22.3), ('KAKA', 1, 22.3),\n",
       "       ('KAKA', 1, 22.3)],\n",
       "      dtype=[('name', '<U10'), ('age', '<i4'), ('weight', '<f8')])"
      ]
     },
     "execution_count": 296,
     "metadata": {},
     "output_type": "execute_result"
    }
   ],
   "source": [
    "KAKA"
   ]
  },
  {
   "cell_type": "code",
   "execution_count": 334,
   "metadata": {},
   "outputs": [],
   "source": [
    "dt = [('id','i8'), ('mat','f8',((3),(10),(2)))]"
   ]
  },
  {
   "cell_type": "code",
   "execution_count": 335,
   "metadata": {},
   "outputs": [],
   "source": [
    "kaka = np.zeros(2,dtype=dt)"
   ]
  },
  {
   "cell_type": "code",
   "execution_count": 336,
   "metadata": {},
   "outputs": [
    {
     "data": {
      "text/plain": [
       "array([[[0., 0.],\n",
       "        [0., 0.],\n",
       "        [0., 0.],\n",
       "        [0., 0.],\n",
       "        [0., 0.],\n",
       "        [0., 0.],\n",
       "        [0., 0.],\n",
       "        [0., 0.],\n",
       "        [0., 0.],\n",
       "        [0., 0.]],\n",
       "\n",
       "       [[0., 0.],\n",
       "        [0., 0.],\n",
       "        [0., 0.],\n",
       "        [0., 0.],\n",
       "        [0., 0.],\n",
       "        [0., 0.],\n",
       "        [0., 0.],\n",
       "        [0., 0.],\n",
       "        [0., 0.],\n",
       "        [0., 0.]],\n",
       "\n",
       "       [[0., 0.],\n",
       "        [0., 0.],\n",
       "        [0., 0.],\n",
       "        [0., 0.],\n",
       "        [0., 0.],\n",
       "        [0., 0.],\n",
       "        [0., 0.],\n",
       "        [0., 0.],\n",
       "        [0., 0.],\n",
       "        [0., 0.]]])"
      ]
     },
     "execution_count": 336,
     "metadata": {},
     "output_type": "execute_result"
    }
   ],
   "source": [
    "kaka['mat'][0]"
   ]
  },
  {
   "cell_type": "code",
   "execution_count": 338,
   "metadata": {},
   "outputs": [],
   "source": [
    "import pandas as pd"
   ]
  },
  {
   "cell_type": "code",
   "execution_count": 400,
   "metadata": {},
   "outputs": [],
   "source": [
    "sr = pd.Series([12,34,56, [1.2]])"
   ]
  },
  {
   "cell_type": "code",
   "execution_count": 401,
   "metadata": {},
   "outputs": [
    {
     "data": {
      "text/plain": [
       "0       12\n",
       "1       34\n",
       "2       56\n",
       "3    [1.2]\n",
       "dtype: object"
      ]
     },
     "execution_count": 401,
     "metadata": {},
     "output_type": "execute_result"
    }
   ],
   "source": [
    "sr"
   ]
  },
  {
   "cell_type": "code",
   "execution_count": null,
   "metadata": {},
   "outputs": [],
   "source": []
  },
  {
   "cell_type": "code",
   "execution_count": 405,
   "metadata": {},
   "outputs": [],
   "source": [
    "dict_ = {\"aayush\":12,\"shah\":13,\"zebra\":12,\"kaka\":12,\"bhavya\":23,\"abc\":11}"
   ]
  },
  {
   "cell_type": "code",
   "execution_count": 412,
   "metadata": {},
   "outputs": [
    {
     "data": {
      "text/plain": [
       "['abc', 'aayush', 'zebra', 'kaka', 'shah', 'bhavya']"
      ]
     },
     "execution_count": 412,
     "metadata": {},
     "output_type": "execute_result"
    }
   ],
   "source": []
  },
  {
   "cell_type": "code",
   "execution_count": 433,
   "metadata": {},
   "outputs": [],
   "source": [
    "kaka = pd.Series([[1,2]]*200, index= range(200,400))"
   ]
  },
  {
   "cell_type": "code",
   "execution_count": 436,
   "metadata": {},
   "outputs": [],
   "source": [
    "kaka[200] = \"KAKA\""
   ]
  },
  {
   "cell_type": "code",
   "execution_count": null,
   "metadata": {},
   "outputs": [],
   "source": []
  },
  {
   "cell_type": "code",
   "execution_count": 438,
   "metadata": {},
   "outputs": [],
   "source": [
    "લંબાઈ = len"
   ]
  },
  {
   "cell_type": "code",
   "execution_count": 440,
   "metadata": {},
   "outputs": [
    {
     "data": {
      "text/plain": [
       "3"
      ]
     },
     "execution_count": 440,
     "metadata": {},
     "output_type": "execute_result"
    }
   ],
   "source": [
    "લંબાઈ([1,3,3])"
   ]
  },
  {
   "cell_type": "code",
   "execution_count": 443,
   "metadata": {},
   "outputs": [],
   "source": [
    "છાપોઆને = print"
   ]
  },
  {
   "cell_type": "code",
   "execution_count": 446,
   "metadata": {},
   "outputs": [
    {
     "name": "stdout",
     "output_type": "stream",
     "text": [
      "When Python is used in Gujarat...\n"
     ]
    }
   ],
   "source": [
    "છાપોઆને(\"When Python is used in Gujarat...\")"
   ]
  },
  {
   "cell_type": "code",
   "execution_count": 1,
   "metadata": {},
   "outputs": [],
   "source": [
    "import pandas as pd\n",
    "import numpy as np"
   ]
  },
  {
   "cell_type": "code",
   "execution_count": 135,
   "metadata": {},
   "outputs": [],
   "source": [
    "population = {\"Bhuj\":2_00_000, \"Ahmedabad\": 55_00_000, \"Mandvi\": 1_50_000}"
   ]
  },
  {
   "cell_type": "code",
   "execution_count": 136,
   "metadata": {},
   "outputs": [],
   "source": [
    "area = {\"Bhuj\":2_000, \"Ahmedabad\": 55_000, \"Mandv\": 15_000, \"Mandvi\": 15_000}"
   ]
  },
  {
   "cell_type": "code",
   "execution_count": 4,
   "metadata": {},
   "outputs": [],
   "source": [
    "DataFrame = pd.DataFrame"
   ]
  },
  {
   "cell_type": "code",
   "execution_count": 34,
   "metadata": {},
   "outputs": [],
   "source": [
    "pd.DataFrame?"
   ]
  },
  {
   "cell_type": "code",
   "execution_count": 5,
   "metadata": {},
   "outputs": [
    {
     "data": {
      "text/html": [
       "<div>\n",
       "<style scoped>\n",
       "    .dataframe tbody tr th:only-of-type {\n",
       "        vertical-align: middle;\n",
       "    }\n",
       "\n",
       "    .dataframe tbody tr th {\n",
       "        vertical-align: top;\n",
       "    }\n",
       "\n",
       "    .dataframe thead th {\n",
       "        text-align: right;\n",
       "    }\n",
       "</style>\n",
       "<table border=\"1\" class=\"dataframe\">\n",
       "  <thead>\n",
       "    <tr style=\"text-align: right;\">\n",
       "      <th></th>\n",
       "      <th>age</th>\n",
       "      <th>name</th>\n",
       "    </tr>\n",
       "  </thead>\n",
       "  <tbody>\n",
       "    <tr>\n",
       "      <th>1</th>\n",
       "      <td>12</td>\n",
       "      <td>122</td>\n",
       "    </tr>\n",
       "    <tr>\n",
       "      <th>2</th>\n",
       "      <td>12</td>\n",
       "      <td>122</td>\n",
       "    </tr>\n",
       "    <tr>\n",
       "      <th>3</th>\n",
       "      <td>12</td>\n",
       "      <td>122</td>\n",
       "    </tr>\n",
       "  </tbody>\n",
       "</table>\n",
       "</div>"
      ],
      "text/plain": [
       "   age  name\n",
       "1   12   122\n",
       "2   12   122\n",
       "3   12   122"
      ]
     },
     "execution_count": 5,
     "metadata": {},
     "output_type": "execute_result"
    }
   ],
   "source": [
    "pd.DataFrame({\"age\":12,\n",
    "             \"name\":122}, index= [1,2,3])"
   ]
  },
  {
   "cell_type": "code",
   "execution_count": 6,
   "metadata": {},
   "outputs": [],
   "source": [
    "DF = pd.DataFrame"
   ]
  },
  {
   "cell_type": "code",
   "execution_count": 42,
   "metadata": {},
   "outputs": [],
   "source": [
    "df = DF({\"Population\": population,\"Area\": area}, dtype=np.int8)"
   ]
  },
  {
   "cell_type": "code",
   "execution_count": 22,
   "metadata": {},
   "outputs": [
    {
     "data": {
      "text/plain": [
       "pandas.core.indexes.base.Index"
      ]
     },
     "execution_count": 22,
     "metadata": {},
     "output_type": "execute_result"
    }
   ],
   "source": [
    "type(df.index)"
   ]
  },
  {
   "cell_type": "code",
   "execution_count": 43,
   "metadata": {},
   "outputs": [
    {
     "data": {
      "text/plain": [
       "dtype('float64')"
      ]
     },
     "execution_count": 43,
     "metadata": {},
     "output_type": "execute_result"
    }
   ],
   "source": [
    "df.values.dtype"
   ]
  },
  {
   "cell_type": "code",
   "execution_count": 44,
   "metadata": {},
   "outputs": [
    {
     "data": {
      "text/html": [
       "<div>\n",
       "<style scoped>\n",
       "    .dataframe tbody tr th:only-of-type {\n",
       "        vertical-align: middle;\n",
       "    }\n",
       "\n",
       "    .dataframe tbody tr th {\n",
       "        vertical-align: top;\n",
       "    }\n",
       "\n",
       "    .dataframe thead th {\n",
       "        text-align: right;\n",
       "    }\n",
       "</style>\n",
       "<table border=\"1\" class=\"dataframe\">\n",
       "  <thead>\n",
       "    <tr style=\"text-align: right;\">\n",
       "      <th></th>\n",
       "      <th>Population</th>\n",
       "      <th>Area</th>\n",
       "    </tr>\n",
       "  </thead>\n",
       "  <tbody>\n",
       "    <tr>\n",
       "      <th>Bhuj</th>\n",
       "      <td>200000.0</td>\n",
       "      <td>-48</td>\n",
       "    </tr>\n",
       "    <tr>\n",
       "      <th>Ahmedabad</th>\n",
       "      <td>5500000.0</td>\n",
       "      <td>-40</td>\n",
       "    </tr>\n",
       "    <tr>\n",
       "      <th>Mandvi</th>\n",
       "      <td>150000.0</td>\n",
       "      <td>-104</td>\n",
       "    </tr>\n",
       "    <tr>\n",
       "      <th>Mandv</th>\n",
       "      <td>NaN</td>\n",
       "      <td>-104</td>\n",
       "    </tr>\n",
       "  </tbody>\n",
       "</table>\n",
       "</div>"
      ],
      "text/plain": [
       "           Population  Area\n",
       "Bhuj         200000.0   -48\n",
       "Ahmedabad   5500000.0   -40\n",
       "Mandvi       150000.0  -104\n",
       "Mandv             NaN  -104"
      ]
     },
     "execution_count": 44,
     "metadata": {},
     "output_type": "execute_result"
    }
   ],
   "source": [
    "df"
   ]
  },
  {
   "cell_type": "code",
   "execution_count": 65,
   "metadata": {},
   "outputs": [],
   "source": [
    "df.index = [[np.nan]*4]"
   ]
  },
  {
   "cell_type": "code",
   "execution_count": 67,
   "metadata": {},
   "outputs": [
    {
     "data": {
      "text/plain": [
       "{'Bhuj': 200000, 'Ahmedabad': 5500000, 'Mandvi': 150000}"
      ]
     },
     "execution_count": 67,
     "metadata": {},
     "output_type": "execute_result"
    }
   ],
   "source": [
    "population"
   ]
  },
  {
   "cell_type": "code",
   "execution_count": 106,
   "metadata": {},
   "outputs": [
    {
     "data": {
      "text/html": [
       "<div>\n",
       "<style scoped>\n",
       "    .dataframe tbody tr th:only-of-type {\n",
       "        vertical-align: middle;\n",
       "    }\n",
       "\n",
       "    .dataframe tbody tr th {\n",
       "        vertical-align: top;\n",
       "    }\n",
       "\n",
       "    .dataframe thead th {\n",
       "        text-align: right;\n",
       "    }\n",
       "</style>\n",
       "<table border=\"1\" class=\"dataframe\">\n",
       "  <thead>\n",
       "    <tr style=\"text-align: right;\">\n",
       "      <th></th>\n",
       "      <th>KAKA</th>\n",
       "      <th>KAKI</th>\n",
       "      <th>Bhuj</th>\n",
       "      <th>Ahmedabad</th>\n",
       "      <th>Mandvi</th>\n",
       "    </tr>\n",
       "  </thead>\n",
       "  <tbody>\n",
       "    <tr>\n",
       "      <th>0</th>\n",
       "      <td>{'ONE': 1, 'TWO': 2}</td>\n",
       "      <td>{'KA': 'KA'}</td>\n",
       "      <td>NaN</td>\n",
       "      <td>NaN</td>\n",
       "      <td>NaN</td>\n",
       "    </tr>\n",
       "    <tr>\n",
       "      <th>1</th>\n",
       "      <td>NaN</td>\n",
       "      <td>NaN</td>\n",
       "      <td>200000.0</td>\n",
       "      <td>5500000.0</td>\n",
       "      <td>150000.0</td>\n",
       "    </tr>\n",
       "  </tbody>\n",
       "</table>\n",
       "</div>"
      ],
      "text/plain": [
       "                   KAKA          KAKI      Bhuj  Ahmedabad    Mandvi\n",
       "0  {'ONE': 1, 'TWO': 2}  {'KA': 'KA'}       NaN        NaN       NaN\n",
       "1                   NaN           NaN  200000.0  5500000.0  150000.0"
      ]
     },
     "execution_count": 106,
     "metadata": {},
     "output_type": "execute_result"
    }
   ],
   "source": [
    "DF((pop,population))"
   ]
  },
  {
   "cell_type": "code",
   "execution_count": 105,
   "metadata": {},
   "outputs": [
    {
     "data": {
      "text/html": [
       "<div>\n",
       "<style scoped>\n",
       "    .dataframe tbody tr th:only-of-type {\n",
       "        vertical-align: middle;\n",
       "    }\n",
       "\n",
       "    .dataframe tbody tr th {\n",
       "        vertical-align: top;\n",
       "    }\n",
       "\n",
       "    .dataframe thead th {\n",
       "        text-align: right;\n",
       "    }\n",
       "</style>\n",
       "<table border=\"1\" class=\"dataframe\">\n",
       "  <thead>\n",
       "    <tr style=\"text-align: right;\">\n",
       "      <th></th>\n",
       "      <th>KAKA</th>\n",
       "      <th>KAKI</th>\n",
       "    </tr>\n",
       "  </thead>\n",
       "  <tbody>\n",
       "    <tr>\n",
       "      <th>ONE</th>\n",
       "      <td>1.0</td>\n",
       "      <td>NaN</td>\n",
       "    </tr>\n",
       "    <tr>\n",
       "      <th>TWO</th>\n",
       "      <td>2.0</td>\n",
       "      <td>NaN</td>\n",
       "    </tr>\n",
       "    <tr>\n",
       "      <th>KA</th>\n",
       "      <td>NaN</td>\n",
       "      <td>KA</td>\n",
       "    </tr>\n",
       "  </tbody>\n",
       "</table>\n",
       "</div>"
      ],
      "text/plain": [
       "     KAKA KAKI\n",
       "ONE   1.0  NaN\n",
       "TWO   2.0  NaN\n",
       "KA    NaN   KA"
      ]
     },
     "execution_count": 105,
     "metadata": {},
     "output_type": "execute_result"
    }
   ],
   "source": [
    "DF(pop)"
   ]
  },
  {
   "cell_type": "code",
   "execution_count": 93,
   "metadata": {},
   "outputs": [
    {
     "data": {
      "text/plain": [
       "{'Bhuj': 200000, 'Ahmedabad': 5500000, 'Mandvi': 150000}"
      ]
     },
     "execution_count": 93,
     "metadata": {},
     "output_type": "execute_result"
    }
   ],
   "source": [
    "population"
   ]
  },
  {
   "cell_type": "code",
   "execution_count": 94,
   "metadata": {},
   "outputs": [
    {
     "data": {
      "text/plain": [
       "{'Bhuj': 2000, 'Ahmedabad': 55000, 'Mandv': 15000, 'Mandvi': 15000}"
      ]
     },
     "execution_count": 94,
     "metadata": {},
     "output_type": "execute_result"
    }
   ],
   "source": [
    "area"
   ]
  },
  {
   "cell_type": "code",
   "execution_count": 109,
   "metadata": {},
   "outputs": [],
   "source": [
    "population = pd.Series(population)"
   ]
  },
  {
   "cell_type": "code",
   "execution_count": 134,
   "metadata": {},
   "outputs": [
    {
     "data": {
      "text/html": [
       "<div>\n",
       "<style scoped>\n",
       "    .dataframe tbody tr th:only-of-type {\n",
       "        vertical-align: middle;\n",
       "    }\n",
       "\n",
       "    .dataframe tbody tr th {\n",
       "        vertical-align: top;\n",
       "    }\n",
       "\n",
       "    .dataframe thead th {\n",
       "        text-align: right;\n",
       "    }\n",
       "</style>\n",
       "<table border=\"1\" class=\"dataframe\">\n",
       "  <thead>\n",
       "    <tr style=\"text-align: right;\">\n",
       "      <th></th>\n",
       "      <th>Bhuj</th>\n",
       "      <th>Ahmedabad</th>\n",
       "      <th>Mandv</th>\n",
       "      <th>Mandvi</th>\n",
       "    </tr>\n",
       "  </thead>\n",
       "  <tbody>\n",
       "    <tr>\n",
       "      <th>0</th>\n",
       "      <td>2000</td>\n",
       "      <td>55000</td>\n",
       "      <td>15000</td>\n",
       "      <td>15000</td>\n",
       "    </tr>\n",
       "  </tbody>\n",
       "</table>\n",
       "</div>"
      ],
      "text/plain": [
       "   Bhuj  Ahmedabad  Mandv  Mandvi\n",
       "0  2000      55000  15000   15000"
      ]
     },
     "execution_count": 134,
     "metadata": {},
     "output_type": "execute_result"
    }
   ],
   "source": [
    "DF((area,))"
   ]
  },
  {
   "cell_type": "code",
   "execution_count": 122,
   "metadata": {},
   "outputs": [],
   "source": [
    "kaka = [{'a':i,'b':i * 2} for i in range(1,4)]"
   ]
  },
  {
   "cell_type": "code",
   "execution_count": 123,
   "metadata": {},
   "outputs": [
    {
     "data": {
      "text/html": [
       "<div>\n",
       "<style scoped>\n",
       "    .dataframe tbody tr th:only-of-type {\n",
       "        vertical-align: middle;\n",
       "    }\n",
       "\n",
       "    .dataframe tbody tr th {\n",
       "        vertical-align: top;\n",
       "    }\n",
       "\n",
       "    .dataframe thead th {\n",
       "        text-align: right;\n",
       "    }\n",
       "</style>\n",
       "<table border=\"1\" class=\"dataframe\">\n",
       "  <thead>\n",
       "    <tr style=\"text-align: right;\">\n",
       "      <th></th>\n",
       "      <th>a</th>\n",
       "      <th>b</th>\n",
       "    </tr>\n",
       "  </thead>\n",
       "  <tbody>\n",
       "    <tr>\n",
       "      <th>0</th>\n",
       "      <td>1</td>\n",
       "      <td>2</td>\n",
       "    </tr>\n",
       "    <tr>\n",
       "      <th>1</th>\n",
       "      <td>2</td>\n",
       "      <td>4</td>\n",
       "    </tr>\n",
       "    <tr>\n",
       "      <th>2</th>\n",
       "      <td>3</td>\n",
       "      <td>6</td>\n",
       "    </tr>\n",
       "  </tbody>\n",
       "</table>\n",
       "</div>"
      ],
      "text/plain": [
       "   a  b\n",
       "0  1  2\n",
       "1  2  4\n",
       "2  3  6"
      ]
     },
     "execution_count": 123,
     "metadata": {},
     "output_type": "execute_result"
    }
   ],
   "source": [
    "DF(kaka)"
   ]
  },
  {
   "cell_type": "code",
   "execution_count": 124,
   "metadata": {},
   "outputs": [
    {
     "data": {
      "text/plain": [
       "{'Bhuj': 2000, 'Ahmedabad': 55000, 'Mandv': 15000, 'Mandvi': 15000}"
      ]
     },
     "execution_count": 124,
     "metadata": {},
     "output_type": "execute_result"
    }
   ],
   "source": [
    "area"
   ]
  },
  {
   "cell_type": "code",
   "execution_count": 128,
   "metadata": {},
   "outputs": [],
   "source": [
    "jain = {'Bhuj': 2000, 'Ahmedabad': 55000, 'Mehu':1212}"
   ]
  },
  {
   "cell_type": "code",
   "execution_count": 138,
   "metadata": {},
   "outputs": [
    {
     "data": {
      "text/html": [
       "<div>\n",
       "<style scoped>\n",
       "    .dataframe tbody tr th:only-of-type {\n",
       "        vertical-align: middle;\n",
       "    }\n",
       "\n",
       "    .dataframe tbody tr th {\n",
       "        vertical-align: top;\n",
       "    }\n",
       "\n",
       "    .dataframe thead th {\n",
       "        text-align: right;\n",
       "    }\n",
       "</style>\n",
       "<table border=\"1\" class=\"dataframe\">\n",
       "  <thead>\n",
       "    <tr style=\"text-align: right;\">\n",
       "      <th></th>\n",
       "      <th>Bhuj</th>\n",
       "      <th>Ahmedabad</th>\n",
       "      <th>Mandv</th>\n",
       "      <th>Mandvi</th>\n",
       "    </tr>\n",
       "  </thead>\n",
       "  <tbody>\n",
       "    <tr>\n",
       "      <th>0</th>\n",
       "      <td>2000.0</td>\n",
       "      <td>55000.0</td>\n",
       "      <td>15000.0</td>\n",
       "      <td>15000.0</td>\n",
       "    </tr>\n",
       "    <tr>\n",
       "      <th>1</th>\n",
       "      <td>200000.0</td>\n",
       "      <td>5500000.0</td>\n",
       "      <td>NaN</td>\n",
       "      <td>150000.0</td>\n",
       "    </tr>\n",
       "  </tbody>\n",
       "</table>\n",
       "</div>"
      ],
      "text/plain": [
       "       Bhuj  Ahmedabad    Mandv    Mandvi\n",
       "0    2000.0    55000.0  15000.0   15000.0\n",
       "1  200000.0  5500000.0      NaN  150000.0"
      ]
     },
     "execution_count": 138,
     "metadata": {},
     "output_type": "execute_result"
    }
   ],
   "source": [
    "DF([pd.Series(area),pd.Series(population)])"
   ]
  },
  {
   "cell_type": "code",
   "execution_count": 142,
   "metadata": {},
   "outputs": [
    {
     "data": {
      "text/html": [
       "<div>\n",
       "<style scoped>\n",
       "    .dataframe tbody tr th:only-of-type {\n",
       "        vertical-align: middle;\n",
       "    }\n",
       "\n",
       "    .dataframe tbody tr th {\n",
       "        vertical-align: top;\n",
       "    }\n",
       "\n",
       "    .dataframe thead th {\n",
       "        text-align: right;\n",
       "    }\n",
       "</style>\n",
       "<table border=\"1\" class=\"dataframe\">\n",
       "  <thead>\n",
       "    <tr style=\"text-align: right;\">\n",
       "      <th></th>\n",
       "      <th>Bhuj</th>\n",
       "      <th>Ahmedabad</th>\n",
       "      <th>Mandv</th>\n",
       "      <th>Mandvi</th>\n",
       "    </tr>\n",
       "  </thead>\n",
       "  <tbody>\n",
       "    <tr>\n",
       "      <th>0</th>\n",
       "      <td>2000</td>\n",
       "      <td>55000</td>\n",
       "      <td>15000.0</td>\n",
       "      <td>15000</td>\n",
       "    </tr>\n",
       "    <tr>\n",
       "      <th>1</th>\n",
       "      <td>200000</td>\n",
       "      <td>5500000</td>\n",
       "      <td>NaN</td>\n",
       "      <td>150000</td>\n",
       "    </tr>\n",
       "  </tbody>\n",
       "</table>\n",
       "</div>"
      ],
      "text/plain": [
       "     Bhuj  Ahmedabad    Mandv  Mandvi\n",
       "0    2000      55000  15000.0   15000\n",
       "1  200000    5500000      NaN  150000"
      ]
     },
     "execution_count": 142,
     "metadata": {},
     "output_type": "execute_result"
    }
   ],
   "source": [
    "DF((area,population))"
   ]
  },
  {
   "cell_type": "code",
   "execution_count": 159,
   "metadata": {},
   "outputs": [],
   "source": [
    "df = DF([pd.Series(area),pd.Series(population)], index=[33,44])"
   ]
  },
  {
   "cell_type": "code",
   "execution_count": 160,
   "metadata": {},
   "outputs": [],
   "source": [
    "df.columns = [1,2,3,4]"
   ]
  },
  {
   "cell_type": "code",
   "execution_count": 161,
   "metadata": {},
   "outputs": [
    {
     "data": {
      "text/html": [
       "<div>\n",
       "<style scoped>\n",
       "    .dataframe tbody tr th:only-of-type {\n",
       "        vertical-align: middle;\n",
       "    }\n",
       "\n",
       "    .dataframe tbody tr th {\n",
       "        vertical-align: top;\n",
       "    }\n",
       "\n",
       "    .dataframe thead th {\n",
       "        text-align: right;\n",
       "    }\n",
       "</style>\n",
       "<table border=\"1\" class=\"dataframe\">\n",
       "  <thead>\n",
       "    <tr style=\"text-align: right;\">\n",
       "      <th></th>\n",
       "      <th>1</th>\n",
       "      <th>2</th>\n",
       "      <th>3</th>\n",
       "      <th>4</th>\n",
       "    </tr>\n",
       "  </thead>\n",
       "  <tbody>\n",
       "    <tr>\n",
       "      <th>33</th>\n",
       "      <td>2000.0</td>\n",
       "      <td>55000.0</td>\n",
       "      <td>15000.0</td>\n",
       "      <td>15000.0</td>\n",
       "    </tr>\n",
       "    <tr>\n",
       "      <th>44</th>\n",
       "      <td>200000.0</td>\n",
       "      <td>5500000.0</td>\n",
       "      <td>NaN</td>\n",
       "      <td>150000.0</td>\n",
       "    </tr>\n",
       "  </tbody>\n",
       "</table>\n",
       "</div>"
      ],
      "text/plain": [
       "           1          2        3         4\n",
       "33    2000.0    55000.0  15000.0   15000.0\n",
       "44  200000.0  5500000.0      NaN  150000.0"
      ]
     },
     "execution_count": 161,
     "metadata": {},
     "output_type": "execute_result"
    }
   ],
   "source": [
    "df"
   ]
  },
  {
   "cell_type": "code",
   "execution_count": 174,
   "metadata": {},
   "outputs": [
    {
     "data": {
      "text/html": [
       "<div>\n",
       "<style scoped>\n",
       "    .dataframe tbody tr th:only-of-type {\n",
       "        vertical-align: middle;\n",
       "    }\n",
       "\n",
       "    .dataframe tbody tr th {\n",
       "        vertical-align: top;\n",
       "    }\n",
       "\n",
       "    .dataframe thead th {\n",
       "        text-align: right;\n",
       "    }\n",
       "</style>\n",
       "<table border=\"1\" class=\"dataframe\">\n",
       "  <thead>\n",
       "    <tr style=\"text-align: right;\">\n",
       "      <th></th>\n",
       "      <th>Bhuj</th>\n",
       "    </tr>\n",
       "  </thead>\n",
       "  <tbody>\n",
       "    <tr>\n",
       "      <th>0</th>\n",
       "      <td>2000</td>\n",
       "    </tr>\n",
       "    <tr>\n",
       "      <th>1</th>\n",
       "      <td>2000</td>\n",
       "    </tr>\n",
       "  </tbody>\n",
       "</table>\n",
       "</div>"
      ],
      "text/plain": [
       "   Bhuj\n",
       "0  2000\n",
       "1  2000"
      ]
     },
     "execution_count": 174,
     "metadata": {},
     "output_type": "execute_result"
    }
   ],
   "source": [
    "DF([area,area], columns=[\"Bhuj\"])"
   ]
  },
  {
   "cell_type": "code",
   "execution_count": 194,
   "metadata": {},
   "outputs": [
    {
     "data": {
      "text/html": [
       "<div>\n",
       "<style scoped>\n",
       "    .dataframe tbody tr th:only-of-type {\n",
       "        vertical-align: middle;\n",
       "    }\n",
       "\n",
       "    .dataframe tbody tr th {\n",
       "        vertical-align: top;\n",
       "    }\n",
       "\n",
       "    .dataframe thead th {\n",
       "        text-align: right;\n",
       "    }\n",
       "</style>\n",
       "<table border=\"1\" class=\"dataframe\">\n",
       "  <thead>\n",
       "    <tr style=\"text-align: right;\">\n",
       "      <th></th>\n",
       "      <th>κ</th>\n",
       "      <th>ǯ</th>\n",
       "      <th>\u0015</th>\n",
       "      <th>ͮ</th>\n",
       "      <th>ț</th>\n",
       "      <th>ʐ</th>\n",
       "      <th></th>\n",
       "      <th>ù</th>\n",
       "      <th>Ύ</th>\n",
       "      <th>͂</th>\n",
       "      <th>̌</th>\n",
       "      <th>¹</th>\n",
       "      <th>ϓ</th>\n",
       "      <th>˟</th>\n",
       "      <th>N</th>\n",
       "    </tr>\n",
       "  </thead>\n",
       "  <tbody>\n",
       "    <tr>\n",
       "      <th>0</th>\n",
       "      <td>6</td>\n",
       "      <td>8</td>\n",
       "      <td>6</td>\n",
       "      <td>8</td>\n",
       "      <td>8</td>\n",
       "      <td>7</td>\n",
       "      <td>3</td>\n",
       "      <td>9</td>\n",
       "      <td>8</td>\n",
       "      <td>6</td>\n",
       "      <td>1</td>\n",
       "      <td>8</td>\n",
       "      <td>6</td>\n",
       "      <td>4</td>\n",
       "      <td>6</td>\n",
       "    </tr>\n",
       "  </tbody>\n",
       "</table>\n",
       "</div>"
      ],
      "text/plain": [
       "   κ  ǯ  \u0015  ͮ  ț  ʐ  \n",
       "  ù  Ύ  ͂  ̌  ¹  ϓ  ˟  N\n",
       "0  6  8  6  8  8  7  3  9  8  6  1  8  6  4  6"
      ]
     },
     "execution_count": 194,
     "metadata": {},
     "output_type": "execute_result"
    }
   ],
   "source": [
    "row = 1\n",
    "col = 15\n",
    "DF(np.random.randint(1,10,(row,col)), columns=[chr(np.random.randint(1,1000)) for i in range(col)])"
   ]
  },
  {
   "cell_type": "code",
   "execution_count": 195,
   "metadata": {},
   "outputs": [],
   "source": [
    "df = DF(np.random.randint(1,100,10))"
   ]
  },
  {
   "cell_type": "code",
   "execution_count": 198,
   "metadata": {},
   "outputs": [
    {
     "data": {
      "text/plain": [
       "RangeIndex(start=0, stop=10, step=1)"
      ]
     },
     "execution_count": 198,
     "metadata": {},
     "output_type": "execute_result"
    }
   ],
   "source": [
    "df.index"
   ]
  },
  {
   "cell_type": "code",
   "execution_count": 199,
   "metadata": {},
   "outputs": [
    {
     "data": {
      "text/plain": [
       "pandas.core.indexes.range.RangeIndex"
      ]
     },
     "execution_count": 199,
     "metadata": {},
     "output_type": "execute_result"
    }
   ],
   "source": [
    "type(df.index)"
   ]
  },
  {
   "cell_type": "code",
   "execution_count": 202,
   "metadata": {},
   "outputs": [
    {
     "data": {
      "text/plain": [
       "pandas.core.indexes.numeric.Int64Index"
      ]
     },
     "execution_count": 202,
     "metadata": {},
     "output_type": "execute_result"
    }
   ],
   "source": [
    "type(pd.Index([2,3,4,5,6]))"
   ]
  },
  {
   "cell_type": "code",
   "execution_count": 3,
   "metadata": {},
   "outputs": [
    {
     "data": {
      "text/plain": [
       "'-0b1100'"
      ]
     },
     "execution_count": 3,
     "metadata": {},
     "output_type": "execute_result"
    }
   ],
   "source": [
    "bin(~11)"
   ]
  },
  {
   "cell_type": "code",
   "execution_count": 4,
   "metadata": {},
   "outputs": [
    {
     "data": {
      "text/plain": [
       "'0b1011'"
      ]
     },
     "execution_count": 4,
     "metadata": {},
     "output_type": "execute_result"
    }
   ],
   "source": [
    "bin(11)"
   ]
  },
  {
   "cell_type": "code",
   "execution_count": 11,
   "metadata": {},
   "outputs": [
    {
     "data": {
      "text/plain": [
       "0"
      ]
     },
     "execution_count": 11,
     "metadata": {},
     "output_type": "execute_result"
    }
   ],
   "source": [
    "34&78*2+45+(12^12)*(12&12)"
   ]
  },
  {
   "cell_type": "code",
   "execution_count": 5,
   "metadata": {},
   "outputs": [
    {
     "data": {
      "text/plain": [
       "12"
      ]
     },
     "execution_count": 5,
     "metadata": {},
     "output_type": "execute_result"
    }
   ],
   "source": [
    "(12&12)"
   ]
  },
  {
   "cell_type": "code",
   "execution_count": 6,
   "metadata": {},
   "outputs": [
    {
     "data": {
      "text/plain": [
       "0"
      ]
     },
     "execution_count": 6,
     "metadata": {},
     "output_type": "execute_result"
    }
   ],
   "source": [
    "(12^12)"
   ]
  },
  {
   "cell_type": "code",
   "execution_count": 7,
   "metadata": {},
   "outputs": [
    {
     "data": {
      "text/plain": [
       "0"
      ]
     },
     "execution_count": 7,
     "metadata": {},
     "output_type": "execute_result"
    }
   ],
   "source": [
    "0"
   ]
  },
  {
   "cell_type": "code",
   "execution_count": 8,
   "metadata": {},
   "outputs": [
    {
     "data": {
      "text/plain": [
       "156"
      ]
     },
     "execution_count": 8,
     "metadata": {},
     "output_type": "execute_result"
    }
   ],
   "source": [
    "78*2"
   ]
  },
  {
   "cell_type": "code",
   "execution_count": 9,
   "metadata": {},
   "outputs": [
    {
     "data": {
      "text/plain": [
       "201"
      ]
     },
     "execution_count": 9,
     "metadata": {},
     "output_type": "execute_result"
    }
   ],
   "source": [
    "156 + 45"
   ]
  },
  {
   "cell_type": "code",
   "execution_count": 10,
   "metadata": {},
   "outputs": [
    {
     "data": {
      "text/plain": [
       "0"
      ]
     },
     "execution_count": 10,
     "metadata": {},
     "output_type": "execute_result"
    }
   ],
   "source": [
    "201 & 34"
   ]
  },
  {
   "cell_type": "code",
   "execution_count": 19,
   "metadata": {},
   "outputs": [
    {
     "data": {
      "text/plain": [
       "30"
      ]
     },
     "execution_count": 19,
     "metadata": {},
     "output_type": "execute_result"
    }
   ],
   "source": [
    "4+(8**2//3)^23-18+(11&78+(~11))"
   ]
  },
  {
   "cell_type": "code",
   "execution_count": 12,
   "metadata": {},
   "outputs": [
    {
     "data": {
      "text/plain": [
       "21"
      ]
     },
     "execution_count": 12,
     "metadata": {},
     "output_type": "execute_result"
    }
   ],
   "source": [
    "(8**2//3)"
   ]
  },
  {
   "cell_type": "code",
   "execution_count": 15,
   "metadata": {},
   "outputs": [
    {
     "data": {
      "text/plain": [
       "2"
      ]
     },
     "execution_count": 15,
     "metadata": {},
     "output_type": "execute_result"
    }
   ],
   "source": [
    "(11&78+(~11))"
   ]
  },
  {
   "cell_type": "code",
   "execution_count": 16,
   "metadata": {},
   "outputs": [
    {
     "data": {
      "text/plain": [
       "5"
      ]
     },
     "execution_count": 16,
     "metadata": {},
     "output_type": "execute_result"
    }
   ],
   "source": [
    "23-18"
   ]
  },
  {
   "cell_type": "code",
   "execution_count": 17,
   "metadata": {},
   "outputs": [
    {
     "data": {
      "text/plain": [
       "25"
      ]
     },
     "execution_count": 17,
     "metadata": {},
     "output_type": "execute_result"
    }
   ],
   "source": [
    "21 + 4"
   ]
  },
  {
   "cell_type": "code",
   "execution_count": 18,
   "metadata": {},
   "outputs": [
    {
     "data": {
      "text/plain": [
       "30"
      ]
     },
     "execution_count": 18,
     "metadata": {},
     "output_type": "execute_result"
    }
   ],
   "source": [
    "25 ^ 7"
   ]
  },
  {
   "cell_type": "code",
   "execution_count": 20,
   "metadata": {},
   "outputs": [
    {
     "ename": "SyntaxError",
     "evalue": "invalid syntax (<ipython-input-20-efcfad9134ca>, line 3)",
     "output_type": "error",
     "traceback": [
      "\u001b[1;36m  File \u001b[1;32m\"<ipython-input-20-efcfad9134ca>\"\u001b[1;36m, line \u001b[1;32m3\u001b[0m\n\u001b[1;33m    a = y += 2\u001b[0m\n\u001b[1;37m          ^\u001b[0m\n\u001b[1;31mSyntaxError\u001b[0m\u001b[1;31m:\u001b[0m invalid syntax\n"
     ]
    }
   ],
   "source": [
    "a = 12\n",
    "y = 56\n",
    "a = y += 2"
   ]
  },
  {
   "cell_type": "code",
   "execution_count": 21,
   "metadata": {},
   "outputs": [
    {
     "data": {
      "text/plain": [
       "2"
      ]
     },
     "execution_count": 21,
     "metadata": {},
     "output_type": "execute_result"
    }
   ],
   "source": [
    "100 and 2"
   ]
  },
  {
   "cell_type": "code",
   "execution_count": 25,
   "metadata": {},
   "outputs": [
    {
     "data": {
      "text/plain": [
       "-4.5"
      ]
     },
     "execution_count": 25,
     "metadata": {},
     "output_type": "execute_result"
    }
   ],
   "source": [
    "-18 / 4"
   ]
  },
  {
   "cell_type": "code",
   "execution_count": 26,
   "metadata": {},
   "outputs": [
    {
     "name": "stdout",
     "output_type": "stream",
     "text": [
      "[10, 20, 30, 40]\n",
      "[10, 20, 30, 40]\n"
     ]
    }
   ],
   "source": [
    "a = [10, 20]\n",
    "b = a\n",
    "b += [30, 40]\n",
    "print(a)\n",
    "print(b)\n"
   ]
  },
  {
   "cell_type": "code",
   "execution_count": 27,
   "metadata": {},
   "outputs": [
    {
     "name": "stdout",
     "output_type": "stream",
     "text": [
      "False True True True\n"
     ]
    }
   ],
   "source": [
    "print(bool(0), bool(3.14159), bool(-3), bool(1.0+1j))"
   ]
  },
  {
   "cell_type": "code",
   "execution_count": 28,
   "metadata": {},
   "outputs": [
    {
     "data": {
      "text/plain": [
       "216"
      ]
     },
     "execution_count": 28,
     "metadata": {},
     "output_type": "execute_result"
    }
   ],
   "source": [
    "2 * 3 ** 3 * 4"
   ]
  },
  {
   "cell_type": "code",
   "execution_count": 29,
   "metadata": {},
   "outputs": [
    {
     "name": "stdout",
     "output_type": "stream",
     "text": [
      "-90\n",
      "-108\n",
      "-198\n",
      "-189\n",
      "-9\n"
     ]
    }
   ],
   "source": [
    "print(123 - 213)\n",
    "print(123 - 231)\n",
    "print(123 - 321)\n",
    "print(123 - 312)\n",
    "print(123 - 132)"
   ]
  },
  {
   "cell_type": "code",
   "execution_count": 43,
   "metadata": {},
   "outputs": [],
   "source": [
    "def combinations(num):\n",
    "    list_ = list(str(num))\n",
    "    for i in range(len(list_)):\n",
    "        for j in range(len(list_) - 1):\n",
    "            list_[j], list_[j+1] = list_[j+1],list_[j]\n",
    "            print(''.join(list_))"
   ]
  },
  {
   "cell_type": "code",
   "execution_count": 49,
   "metadata": {},
   "outputs": [
    {
     "name": "stdout",
     "output_type": "stream",
     "text": [
      "21\n",
      "12\n"
     ]
    }
   ],
   "source": [
    "combinations(12)"
   ]
  },
  {
   "cell_type": "code",
   "execution_count": 2,
   "metadata": {},
   "outputs": [],
   "source": [
    "def combinations(num):\n",
    "    list_ = list(str(num))\n",
    "    for i in range(len(list_)):\n",
    "        for j in range(len(list_) - 1):\n",
    "            list_[j], list_[j+1] = list_[j+1],list_[j]\n",
    "            print(''.join(list_))"
   ]
  },
  {
   "cell_type": "code",
   "execution_count": 5,
   "metadata": {},
   "outputs": [
    {
     "name": "stdout",
     "output_type": "stream",
     "text": [
      "2123\n",
      "2213\n",
      "2231\n",
      "2231\n",
      "2321\n",
      "2312\n",
      "3212\n",
      "3122\n",
      "3122\n",
      "1322\n",
      "1232\n",
      "1223\n"
     ]
    }
   ],
   "source": [
    "combinations(1223)"
   ]
  },
  {
   "cell_type": "code",
   "execution_count": 58,
   "metadata": {},
   "outputs": [],
   "source": [
    "def sumofdigits(num):\n",
    "    if num < 10:\n",
    "        return num\n",
    "    else:\n",
    "        return num % 10 + sumofdigits(num // 10)"
   ]
  },
  {
   "cell_type": "code",
   "execution_count": 60,
   "metadata": {},
   "outputs": [
    {
     "data": {
      "text/plain": [
       "6"
      ]
     },
     "execution_count": 60,
     "metadata": {},
     "output_type": "execute_result"
    }
   ],
   "source": [
    "sumofdigits(123)"
   ]
  },
  {
   "cell_type": "code",
   "execution_count": 61,
   "metadata": {},
   "outputs": [
    {
     "ename": "TypeError",
     "evalue": "unsupported operand type(s) for &: 'list' and 'list'",
     "output_type": "error",
     "traceback": [
      "\u001b[1;31m---------------------------------------------------------------------------\u001b[0m",
      "\u001b[1;31mTypeError\u001b[0m                                 Traceback (most recent call last)",
      "\u001b[1;32m<ipython-input-61-538ad6363265>\u001b[0m in \u001b[0;36m<module>\u001b[1;34m\u001b[0m\n\u001b[1;32m----> 1\u001b[1;33m \u001b[1;33m[\u001b[0m\u001b[1;36m1\u001b[0m\u001b[1;33m,\u001b[0m\u001b[1;36m2\u001b[0m\u001b[1;33m,\u001b[0m\u001b[1;36m3\u001b[0m\u001b[1;33m,\u001b[0m\u001b[1;36m4\u001b[0m\u001b[1;33m]\u001b[0m \u001b[1;33m&\u001b[0m \u001b[1;33m[\u001b[0m\u001b[1;36m2\u001b[0m\u001b[1;33m,\u001b[0m\u001b[1;36m3\u001b[0m\u001b[1;33m,\u001b[0m\u001b[1;36m4\u001b[0m\u001b[1;33m,\u001b[0m\u001b[1;36m5\u001b[0m\u001b[1;33m]\u001b[0m\u001b[1;33m\u001b[0m\u001b[1;33m\u001b[0m\u001b[0m\n\u001b[0m",
      "\u001b[1;31mTypeError\u001b[0m: unsupported operand type(s) for &: 'list' and 'list'"
     ]
    }
   ],
   "source": [
    "[1,2,3,4] & [2,3,4,5]"
   ]
  },
  {
   "cell_type": "code",
   "execution_count": 63,
   "metadata": {},
   "outputs": [
    {
     "data": {
      "text/plain": [
       "('', 'A', 'AYUSH')"
      ]
     },
     "execution_count": 63,
     "metadata": {},
     "output_type": "execute_result"
    }
   ],
   "source": [
    "\"AAYUSH\".partition('A')"
   ]
  },
  {
   "cell_type": "code",
   "execution_count": 65,
   "metadata": {},
   "outputs": [
    {
     "data": {
      "text/plain": [
       "('', 'A', 'AYUSH')"
      ]
     },
     "execution_count": 65,
     "metadata": {},
     "output_type": "execute_result"
    }
   ],
   "source": [
    "str.partition(\"AAYUSH\",\"A\")"
   ]
  },
  {
   "cell_type": "code",
   "execution_count": 67,
   "metadata": {},
   "outputs": [
    {
     "data": {
      "text/plain": [
       "['AAYUSH']"
      ]
     },
     "execution_count": 67,
     "metadata": {},
     "output_type": "execute_result"
    }
   ],
   "source": [
    "str.split(\"AAYUSH\")"
   ]
  },
  {
   "cell_type": "code",
   "execution_count": 68,
   "metadata": {},
   "outputs": [
    {
     "ename": "AttributeError",
     "evalue": "'NoneType' object has no attribute 'reverse'",
     "output_type": "error",
     "traceback": [
      "\u001b[1;31m---------------------------------------------------------------------------\u001b[0m",
      "\u001b[1;31mAttributeError\u001b[0m                            Traceback (most recent call last)",
      "\u001b[1;32m<ipython-input-68-c0b838841e10>\u001b[0m in \u001b[0;36m<module>\u001b[1;34m\u001b[0m\n\u001b[1;32m----> 1\u001b[1;33m \u001b[1;33m[\u001b[0m\u001b[1;36m1\u001b[0m\u001b[1;33m,\u001b[0m\u001b[1;36m2\u001b[0m\u001b[1;33m,\u001b[0m\u001b[1;36m3\u001b[0m\u001b[1;33m]\u001b[0m\u001b[1;33m.\u001b[0m\u001b[0msort\u001b[0m\u001b[1;33m(\u001b[0m\u001b[1;33m)\u001b[0m\u001b[1;33m.\u001b[0m\u001b[0mreverse\u001b[0m\u001b[1;33m(\u001b[0m\u001b[1;33m)\u001b[0m\u001b[1;33m\u001b[0m\u001b[1;33m\u001b[0m\u001b[0m\n\u001b[0m",
      "\u001b[1;31mAttributeError\u001b[0m: 'NoneType' object has no attribute 'reverse'"
     ]
    }
   ],
   "source": [
    "[1,2,3].sort().reverse()"
   ]
  },
  {
   "cell_type": "code",
   "execution_count": 69,
   "metadata": {},
   "outputs": [
    {
     "name": "stdout",
     "output_type": "stream",
     "text": [
      "None\n"
     ]
    }
   ],
   "source": [
    "print([1,2,3].append(2))"
   ]
  },
  {
   "cell_type": "code",
   "execution_count": 76,
   "metadata": {},
   "outputs": [],
   "source": [
    "l = [1,35,7,3,6,6,34,6,3,56,3,6,36,23]"
   ]
  },
  {
   "cell_type": "code",
   "execution_count": 77,
   "metadata": {},
   "outputs": [],
   "source": [
    "l = list(set(l))[-1]"
   ]
  },
  {
   "cell_type": "code",
   "execution_count": 78,
   "metadata": {},
   "outputs": [
    {
     "data": {
      "text/plain": [
       "56"
      ]
     },
     "execution_count": 78,
     "metadata": {},
     "output_type": "execute_result"
    }
   ],
   "source": [
    "l"
   ]
  },
  {
   "cell_type": "code",
   "execution_count": 81,
   "metadata": {},
   "outputs": [
    {
     "name": "stdout",
     "output_type": "stream",
     "text": [
      "None\n"
     ]
    }
   ],
   "source": [
    "l   =   {'key':'value'}\n",
    "print(l.update(key='value1'))\n"
   ]
  },
  {
   "cell_type": "code",
   "execution_count": 3,
   "metadata": {},
   "outputs": [],
   "source": [
    "import pandas as pd\n",
    "import numpy as np"
   ]
  },
  {
   "cell_type": "code",
   "execution_count": 4,
   "metadata": {},
   "outputs": [],
   "source": [
    "A = pd.Series([1,2,3], index=[1,2,3])\n",
    "B = pd.Series([4,5,6,7])"
   ]
  },
  {
   "cell_type": "code",
   "execution_count": 5,
   "metadata": {},
   "outputs": [],
   "source": [
    "df = pd.DataFrame(np.random.randint(0,10,(5,6)), index= list('abcde'), columns=list('QWERTU'))\n",
    "df2 = pd.DataFrame(np.random.randint(0,10,(5,5)), index= list('badec'), columns=list('RETWS'))"
   ]
  },
  {
   "cell_type": "code",
   "execution_count": 26,
   "metadata": {},
   "outputs": [
    {
     "data": {
      "text/html": [
       "<div>\n",
       "<style scoped>\n",
       "    .dataframe tbody tr th:only-of-type {\n",
       "        vertical-align: middle;\n",
       "    }\n",
       "\n",
       "    .dataframe tbody tr th {\n",
       "        vertical-align: top;\n",
       "    }\n",
       "\n",
       "    .dataframe thead th {\n",
       "        text-align: right;\n",
       "    }\n",
       "</style>\n",
       "<table border=\"1\" class=\"dataframe\">\n",
       "  <thead>\n",
       "    <tr style=\"text-align: right;\">\n",
       "      <th></th>\n",
       "      <th>Q</th>\n",
       "      <th>W</th>\n",
       "      <th>E</th>\n",
       "      <th>R</th>\n",
       "      <th>T</th>\n",
       "      <th>U</th>\n",
       "    </tr>\n",
       "  </thead>\n",
       "  <tbody>\n",
       "    <tr>\n",
       "      <th>a</th>\n",
       "      <td>3</td>\n",
       "      <td>8</td>\n",
       "      <td>5</td>\n",
       "      <td>1</td>\n",
       "      <td>5</td>\n",
       "      <td>5</td>\n",
       "    </tr>\n",
       "    <tr>\n",
       "      <th>b</th>\n",
       "      <td>6</td>\n",
       "      <td>1</td>\n",
       "      <td>7</td>\n",
       "      <td>2</td>\n",
       "      <td>7</td>\n",
       "      <td>0</td>\n",
       "    </tr>\n",
       "    <tr>\n",
       "      <th>c</th>\n",
       "      <td>4</td>\n",
       "      <td>2</td>\n",
       "      <td>8</td>\n",
       "      <td>2</td>\n",
       "      <td>8</td>\n",
       "      <td>7</td>\n",
       "    </tr>\n",
       "    <tr>\n",
       "      <th>d</th>\n",
       "      <td>5</td>\n",
       "      <td>2</td>\n",
       "      <td>3</td>\n",
       "      <td>4</td>\n",
       "      <td>7</td>\n",
       "      <td>7</td>\n",
       "    </tr>\n",
       "    <tr>\n",
       "      <th>e</th>\n",
       "      <td>3</td>\n",
       "      <td>2</td>\n",
       "      <td>0</td>\n",
       "      <td>5</td>\n",
       "      <td>7</td>\n",
       "      <td>1</td>\n",
       "    </tr>\n",
       "  </tbody>\n",
       "</table>\n",
       "</div>"
      ],
      "text/plain": [
       "   Q  W  E  R  T  U\n",
       "a  3  8  5  1  5  5\n",
       "b  6  1  7  2  7  0\n",
       "c  4  2  8  2  8  7\n",
       "d  5  2  3  4  7  7\n",
       "e  3  2  0  5  7  1"
      ]
     },
     "execution_count": 26,
     "metadata": {},
     "output_type": "execute_result"
    }
   ],
   "source": [
    "df"
   ]
  },
  {
   "cell_type": "code",
   "execution_count": 35,
   "metadata": {},
   "outputs": [
    {
     "data": {
      "text/html": [
       "<div>\n",
       "<style scoped>\n",
       "    .dataframe tbody tr th:only-of-type {\n",
       "        vertical-align: middle;\n",
       "    }\n",
       "\n",
       "    .dataframe tbody tr th {\n",
       "        vertical-align: top;\n",
       "    }\n",
       "\n",
       "    .dataframe thead th {\n",
       "        text-align: right;\n",
       "    }\n",
       "</style>\n",
       "<table border=\"1\" class=\"dataframe\">\n",
       "  <thead>\n",
       "    <tr style=\"text-align: right;\">\n",
       "      <th></th>\n",
       "      <th>R</th>\n",
       "      <th>E</th>\n",
       "      <th>T</th>\n",
       "      <th>W</th>\n",
       "      <th>S</th>\n",
       "    </tr>\n",
       "  </thead>\n",
       "  <tbody>\n",
       "    <tr>\n",
       "      <th>b</th>\n",
       "      <td>5</td>\n",
       "      <td>3</td>\n",
       "      <td>9</td>\n",
       "      <td>3</td>\n",
       "      <td>8</td>\n",
       "    </tr>\n",
       "    <tr>\n",
       "      <th>a</th>\n",
       "      <td>9</td>\n",
       "      <td>7</td>\n",
       "      <td>6</td>\n",
       "      <td>9</td>\n",
       "      <td>0</td>\n",
       "    </tr>\n",
       "    <tr>\n",
       "      <th>d</th>\n",
       "      <td>8</td>\n",
       "      <td>6</td>\n",
       "      <td>4</td>\n",
       "      <td>8</td>\n",
       "      <td>2</td>\n",
       "    </tr>\n",
       "    <tr>\n",
       "      <th>e</th>\n",
       "      <td>7</td>\n",
       "      <td>5</td>\n",
       "      <td>6</td>\n",
       "      <td>4</td>\n",
       "      <td>8</td>\n",
       "    </tr>\n",
       "    <tr>\n",
       "      <th>c</th>\n",
       "      <td>7</td>\n",
       "      <td>4</td>\n",
       "      <td>1</td>\n",
       "      <td>2</td>\n",
       "      <td>1</td>\n",
       "    </tr>\n",
       "  </tbody>\n",
       "</table>\n",
       "</div>"
      ],
      "text/plain": [
       "   R  E  T  W  S\n",
       "b  5  3  9  3  8\n",
       "a  9  7  6  9  0\n",
       "d  8  6  4  8  2\n",
       "e  7  5  6  4  8\n",
       "c  7  4  1  2  1"
      ]
     },
     "execution_count": 35,
     "metadata": {},
     "output_type": "execute_result"
    }
   ],
   "source": [
    "df2"
   ]
  },
  {
   "cell_type": "code",
   "execution_count": 36,
   "metadata": {},
   "outputs": [
    {
     "data": {
      "text/html": [
       "<div>\n",
       "<style scoped>\n",
       "    .dataframe tbody tr th:only-of-type {\n",
       "        vertical-align: middle;\n",
       "    }\n",
       "\n",
       "    .dataframe tbody tr th {\n",
       "        vertical-align: top;\n",
       "    }\n",
       "\n",
       "    .dataframe thead th {\n",
       "        text-align: right;\n",
       "    }\n",
       "</style>\n",
       "<table border=\"1\" class=\"dataframe\">\n",
       "  <thead>\n",
       "    <tr style=\"text-align: right;\">\n",
       "      <th></th>\n",
       "      <th>E</th>\n",
       "      <th>Q</th>\n",
       "      <th>R</th>\n",
       "      <th>S</th>\n",
       "      <th>T</th>\n",
       "      <th>W</th>\n",
       "    </tr>\n",
       "  </thead>\n",
       "  <tbody>\n",
       "    <tr>\n",
       "      <th>a</th>\n",
       "      <td>10</td>\n",
       "      <td>NaN</td>\n",
       "      <td>11</td>\n",
       "      <td>NaN</td>\n",
       "      <td>15</td>\n",
       "      <td>14</td>\n",
       "    </tr>\n",
       "    <tr>\n",
       "      <th>b</th>\n",
       "      <td>3</td>\n",
       "      <td>NaN</td>\n",
       "      <td>11</td>\n",
       "      <td>NaN</td>\n",
       "      <td>12</td>\n",
       "      <td>12</td>\n",
       "    </tr>\n",
       "    <tr>\n",
       "      <th>c</th>\n",
       "      <td>4</td>\n",
       "      <td>NaN</td>\n",
       "      <td>14</td>\n",
       "      <td>NaN</td>\n",
       "      <td>6</td>\n",
       "      <td>9</td>\n",
       "    </tr>\n",
       "    <tr>\n",
       "      <th>d</th>\n",
       "      <td>13</td>\n",
       "      <td>NaN</td>\n",
       "      <td>16</td>\n",
       "      <td>NaN</td>\n",
       "      <td>6</td>\n",
       "      <td>11</td>\n",
       "    </tr>\n",
       "    <tr>\n",
       "      <th>e</th>\n",
       "      <td>14</td>\n",
       "      <td>NaN</td>\n",
       "      <td>16</td>\n",
       "      <td>NaN</td>\n",
       "      <td>12</td>\n",
       "      <td>8</td>\n",
       "    </tr>\n",
       "  </tbody>\n",
       "</table>\n",
       "</div>"
      ],
      "text/plain": [
       "    E   Q   R   S   T   W\n",
       "a  10 NaN  11 NaN  15  14\n",
       "b   3 NaN  11 NaN  12  12\n",
       "c   4 NaN  14 NaN   6   9\n",
       "d  13 NaN  16 NaN   6  11\n",
       "e  14 NaN  16 NaN  12   8"
      ]
     },
     "execution_count": 36,
     "metadata": {},
     "output_type": "execute_result"
    }
   ],
   "source": [
    "df + df2"
   ]
  },
  {
   "cell_type": "code",
   "execution_count": 27,
   "metadata": {},
   "outputs": [
    {
     "data": {
      "text/html": [
       "<div>\n",
       "<style scoped>\n",
       "    .dataframe tbody tr th:only-of-type {\n",
       "        vertical-align: middle;\n",
       "    }\n",
       "\n",
       "    .dataframe tbody tr th {\n",
       "        vertical-align: top;\n",
       "    }\n",
       "\n",
       "    .dataframe thead th {\n",
       "        text-align: right;\n",
       "    }\n",
       "</style>\n",
       "<table border=\"1\" class=\"dataframe\">\n",
       "  <thead>\n",
       "    <tr style=\"text-align: right;\">\n",
       "      <th></th>\n",
       "      <th>Q</th>\n",
       "      <th>W</th>\n",
       "      <th>E</th>\n",
       "      <th>R</th>\n",
       "      <th>T</th>\n",
       "      <th>U</th>\n",
       "    </tr>\n",
       "  </thead>\n",
       "  <tbody>\n",
       "    <tr>\n",
       "      <th>a</th>\n",
       "      <td>3</td>\n",
       "      <td>8</td>\n",
       "      <td>5</td>\n",
       "      <td>1</td>\n",
       "      <td>5</td>\n",
       "      <td>5</td>\n",
       "    </tr>\n",
       "    <tr>\n",
       "      <th>b</th>\n",
       "      <td>6</td>\n",
       "      <td>1</td>\n",
       "      <td>7</td>\n",
       "      <td>2</td>\n",
       "      <td>7</td>\n",
       "      <td>0</td>\n",
       "    </tr>\n",
       "    <tr>\n",
       "      <th>c</th>\n",
       "      <td>4</td>\n",
       "      <td>2</td>\n",
       "      <td>8</td>\n",
       "      <td>2</td>\n",
       "      <td>8</td>\n",
       "      <td>7</td>\n",
       "    </tr>\n",
       "    <tr>\n",
       "      <th>d</th>\n",
       "      <td>5</td>\n",
       "      <td>2</td>\n",
       "      <td>3</td>\n",
       "      <td>4</td>\n",
       "      <td>7</td>\n",
       "      <td>7</td>\n",
       "    </tr>\n",
       "    <tr>\n",
       "      <th>e</th>\n",
       "      <td>3</td>\n",
       "      <td>2</td>\n",
       "      <td>0</td>\n",
       "      <td>5</td>\n",
       "      <td>7</td>\n",
       "      <td>1</td>\n",
       "    </tr>\n",
       "  </tbody>\n",
       "</table>\n",
       "</div>"
      ],
      "text/plain": [
       "   Q  W  E  R  T  U\n",
       "a  3  8  5  1  5  5\n",
       "b  6  1  7  2  7  0\n",
       "c  4  2  8  2  8  7\n",
       "d  5  2  3  4  7  7\n",
       "e  3  2  0  5  7  1"
      ]
     },
     "execution_count": 27,
     "metadata": {},
     "output_type": "execute_result"
    }
   ],
   "source": [
    "df"
   ]
  },
  {
   "cell_type": "code",
   "execution_count": 69,
   "metadata": {},
   "outputs": [
    {
     "data": {
      "text/plain": [
       "4.88"
      ]
     },
     "execution_count": 69,
     "metadata": {},
     "output_type": "execute_result"
    }
   ],
   "source": [
    "\n",
    "df.stack().mean()"
   ]
  },
  {
   "cell_type": "code",
   "execution_count": 28,
   "metadata": {},
   "outputs": [
    {
     "data": {
      "text/html": [
       "<div>\n",
       "<style scoped>\n",
       "    .dataframe tbody tr th:only-of-type {\n",
       "        vertical-align: middle;\n",
       "    }\n",
       "\n",
       "    .dataframe tbody tr th {\n",
       "        vertical-align: top;\n",
       "    }\n",
       "\n",
       "    .dataframe thead th {\n",
       "        text-align: right;\n",
       "    }\n",
       "</style>\n",
       "<table border=\"1\" class=\"dataframe\">\n",
       "  <thead>\n",
       "    <tr style=\"text-align: right;\">\n",
       "      <th></th>\n",
       "      <th>E</th>\n",
       "      <th>Q</th>\n",
       "      <th>R</th>\n",
       "      <th>T</th>\n",
       "      <th>U</th>\n",
       "      <th>W</th>\n",
       "      <th>a</th>\n",
       "      <th>b</th>\n",
       "      <th>c</th>\n",
       "      <th>d</th>\n",
       "    </tr>\n",
       "  </thead>\n",
       "  <tbody>\n",
       "    <tr>\n",
       "      <th>a</th>\n",
       "      <td>NaN</td>\n",
       "      <td>NaN</td>\n",
       "      <td>NaN</td>\n",
       "      <td>NaN</td>\n",
       "      <td>NaN</td>\n",
       "      <td>NaN</td>\n",
       "      <td>NaN</td>\n",
       "      <td>NaN</td>\n",
       "      <td>NaN</td>\n",
       "      <td>NaN</td>\n",
       "    </tr>\n",
       "    <tr>\n",
       "      <th>b</th>\n",
       "      <td>NaN</td>\n",
       "      <td>NaN</td>\n",
       "      <td>NaN</td>\n",
       "      <td>NaN</td>\n",
       "      <td>NaN</td>\n",
       "      <td>NaN</td>\n",
       "      <td>NaN</td>\n",
       "      <td>NaN</td>\n",
       "      <td>NaN</td>\n",
       "      <td>NaN</td>\n",
       "    </tr>\n",
       "    <tr>\n",
       "      <th>c</th>\n",
       "      <td>NaN</td>\n",
       "      <td>NaN</td>\n",
       "      <td>NaN</td>\n",
       "      <td>NaN</td>\n",
       "      <td>NaN</td>\n",
       "      <td>NaN</td>\n",
       "      <td>NaN</td>\n",
       "      <td>NaN</td>\n",
       "      <td>NaN</td>\n",
       "      <td>NaN</td>\n",
       "    </tr>\n",
       "    <tr>\n",
       "      <th>d</th>\n",
       "      <td>NaN</td>\n",
       "      <td>NaN</td>\n",
       "      <td>NaN</td>\n",
       "      <td>NaN</td>\n",
       "      <td>NaN</td>\n",
       "      <td>NaN</td>\n",
       "      <td>NaN</td>\n",
       "      <td>NaN</td>\n",
       "      <td>NaN</td>\n",
       "      <td>NaN</td>\n",
       "    </tr>\n",
       "    <tr>\n",
       "      <th>e</th>\n",
       "      <td>NaN</td>\n",
       "      <td>NaN</td>\n",
       "      <td>NaN</td>\n",
       "      <td>NaN</td>\n",
       "      <td>NaN</td>\n",
       "      <td>NaN</td>\n",
       "      <td>NaN</td>\n",
       "      <td>NaN</td>\n",
       "      <td>NaN</td>\n",
       "      <td>NaN</td>\n",
       "    </tr>\n",
       "  </tbody>\n",
       "</table>\n",
       "</div>"
      ],
      "text/plain": [
       "    E   Q   R   T   U   W   a   b   c   d\n",
       "a NaN NaN NaN NaN NaN NaN NaN NaN NaN NaN\n",
       "b NaN NaN NaN NaN NaN NaN NaN NaN NaN NaN\n",
       "c NaN NaN NaN NaN NaN NaN NaN NaN NaN NaN\n",
       "d NaN NaN NaN NaN NaN NaN NaN NaN NaN NaN\n",
       "e NaN NaN NaN NaN NaN NaN NaN NaN NaN NaN"
      ]
     },
     "execution_count": 28,
     "metadata": {},
     "output_type": "execute_result"
    }
   ],
   "source": [
    "df.subtract(df['Q'].iloc[:-1])"
   ]
  },
  {
   "cell_type": "code",
   "execution_count": 29,
   "metadata": {},
   "outputs": [
    {
     "ename": "ValueError",
     "evalue": "Unable to coerce to Series, length must be 6: given 5",
     "output_type": "error",
     "traceback": [
      "\u001b[1;31m--------------------------------------------------------------------------\u001b[0m",
      "\u001b[1;31mValueError\u001b[0m                               Traceback (most recent call last)",
      "\u001b[1;32m<ipython-input-29-9766ddd070db>\u001b[0m in \u001b[0;36m<module>\u001b[1;34m\u001b[0m\n\u001b[1;32m----> 1\u001b[1;33m \u001b[0mdf\u001b[0m\u001b[1;33m.\u001b[0m\u001b[0msubtract\u001b[0m\u001b[1;33m(\u001b[0m\u001b[0mnp\u001b[0m\u001b[1;33m.\u001b[0m\u001b[0marray\u001b[0m\u001b[1;33m(\u001b[0m\u001b[0mdf\u001b[0m\u001b[1;33m[\u001b[0m\u001b[1;34m'Q'\u001b[0m\u001b[1;33m]\u001b[0m\u001b[1;33m)\u001b[0m\u001b[1;33m)\u001b[0m\u001b[1;33m\u001b[0m\u001b[1;33m\u001b[0m\u001b[0m\n\u001b[0m",
      "\u001b[1;32m~\\anaconda3\\lib\\site-packages\\pandas\\core\\ops\\__init__.py\u001b[0m in \u001b[0;36mf\u001b[1;34m(self, other, axis, level, fill_value)\u001b[0m\n\u001b[0;32m    645\u001b[0m         \u001b[1;31m# TODO: why are we passing flex=True instead of flex=not special?\u001b[0m\u001b[1;33m\u001b[0m\u001b[1;33m\u001b[0m\u001b[1;33m\u001b[0m\u001b[0m\n\u001b[0;32m    646\u001b[0m         \u001b[1;31m#  15 tests fail if we pass flex=not special instead\u001b[0m\u001b[1;33m\u001b[0m\u001b[1;33m\u001b[0m\u001b[1;33m\u001b[0m\u001b[0m\n\u001b[1;32m--> 647\u001b[1;33m         \u001b[0mself\u001b[0m\u001b[1;33m,\u001b[0m \u001b[0mother\u001b[0m \u001b[1;33m=\u001b[0m \u001b[0m_align_method_FRAME\u001b[0m\u001b[1;33m(\u001b[0m\u001b[0mself\u001b[0m\u001b[1;33m,\u001b[0m \u001b[0mother\u001b[0m\u001b[1;33m,\u001b[0m \u001b[0maxis\u001b[0m\u001b[1;33m,\u001b[0m \u001b[0mflex\u001b[0m\u001b[1;33m=\u001b[0m\u001b[1;32mTrue\u001b[0m\u001b[1;33m,\u001b[0m \u001b[0mlevel\u001b[0m\u001b[1;33m=\u001b[0m\u001b[0mlevel\u001b[0m\u001b[1;33m)\u001b[0m\u001b[1;33m\u001b[0m\u001b[1;33m\u001b[0m\u001b[0m\n\u001b[0m\u001b[0;32m    648\u001b[0m \u001b[1;33m\u001b[0m\u001b[0m\n\u001b[0;32m    649\u001b[0m         \u001b[1;32mif\u001b[0m \u001b[0misinstance\u001b[0m\u001b[1;33m(\u001b[0m\u001b[0mother\u001b[0m\u001b[1;33m,\u001b[0m \u001b[0mABCDataFrame\u001b[0m\u001b[1;33m)\u001b[0m\u001b[1;33m:\u001b[0m\u001b[1;33m\u001b[0m\u001b[1;33m\u001b[0m\u001b[0m\n",
      "\u001b[1;32m~\\anaconda3\\lib\\site-packages\\pandas\\core\\ops\\__init__.py\u001b[0m in \u001b[0;36m_align_method_FRAME\u001b[1;34m(left, right, axis, flex, level)\u001b[0m\n\u001b[0;32m    472\u001b[0m \u001b[1;33m\u001b[0m\u001b[0m\n\u001b[0;32m    473\u001b[0m         \u001b[1;32mif\u001b[0m \u001b[0mright\u001b[0m\u001b[1;33m.\u001b[0m\u001b[0mndim\u001b[0m \u001b[1;33m==\u001b[0m \u001b[1;36m1\u001b[0m\u001b[1;33m:\u001b[0m\u001b[1;33m\u001b[0m\u001b[1;33m\u001b[0m\u001b[0m\n\u001b[1;32m--> 474\u001b[1;33m             \u001b[0mright\u001b[0m \u001b[1;33m=\u001b[0m \u001b[0mto_series\u001b[0m\u001b[1;33m(\u001b[0m\u001b[0mright\u001b[0m\u001b[1;33m)\u001b[0m\u001b[1;33m\u001b[0m\u001b[1;33m\u001b[0m\u001b[0m\n\u001b[0m\u001b[0;32m    475\u001b[0m \u001b[1;33m\u001b[0m\u001b[0m\n\u001b[0;32m    476\u001b[0m         \u001b[1;32melif\u001b[0m \u001b[0mright\u001b[0m\u001b[1;33m.\u001b[0m\u001b[0mndim\u001b[0m \u001b[1;33m==\u001b[0m \u001b[1;36m2\u001b[0m\u001b[1;33m:\u001b[0m\u001b[1;33m\u001b[0m\u001b[1;33m\u001b[0m\u001b[0m\n",
      "\u001b[1;32m~\\anaconda3\\lib\\site-packages\\pandas\\core\\ops\\__init__.py\u001b[0m in \u001b[0;36mto_series\u001b[1;34m(right)\u001b[0m\n\u001b[0;32m    463\u001b[0m         \u001b[1;32melse\u001b[0m\u001b[1;33m:\u001b[0m\u001b[1;33m\u001b[0m\u001b[1;33m\u001b[0m\u001b[0m\n\u001b[0;32m    464\u001b[0m             \u001b[1;32mif\u001b[0m \u001b[0mlen\u001b[0m\u001b[1;33m(\u001b[0m\u001b[0mleft\u001b[0m\u001b[1;33m.\u001b[0m\u001b[0mcolumns\u001b[0m\u001b[1;33m)\u001b[0m \u001b[1;33m!=\u001b[0m \u001b[0mlen\u001b[0m\u001b[1;33m(\u001b[0m\u001b[0mright\u001b[0m\u001b[1;33m)\u001b[0m\u001b[1;33m:\u001b[0m\u001b[1;33m\u001b[0m\u001b[1;33m\u001b[0m\u001b[0m\n\u001b[1;32m--> 465\u001b[1;33m                 raise ValueError(\n\u001b[0m\u001b[0;32m    466\u001b[0m                     \u001b[0mmsg\u001b[0m\u001b[1;33m.\u001b[0m\u001b[0mformat\u001b[0m\u001b[1;33m(\u001b[0m\u001b[0mreq_len\u001b[0m\u001b[1;33m=\u001b[0m\u001b[0mlen\u001b[0m\u001b[1;33m(\u001b[0m\u001b[0mleft\u001b[0m\u001b[1;33m.\u001b[0m\u001b[0mcolumns\u001b[0m\u001b[1;33m)\u001b[0m\u001b[1;33m,\u001b[0m \u001b[0mgiven_len\u001b[0m\u001b[1;33m=\u001b[0m\u001b[0mlen\u001b[0m\u001b[1;33m(\u001b[0m\u001b[0mright\u001b[0m\u001b[1;33m)\u001b[0m\u001b[1;33m)\u001b[0m\u001b[1;33m\u001b[0m\u001b[1;33m\u001b[0m\u001b[0m\n\u001b[0;32m    467\u001b[0m                 )\n",
      "\u001b[1;31mValueError\u001b[0m: Unable to coerce to Series, length must be 6: given 5"
     ]
    }
   ],
   "source": [
    "df.subtract(np.array(df['Q']))"
   ]
  },
  {
   "cell_type": "code",
   "execution_count": 30,
   "metadata": {},
   "outputs": [
    {
     "data": {
      "text/plain": [
       "array([[3, 6, 4, 5, 3]])"
      ]
     },
     "execution_count": 30,
     "metadata": {},
     "output_type": "execute_result"
    }
   ],
   "source": [
    "np.array(df['Q'])[np.newaxis,:]"
   ]
  },
  {
   "cell_type": "code",
   "execution_count": 31,
   "metadata": {},
   "outputs": [
    {
     "data": {
      "text/plain": [
       "array([3, 6, 4, 5, 3])"
      ]
     },
     "execution_count": 31,
     "metadata": {},
     "output_type": "execute_result"
    }
   ],
   "source": [
    "np.array(df['Q'])"
   ]
  },
  {
   "cell_type": "code",
   "execution_count": 37,
   "metadata": {},
   "outputs": [
    {
     "data": {
      "text/html": [
       "<div>\n",
       "<style scoped>\n",
       "    .dataframe tbody tr th:only-of-type {\n",
       "        vertical-align: middle;\n",
       "    }\n",
       "\n",
       "    .dataframe tbody tr th {\n",
       "        vertical-align: top;\n",
       "    }\n",
       "\n",
       "    .dataframe thead th {\n",
       "        text-align: right;\n",
       "    }\n",
       "</style>\n",
       "<table border=\"1\" class=\"dataframe\">\n",
       "  <thead>\n",
       "    <tr style=\"text-align: right;\">\n",
       "      <th></th>\n",
       "      <th>Q</th>\n",
       "      <th>W</th>\n",
       "      <th>E</th>\n",
       "      <th>R</th>\n",
       "      <th>T</th>\n",
       "      <th>U</th>\n",
       "    </tr>\n",
       "  </thead>\n",
       "  <tbody>\n",
       "    <tr>\n",
       "      <th>a</th>\n",
       "      <td>0</td>\n",
       "      <td>0</td>\n",
       "      <td>0</td>\n",
       "      <td>0</td>\n",
       "      <td>0</td>\n",
       "      <td>0</td>\n",
       "    </tr>\n",
       "    <tr>\n",
       "      <th>b</th>\n",
       "      <td>3</td>\n",
       "      <td>-7</td>\n",
       "      <td>2</td>\n",
       "      <td>1</td>\n",
       "      <td>2</td>\n",
       "      <td>-5</td>\n",
       "    </tr>\n",
       "    <tr>\n",
       "      <th>c</th>\n",
       "      <td>1</td>\n",
       "      <td>-6</td>\n",
       "      <td>3</td>\n",
       "      <td>1</td>\n",
       "      <td>3</td>\n",
       "      <td>2</td>\n",
       "    </tr>\n",
       "    <tr>\n",
       "      <th>d</th>\n",
       "      <td>2</td>\n",
       "      <td>-6</td>\n",
       "      <td>-2</td>\n",
       "      <td>3</td>\n",
       "      <td>2</td>\n",
       "      <td>2</td>\n",
       "    </tr>\n",
       "    <tr>\n",
       "      <th>e</th>\n",
       "      <td>0</td>\n",
       "      <td>-6</td>\n",
       "      <td>-5</td>\n",
       "      <td>4</td>\n",
       "      <td>2</td>\n",
       "      <td>-4</td>\n",
       "    </tr>\n",
       "  </tbody>\n",
       "</table>\n",
       "</div>"
      ],
      "text/plain": [
       "   Q  W  E  R  T  U\n",
       "a  0  0  0  0  0  0\n",
       "b  3 -7  2  1  2 -5\n",
       "c  1 -6  3  1  3  2\n",
       "d  2 -6 -2  3  2  2\n",
       "e  0 -6 -5  4  2 -4"
      ]
     },
     "execution_count": 37,
     "metadata": {},
     "output_type": "execute_result"
    }
   ],
   "source": [
    "df.subtract(df.iloc[0])"
   ]
  },
  {
   "cell_type": "code",
   "execution_count": 43,
   "metadata": {},
   "outputs": [
    {
     "data": {
      "text/html": [
       "<div>\n",
       "<style scoped>\n",
       "    .dataframe tbody tr th:only-of-type {\n",
       "        vertical-align: middle;\n",
       "    }\n",
       "\n",
       "    .dataframe tbody tr th {\n",
       "        vertical-align: top;\n",
       "    }\n",
       "\n",
       "    .dataframe thead th {\n",
       "        text-align: right;\n",
       "    }\n",
       "</style>\n",
       "<table border=\"1\" class=\"dataframe\">\n",
       "  <thead>\n",
       "    <tr style=\"text-align: right;\">\n",
       "      <th></th>\n",
       "      <th>Q</th>\n",
       "      <th>W</th>\n",
       "      <th>E</th>\n",
       "      <th>R</th>\n",
       "      <th>T</th>\n",
       "      <th>U</th>\n",
       "    </tr>\n",
       "  </thead>\n",
       "  <tbody>\n",
       "    <tr>\n",
       "      <th>E</th>\n",
       "      <td>NaN</td>\n",
       "      <td>NaN</td>\n",
       "      <td>NaN</td>\n",
       "      <td>NaN</td>\n",
       "      <td>NaN</td>\n",
       "      <td>NaN</td>\n",
       "    </tr>\n",
       "    <tr>\n",
       "      <th>Q</th>\n",
       "      <td>NaN</td>\n",
       "      <td>NaN</td>\n",
       "      <td>NaN</td>\n",
       "      <td>NaN</td>\n",
       "      <td>NaN</td>\n",
       "      <td>NaN</td>\n",
       "    </tr>\n",
       "    <tr>\n",
       "      <th>R</th>\n",
       "      <td>NaN</td>\n",
       "      <td>NaN</td>\n",
       "      <td>NaN</td>\n",
       "      <td>NaN</td>\n",
       "      <td>NaN</td>\n",
       "      <td>NaN</td>\n",
       "    </tr>\n",
       "    <tr>\n",
       "      <th>T</th>\n",
       "      <td>NaN</td>\n",
       "      <td>NaN</td>\n",
       "      <td>NaN</td>\n",
       "      <td>NaN</td>\n",
       "      <td>NaN</td>\n",
       "      <td>NaN</td>\n",
       "    </tr>\n",
       "    <tr>\n",
       "      <th>U</th>\n",
       "      <td>NaN</td>\n",
       "      <td>NaN</td>\n",
       "      <td>NaN</td>\n",
       "      <td>NaN</td>\n",
       "      <td>NaN</td>\n",
       "      <td>NaN</td>\n",
       "    </tr>\n",
       "    <tr>\n",
       "      <th>W</th>\n",
       "      <td>NaN</td>\n",
       "      <td>NaN</td>\n",
       "      <td>NaN</td>\n",
       "      <td>NaN</td>\n",
       "      <td>NaN</td>\n",
       "      <td>NaN</td>\n",
       "    </tr>\n",
       "    <tr>\n",
       "      <th>a</th>\n",
       "      <td>NaN</td>\n",
       "      <td>NaN</td>\n",
       "      <td>NaN</td>\n",
       "      <td>NaN</td>\n",
       "      <td>NaN</td>\n",
       "      <td>NaN</td>\n",
       "    </tr>\n",
       "    <tr>\n",
       "      <th>b</th>\n",
       "      <td>NaN</td>\n",
       "      <td>NaN</td>\n",
       "      <td>NaN</td>\n",
       "      <td>NaN</td>\n",
       "      <td>NaN</td>\n",
       "      <td>NaN</td>\n",
       "    </tr>\n",
       "    <tr>\n",
       "      <th>c</th>\n",
       "      <td>NaN</td>\n",
       "      <td>NaN</td>\n",
       "      <td>NaN</td>\n",
       "      <td>NaN</td>\n",
       "      <td>NaN</td>\n",
       "      <td>NaN</td>\n",
       "    </tr>\n",
       "    <tr>\n",
       "      <th>d</th>\n",
       "      <td>NaN</td>\n",
       "      <td>NaN</td>\n",
       "      <td>NaN</td>\n",
       "      <td>NaN</td>\n",
       "      <td>NaN</td>\n",
       "      <td>NaN</td>\n",
       "    </tr>\n",
       "    <tr>\n",
       "      <th>e</th>\n",
       "      <td>NaN</td>\n",
       "      <td>NaN</td>\n",
       "      <td>NaN</td>\n",
       "      <td>NaN</td>\n",
       "      <td>NaN</td>\n",
       "      <td>NaN</td>\n",
       "    </tr>\n",
       "  </tbody>\n",
       "</table>\n",
       "</div>"
      ],
      "text/plain": [
       "    Q   W   E   R   T   U\n",
       "E NaN NaN NaN NaN NaN NaN\n",
       "Q NaN NaN NaN NaN NaN NaN\n",
       "R NaN NaN NaN NaN NaN NaN\n",
       "T NaN NaN NaN NaN NaN NaN\n",
       "U NaN NaN NaN NaN NaN NaN\n",
       "W NaN NaN NaN NaN NaN NaN\n",
       "a NaN NaN NaN NaN NaN NaN\n",
       "b NaN NaN NaN NaN NaN NaN\n",
       "c NaN NaN NaN NaN NaN NaN\n",
       "d NaN NaN NaN NaN NaN NaN\n",
       "e NaN NaN NaN NaN NaN NaN"
      ]
     },
     "execution_count": 43,
     "metadata": {},
     "output_type": "execute_result"
    }
   ],
   "source": [
    "df.subtract(df.iloc[0], axis=0)"
   ]
  },
  {
   "cell_type": "code",
   "execution_count": 47,
   "metadata": {},
   "outputs": [
    {
     "data": {
      "text/plain": [
       "nan"
      ]
     },
     "execution_count": 47,
     "metadata": {},
     "output_type": "execute_result"
    }
   ],
   "source": [
    "0 / np.nan"
   ]
  },
  {
   "cell_type": "code",
   "execution_count": 49,
   "metadata": {},
   "outputs": [
    {
     "data": {
      "text/plain": [
       "True"
      ]
     },
     "execution_count": 49,
     "metadata": {},
     "output_type": "execute_result"
    }
   ],
   "source": [
    "bool(np.nan)"
   ]
  },
  {
   "cell_type": "code",
   "execution_count": 50,
   "metadata": {},
   "outputs": [
    {
     "data": {
      "text/plain": [
       "False"
      ]
     },
     "execution_count": 50,
     "metadata": {},
     "output_type": "execute_result"
    }
   ],
   "source": [
    "bool(None)"
   ]
  },
  {
   "cell_type": "code",
   "execution_count": 54,
   "metadata": {},
   "outputs": [],
   "source": [
    "flt = pd.Series(range(1,5), dtype= np.float)"
   ]
  },
  {
   "cell_type": "code",
   "execution_count": 64,
   "metadata": {},
   "outputs": [
    {
     "data": {
      "text/plain": [
       "0    NaN\n",
       "1    2.0\n",
       "2    3.0\n",
       "3    4.0\n",
       "dtype: float64"
      ]
     },
     "execution_count": 64,
     "metadata": {},
     "output_type": "execute_result"
    }
   ],
   "source": [
    "flt"
   ]
  },
  {
   "cell_type": "code",
   "execution_count": 63,
   "metadata": {},
   "outputs": [],
   "source": [
    "flt[0] = None"
   ]
  },
  {
   "cell_type": "code",
   "execution_count": 56,
   "metadata": {},
   "outputs": [],
   "source": [
    "obj = pd.Series(range(1,5), dtype= np.object)"
   ]
  },
  {
   "cell_type": "code",
   "execution_count": 65,
   "metadata": {},
   "outputs": [],
   "source": [
    "obj[0] = None"
   ]
  },
  {
   "cell_type": "code",
   "execution_count": 66,
   "metadata": {},
   "outputs": [
    {
     "data": {
      "text/plain": [
       "0    None\n",
       "1       2\n",
       "2       3\n",
       "3       4\n",
       "dtype: object"
      ]
     },
     "execution_count": 66,
     "metadata": {},
     "output_type": "execute_result"
    }
   ],
   "source": [
    "obj"
   ]
  },
  {
   "cell_type": "code",
   "execution_count": 58,
   "metadata": {},
   "outputs": [],
   "source": [
    "intger = pd.Series(range(1,5), dtype= np.int)"
   ]
  },
  {
   "cell_type": "code",
   "execution_count": 68,
   "metadata": {},
   "outputs": [
    {
     "data": {
      "text/plain": [
       "0    NaN\n",
       "1    2.0\n",
       "2    3.0\n",
       "3    4.0\n",
       "dtype: float64"
      ]
     },
     "execution_count": 68,
     "metadata": {},
     "output_type": "execute_result"
    }
   ],
   "source": [
    "intger"
   ]
  },
  {
   "cell_type": "code",
   "execution_count": 67,
   "metadata": {},
   "outputs": [],
   "source": [
    "intger[0] = None"
   ]
  },
  {
   "cell_type": "code",
   "execution_count": 60,
   "metadata": {},
   "outputs": [],
   "source": [
    "boolean = pd.Series(range(1,5), dtype= np.bool)"
   ]
  },
  {
   "cell_type": "code",
   "execution_count": 72,
   "metadata": {},
   "outputs": [
    {
     "data": {
      "text/plain": [
       "0    NaN\n",
       "1    1.0\n",
       "2    1.0\n",
       "3    1.0\n",
       "dtype: float64"
      ]
     },
     "execution_count": 72,
     "metadata": {},
     "output_type": "execute_result"
    }
   ],
   "source": [
    "boolean"
   ]
  },
  {
   "cell_type": "code",
   "execution_count": 71,
   "metadata": {},
   "outputs": [],
   "source": [
    "boolean[0] = np.nan"
   ]
  },
  {
   "cell_type": "markdown",
   "metadata": {},
   "source": [
    "###  "
   ]
  },
  {
   "cell_type": "code",
   "execution_count": 73,
   "metadata": {},
   "outputs": [],
   "source": [
    "#Multiindex"
   ]
  },
  {
   "cell_type": "code",
   "execution_count": 52,
   "metadata": {},
   "outputs": [],
   "source": [
    "df = pd.DataFrame(np.random.randint(0, 10, (4,4)), columns= ['A','C','B','D'], index= ['a', 'd', 'c', 'b'])"
   ]
  },
  {
   "cell_type": "code",
   "execution_count": 86,
   "metadata": {
    "scrolled": false
   },
   "outputs": [
    {
     "data": {
      "text/html": [
       "<div>\n",
       "<style scoped>\n",
       "    .dataframe tbody tr th:only-of-type {\n",
       "        vertical-align: middle;\n",
       "    }\n",
       "\n",
       "    .dataframe tbody tr th {\n",
       "        vertical-align: top;\n",
       "    }\n",
       "\n",
       "    .dataframe thead th {\n",
       "        text-align: right;\n",
       "    }\n",
       "</style>\n",
       "<table border=\"1\" class=\"dataframe\">\n",
       "  <thead>\n",
       "    <tr style=\"text-align: right;\">\n",
       "      <th></th>\n",
       "      <th>Q</th>\n",
       "      <th>W</th>\n",
       "      <th>E</th>\n",
       "      <th>R</th>\n",
       "      <th>T</th>\n",
       "      <th>U</th>\n",
       "    </tr>\n",
       "  </thead>\n",
       "  <tbody>\n",
       "    <tr>\n",
       "      <th>a</th>\n",
       "      <td>1</td>\n",
       "      <td>4</td>\n",
       "      <td>6</td>\n",
       "      <td>3</td>\n",
       "      <td>5</td>\n",
       "      <td>2</td>\n",
       "    </tr>\n",
       "    <tr>\n",
       "      <th>b</th>\n",
       "      <td>6</td>\n",
       "      <td>6</td>\n",
       "      <td>2</td>\n",
       "      <td>5</td>\n",
       "      <td>7</td>\n",
       "      <td>2</td>\n",
       "    </tr>\n",
       "    <tr>\n",
       "      <th>b</th>\n",
       "      <td>6</td>\n",
       "      <td>6</td>\n",
       "      <td>2</td>\n",
       "      <td>5</td>\n",
       "      <td>7</td>\n",
       "      <td>2</td>\n",
       "    </tr>\n",
       "  </tbody>\n",
       "</table>\n",
       "</div>"
      ],
      "text/plain": [
       "   Q  W  E  R  T  U\n",
       "a  1  4  6  3  5  2\n",
       "b  6  6  2  5  7  2\n",
       "b  6  6  2  5  7  2"
      ]
     },
     "execution_count": 86,
     "metadata": {},
     "output_type": "execute_result"
    }
   ],
   "source": [
    "df.reindex(labels= ['a','b','b'])"
   ]
  },
  {
   "cell_type": "code",
   "execution_count": 58,
   "metadata": {},
   "outputs": [
    {
     "ename": "ValueError",
     "evalue": "index must be monotonic increasing or decreasing",
     "output_type": "error",
     "traceback": [
      "\u001b[1;31mValueError\u001b[0m\u001b[1;31m:\u001b[0m index must be monotonic increasing or decreasing\n"
     ]
    }
   ],
   "source": [
    "df.reindex(labels= [1,2,3,4], method= 'ffill')"
   ]
  },
  {
   "cell_type": "code",
   "execution_count": 101,
   "metadata": {},
   "outputs": [],
   "source": [
    "\n",
    "A = pd.Series(range(10), index=range(100,110))"
   ]
  },
  {
   "cell_type": "code",
   "execution_count": 98,
   "metadata": {},
   "outputs": [],
   "source": [
    "A.index= range(1000,1010)"
   ]
  },
  {
   "cell_type": "code",
   "execution_count": 106,
   "metadata": {},
   "outputs": [
    {
     "name": "stdout",
     "output_type": "stream",
     "text": [
      "(100, 0)\n",
      "(101, 1)\n",
      "(102, 2)\n",
      "(103, 3)\n",
      "(104, 4)\n",
      "(105, 5)\n",
      "(106, 6)\n",
      "(107, 7)\n",
      "(108, 8)\n",
      "(109, 9)\n"
     ]
    }
   ],
   "source": [
    "for i in A.items():\n",
    "    print(i)"
   ]
  },
  {
   "cell_type": "code",
   "execution_count": 104,
   "metadata": {},
   "outputs": [
    {
     "data": {
      "text/plain": [
       "100    0\n",
       "101    1\n",
       "102    2\n",
       "103    3\n",
       "104    4\n",
       "105    5\n",
       "106    6\n",
       "107    7\n",
       "108    8\n",
       "109    9\n",
       "dtype: int64"
      ]
     },
     "execution_count": 104,
     "metadata": {},
     "output_type": "execute_result"
    }
   ],
   "source": [
    "A"
   ]
  },
  {
   "cell_type": "code",
   "execution_count": 129,
   "metadata": {},
   "outputs": [],
   "source": [
    "index = [('Bhuj',2000),('Bhuj',2010),('Surat',2000),('Surat',2010),('Ahmedabad',2000),('Ahmedabad',2010)]"
   ]
  },
  {
   "cell_type": "code",
   "execution_count": 130,
   "metadata": {},
   "outputs": [],
   "source": [
    "population = [1_00_000,11_00_000,2_00_000,22_00_000,3_00_000,33_00_000]"
   ]
  },
  {
   "cell_type": "code",
   "execution_count": 131,
   "metadata": {},
   "outputs": [],
   "source": [
    "data = pd.Series(population, index= index)"
   ]
  },
  {
   "cell_type": "code",
   "execution_count": 132,
   "metadata": {},
   "outputs": [],
   "source": [
    "temp = pd.MultiIndex.from_tuples(index)"
   ]
  },
  {
   "cell_type": "code",
   "execution_count": 136,
   "metadata": {},
   "outputs": [],
   "source": [
    "data = data.reindex(temp)"
   ]
  },
  {
   "cell_type": "code",
   "execution_count": 143,
   "metadata": {},
   "outputs": [
    {
     "data": {
      "text/plain": [
       "Bhuj       2000     100000\n",
       "           2010    1100000\n",
       "Surat      2000     200000\n",
       "           2010    2200000\n",
       "Ahmedabad  2000     300000\n",
       "           2010    3300000\n",
       "dtype: int64"
      ]
     },
     "execution_count": 143,
     "metadata": {},
     "output_type": "execute_result"
    }
   ],
   "source": [
    "data"
   ]
  },
  {
   "cell_type": "code",
   "execution_count": 148,
   "metadata": {},
   "outputs": [
    {
     "data": {
      "text/plain": [
       "Bhuj         1100000\n",
       "Surat        2200000\n",
       "Ahmedabad    3300000\n",
       "dtype: int64"
      ]
     },
     "execution_count": 148,
     "metadata": {},
     "output_type": "execute_result"
    }
   ],
   "source": [
    "data[:, 2010]"
   ]
  },
  {
   "cell_type": "code",
   "execution_count": 149,
   "metadata": {},
   "outputs": [
    {
     "data": {
      "text/plain": [
       "'C:\\\\Users\\\\GIGABYTE\\\\Desktop\\\\Data Science with Udemy!\\\\Course Practice files'"
      ]
     },
     "execution_count": 149,
     "metadata": {},
     "output_type": "execute_result"
    }
   ],
   "source": [
    "pwd"
   ]
  },
  {
   "cell_type": "code",
   "execution_count": 150,
   "metadata": {},
   "outputs": [
    {
     "name": "stdout",
     "output_type": "stream",
     "text": [
      "C:\\Users\\GIGABYTE\\Desktop\\Data Science with Udemy!\n"
     ]
    }
   ],
   "source": [
    "%cd .."
   ]
  },
  {
   "cell_type": "code",
   "execution_count": 152,
   "metadata": {},
   "outputs": [
    {
     "name": "stdout",
     "output_type": "stream",
     "text": [
      " Volume in drive C has no label.\n",
      " Volume Serial Number is 6AE7-FDCB\n",
      "\n",
      " Directory of C:\\Users\\GIGABYTE\\Desktop\\Data Science with Udemy!\n",
      "\n",
      "15-Jan-21  04:51 PM    <DIR>          .\n",
      "15-Jan-21  04:51 PM    <DIR>          ..\n",
      "15-Jan-21  04:51 PM                 0 AAYUSH.csv\n",
      "11-Jan-21  06:49 PM               911 Ask Grass.ipynb\n",
      "30-Aug-18  11:54 AM    <DIR>          Attachments\n",
      "15-Jan-21  04:51 PM    <DIR>          Course Practice files\n",
      "               2 File(s)            911 bytes\n",
      "               4 Dir(s)  70,329,511,936 bytes free\n"
     ]
    }
   ],
   "source": [
    "%ls"
   ]
  },
  {
   "cell_type": "code",
   "execution_count": 156,
   "metadata": {},
   "outputs": [
    {
     "name": "stdout",
     "output_type": "stream",
     "text": [
      "<class 'str'>\n",
      "<class 'str'>\n",
      "<class 'str'>\n"
     ]
    }
   ],
   "source": [
    "for i in open('AAYUSH.csv'):\n",
    "    print(type(i))"
   ]
  },
  {
   "cell_type": "code",
   "execution_count": 11,
   "metadata": {},
   "outputs": [
    {
     "name": "stdout",
     "output_type": "stream",
     "text": [
      "1    1\n",
      "2    2\n",
      "3    3\n",
      "dtype: int64\n",
      "___________\n",
      "\n",
      "0    4\n",
      "1    5\n",
      "2    6\n",
      "3    7\n",
      "dtype: int64\n",
      "___________\n",
      "\n",
      "   Q  W  E  R  T  U\n",
      "a  2  3  3  6  1  6\n",
      "b  3  3  7  4  7  7\n",
      "c  9  4  8  1  0  8\n",
      "d  9  5  9  5  5  4\n",
      "e  1  6  6  3  6  0\n",
      "___________\n",
      "\n",
      "   R  E  T  W  S\n",
      "b  7  0  7  3  9\n",
      "a  5  3  8  3  9\n",
      "d  4  2  4  7  9\n",
      "e  1  0  5  8  5\n",
      "c  4  6  8  7  0\n"
     ]
    }
   ],
   "source": [
    "print(A, B, df, df2, sep='\\n___________\\n\\n')\n",
    "\n"
   ]
  },
  {
   "cell_type": "code",
   "execution_count": 40,
   "metadata": {},
   "outputs": [],
   "source": [
    "df = pd.DataFrame(np.random.randint(0,10,(5,6)), index= list('abcde'), columns=list('QWERTU'))\n",
    "df2 = pd.DataFrame(np.random.randint(0,10,(5,5)), index= list('badec'), columns=list('RETWS'))"
   ]
  },
  {
   "cell_type": "code",
   "execution_count": 47,
   "metadata": {},
   "outputs": [],
   "source": [
    "kaka = df.reindex(['Q','W'], axis='columns')"
   ]
  },
  {
   "cell_type": "code",
   "execution_count": 67,
   "metadata": {},
   "outputs": [],
   "source": [
    "save = kaka.reindex(['Q','W','FillIt'], axis='columns')"
   ]
  },
  {
   "cell_type": "code",
   "execution_count": 74,
   "metadata": {},
   "outputs": [
    {
     "data": {
      "text/html": [
       "<div>\n",
       "<style scoped>\n",
       "    .dataframe tbody tr th:only-of-type {\n",
       "        vertical-align: middle;\n",
       "    }\n",
       "\n",
       "    .dataframe tbody tr th {\n",
       "        vertical-align: top;\n",
       "    }\n",
       "\n",
       "    .dataframe thead th {\n",
       "        text-align: right;\n",
       "    }\n",
       "</style>\n",
       "<table border=\"1\" class=\"dataframe\">\n",
       "  <thead>\n",
       "    <tr style=\"text-align: right;\">\n",
       "      <th></th>\n",
       "      <th>Q</th>\n",
       "      <th>W</th>\n",
       "      <th>FillIt</th>\n",
       "    </tr>\n",
       "  </thead>\n",
       "  <tbody>\n",
       "    <tr>\n",
       "      <th>a</th>\n",
       "      <td>9.0</td>\n",
       "      <td>8.0</td>\n",
       "      <td>NaN</td>\n",
       "    </tr>\n",
       "    <tr>\n",
       "      <th>b</th>\n",
       "      <td>4.0</td>\n",
       "      <td>6.0</td>\n",
       "      <td>NaN</td>\n",
       "    </tr>\n",
       "    <tr>\n",
       "      <th>c</th>\n",
       "      <td>6.0</td>\n",
       "      <td>2.0</td>\n",
       "      <td>NaN</td>\n",
       "    </tr>\n",
       "    <tr>\n",
       "      <th>d</th>\n",
       "      <td>9.0</td>\n",
       "      <td>4.0</td>\n",
       "      <td>NaN</td>\n",
       "    </tr>\n",
       "    <tr>\n",
       "      <th>e</th>\n",
       "      <td>8.0</td>\n",
       "      <td>3.0</td>\n",
       "      <td>NaN</td>\n",
       "    </tr>\n",
       "  </tbody>\n",
       "</table>\n",
       "</div>"
      ],
      "text/plain": [
       "     Q    W  FillIt\n",
       "a  9.0  8.0     NaN\n",
       "b  4.0  6.0     NaN\n",
       "c  6.0  2.0     NaN\n",
       "d  9.0  4.0     NaN\n",
       "e  8.0  3.0     NaN"
      ]
     },
     "execution_count": 74,
     "metadata": {},
     "output_type": "execute_result"
    }
   ],
   "source": [
    "save.fillna(method='bfill', axis='columns')"
   ]
  },
  {
   "cell_type": "code",
   "execution_count": 54,
   "metadata": {},
   "outputs": [
    {
     "data": {
      "text/html": [
       "<div>\n",
       "<style scoped>\n",
       "    .dataframe tbody tr th:only-of-type {\n",
       "        vertical-align: middle;\n",
       "    }\n",
       "\n",
       "    .dataframe tbody tr th {\n",
       "        vertical-align: top;\n",
       "    }\n",
       "\n",
       "    .dataframe thead th {\n",
       "        text-align: right;\n",
       "    }\n",
       "</style>\n",
       "<table border=\"1\" class=\"dataframe\">\n",
       "  <thead>\n",
       "    <tr style=\"text-align: right;\">\n",
       "      <th></th>\n",
       "      <th>Q</th>\n",
       "      <th>W</th>\n",
       "      <th>FillIt</th>\n",
       "    </tr>\n",
       "  </thead>\n",
       "  <tbody>\n",
       "    <tr>\n",
       "      <th>a</th>\n",
       "      <td>9</td>\n",
       "      <td>8</td>\n",
       "      <td>NaN</td>\n",
       "    </tr>\n",
       "    <tr>\n",
       "      <th>b</th>\n",
       "      <td>4</td>\n",
       "      <td>6</td>\n",
       "      <td>NaN</td>\n",
       "    </tr>\n",
       "    <tr>\n",
       "      <th>c</th>\n",
       "      <td>6</td>\n",
       "      <td>2</td>\n",
       "      <td>NaN</td>\n",
       "    </tr>\n",
       "    <tr>\n",
       "      <th>d</th>\n",
       "      <td>9</td>\n",
       "      <td>4</td>\n",
       "      <td>NaN</td>\n",
       "    </tr>\n",
       "    <tr>\n",
       "      <th>e</th>\n",
       "      <td>8</td>\n",
       "      <td>3</td>\n",
       "      <td>NaN</td>\n",
       "    </tr>\n",
       "  </tbody>\n",
       "</table>\n",
       "</div>"
      ],
      "text/plain": [
       "   Q  W  FillIt\n",
       "a  9  8     NaN\n",
       "b  4  6     NaN\n",
       "c  6  2     NaN\n",
       "d  9  4     NaN\n",
       "e  8  3     NaN"
      ]
     },
     "execution_count": 54,
     "metadata": {},
     "output_type": "execute_result"
    }
   ],
   "source": [
    "kaka.reindex(['Q','W','FillIt'], axis='columns', method='ffill')"
   ]
  },
  {
   "cell_type": "code",
   "execution_count": 90,
   "metadata": {},
   "outputs": [],
   "source": [
    "save = df.reindex(['b','c','A','B','C','a']).bfill(axis=0)"
   ]
  },
  {
   "cell_type": "code",
   "execution_count": 97,
   "metadata": {},
   "outputs": [
    {
     "data": {
      "text/html": [
       "<div>\n",
       "<style scoped>\n",
       "    .dataframe tbody tr th:only-of-type {\n",
       "        vertical-align: middle;\n",
       "    }\n",
       "\n",
       "    .dataframe tbody tr th {\n",
       "        vertical-align: top;\n",
       "    }\n",
       "\n",
       "    .dataframe thead th {\n",
       "        text-align: right;\n",
       "    }\n",
       "</style>\n",
       "<table border=\"1\" class=\"dataframe\">\n",
       "  <thead>\n",
       "    <tr style=\"text-align: right;\">\n",
       "      <th></th>\n",
       "      <th>Q</th>\n",
       "      <th>W</th>\n",
       "      <th>E</th>\n",
       "      <th>R</th>\n",
       "      <th>T</th>\n",
       "      <th>U</th>\n",
       "    </tr>\n",
       "  </thead>\n",
       "  <tbody>\n",
       "    <tr>\n",
       "      <th>b</th>\n",
       "      <td>4.0</td>\n",
       "      <td>6.0</td>\n",
       "      <td>8.0</td>\n",
       "      <td>1.0</td>\n",
       "      <td>1.0</td>\n",
       "      <td>2.0</td>\n",
       "    </tr>\n",
       "    <tr>\n",
       "      <th>c</th>\n",
       "      <td>6.0</td>\n",
       "      <td>2.0</td>\n",
       "      <td>3.0</td>\n",
       "      <td>6.0</td>\n",
       "      <td>9.0</td>\n",
       "      <td>8.0</td>\n",
       "    </tr>\n",
       "    <tr>\n",
       "      <th>A</th>\n",
       "      <td>9.0</td>\n",
       "      <td>8.0</td>\n",
       "      <td>3.0</td>\n",
       "      <td>0.0</td>\n",
       "      <td>8.0</td>\n",
       "      <td>7.0</td>\n",
       "    </tr>\n",
       "    <tr>\n",
       "      <th>B</th>\n",
       "      <td>9.0</td>\n",
       "      <td>8.0</td>\n",
       "      <td>3.0</td>\n",
       "      <td>0.0</td>\n",
       "      <td>8.0</td>\n",
       "      <td>7.0</td>\n",
       "    </tr>\n",
       "    <tr>\n",
       "      <th>C</th>\n",
       "      <td>9.0</td>\n",
       "      <td>8.0</td>\n",
       "      <td>3.0</td>\n",
       "      <td>0.0</td>\n",
       "      <td>8.0</td>\n",
       "      <td>7.0</td>\n",
       "    </tr>\n",
       "    <tr>\n",
       "      <th>a</th>\n",
       "      <td>9.0</td>\n",
       "      <td>8.0</td>\n",
       "      <td>3.0</td>\n",
       "      <td>0.0</td>\n",
       "      <td>8.0</td>\n",
       "      <td>7.0</td>\n",
       "    </tr>\n",
       "  </tbody>\n",
       "</table>\n",
       "</div>"
      ],
      "text/plain": [
       "     Q    W    E    R    T    U\n",
       "b  4.0  6.0  8.0  1.0  1.0  2.0\n",
       "c  6.0  2.0  3.0  6.0  9.0  8.0\n",
       "A  9.0  8.0  3.0  0.0  8.0  7.0\n",
       "B  9.0  8.0  3.0  0.0  8.0  7.0\n",
       "C  9.0  8.0  3.0  0.0  8.0  7.0\n",
       "a  9.0  8.0  3.0  0.0  8.0  7.0"
      ]
     },
     "execution_count": 97,
     "metadata": {},
     "output_type": "execute_result"
    }
   ],
   "source": [
    "save"
   ]
  },
  {
   "cell_type": "code",
   "execution_count": 109,
   "metadata": {},
   "outputs": [
    {
     "data": {
      "text/html": [
       "<div>\n",
       "<style scoped>\n",
       "    .dataframe tbody tr th:only-of-type {\n",
       "        vertical-align: middle;\n",
       "    }\n",
       "\n",
       "    .dataframe tbody tr th {\n",
       "        vertical-align: top;\n",
       "    }\n",
       "\n",
       "    .dataframe thead th {\n",
       "        text-align: right;\n",
       "    }\n",
       "</style>\n",
       "<table border=\"1\" class=\"dataframe\">\n",
       "  <thead>\n",
       "    <tr style=\"text-align: right;\">\n",
       "      <th></th>\n",
       "      <th>Q</th>\n",
       "      <th>W</th>\n",
       "      <th>E</th>\n",
       "      <th>R</th>\n",
       "      <th>T</th>\n",
       "      <th>U</th>\n",
       "    </tr>\n",
       "  </thead>\n",
       "  <tbody>\n",
       "    <tr>\n",
       "      <th>A</th>\n",
       "      <td>9.0</td>\n",
       "      <td>8.0</td>\n",
       "      <td>3.0</td>\n",
       "      <td>0.0</td>\n",
       "      <td>8.0</td>\n",
       "      <td>7.0</td>\n",
       "    </tr>\n",
       "    <tr>\n",
       "      <th>B</th>\n",
       "      <td>9.0</td>\n",
       "      <td>8.0</td>\n",
       "      <td>3.0</td>\n",
       "      <td>0.0</td>\n",
       "      <td>8.0</td>\n",
       "      <td>7.0</td>\n",
       "    </tr>\n",
       "    <tr>\n",
       "      <th>C</th>\n",
       "      <td>9.0</td>\n",
       "      <td>8.0</td>\n",
       "      <td>3.0</td>\n",
       "      <td>0.0</td>\n",
       "      <td>8.0</td>\n",
       "      <td>7.0</td>\n",
       "    </tr>\n",
       "    <tr>\n",
       "      <th>a</th>\n",
       "      <td>9.0</td>\n",
       "      <td>8.0</td>\n",
       "      <td>3.0</td>\n",
       "      <td>0.0</td>\n",
       "      <td>8.0</td>\n",
       "      <td>7.0</td>\n",
       "    </tr>\n",
       "    <tr>\n",
       "      <th>c</th>\n",
       "      <td>6.0</td>\n",
       "      <td>2.0</td>\n",
       "      <td>3.0</td>\n",
       "      <td>6.0</td>\n",
       "      <td>9.0</td>\n",
       "      <td>8.0</td>\n",
       "    </tr>\n",
       "    <tr>\n",
       "      <th>b</th>\n",
       "      <td>4.0</td>\n",
       "      <td>6.0</td>\n",
       "      <td>8.0</td>\n",
       "      <td>1.0</td>\n",
       "      <td>1.0</td>\n",
       "      <td>2.0</td>\n",
       "    </tr>\n",
       "  </tbody>\n",
       "</table>\n",
       "</div>"
      ],
      "text/plain": [
       "     Q    W    E    R    T    U\n",
       "A  9.0  8.0  3.0  0.0  8.0  7.0\n",
       "B  9.0  8.0  3.0  0.0  8.0  7.0\n",
       "C  9.0  8.0  3.0  0.0  8.0  7.0\n",
       "a  9.0  8.0  3.0  0.0  8.0  7.0\n",
       "c  6.0  2.0  3.0  6.0  9.0  8.0\n",
       "b  4.0  6.0  8.0  1.0  1.0  2.0"
      ]
     },
     "execution_count": 109,
     "metadata": {},
     "output_type": "execute_result"
    }
   ],
   "source": [
    "save.sort_values(by='Q', ascending=False)"
   ]
  },
  {
   "cell_type": "code",
   "execution_count": 82,
   "metadata": {
    "scrolled": true
   },
   "outputs": [
    {
     "data": {
      "text/html": [
       "<div>\n",
       "<style scoped>\n",
       "    .dataframe tbody tr th:only-of-type {\n",
       "        vertical-align: middle;\n",
       "    }\n",
       "\n",
       "    .dataframe tbody tr th {\n",
       "        vertical-align: top;\n",
       "    }\n",
       "\n",
       "    .dataframe thead th {\n",
       "        text-align: right;\n",
       "    }\n",
       "</style>\n",
       "<table border=\"1\" class=\"dataframe\">\n",
       "  <thead>\n",
       "    <tr style=\"text-align: right;\">\n",
       "      <th></th>\n",
       "      <th>Q</th>\n",
       "      <th>W</th>\n",
       "    </tr>\n",
       "  </thead>\n",
       "  <tbody>\n",
       "    <tr>\n",
       "      <th>a</th>\n",
       "      <td>9</td>\n",
       "      <td>8</td>\n",
       "    </tr>\n",
       "    <tr>\n",
       "      <th>b</th>\n",
       "      <td>4</td>\n",
       "      <td>6</td>\n",
       "    </tr>\n",
       "    <tr>\n",
       "      <th>c</th>\n",
       "      <td>6</td>\n",
       "      <td>2</td>\n",
       "    </tr>\n",
       "    <tr>\n",
       "      <th>d</th>\n",
       "      <td>9</td>\n",
       "      <td>4</td>\n",
       "    </tr>\n",
       "    <tr>\n",
       "      <th>e</th>\n",
       "      <td>8</td>\n",
       "      <td>3</td>\n",
       "    </tr>\n",
       "  </tbody>\n",
       "</table>\n",
       "</div>"
      ],
      "text/plain": [
       "   Q  W\n",
       "a  9  8\n",
       "b  4  6\n",
       "c  6  2\n",
       "d  9  4\n",
       "e  8  3"
      ]
     },
     "metadata": {},
     "output_type": "display_data"
    },
    {
     "ename": "ValueError",
     "evalue": "index must be monotonic increasing or decreasing",
     "output_type": "error",
     "traceback": [
      "\u001b[1;31m---------------------------------------------------------------------------\u001b[0m",
      "\u001b[1;31mValueError\u001b[0m                                Traceback (most recent call last)",
      "\u001b[1;32m<ipython-input-82-be2f595fec4d>\u001b[0m in \u001b[0;36m<module>\u001b[1;34m\u001b[0m\n\u001b[0;32m      1\u001b[0m \u001b[1;31m# display(df.reindex(['b','c','A','B','C','a'], axis='columns'))\u001b[0m\u001b[1;33m\u001b[0m\u001b[1;33m\u001b[0m\u001b[1;33m\u001b[0m\u001b[0m\n\u001b[0;32m      2\u001b[0m \u001b[0mdisplay\u001b[0m\u001b[1;33m(\u001b[0m\u001b[0mdf\u001b[0m\u001b[1;33m.\u001b[0m\u001b[0mreindex\u001b[0m\u001b[1;33m(\u001b[0m\u001b[1;33m[\u001b[0m\u001b[1;34m'Q'\u001b[0m\u001b[1;33m,\u001b[0m\u001b[1;34m'W'\u001b[0m\u001b[1;33m]\u001b[0m\u001b[1;33m,\u001b[0m \u001b[0maxis\u001b[0m\u001b[1;33m=\u001b[0m\u001b[1;34m'columns'\u001b[0m\u001b[1;33m)\u001b[0m\u001b[1;33m)\u001b[0m\u001b[1;33m\u001b[0m\u001b[1;33m\u001b[0m\u001b[0m\n\u001b[1;32m----> 3\u001b[1;33m \u001b[0mdisplay\u001b[0m\u001b[1;33m(\u001b[0m\u001b[0mdf\u001b[0m\u001b[1;33m.\u001b[0m\u001b[0mreindex\u001b[0m\u001b[1;33m(\u001b[0m\u001b[1;33m[\u001b[0m\u001b[1;34m'Q'\u001b[0m\u001b[1;33m,\u001b[0m\u001b[1;34m'W'\u001b[0m\u001b[1;33m,\u001b[0m\u001b[1;34m'FillIT'\u001b[0m\u001b[1;33m]\u001b[0m\u001b[1;33m,\u001b[0m \u001b[0maxis\u001b[0m\u001b[1;33m=\u001b[0m\u001b[1;34m'columns'\u001b[0m\u001b[1;33m,\u001b[0m \u001b[0mmethod\u001b[0m\u001b[1;33m=\u001b[0m\u001b[1;34m'ffill'\u001b[0m\u001b[1;33m)\u001b[0m\u001b[1;33m)\u001b[0m\u001b[1;33m\u001b[0m\u001b[1;33m\u001b[0m\u001b[0m\n\u001b[0m\u001b[0;32m      4\u001b[0m \u001b[1;31m# display(df.reindex(['b','c','A','B','C','a']))\u001b[0m\u001b[1;33m\u001b[0m\u001b[1;33m\u001b[0m\u001b[1;33m\u001b[0m\u001b[0m\n",
      "\u001b[1;32m~\\anaconda3\\lib\\site-packages\\pandas\\util\\_decorators.py\u001b[0m in \u001b[0;36mwrapper\u001b[1;34m(*args, **kwargs)\u001b[0m\n\u001b[0;32m    307\u001b[0m         \u001b[1;33m@\u001b[0m\u001b[0mwraps\u001b[0m\u001b[1;33m(\u001b[0m\u001b[0mfunc\u001b[0m\u001b[1;33m)\u001b[0m\u001b[1;33m\u001b[0m\u001b[1;33m\u001b[0m\u001b[0m\n\u001b[0;32m    308\u001b[0m         \u001b[1;32mdef\u001b[0m \u001b[0mwrapper\u001b[0m\u001b[1;33m(\u001b[0m\u001b[1;33m*\u001b[0m\u001b[0margs\u001b[0m\u001b[1;33m,\u001b[0m \u001b[1;33m**\u001b[0m\u001b[0mkwargs\u001b[0m\u001b[1;33m)\u001b[0m \u001b[1;33m->\u001b[0m \u001b[0mCallable\u001b[0m\u001b[1;33m[\u001b[0m\u001b[1;33m...\u001b[0m\u001b[1;33m,\u001b[0m \u001b[0mAny\u001b[0m\u001b[1;33m]\u001b[0m\u001b[1;33m:\u001b[0m\u001b[1;33m\u001b[0m\u001b[1;33m\u001b[0m\u001b[0m\n\u001b[1;32m--> 309\u001b[1;33m             \u001b[1;32mreturn\u001b[0m \u001b[0mfunc\u001b[0m\u001b[1;33m(\u001b[0m\u001b[1;33m*\u001b[0m\u001b[0margs\u001b[0m\u001b[1;33m,\u001b[0m \u001b[1;33m**\u001b[0m\u001b[0mkwargs\u001b[0m\u001b[1;33m)\u001b[0m\u001b[1;33m\u001b[0m\u001b[1;33m\u001b[0m\u001b[0m\n\u001b[0m\u001b[0;32m    310\u001b[0m \u001b[1;33m\u001b[0m\u001b[0m\n\u001b[0;32m    311\u001b[0m         \u001b[0mkind\u001b[0m \u001b[1;33m=\u001b[0m \u001b[0minspect\u001b[0m\u001b[1;33m.\u001b[0m\u001b[0mParameter\u001b[0m\u001b[1;33m.\u001b[0m\u001b[0mPOSITIONAL_OR_KEYWORD\u001b[0m\u001b[1;33m\u001b[0m\u001b[1;33m\u001b[0m\u001b[0m\n",
      "\u001b[1;32m~\\anaconda3\\lib\\site-packages\\pandas\\core\\frame.py\u001b[0m in \u001b[0;36mreindex\u001b[1;34m(self, *args, **kwargs)\u001b[0m\n\u001b[0;32m   4030\u001b[0m         \u001b[0mkwargs\u001b[0m\u001b[1;33m.\u001b[0m\u001b[0mpop\u001b[0m\u001b[1;33m(\u001b[0m\u001b[1;34m\"axis\"\u001b[0m\u001b[1;33m,\u001b[0m \u001b[1;32mNone\u001b[0m\u001b[1;33m)\u001b[0m\u001b[1;33m\u001b[0m\u001b[1;33m\u001b[0m\u001b[0m\n\u001b[0;32m   4031\u001b[0m         \u001b[0mkwargs\u001b[0m\u001b[1;33m.\u001b[0m\u001b[0mpop\u001b[0m\u001b[1;33m(\u001b[0m\u001b[1;34m\"labels\"\u001b[0m\u001b[1;33m,\u001b[0m \u001b[1;32mNone\u001b[0m\u001b[1;33m)\u001b[0m\u001b[1;33m\u001b[0m\u001b[1;33m\u001b[0m\u001b[0m\n\u001b[1;32m-> 4032\u001b[1;33m         \u001b[1;32mreturn\u001b[0m \u001b[0msuper\u001b[0m\u001b[1;33m(\u001b[0m\u001b[1;33m)\u001b[0m\u001b[1;33m.\u001b[0m\u001b[0mreindex\u001b[0m\u001b[1;33m(\u001b[0m\u001b[1;33m**\u001b[0m\u001b[0mkwargs\u001b[0m\u001b[1;33m)\u001b[0m\u001b[1;33m\u001b[0m\u001b[1;33m\u001b[0m\u001b[0m\n\u001b[0m\u001b[0;32m   4033\u001b[0m \u001b[1;33m\u001b[0m\u001b[0m\n\u001b[0;32m   4034\u001b[0m     def drop(\n",
      "\u001b[1;32m~\\anaconda3\\lib\\site-packages\\pandas\\core\\generic.py\u001b[0m in \u001b[0;36mreindex\u001b[1;34m(self, *args, **kwargs)\u001b[0m\n\u001b[0;32m   4459\u001b[0m \u001b[1;33m\u001b[0m\u001b[0m\n\u001b[0;32m   4460\u001b[0m         \u001b[1;31m# perform the reindex on the axes\u001b[0m\u001b[1;33m\u001b[0m\u001b[1;33m\u001b[0m\u001b[1;33m\u001b[0m\u001b[0m\n\u001b[1;32m-> 4461\u001b[1;33m         return self._reindex_axes(\n\u001b[0m\u001b[0;32m   4462\u001b[0m             \u001b[0maxes\u001b[0m\u001b[1;33m,\u001b[0m \u001b[0mlevel\u001b[0m\u001b[1;33m,\u001b[0m \u001b[0mlimit\u001b[0m\u001b[1;33m,\u001b[0m \u001b[0mtolerance\u001b[0m\u001b[1;33m,\u001b[0m \u001b[0mmethod\u001b[0m\u001b[1;33m,\u001b[0m \u001b[0mfill_value\u001b[0m\u001b[1;33m,\u001b[0m \u001b[0mcopy\u001b[0m\u001b[1;33m\u001b[0m\u001b[1;33m\u001b[0m\u001b[0m\n\u001b[0;32m   4463\u001b[0m         ).__finalize__(self, method=\"reindex\")\n",
      "\u001b[1;32m~\\anaconda3\\lib\\site-packages\\pandas\\core\\frame.py\u001b[0m in \u001b[0;36m_reindex_axes\u001b[1;34m(self, axes, level, limit, tolerance, method, fill_value, copy)\u001b[0m\n\u001b[0;32m   3870\u001b[0m         \u001b[0mcolumns\u001b[0m \u001b[1;33m=\u001b[0m \u001b[0maxes\u001b[0m\u001b[1;33m[\u001b[0m\u001b[1;34m\"columns\"\u001b[0m\u001b[1;33m]\u001b[0m\u001b[1;33m\u001b[0m\u001b[1;33m\u001b[0m\u001b[0m\n\u001b[0;32m   3871\u001b[0m         \u001b[1;32mif\u001b[0m \u001b[0mcolumns\u001b[0m \u001b[1;32mis\u001b[0m \u001b[1;32mnot\u001b[0m \u001b[1;32mNone\u001b[0m\u001b[1;33m:\u001b[0m\u001b[1;33m\u001b[0m\u001b[1;33m\u001b[0m\u001b[0m\n\u001b[1;32m-> 3872\u001b[1;33m             frame = frame._reindex_columns(\n\u001b[0m\u001b[0;32m   3873\u001b[0m                 \u001b[0mcolumns\u001b[0m\u001b[1;33m,\u001b[0m \u001b[0mmethod\u001b[0m\u001b[1;33m,\u001b[0m \u001b[0mcopy\u001b[0m\u001b[1;33m,\u001b[0m \u001b[0mlevel\u001b[0m\u001b[1;33m,\u001b[0m \u001b[0mfill_value\u001b[0m\u001b[1;33m,\u001b[0m \u001b[0mlimit\u001b[0m\u001b[1;33m,\u001b[0m \u001b[0mtolerance\u001b[0m\u001b[1;33m\u001b[0m\u001b[1;33m\u001b[0m\u001b[0m\n\u001b[0;32m   3874\u001b[0m             )\n",
      "\u001b[1;32m~\\anaconda3\\lib\\site-packages\\pandas\\core\\frame.py\u001b[0m in \u001b[0;36m_reindex_columns\u001b[1;34m(self, new_columns, method, copy, level, fill_value, limit, tolerance)\u001b[0m\n\u001b[0;32m   3912\u001b[0m         \u001b[0mtolerance\u001b[0m\u001b[1;33m=\u001b[0m\u001b[1;32mNone\u001b[0m\u001b[1;33m,\u001b[0m\u001b[1;33m\u001b[0m\u001b[1;33m\u001b[0m\u001b[0m\n\u001b[0;32m   3913\u001b[0m     ):\n\u001b[1;32m-> 3914\u001b[1;33m         new_columns, indexer = self.columns.reindex(\n\u001b[0m\u001b[0;32m   3915\u001b[0m             \u001b[0mnew_columns\u001b[0m\u001b[1;33m,\u001b[0m \u001b[0mmethod\u001b[0m\u001b[1;33m=\u001b[0m\u001b[0mmethod\u001b[0m\u001b[1;33m,\u001b[0m \u001b[0mlevel\u001b[0m\u001b[1;33m=\u001b[0m\u001b[0mlevel\u001b[0m\u001b[1;33m,\u001b[0m \u001b[0mlimit\u001b[0m\u001b[1;33m=\u001b[0m\u001b[0mlimit\u001b[0m\u001b[1;33m,\u001b[0m \u001b[0mtolerance\u001b[0m\u001b[1;33m=\u001b[0m\u001b[0mtolerance\u001b[0m\u001b[1;33m\u001b[0m\u001b[1;33m\u001b[0m\u001b[0m\n\u001b[0;32m   3916\u001b[0m         )\n",
      "\u001b[1;32m~\\anaconda3\\lib\\site-packages\\pandas\\core\\indexes\\base.py\u001b[0m in \u001b[0;36mreindex\u001b[1;34m(self, target, method, level, limit, tolerance)\u001b[0m\n\u001b[0;32m   3332\u001b[0m                 \u001b[1;31m# check is_overlapping for IntervalIndex compat\u001b[0m\u001b[1;33m\u001b[0m\u001b[1;33m\u001b[0m\u001b[1;33m\u001b[0m\u001b[0m\n\u001b[0;32m   3333\u001b[0m                 \u001b[1;32mif\u001b[0m \u001b[0mself\u001b[0m\u001b[1;33m.\u001b[0m\u001b[0mis_unique\u001b[0m \u001b[1;32mand\u001b[0m \u001b[1;32mnot\u001b[0m \u001b[0mgetattr\u001b[0m\u001b[1;33m(\u001b[0m\u001b[0mself\u001b[0m\u001b[1;33m,\u001b[0m \u001b[1;34m\"is_overlapping\"\u001b[0m\u001b[1;33m,\u001b[0m \u001b[1;32mFalse\u001b[0m\u001b[1;33m)\u001b[0m\u001b[1;33m:\u001b[0m\u001b[1;33m\u001b[0m\u001b[1;33m\u001b[0m\u001b[0m\n\u001b[1;32m-> 3334\u001b[1;33m                     indexer = self.get_indexer(\n\u001b[0m\u001b[0;32m   3335\u001b[0m                         \u001b[0mtarget\u001b[0m\u001b[1;33m,\u001b[0m \u001b[0mmethod\u001b[0m\u001b[1;33m=\u001b[0m\u001b[0mmethod\u001b[0m\u001b[1;33m,\u001b[0m \u001b[0mlimit\u001b[0m\u001b[1;33m=\u001b[0m\u001b[0mlimit\u001b[0m\u001b[1;33m,\u001b[0m \u001b[0mtolerance\u001b[0m\u001b[1;33m=\u001b[0m\u001b[0mtolerance\u001b[0m\u001b[1;33m\u001b[0m\u001b[1;33m\u001b[0m\u001b[0m\n\u001b[0;32m   3336\u001b[0m                     )\n",
      "\u001b[1;32m~\\anaconda3\\lib\\site-packages\\pandas\\core\\indexes\\base.py\u001b[0m in \u001b[0;36mget_indexer\u001b[1;34m(self, target, method, limit, tolerance)\u001b[0m\n\u001b[0;32m   2989\u001b[0m \u001b[1;33m\u001b[0m\u001b[0m\n\u001b[0;32m   2990\u001b[0m         \u001b[1;32mif\u001b[0m \u001b[0mmethod\u001b[0m \u001b[1;33m==\u001b[0m \u001b[1;34m\"pad\"\u001b[0m \u001b[1;32mor\u001b[0m \u001b[0mmethod\u001b[0m \u001b[1;33m==\u001b[0m \u001b[1;34m\"backfill\"\u001b[0m\u001b[1;33m:\u001b[0m\u001b[1;33m\u001b[0m\u001b[1;33m\u001b[0m\u001b[0m\n\u001b[1;32m-> 2991\u001b[1;33m             \u001b[0mindexer\u001b[0m \u001b[1;33m=\u001b[0m \u001b[0mself\u001b[0m\u001b[1;33m.\u001b[0m\u001b[0m_get_fill_indexer\u001b[0m\u001b[1;33m(\u001b[0m\u001b[0mtarget\u001b[0m\u001b[1;33m,\u001b[0m \u001b[0mmethod\u001b[0m\u001b[1;33m,\u001b[0m \u001b[0mlimit\u001b[0m\u001b[1;33m,\u001b[0m \u001b[0mtolerance\u001b[0m\u001b[1;33m)\u001b[0m\u001b[1;33m\u001b[0m\u001b[1;33m\u001b[0m\u001b[0m\n\u001b[0m\u001b[0;32m   2992\u001b[0m         \u001b[1;32melif\u001b[0m \u001b[0mmethod\u001b[0m \u001b[1;33m==\u001b[0m \u001b[1;34m\"nearest\"\u001b[0m\u001b[1;33m:\u001b[0m\u001b[1;33m\u001b[0m\u001b[1;33m\u001b[0m\u001b[0m\n\u001b[0;32m   2993\u001b[0m             \u001b[0mindexer\u001b[0m \u001b[1;33m=\u001b[0m \u001b[0mself\u001b[0m\u001b[1;33m.\u001b[0m\u001b[0m_get_nearest_indexer\u001b[0m\u001b[1;33m(\u001b[0m\u001b[0mtarget\u001b[0m\u001b[1;33m,\u001b[0m \u001b[0mlimit\u001b[0m\u001b[1;33m,\u001b[0m \u001b[0mtolerance\u001b[0m\u001b[1;33m)\u001b[0m\u001b[1;33m\u001b[0m\u001b[1;33m\u001b[0m\u001b[0m\n",
      "\u001b[1;32m~\\anaconda3\\lib\\site-packages\\pandas\\core\\indexes\\base.py\u001b[0m in \u001b[0;36m_get_fill_indexer\u001b[1;34m(self, target, method, limit, tolerance)\u001b[0m\n\u001b[0;32m   3029\u001b[0m             \u001b[0mindexer\u001b[0m \u001b[1;33m=\u001b[0m \u001b[0mengine_method\u001b[0m\u001b[1;33m(\u001b[0m\u001b[0mtarget_values\u001b[0m\u001b[1;33m,\u001b[0m \u001b[0mlimit\u001b[0m\u001b[1;33m)\u001b[0m\u001b[1;33m\u001b[0m\u001b[1;33m\u001b[0m\u001b[0m\n\u001b[0;32m   3030\u001b[0m         \u001b[1;32melse\u001b[0m\u001b[1;33m:\u001b[0m\u001b[1;33m\u001b[0m\u001b[1;33m\u001b[0m\u001b[0m\n\u001b[1;32m-> 3031\u001b[1;33m             \u001b[0mindexer\u001b[0m \u001b[1;33m=\u001b[0m \u001b[0mself\u001b[0m\u001b[1;33m.\u001b[0m\u001b[0m_get_fill_indexer_searchsorted\u001b[0m\u001b[1;33m(\u001b[0m\u001b[0mtarget\u001b[0m\u001b[1;33m,\u001b[0m \u001b[0mmethod\u001b[0m\u001b[1;33m,\u001b[0m \u001b[0mlimit\u001b[0m\u001b[1;33m)\u001b[0m\u001b[1;33m\u001b[0m\u001b[1;33m\u001b[0m\u001b[0m\n\u001b[0m\u001b[0;32m   3032\u001b[0m         \u001b[1;32mif\u001b[0m \u001b[0mtolerance\u001b[0m \u001b[1;32mis\u001b[0m \u001b[1;32mnot\u001b[0m \u001b[1;32mNone\u001b[0m\u001b[1;33m:\u001b[0m\u001b[1;33m\u001b[0m\u001b[1;33m\u001b[0m\u001b[0m\n\u001b[0;32m   3033\u001b[0m             \u001b[0mindexer\u001b[0m \u001b[1;33m=\u001b[0m \u001b[0mself\u001b[0m\u001b[1;33m.\u001b[0m\u001b[0m_filter_indexer_tolerance\u001b[0m\u001b[1;33m(\u001b[0m\u001b[0mtarget_values\u001b[0m\u001b[1;33m,\u001b[0m \u001b[0mindexer\u001b[0m\u001b[1;33m,\u001b[0m \u001b[0mtolerance\u001b[0m\u001b[1;33m)\u001b[0m\u001b[1;33m\u001b[0m\u001b[1;33m\u001b[0m\u001b[0m\n",
      "\u001b[1;32m~\\anaconda3\\lib\\site-packages\\pandas\\core\\indexes\\base.py\u001b[0m in \u001b[0;36m_get_fill_indexer_searchsorted\u001b[1;34m(self, target, method, limit)\u001b[0m\n\u001b[0;32m   3052\u001b[0m         \u001b[0mindexer\u001b[0m \u001b[1;33m=\u001b[0m \u001b[0mself\u001b[0m\u001b[1;33m.\u001b[0m\u001b[0mget_indexer\u001b[0m\u001b[1;33m(\u001b[0m\u001b[0mtarget\u001b[0m\u001b[1;33m)\u001b[0m\u001b[1;33m\u001b[0m\u001b[1;33m\u001b[0m\u001b[0m\n\u001b[0;32m   3053\u001b[0m         \u001b[0mnonexact\u001b[0m \u001b[1;33m=\u001b[0m \u001b[0mindexer\u001b[0m \u001b[1;33m==\u001b[0m \u001b[1;33m-\u001b[0m\u001b[1;36m1\u001b[0m\u001b[1;33m\u001b[0m\u001b[1;33m\u001b[0m\u001b[0m\n\u001b[1;32m-> 3054\u001b[1;33m         \u001b[0mindexer\u001b[0m\u001b[1;33m[\u001b[0m\u001b[0mnonexact\u001b[0m\u001b[1;33m]\u001b[0m \u001b[1;33m=\u001b[0m \u001b[0mself\u001b[0m\u001b[1;33m.\u001b[0m\u001b[0m_searchsorted_monotonic\u001b[0m\u001b[1;33m(\u001b[0m\u001b[0mtarget\u001b[0m\u001b[1;33m[\u001b[0m\u001b[0mnonexact\u001b[0m\u001b[1;33m]\u001b[0m\u001b[1;33m,\u001b[0m \u001b[0mside\u001b[0m\u001b[1;33m)\u001b[0m\u001b[1;33m\u001b[0m\u001b[1;33m\u001b[0m\u001b[0m\n\u001b[0m\u001b[0;32m   3055\u001b[0m         \u001b[1;32mif\u001b[0m \u001b[0mside\u001b[0m \u001b[1;33m==\u001b[0m \u001b[1;34m\"left\"\u001b[0m\u001b[1;33m:\u001b[0m\u001b[1;33m\u001b[0m\u001b[1;33m\u001b[0m\u001b[0m\n\u001b[0;32m   3056\u001b[0m             \u001b[1;31m# searchsorted returns \"indices into a sorted array such that,\u001b[0m\u001b[1;33m\u001b[0m\u001b[1;33m\u001b[0m\u001b[1;33m\u001b[0m\u001b[0m\n",
      "\u001b[1;32m~\\anaconda3\\lib\\site-packages\\pandas\\core\\indexes\\base.py\u001b[0m in \u001b[0;36m_searchsorted_monotonic\u001b[1;34m(self, label, side)\u001b[0m\n\u001b[0;32m   5045\u001b[0m             \u001b[1;32mreturn\u001b[0m \u001b[0mlen\u001b[0m\u001b[1;33m(\u001b[0m\u001b[0mself\u001b[0m\u001b[1;33m)\u001b[0m \u001b[1;33m-\u001b[0m \u001b[0mpos\u001b[0m\u001b[1;33m\u001b[0m\u001b[1;33m\u001b[0m\u001b[0m\n\u001b[0;32m   5046\u001b[0m \u001b[1;33m\u001b[0m\u001b[0m\n\u001b[1;32m-> 5047\u001b[1;33m         \u001b[1;32mraise\u001b[0m \u001b[0mValueError\u001b[0m\u001b[1;33m(\u001b[0m\u001b[1;34m\"index must be monotonic increasing or decreasing\"\u001b[0m\u001b[1;33m)\u001b[0m\u001b[1;33m\u001b[0m\u001b[1;33m\u001b[0m\u001b[0m\n\u001b[0m\u001b[0;32m   5048\u001b[0m \u001b[1;33m\u001b[0m\u001b[0m\n\u001b[0;32m   5049\u001b[0m     \u001b[1;32mdef\u001b[0m \u001b[0mget_slice_bound\u001b[0m\u001b[1;33m(\u001b[0m\u001b[0mself\u001b[0m\u001b[1;33m,\u001b[0m \u001b[0mlabel\u001b[0m\u001b[1;33m,\u001b[0m \u001b[0mside\u001b[0m\u001b[1;33m:\u001b[0m \u001b[0mstr_t\u001b[0m\u001b[1;33m,\u001b[0m \u001b[0mkind\u001b[0m\u001b[1;33m)\u001b[0m \u001b[1;33m->\u001b[0m \u001b[0mint\u001b[0m\u001b[1;33m:\u001b[0m\u001b[1;33m\u001b[0m\u001b[1;33m\u001b[0m\u001b[0m\n",
      "\u001b[1;31mValueError\u001b[0m: index must be monotonic increasing or decreasing"
     ]
    }
   ],
   "source": [
    "# display(df.reindex(['b','c','A','B','C','a'], axis='columns'))\n",
    "display(df.reindex(['Q','W'], axis='columns'))\n",
    "display(df.reindex(['Q','W','FillIT'], axis='columns', method='ffill'))\n",
    "# display(df.reindex(['b','c','A','B','C','a']))"
   ]
  },
  {
   "cell_type": "code",
   "execution_count": 81,
   "metadata": {},
   "outputs": [
    {
     "data": {
      "text/html": [
       "<div>\n",
       "<style scoped>\n",
       "    .dataframe tbody tr th:only-of-type {\n",
       "        vertical-align: middle;\n",
       "    }\n",
       "\n",
       "    .dataframe tbody tr th {\n",
       "        vertical-align: top;\n",
       "    }\n",
       "\n",
       "    .dataframe thead th {\n",
       "        text-align: right;\n",
       "    }\n",
       "</style>\n",
       "<table border=\"1\" class=\"dataframe\">\n",
       "  <thead>\n",
       "    <tr style=\"text-align: right;\">\n",
       "      <th></th>\n",
       "      <th>Q</th>\n",
       "      <th>W</th>\n",
       "      <th>FillIT</th>\n",
       "    </tr>\n",
       "  </thead>\n",
       "  <tbody>\n",
       "    <tr>\n",
       "      <th>a</th>\n",
       "      <td>9.0</td>\n",
       "      <td>8.0</td>\n",
       "      <td>8.0</td>\n",
       "    </tr>\n",
       "    <tr>\n",
       "      <th>b</th>\n",
       "      <td>4.0</td>\n",
       "      <td>6.0</td>\n",
       "      <td>6.0</td>\n",
       "    </tr>\n",
       "    <tr>\n",
       "      <th>c</th>\n",
       "      <td>6.0</td>\n",
       "      <td>2.0</td>\n",
       "      <td>2.0</td>\n",
       "    </tr>\n",
       "    <tr>\n",
       "      <th>d</th>\n",
       "      <td>9.0</td>\n",
       "      <td>4.0</td>\n",
       "      <td>4.0</td>\n",
       "    </tr>\n",
       "    <tr>\n",
       "      <th>e</th>\n",
       "      <td>8.0</td>\n",
       "      <td>3.0</td>\n",
       "      <td>3.0</td>\n",
       "    </tr>\n",
       "  </tbody>\n",
       "</table>\n",
       "</div>"
      ],
      "text/plain": [
       "     Q    W  FillIT\n",
       "a  9.0  8.0     8.0\n",
       "b  4.0  6.0     6.0\n",
       "c  6.0  2.0     2.0\n",
       "d  9.0  4.0     4.0\n",
       "e  8.0  3.0     3.0"
      ]
     },
     "execution_count": 81,
     "metadata": {},
     "output_type": "execute_result"
    }
   ],
   "source": [
    "save.fillna(method= 'ffill', axis=1)"
   ]
  },
  {
   "cell_type": "code",
   "execution_count": 20,
   "metadata": {},
   "outputs": [
    {
     "data": {
      "text/html": [
       "<div>\n",
       "<style scoped>\n",
       "    .dataframe tbody tr th:only-of-type {\n",
       "        vertical-align: middle;\n",
       "    }\n",
       "\n",
       "    .dataframe tbody tr th {\n",
       "        vertical-align: top;\n",
       "    }\n",
       "\n",
       "    .dataframe thead th {\n",
       "        text-align: right;\n",
       "    }\n",
       "</style>\n",
       "<table border=\"1\" class=\"dataframe\">\n",
       "  <thead>\n",
       "    <tr style=\"text-align: right;\">\n",
       "      <th></th>\n",
       "      <th>Q</th>\n",
       "      <th>W</th>\n",
       "      <th>E</th>\n",
       "      <th>R</th>\n",
       "      <th>T</th>\n",
       "      <th>U</th>\n",
       "    </tr>\n",
       "  </thead>\n",
       "  <tbody>\n",
       "    <tr>\n",
       "      <th>b</th>\n",
       "      <td>3.0</td>\n",
       "      <td>3.0</td>\n",
       "      <td>7.0</td>\n",
       "      <td>4.0</td>\n",
       "      <td>7.0</td>\n",
       "      <td>7.0</td>\n",
       "    </tr>\n",
       "    <tr>\n",
       "      <th>c</th>\n",
       "      <td>9.0</td>\n",
       "      <td>4.0</td>\n",
       "      <td>8.0</td>\n",
       "      <td>1.0</td>\n",
       "      <td>0.0</td>\n",
       "      <td>8.0</td>\n",
       "    </tr>\n",
       "    <tr>\n",
       "      <th>A</th>\n",
       "      <td>NaN</td>\n",
       "      <td>NaN</td>\n",
       "      <td>NaN</td>\n",
       "      <td>NaN</td>\n",
       "      <td>NaN</td>\n",
       "      <td>NaN</td>\n",
       "    </tr>\n",
       "    <tr>\n",
       "      <th>B</th>\n",
       "      <td>NaN</td>\n",
       "      <td>NaN</td>\n",
       "      <td>NaN</td>\n",
       "      <td>NaN</td>\n",
       "      <td>NaN</td>\n",
       "      <td>NaN</td>\n",
       "    </tr>\n",
       "    <tr>\n",
       "      <th>C</th>\n",
       "      <td>NaN</td>\n",
       "      <td>NaN</td>\n",
       "      <td>NaN</td>\n",
       "      <td>NaN</td>\n",
       "      <td>NaN</td>\n",
       "      <td>NaN</td>\n",
       "    </tr>\n",
       "    <tr>\n",
       "      <th>a</th>\n",
       "      <td>2.0</td>\n",
       "      <td>3.0</td>\n",
       "      <td>3.0</td>\n",
       "      <td>6.0</td>\n",
       "      <td>1.0</td>\n",
       "      <td>6.0</td>\n",
       "    </tr>\n",
       "  </tbody>\n",
       "</table>\n",
       "</div>"
      ],
      "text/plain": [
       "     Q    W    E    R    T    U\n",
       "b  3.0  3.0  7.0  4.0  7.0  7.0\n",
       "c  9.0  4.0  8.0  1.0  0.0  8.0\n",
       "A  NaN  NaN  NaN  NaN  NaN  NaN\n",
       "B  NaN  NaN  NaN  NaN  NaN  NaN\n",
       "C  NaN  NaN  NaN  NaN  NaN  NaN\n",
       "a  2.0  3.0  3.0  6.0  1.0  6.0"
      ]
     },
     "execution_count": 20,
     "metadata": {},
     "output_type": "execute_result"
    }
   ],
   "source": []
  },
  {
   "cell_type": "markdown",
   "metadata": {},
   "source": [
    "# "
   ]
  },
  {
   "cell_type": "markdown",
   "metadata": {},
   "source": [
    "# "
   ]
  },
  {
   "cell_type": "markdown",
   "metadata": {},
   "source": [
    "# "
   ]
  },
  {
   "cell_type": "code",
   "execution_count": 131,
   "metadata": {},
   "outputs": [],
   "source": [
    "df = pd.DataFrame(np.random.randint(0,10,(5,6)), index= list('ACDBE'), columns=list('GIKJHL'))"
   ]
  },
  {
   "cell_type": "code",
   "execution_count": 134,
   "metadata": {},
   "outputs": [
    {
     "data": {
      "text/html": [
       "<div>\n",
       "<style scoped>\n",
       "    .dataframe tbody tr th:only-of-type {\n",
       "        vertical-align: middle;\n",
       "    }\n",
       "\n",
       "    .dataframe tbody tr th {\n",
       "        vertical-align: top;\n",
       "    }\n",
       "\n",
       "    .dataframe thead th {\n",
       "        text-align: right;\n",
       "    }\n",
       "</style>\n",
       "<table border=\"1\" class=\"dataframe\">\n",
       "  <thead>\n",
       "    <tr style=\"text-align: right;\">\n",
       "      <th></th>\n",
       "      <th>G</th>\n",
       "      <th>I</th>\n",
       "      <th>K</th>\n",
       "      <th>J</th>\n",
       "      <th>H</th>\n",
       "      <th>L</th>\n",
       "    </tr>\n",
       "  </thead>\n",
       "  <tbody>\n",
       "    <tr>\n",
       "      <th>A</th>\n",
       "      <td>4</td>\n",
       "      <td>1</td>\n",
       "      <td>4</td>\n",
       "      <td>2</td>\n",
       "      <td>5</td>\n",
       "      <td>6</td>\n",
       "    </tr>\n",
       "    <tr>\n",
       "      <th>C</th>\n",
       "      <td>3</td>\n",
       "      <td>3</td>\n",
       "      <td>1</td>\n",
       "      <td>0</td>\n",
       "      <td>7</td>\n",
       "      <td>6</td>\n",
       "    </tr>\n",
       "    <tr>\n",
       "      <th>D</th>\n",
       "      <td>7</td>\n",
       "      <td>3</td>\n",
       "      <td>3</td>\n",
       "      <td>8</td>\n",
       "      <td>8</td>\n",
       "      <td>6</td>\n",
       "    </tr>\n",
       "    <tr>\n",
       "      <th>B</th>\n",
       "      <td>4</td>\n",
       "      <td>0</td>\n",
       "      <td>7</td>\n",
       "      <td>6</td>\n",
       "      <td>3</td>\n",
       "      <td>4</td>\n",
       "    </tr>\n",
       "    <tr>\n",
       "      <th>E</th>\n",
       "      <td>1</td>\n",
       "      <td>2</td>\n",
       "      <td>6</td>\n",
       "      <td>9</td>\n",
       "      <td>1</td>\n",
       "      <td>2</td>\n",
       "    </tr>\n",
       "  </tbody>\n",
       "</table>\n",
       "</div>"
      ],
      "text/plain": [
       "   G  I  K  J  H  L\n",
       "A  4  1  4  2  5  6\n",
       "C  3  3  1  0  7  6\n",
       "D  7  3  3  8  8  6\n",
       "B  4  0  7  6  3  4\n",
       "E  1  2  6  9  1  2"
      ]
     },
     "execution_count": 134,
     "metadata": {},
     "output_type": "execute_result"
    }
   ],
   "source": [
    "df"
   ]
  },
  {
   "cell_type": "code",
   "execution_count": 153,
   "metadata": {},
   "outputs": [
    {
     "data": {
      "text/plain": [
       "230518332528"
      ]
     },
     "execution_count": 153,
     "metadata": {},
     "output_type": "execute_result"
    }
   ],
   "source": [
    "id(df)"
   ]
  },
  {
   "cell_type": "code",
   "execution_count": 179,
   "metadata": {},
   "outputs": [],
   "source": [
    "df = pd.DataFrame(np.full((5,6), np.nan), index= list('ACDBE'), columns=list('GIKJHL'))"
   ]
  },
  {
   "cell_type": "code",
   "execution_count": 180,
   "metadata": {},
   "outputs": [
    {
     "data": {
      "text/html": [
       "<div>\n",
       "<style scoped>\n",
       "    .dataframe tbody tr th:only-of-type {\n",
       "        vertical-align: middle;\n",
       "    }\n",
       "\n",
       "    .dataframe tbody tr th {\n",
       "        vertical-align: top;\n",
       "    }\n",
       "\n",
       "    .dataframe thead th {\n",
       "        text-align: right;\n",
       "    }\n",
       "</style>\n",
       "<table border=\"1\" class=\"dataframe\">\n",
       "  <thead>\n",
       "    <tr style=\"text-align: right;\">\n",
       "      <th></th>\n",
       "      <th>G</th>\n",
       "      <th>I</th>\n",
       "      <th>K</th>\n",
       "      <th>J</th>\n",
       "      <th>H</th>\n",
       "      <th>L</th>\n",
       "    </tr>\n",
       "  </thead>\n",
       "  <tbody>\n",
       "    <tr>\n",
       "      <th>A</th>\n",
       "      <td>NaN</td>\n",
       "      <td>NaN</td>\n",
       "      <td>NaN</td>\n",
       "      <td>NaN</td>\n",
       "      <td>NaN</td>\n",
       "      <td>NaN</td>\n",
       "    </tr>\n",
       "    <tr>\n",
       "      <th>C</th>\n",
       "      <td>NaN</td>\n",
       "      <td>NaN</td>\n",
       "      <td>NaN</td>\n",
       "      <td>NaN</td>\n",
       "      <td>NaN</td>\n",
       "      <td>NaN</td>\n",
       "    </tr>\n",
       "    <tr>\n",
       "      <th>D</th>\n",
       "      <td>NaN</td>\n",
       "      <td>NaN</td>\n",
       "      <td>NaN</td>\n",
       "      <td>NaN</td>\n",
       "      <td>NaN</td>\n",
       "      <td>NaN</td>\n",
       "    </tr>\n",
       "    <tr>\n",
       "      <th>B</th>\n",
       "      <td>NaN</td>\n",
       "      <td>NaN</td>\n",
       "      <td>NaN</td>\n",
       "      <td>NaN</td>\n",
       "      <td>NaN</td>\n",
       "      <td>NaN</td>\n",
       "    </tr>\n",
       "    <tr>\n",
       "      <th>E</th>\n",
       "      <td>NaN</td>\n",
       "      <td>NaN</td>\n",
       "      <td>NaN</td>\n",
       "      <td>NaN</td>\n",
       "      <td>NaN</td>\n",
       "      <td>NaN</td>\n",
       "    </tr>\n",
       "  </tbody>\n",
       "</table>\n",
       "</div>"
      ],
      "text/plain": [
       "    G   I   K   J   H   L\n",
       "A NaN NaN NaN NaN NaN NaN\n",
       "C NaN NaN NaN NaN NaN NaN\n",
       "D NaN NaN NaN NaN NaN NaN\n",
       "B NaN NaN NaN NaN NaN NaN\n",
       "E NaN NaN NaN NaN NaN NaN"
      ]
     },
     "execution_count": 180,
     "metadata": {},
     "output_type": "execute_result"
    }
   ],
   "source": [
    "df"
   ]
  },
  {
   "cell_type": "code",
   "execution_count": 185,
   "metadata": {},
   "outputs": [
    {
     "data": {
      "text/html": [
       "<div>\n",
       "<style scoped>\n",
       "    .dataframe tbody tr th:only-of-type {\n",
       "        vertical-align: middle;\n",
       "    }\n",
       "\n",
       "    .dataframe tbody tr th {\n",
       "        vertical-align: top;\n",
       "    }\n",
       "\n",
       "    .dataframe thead th {\n",
       "        text-align: right;\n",
       "    }\n",
       "</style>\n",
       "<table border=\"1\" class=\"dataframe\">\n",
       "  <thead>\n",
       "    <tr style=\"text-align: right;\">\n",
       "      <th></th>\n",
       "      <th>G</th>\n",
       "      <th>I</th>\n",
       "      <th>_</th>\n",
       "      <th>_</th>\n",
       "      <th>H</th>\n",
       "      <th>L</th>\n",
       "    </tr>\n",
       "  </thead>\n",
       "  <tbody>\n",
       "    <tr>\n",
       "      <th>A</th>\n",
       "      <td>100.0</td>\n",
       "      <td>100.0</td>\n",
       "      <td>100.0</td>\n",
       "      <td>100.0</td>\n",
       "      <td>100.0</td>\n",
       "      <td>100.0</td>\n",
       "    </tr>\n",
       "    <tr>\n",
       "      <th>C</th>\n",
       "      <td>100.0</td>\n",
       "      <td>100.0</td>\n",
       "      <td>100.0</td>\n",
       "      <td>100.0</td>\n",
       "      <td>100.0</td>\n",
       "      <td>100.0</td>\n",
       "    </tr>\n",
       "    <tr>\n",
       "      <th>B</th>\n",
       "      <td>100.0</td>\n",
       "      <td>100.0</td>\n",
       "      <td>100.0</td>\n",
       "      <td>100.0</td>\n",
       "      <td>100.0</td>\n",
       "      <td>100.0</td>\n",
       "    </tr>\n",
       "    <tr>\n",
       "      <th>D</th>\n",
       "      <td>100.0</td>\n",
       "      <td>100.0</td>\n",
       "      <td>100.0</td>\n",
       "      <td>100.0</td>\n",
       "      <td>100.0</td>\n",
       "      <td>100.0</td>\n",
       "    </tr>\n",
       "    <tr>\n",
       "      <th>E</th>\n",
       "      <td>100.0</td>\n",
       "      <td>100.0</td>\n",
       "      <td>100.0</td>\n",
       "      <td>100.0</td>\n",
       "      <td>100.0</td>\n",
       "      <td>100.0</td>\n",
       "    </tr>\n",
       "  </tbody>\n",
       "</table>\n",
       "</div>"
      ],
      "text/plain": [
       "       G      I      _      _      H      L\n",
       "A  100.0  100.0  100.0  100.0  100.0  100.0\n",
       "C  100.0  100.0  100.0  100.0  100.0  100.0\n",
       "B  100.0  100.0  100.0  100.0  100.0  100.0\n",
       "D  100.0  100.0  100.0  100.0  100.0  100.0\n",
       "E  100.0  100.0  100.0  100.0  100.0  100.0"
      ]
     },
     "execution_count": 185,
     "metadata": {},
     "output_type": "execute_result"
    }
   ],
   "source": [
    "df.reindex(index= list('ACBDE'),\n",
    "           columns= list('GI__HL')).fillna(100)"
   ]
  },
  {
   "cell_type": "code",
   "execution_count": 216,
   "metadata": {},
   "outputs": [],
   "source": [
    "df = pd.DataFrame(np.random.randint(1,10,(5,6)), index= [1,3,5,7,9], columns=list('GIKJHL'))"
   ]
  },
  {
   "cell_type": "code",
   "execution_count": 217,
   "metadata": {},
   "outputs": [
    {
     "data": {
      "text/html": [
       "<div>\n",
       "<style scoped>\n",
       "    .dataframe tbody tr th:only-of-type {\n",
       "        vertical-align: middle;\n",
       "    }\n",
       "\n",
       "    .dataframe tbody tr th {\n",
       "        vertical-align: top;\n",
       "    }\n",
       "\n",
       "    .dataframe thead th {\n",
       "        text-align: right;\n",
       "    }\n",
       "</style>\n",
       "<table border=\"1\" class=\"dataframe\">\n",
       "  <thead>\n",
       "    <tr style=\"text-align: right;\">\n",
       "      <th></th>\n",
       "      <th>G</th>\n",
       "      <th>I</th>\n",
       "      <th>K</th>\n",
       "      <th>J</th>\n",
       "      <th>H</th>\n",
       "      <th>L</th>\n",
       "    </tr>\n",
       "  </thead>\n",
       "  <tbody>\n",
       "    <tr>\n",
       "      <th>1</th>\n",
       "      <td>4</td>\n",
       "      <td>3</td>\n",
       "      <td>7</td>\n",
       "      <td>7</td>\n",
       "      <td>3</td>\n",
       "      <td>1</td>\n",
       "    </tr>\n",
       "    <tr>\n",
       "      <th>3</th>\n",
       "      <td>3</td>\n",
       "      <td>9</td>\n",
       "      <td>4</td>\n",
       "      <td>4</td>\n",
       "      <td>5</td>\n",
       "      <td>9</td>\n",
       "    </tr>\n",
       "    <tr>\n",
       "      <th>5</th>\n",
       "      <td>4</td>\n",
       "      <td>6</td>\n",
       "      <td>6</td>\n",
       "      <td>7</td>\n",
       "      <td>2</td>\n",
       "      <td>3</td>\n",
       "    </tr>\n",
       "    <tr>\n",
       "      <th>7</th>\n",
       "      <td>9</td>\n",
       "      <td>2</td>\n",
       "      <td>8</td>\n",
       "      <td>3</td>\n",
       "      <td>7</td>\n",
       "      <td>5</td>\n",
       "    </tr>\n",
       "    <tr>\n",
       "      <th>9</th>\n",
       "      <td>9</td>\n",
       "      <td>5</td>\n",
       "      <td>1</td>\n",
       "      <td>6</td>\n",
       "      <td>7</td>\n",
       "      <td>7</td>\n",
       "    </tr>\n",
       "  </tbody>\n",
       "</table>\n",
       "</div>"
      ],
      "text/plain": [
       "   G  I  K  J  H  L\n",
       "1  4  3  7  7  3  1\n",
       "3  3  9  4  4  5  9\n",
       "5  4  6  6  7  2  3\n",
       "7  9  2  8  3  7  5\n",
       "9  9  5  1  6  7  7"
      ]
     },
     "execution_count": 217,
     "metadata": {},
     "output_type": "execute_result"
    }
   ],
   "source": [
    "df"
   ]
  },
  {
   "cell_type": "code",
   "execution_count": 223,
   "metadata": {},
   "outputs": [
    {
     "data": {
      "text/html": [
       "<div>\n",
       "<style scoped>\n",
       "    .dataframe tbody tr th:only-of-type {\n",
       "        vertical-align: middle;\n",
       "    }\n",
       "\n",
       "    .dataframe tbody tr th {\n",
       "        vertical-align: top;\n",
       "    }\n",
       "\n",
       "    .dataframe thead th {\n",
       "        text-align: right;\n",
       "    }\n",
       "</style>\n",
       "<table border=\"1\" class=\"dataframe\">\n",
       "  <thead>\n",
       "    <tr style=\"text-align: right;\">\n",
       "      <th></th>\n",
       "      <th>G</th>\n",
       "      <th>I</th>\n",
       "      <th>K</th>\n",
       "      <th>J</th>\n",
       "      <th>H</th>\n",
       "      <th>L</th>\n",
       "    </tr>\n",
       "  </thead>\n",
       "  <tbody>\n",
       "    <tr>\n",
       "      <th>8</th>\n",
       "      <td>9</td>\n",
       "      <td>5</td>\n",
       "      <td>1</td>\n",
       "      <td>6</td>\n",
       "      <td>7</td>\n",
       "      <td>7</td>\n",
       "    </tr>\n",
       "    <tr>\n",
       "      <th>6</th>\n",
       "      <td>9</td>\n",
       "      <td>2</td>\n",
       "      <td>8</td>\n",
       "      <td>3</td>\n",
       "      <td>7</td>\n",
       "      <td>5</td>\n",
       "    </tr>\n",
       "    <tr>\n",
       "      <th>4</th>\n",
       "      <td>4</td>\n",
       "      <td>6</td>\n",
       "      <td>6</td>\n",
       "      <td>7</td>\n",
       "      <td>2</td>\n",
       "      <td>3</td>\n",
       "    </tr>\n",
       "    <tr>\n",
       "      <th>2</th>\n",
       "      <td>3</td>\n",
       "      <td>9</td>\n",
       "      <td>4</td>\n",
       "      <td>4</td>\n",
       "      <td>5</td>\n",
       "      <td>9</td>\n",
       "    </tr>\n",
       "    <tr>\n",
       "      <th>7</th>\n",
       "      <td>9</td>\n",
       "      <td>2</td>\n",
       "      <td>8</td>\n",
       "      <td>3</td>\n",
       "      <td>7</td>\n",
       "      <td>5</td>\n",
       "    </tr>\n",
       "    <tr>\n",
       "      <th>5</th>\n",
       "      <td>4</td>\n",
       "      <td>6</td>\n",
       "      <td>6</td>\n",
       "      <td>7</td>\n",
       "      <td>2</td>\n",
       "      <td>3</td>\n",
       "    </tr>\n",
       "  </tbody>\n",
       "</table>\n",
       "</div>"
      ],
      "text/plain": [
       "   G  I  K  J  H  L\n",
       "8  9  5  1  6  7  7\n",
       "6  9  2  8  3  7  5\n",
       "4  4  6  6  7  2  3\n",
       "2  3  9  4  4  5  9\n",
       "7  9  2  8  3  7  5\n",
       "5  4  6  6  7  2  3"
      ]
     },
     "execution_count": 223,
     "metadata": {},
     "output_type": "execute_result"
    }
   ],
   "source": [
    "df.reindex([8,6,4,2,7,5], method='bfill')"
   ]
  },
  {
   "cell_type": "code",
   "execution_count": null,
   "metadata": {},
   "outputs": [],
   "source": []
  },
  {
   "cell_type": "code",
   "execution_count": 240,
   "metadata": {},
   "outputs": [],
   "source": [
    "df = pd.DataFrame(np.random.randint(1,10,(5,6)), index= list('ABCDE'), columns=list('GIKJHL'))"
   ]
  },
  {
   "cell_type": "code",
   "execution_count": 241,
   "metadata": {},
   "outputs": [
    {
     "data": {
      "text/html": [
       "<div>\n",
       "<style scoped>\n",
       "    .dataframe tbody tr th:only-of-type {\n",
       "        vertical-align: middle;\n",
       "    }\n",
       "\n",
       "    .dataframe tbody tr th {\n",
       "        vertical-align: top;\n",
       "    }\n",
       "\n",
       "    .dataframe thead th {\n",
       "        text-align: right;\n",
       "    }\n",
       "</style>\n",
       "<table border=\"1\" class=\"dataframe\">\n",
       "  <thead>\n",
       "    <tr style=\"text-align: right;\">\n",
       "      <th></th>\n",
       "      <th>G</th>\n",
       "      <th>I</th>\n",
       "      <th>K</th>\n",
       "      <th>J</th>\n",
       "      <th>H</th>\n",
       "      <th>L</th>\n",
       "    </tr>\n",
       "  </thead>\n",
       "  <tbody>\n",
       "    <tr>\n",
       "      <th>A</th>\n",
       "      <td>7</td>\n",
       "      <td>7</td>\n",
       "      <td>3</td>\n",
       "      <td>2</td>\n",
       "      <td>8</td>\n",
       "      <td>9</td>\n",
       "    </tr>\n",
       "    <tr>\n",
       "      <th>B</th>\n",
       "      <td>3</td>\n",
       "      <td>8</td>\n",
       "      <td>6</td>\n",
       "      <td>2</td>\n",
       "      <td>3</td>\n",
       "      <td>8</td>\n",
       "    </tr>\n",
       "    <tr>\n",
       "      <th>C</th>\n",
       "      <td>9</td>\n",
       "      <td>4</td>\n",
       "      <td>8</td>\n",
       "      <td>9</td>\n",
       "      <td>5</td>\n",
       "      <td>4</td>\n",
       "    </tr>\n",
       "    <tr>\n",
       "      <th>D</th>\n",
       "      <td>6</td>\n",
       "      <td>3</td>\n",
       "      <td>5</td>\n",
       "      <td>3</td>\n",
       "      <td>8</td>\n",
       "      <td>3</td>\n",
       "    </tr>\n",
       "    <tr>\n",
       "      <th>E</th>\n",
       "      <td>9</td>\n",
       "      <td>7</td>\n",
       "      <td>9</td>\n",
       "      <td>8</td>\n",
       "      <td>7</td>\n",
       "      <td>3</td>\n",
       "    </tr>\n",
       "  </tbody>\n",
       "</table>\n",
       "</div>"
      ],
      "text/plain": [
       "   G  I  K  J  H  L\n",
       "A  7  7  3  2  8  9\n",
       "B  3  8  6  2  3  8\n",
       "C  9  4  8  9  5  4\n",
       "D  6  3  5  3  8  3\n",
       "E  9  7  9  8  7  3"
      ]
     },
     "execution_count": 241,
     "metadata": {},
     "output_type": "execute_result"
    }
   ],
   "source": [
    "df"
   ]
  },
  {
   "cell_type": "code",
   "execution_count": 242,
   "metadata": {},
   "outputs": [
    {
     "data": {
      "text/html": [
       "<div>\n",
       "<style scoped>\n",
       "    .dataframe tbody tr th:only-of-type {\n",
       "        vertical-align: middle;\n",
       "    }\n",
       "\n",
       "    .dataframe tbody tr th {\n",
       "        vertical-align: top;\n",
       "    }\n",
       "\n",
       "    .dataframe thead th {\n",
       "        text-align: right;\n",
       "    }\n",
       "</style>\n",
       "<table border=\"1\" class=\"dataframe\">\n",
       "  <thead>\n",
       "    <tr style=\"text-align: right;\">\n",
       "      <th></th>\n",
       "      <th>G</th>\n",
       "      <th>I</th>\n",
       "      <th>K</th>\n",
       "      <th>J</th>\n",
       "      <th>H</th>\n",
       "      <th>L</th>\n",
       "    </tr>\n",
       "  </thead>\n",
       "  <tbody>\n",
       "    <tr>\n",
       "      <th>A</th>\n",
       "      <td>7.0</td>\n",
       "      <td>7.0</td>\n",
       "      <td>3.0</td>\n",
       "      <td>2.0</td>\n",
       "      <td>8.0</td>\n",
       "      <td>9.0</td>\n",
       "    </tr>\n",
       "    <tr>\n",
       "      <th>C</th>\n",
       "      <td>9.0</td>\n",
       "      <td>4.0</td>\n",
       "      <td>8.0</td>\n",
       "      <td>9.0</td>\n",
       "      <td>5.0</td>\n",
       "      <td>4.0</td>\n",
       "    </tr>\n",
       "    <tr>\n",
       "      <th>R</th>\n",
       "      <td>NaN</td>\n",
       "      <td>NaN</td>\n",
       "      <td>NaN</td>\n",
       "      <td>NaN</td>\n",
       "      <td>NaN</td>\n",
       "      <td>NaN</td>\n",
       "    </tr>\n",
       "    <tr>\n",
       "      <th>T</th>\n",
       "      <td>NaN</td>\n",
       "      <td>NaN</td>\n",
       "      <td>NaN</td>\n",
       "      <td>NaN</td>\n",
       "      <td>NaN</td>\n",
       "      <td>NaN</td>\n",
       "    </tr>\n",
       "    <tr>\n",
       "      <th>Y</th>\n",
       "      <td>NaN</td>\n",
       "      <td>NaN</td>\n",
       "      <td>NaN</td>\n",
       "      <td>NaN</td>\n",
       "      <td>NaN</td>\n",
       "      <td>NaN</td>\n",
       "    </tr>\n",
       "    <tr>\n",
       "      <th>E</th>\n",
       "      <td>9.0</td>\n",
       "      <td>7.0</td>\n",
       "      <td>9.0</td>\n",
       "      <td>8.0</td>\n",
       "      <td>7.0</td>\n",
       "      <td>3.0</td>\n",
       "    </tr>\n",
       "  </tbody>\n",
       "</table>\n",
       "</div>"
      ],
      "text/plain": [
       "     G    I    K    J    H    L\n",
       "A  7.0  7.0  3.0  2.0  8.0  9.0\n",
       "C  9.0  4.0  8.0  9.0  5.0  4.0\n",
       "R  NaN  NaN  NaN  NaN  NaN  NaN\n",
       "T  NaN  NaN  NaN  NaN  NaN  NaN\n",
       "Y  NaN  NaN  NaN  NaN  NaN  NaN\n",
       "E  9.0  7.0  9.0  8.0  7.0  3.0"
      ]
     },
     "execution_count": 242,
     "metadata": {},
     "output_type": "execute_result"
    }
   ],
   "source": [
    "df.reindex(list('ACRTYE'), method = 'bfill')"
   ]
  },
  {
   "cell_type": "code",
   "execution_count": 243,
   "metadata": {},
   "outputs": [
    {
     "data": {
      "text/plain": [
       "'1.1.3'"
      ]
     },
     "execution_count": 243,
     "metadata": {},
     "output_type": "execute_result"
    }
   ],
   "source": [
    "pd.__version__\n",
    "\n",
    "\n",
    "\n",
    "\n",
    "\n",
    "\n",
    "\n",
    "\n",
    "\n",
    "\n",
    "\n",
    "\n",
    "\n",
    "\n"
   ]
  },
  {
   "cell_type": "code",
   "execution_count": 270,
   "metadata": {},
   "outputs": [
    {
     "ename": "ValueError",
     "evalue": "If using all scalar values, you must pass an index",
     "output_type": "error",
     "traceback": [
      "\u001b[1;31m---------------------------------------------------------------------------\u001b[0m",
      "\u001b[1;31mValueError\u001b[0m                                Traceback (most recent call last)",
      "\u001b[1;32m<ipython-input-270-3f0c25b58f54>\u001b[0m in \u001b[0;36m<module>\u001b[1;34m\u001b[0m\n\u001b[1;32m----> 1\u001b[1;33m pd.DataFrame({\"CHARU\":0,\n\u001b[0m\u001b[0;32m      2\u001b[0m                  \"GARU\":33})\n",
      "\u001b[1;32m~\\anaconda3\\lib\\site-packages\\pandas\\core\\frame.py\u001b[0m in \u001b[0;36m__init__\u001b[1;34m(self, data, index, columns, dtype, copy)\u001b[0m\n\u001b[0;32m    466\u001b[0m \u001b[1;33m\u001b[0m\u001b[0m\n\u001b[0;32m    467\u001b[0m         \u001b[1;32melif\u001b[0m \u001b[0misinstance\u001b[0m\u001b[1;33m(\u001b[0m\u001b[0mdata\u001b[0m\u001b[1;33m,\u001b[0m \u001b[0mdict\u001b[0m\u001b[1;33m)\u001b[0m\u001b[1;33m:\u001b[0m\u001b[1;33m\u001b[0m\u001b[1;33m\u001b[0m\u001b[0m\n\u001b[1;32m--> 468\u001b[1;33m             \u001b[0mmgr\u001b[0m \u001b[1;33m=\u001b[0m \u001b[0minit_dict\u001b[0m\u001b[1;33m(\u001b[0m\u001b[0mdata\u001b[0m\u001b[1;33m,\u001b[0m \u001b[0mindex\u001b[0m\u001b[1;33m,\u001b[0m \u001b[0mcolumns\u001b[0m\u001b[1;33m,\u001b[0m \u001b[0mdtype\u001b[0m\u001b[1;33m=\u001b[0m\u001b[0mdtype\u001b[0m\u001b[1;33m)\u001b[0m\u001b[1;33m\u001b[0m\u001b[1;33m\u001b[0m\u001b[0m\n\u001b[0m\u001b[0;32m    469\u001b[0m         \u001b[1;32melif\u001b[0m \u001b[0misinstance\u001b[0m\u001b[1;33m(\u001b[0m\u001b[0mdata\u001b[0m\u001b[1;33m,\u001b[0m \u001b[0mma\u001b[0m\u001b[1;33m.\u001b[0m\u001b[0mMaskedArray\u001b[0m\u001b[1;33m)\u001b[0m\u001b[1;33m:\u001b[0m\u001b[1;33m\u001b[0m\u001b[1;33m\u001b[0m\u001b[0m\n\u001b[0;32m    470\u001b[0m             \u001b[1;32mimport\u001b[0m \u001b[0mnumpy\u001b[0m\u001b[1;33m.\u001b[0m\u001b[0mma\u001b[0m\u001b[1;33m.\u001b[0m\u001b[0mmrecords\u001b[0m \u001b[1;32mas\u001b[0m \u001b[0mmrecords\u001b[0m\u001b[1;33m\u001b[0m\u001b[1;33m\u001b[0m\u001b[0m\n",
      "\u001b[1;32m~\\anaconda3\\lib\\site-packages\\pandas\\core\\internals\\construction.py\u001b[0m in \u001b[0;36minit_dict\u001b[1;34m(data, index, columns, dtype)\u001b[0m\n\u001b[0;32m    281\u001b[0m             \u001b[0marr\u001b[0m \u001b[1;32mif\u001b[0m \u001b[1;32mnot\u001b[0m \u001b[0mis_datetime64tz_dtype\u001b[0m\u001b[1;33m(\u001b[0m\u001b[0marr\u001b[0m\u001b[1;33m)\u001b[0m \u001b[1;32melse\u001b[0m \u001b[0marr\u001b[0m\u001b[1;33m.\u001b[0m\u001b[0mcopy\u001b[0m\u001b[1;33m(\u001b[0m\u001b[1;33m)\u001b[0m \u001b[1;32mfor\u001b[0m \u001b[0marr\u001b[0m \u001b[1;32min\u001b[0m \u001b[0marrays\u001b[0m\u001b[1;33m\u001b[0m\u001b[1;33m\u001b[0m\u001b[0m\n\u001b[0;32m    282\u001b[0m         ]\n\u001b[1;32m--> 283\u001b[1;33m     \u001b[1;32mreturn\u001b[0m \u001b[0marrays_to_mgr\u001b[0m\u001b[1;33m(\u001b[0m\u001b[0marrays\u001b[0m\u001b[1;33m,\u001b[0m \u001b[0mdata_names\u001b[0m\u001b[1;33m,\u001b[0m \u001b[0mindex\u001b[0m\u001b[1;33m,\u001b[0m \u001b[0mcolumns\u001b[0m\u001b[1;33m,\u001b[0m \u001b[0mdtype\u001b[0m\u001b[1;33m=\u001b[0m\u001b[0mdtype\u001b[0m\u001b[1;33m)\u001b[0m\u001b[1;33m\u001b[0m\u001b[1;33m\u001b[0m\u001b[0m\n\u001b[0m\u001b[0;32m    284\u001b[0m \u001b[1;33m\u001b[0m\u001b[0m\n\u001b[0;32m    285\u001b[0m \u001b[1;33m\u001b[0m\u001b[0m\n",
      "\u001b[1;32m~\\anaconda3\\lib\\site-packages\\pandas\\core\\internals\\construction.py\u001b[0m in \u001b[0;36marrays_to_mgr\u001b[1;34m(arrays, arr_names, index, columns, dtype, verify_integrity)\u001b[0m\n\u001b[0;32m     76\u001b[0m         \u001b[1;31m# figure out the index, if necessary\u001b[0m\u001b[1;33m\u001b[0m\u001b[1;33m\u001b[0m\u001b[1;33m\u001b[0m\u001b[0m\n\u001b[0;32m     77\u001b[0m         \u001b[1;32mif\u001b[0m \u001b[0mindex\u001b[0m \u001b[1;32mis\u001b[0m \u001b[1;32mNone\u001b[0m\u001b[1;33m:\u001b[0m\u001b[1;33m\u001b[0m\u001b[1;33m\u001b[0m\u001b[0m\n\u001b[1;32m---> 78\u001b[1;33m             \u001b[0mindex\u001b[0m \u001b[1;33m=\u001b[0m \u001b[0mextract_index\u001b[0m\u001b[1;33m(\u001b[0m\u001b[0marrays\u001b[0m\u001b[1;33m)\u001b[0m\u001b[1;33m\u001b[0m\u001b[1;33m\u001b[0m\u001b[0m\n\u001b[0m\u001b[0;32m     79\u001b[0m         \u001b[1;32melse\u001b[0m\u001b[1;33m:\u001b[0m\u001b[1;33m\u001b[0m\u001b[1;33m\u001b[0m\u001b[0m\n\u001b[0;32m     80\u001b[0m             \u001b[0mindex\u001b[0m \u001b[1;33m=\u001b[0m \u001b[0mensure_index\u001b[0m\u001b[1;33m(\u001b[0m\u001b[0mindex\u001b[0m\u001b[1;33m)\u001b[0m\u001b[1;33m\u001b[0m\u001b[1;33m\u001b[0m\u001b[0m\n",
      "\u001b[1;32m~\\anaconda3\\lib\\site-packages\\pandas\\core\\internals\\construction.py\u001b[0m in \u001b[0;36mextract_index\u001b[1;34m(data)\u001b[0m\n\u001b[0;32m    385\u001b[0m \u001b[1;33m\u001b[0m\u001b[0m\n\u001b[0;32m    386\u001b[0m         \u001b[1;32mif\u001b[0m \u001b[1;32mnot\u001b[0m \u001b[0mindexes\u001b[0m \u001b[1;32mand\u001b[0m \u001b[1;32mnot\u001b[0m \u001b[0mraw_lengths\u001b[0m\u001b[1;33m:\u001b[0m\u001b[1;33m\u001b[0m\u001b[1;33m\u001b[0m\u001b[0m\n\u001b[1;32m--> 387\u001b[1;33m             \u001b[1;32mraise\u001b[0m \u001b[0mValueError\u001b[0m\u001b[1;33m(\u001b[0m\u001b[1;34m\"If using all scalar values, you must pass an index\"\u001b[0m\u001b[1;33m)\u001b[0m\u001b[1;33m\u001b[0m\u001b[1;33m\u001b[0m\u001b[0m\n\u001b[0m\u001b[0;32m    388\u001b[0m \u001b[1;33m\u001b[0m\u001b[0m\n\u001b[0;32m    389\u001b[0m         \u001b[1;32mif\u001b[0m \u001b[0mhave_series\u001b[0m\u001b[1;33m:\u001b[0m\u001b[1;33m\u001b[0m\u001b[1;33m\u001b[0m\u001b[0m\n",
      "\u001b[1;31mValueError\u001b[0m: If using all scalar values, you must pass an index"
     ]
    }
   ],
   "source": [
    "pd.DataFrame({\"CHARU\":0,\n",
    "                 \"GARU\":33})"
   ]
  },
  {
   "cell_type": "code",
   "execution_count": 254,
   "metadata": {},
   "outputs": [
    {
     "data": {
      "text/plain": [
       "{0: 1, 1: 2, 2: 3}"
      ]
     },
     "execution_count": 254,
     "metadata": {},
     "output_type": "execute_result"
    }
   ],
   "source": [
    "{i:i+1 for i in range(3)}"
   ]
  },
  {
   "cell_type": "code",
   "execution_count": 271,
   "metadata": {},
   "outputs": [],
   "source": [
    "#Multiindex Fluency"
   ]
  },
  {
   "cell_type": "code",
   "execution_count": 295,
   "metadata": {},
   "outputs": [],
   "source": [
    "data = np.random.randint(1,10,(6,3))"
   ]
  },
  {
   "cell_type": "code",
   "execution_count": 296,
   "metadata": {},
   "outputs": [
    {
     "data": {
      "text/plain": [
       "array([[9, 7, 5],\n",
       "       [4, 8, 2],\n",
       "       [2, 3, 3],\n",
       "       [8, 3, 8],\n",
       "       [1, 7, 8],\n",
       "       [3, 6, 6]])"
      ]
     },
     "execution_count": 296,
     "metadata": {},
     "output_type": "execute_result"
    }
   ],
   "source": [
    "data"
   ]
  },
  {
   "cell_type": "code",
   "execution_count": 308,
   "metadata": {},
   "outputs": [
    {
     "name": "stdout",
     "output_type": "stream",
     "text": [
      "Exception reporting mode: Minimal\n"
     ]
    }
   ],
   "source": [
    "%xmode Minimal"
   ]
  },
  {
   "cell_type": "code",
   "execution_count": 321,
   "metadata": {},
   "outputs": [
    {
     "ename": "ValueError",
     "evalue": "all arrays must be same length",
     "output_type": "error",
     "traceback": [
      "\u001b[1;31mValueError\u001b[0m\u001b[1;31m:\u001b[0m all arrays must be same length\n"
     ]
    }
   ],
   "source": [
    "pd.DataFrame(data, index= [ [1,1,2,2], list('abab'), [['g','h'], ['g','h']] ], columns=['kaka','kaki','kara'])"
   ]
  },
  {
   "cell_type": "code",
   "execution_count": 323,
   "metadata": {},
   "outputs": [],
   "source": [
    "import requests\n",
    "from bs4 import BeautifulSoup"
   ]
  },
  {
   "cell_type": "code",
   "execution_count": 324,
   "metadata": {},
   "outputs": [],
   "source": [
    "r = requests.get('https://www.y2mate.com/youtube/TaBZmyGeUXI')"
   ]
  },
  {
   "cell_type": "code",
   "execution_count": 328,
   "metadata": {},
   "outputs": [],
   "source": [
    "r = requests.get('https://file88.iijj.nl/?file=M3R4SUNiN3JsOHJ6WWQ2a3NQS1Y5ZGlxVlZIOCtyZ0RtZGs3M3dsb05xcFlwWVZrOXVlMEt0OUtmT3dneTR5ckV0ZFYrWFh0ZjlLRUtBYUhzZE50Y1hLTTVNTXp2bkhDNDkxbVg4QjlVeW5vbXZLcnkzUWtyeDc2YTh6WUY3MFRQMUYyc3hNbWdRREZpYVB5b0VmMXNtbW82VTZNWVc5SCtUd0tNZlRJNktCZjFIM0laOGpsMElRTXV5UE4zWlZQM1BtZXZRRDYvS2N3dXROdFYwcHpUSU5jMUluZzBmZnpobkpKelpVVTQwV0RuTGJvQzQ1bVdxS2JkbXBaRUdRTThmL21UaDRLeGlnYnBUM29wLzl5dlRoZklQUXorMnV1L0srNE4yak9KcHFtQ1lLU2QvdXI5QT09')"
   ]
  },
  {
   "cell_type": "code",
   "execution_count": 331,
   "metadata": {},
   "outputs": [],
   "source": [
    "with open('kaka.mp3', 'wb') as song:\n",
    "    song.write(r.content)"
   ]
  },
  {
   "cell_type": "code",
   "execution_count": 326,
   "metadata": {},
   "outputs": [],
   "source": [
    "soup = BeautifulSoup(r.content, 'html.parser')"
   ]
  },
  {
   "cell_type": "code",
   "execution_count": 337,
   "metadata": {},
   "outputs": [],
   "source": [
    "from pprint import pprint"
   ]
  },
  {
   "cell_type": "code",
   "execution_count": 338,
   "metadata": {},
   "outputs": [
    {
     "name": "stdout",
     "output_type": "stream",
     "text": [
      "<!DOCTYPE html>\n",
      "\n",
      "<html lang=\"en\">\n",
      "<head>\n",
      "<meta content=\"text/html; charset=utf-8\" http-equiv=\"content-type\"/>\n",
      "<meta content=\"width=device-width, initial-scale=1, maximum-scale=1\" name=\"viewport\"/>\n",
      "<title>YouTube Downloader - Download YouTube videos in MP3, MP4, 3GP | Y2mate.com</title>\n",
      "<meta content=\"Online download videos from YouTube for FREE to PC, mobile. Supports downloading all formats: MP4, 3GP, WebM, HD videos, convert YouTube to MP3, M4A\" name=\"description\"/>\n",
      "<meta content=\"IE=edge\" http-equiv=\"X-UA-Compatible\"/>\n",
      "<meta content=\"index, follow\" name=\"robots\"/>\n",
      "<meta content=\"Download Video and Audio from YouTube\" itemprop=\"name\">\n",
      "<meta content=\"Online download videos from YouTube for FREE to PC, mobile. Supports downloading all formats: MP4, 3GP, WebM, HD videos, convert YouTube to MP3, M4A\" itemprop=\"description\"/>\n",
      "<meta content=\"//www.y2mate.com/themes/images/256x256.png\" itemprop=\"image\"/>\n",
      "<meta content=\"website\" property=\"og:type\"/>\n",
      "<meta content=\"Download Video and Audio from YouTube\" property=\"og:title\"/>\n",
      "<meta content=\"Online download videos from YouTube for FREE to PC, mobile. Supports downloading all formats: MP4, 3GP, WebM, HD videos, convert YouTube to MP3, M4A\" property=\"og:description\"/>\n",
      "<meta content=\"//www.y2mate.com/themes/images/256x256.png\" property=\"og:image\"/>\n",
      "<link href=\"https://www.y2mate.com/en65\" rel=\"canonical\"/>\n",
      "<link href=\"https://www.y2mate.com/en65\" hreflang=\"x-default\" rel=\"alternate\"/>\n",
      "<link href=\"https://www.y2mate.com/en65\" hreflang=\"en\" rel=\"alternate\"/>\n",
      "<link href=\"https://www.y2mate.com/de6\" hreflang=\"de\" rel=\"alternate\"/><link href=\"https://www.y2mate.com/es18\" hreflang=\"es\" rel=\"alternate\"/><link href=\"https://www.y2mate.com/fr7\" hreflang=\"fr\" rel=\"alternate\"/><link href=\"https://www.y2mate.com/hi4\" hreflang=\"hi\" rel=\"alternate\"/><link href=\"https://www.y2mate.com/id4\" hreflang=\"id\" rel=\"alternate\"/><link href=\"https://www.y2mate.com/it8\" hreflang=\"it\" rel=\"alternate\"/><link href=\"https://www.y2mate.com/jp3\" hreflang=\"ja\" rel=\"alternate\"/><link href=\"https://www.y2mate.com/kr3\" hreflang=\"ko\" rel=\"alternate\"/><link href=\"https://www.y2mate.com/mm3\" hreflang=\"my\" rel=\"alternate\"/><link href=\"https://www.y2mate.com/my3\" hreflang=\"ms\" rel=\"alternate\"/><link href=\"https://www.y2mate.com/ph3\" hreflang=\"en-PH\" rel=\"alternate\"/><link href=\"https://www.y2mate.com/pt8\" hreflang=\"pt\" rel=\"alternate\"/><link href=\"https://www.y2mate.com/ru3\" hreflang=\"ru\" rel=\"alternate\"/><link href=\"https://www.y2mate.com/th3\" hreflang=\"th\" rel=\"alternate\"/><link href=\"https://www.y2mate.com/tr3\" hreflang=\"tr\" rel=\"alternate\"/><link href=\"https://www.y2mate.com/vi4\" hreflang=\"vi\" rel=\"alternate\"/><link href=\"https://www.y2mate.com/zh-cn2\" hreflang=\"zh-CN\" rel=\"alternate\"/><link href=\"https://www.y2mate.com/zh-tw2\" hreflang=\"zh-TW\" rel=\"alternate\"/><link href=\"https://www.y2mate.com/sa3\" hreflang=\"sa\" rel=\"alternate\"/><link href=\"https://www.y2mate.com/bn3\" hreflang=\"bn\" rel=\"alternate\"/>\n",
      "<link href=\"//youtubepp.com\" rel=\"dns-prefetch\"/>\n",
      "<link href=\"//ajax.googleapis.com\" rel=\"dns-prefetch\"/>\n",
      "<link href=\"//www.google-analytics.com\" rel=\"dns-prefetch\"/>\n",
      "<link href=\"//ssl.google-analytics.com\" rel=\"dns-prefetch\"/>\n",
      "<meta content=\"PBAZjp9e-aOq3EJVlhg_MAsYxyhBeNITt2KDHCz0A9s\" name=\"google-site-verification\"/>\n",
      "<link href=\"//www.y2mate.com/themes/images/logo.png\" rel=\"icon\">\n",
      "<link href=\"//www.y2mate.com/themes/bootstrap/css/bootstrap.min.css?v=1.2\" rel=\"stylesheet\" type=\"text/css\">\n",
      "<link href=\"//www.y2mate.com/themes/css/style.css?v=2.1\" rel=\"stylesheet\" type=\"text/css\">\n",
      "<style type=\"text/css\">@media (min-width: 768px){h1{font-size:29px}}@media (max-width: 768px){h2{font-size:21px}.hero > .hero-header:first-child{font-size:29px;margin-top:0;line-height:1.5!important;padding-top:20px}}.i-auto>div,#___ytsubscribe_0{height:auto!important}.i-auto>div>iframe,#___ytsubscribe_0>iframe{height:auto!important} </style>\n",
      "<!--[if lt IE 9]>\r\n",
      "    <script src=\"https://oss.maxcdn.com/html5shiv/3.7.2/html5shiv.min.js\" async=\"async\"></script>\r\n",
      "    <script src=\"https://oss.maxcdn.com/respond/1.4.2/respond.min.js\" async=\"async\"></script>\r\n",
      "    <![endif]-->\n",
      "<script charset=\"utf-8\" type=\"text/javascript\">\r\n",
      "        var base_url = 'https://www.y2mate.com/';\r\n",
      "        var lang = 'en';\r\n",
      "        var video_id, video_service,video_extractor ;\r\n",
      "    </script>\n",
      "</link></link></link></meta></head>\n",
      "<body class=\"swag-line\" id=\"bootstrap-themes\">\n",
      "<div class=\"container-overflow-wrap\">\n",
      "<nav class=\"navbar navbar-tall navbar-full\" role=\"navigation\">\n",
      "<div class=\"container\">\n",
      "<div class=\"navbar-header\">\n",
      "<div class=\"navbar-brand logo-cont\">\n",
      "<a class=\"\" href=\"/en65\" style=\"padding: 0;\">\n",
      "<img alt=\"Logo y2mate.com\" height=\"46px\" src=\"//www.y2mate.com/themes/images/logo.png\" style=\"height:46px;\" width=\"46px\"/>\n",
      "<span id=\"logo-name\">\n",
      "y2mate.com\n",
      "</span>\n",
      "</a>\n",
      "</div>\n",
      "<button class=\"navbar-toggle collapsed pull-right\" data-target=\"#global-nav\" data-toggle=\"collapse\" type=\"button\">\n",
      "<span class=\"sr-only\">Y2Mate.com</span>\n",
      "<span class=\"icon-bar\"></span>\n",
      "<span class=\"icon-bar\"></span>\n",
      "<span class=\"icon-bar\"></span>\n",
      "</button>\n",
      "</div>\n",
      "<div class=\"collapse navbar-collapse\" id=\"global-nav\">\n",
      "<div class=\"navbar-right\">\n",
      "<ul class=\"nav navbar-nav\">\n",
      "<li>\n",
      "<a href=\"/en5/download-youtube\">YouTube Downloader</a>\n",
      "</li>\n",
      "<li>\n",
      "<a href=\"/en30/convert-youtube\">YouTube Converter</a>\n",
      "</li>\n",
      "<li>\n",
      "<a href=\"/en30/youtube-mp3\">YouTube to MP3 Converter</a>\n",
      "</li>\n",
      "<li class=\"dropdown\">\n",
      "<a aria-expanded=\"false\" aria-haspopup=\"true\" class=\"dropdown-toggle\" data-toggle=\"dropdown\" href=\"javascript:void(0)\" role=\"button\">English <span class=\"caret\"></span></a>\n",
      "<ul class=\"dropdown-menu\" id=\"menu-lang\">\n",
      "<li><a data-lang=\"en\" href=\"/en/youtube/TaBZmyGeUXI\">English</a></li>\n",
      "<li><a data-lang=\"de\" href=\"/de/youtube/TaBZmyGeUXI\">Deutsch</a></li>\n",
      "<li><a data-lang=\"es\" href=\"/es/youtube/TaBZmyGeUXI\">Español</a></li>\n",
      "<li><a data-lang=\"fr\" href=\"/fr/youtube/TaBZmyGeUXI\">Français</a></li>\n",
      "<li><a data-lang=\"hi\" href=\"/hi/youtube/TaBZmyGeUXI\">हिन्दी / Hindī</a></li>\n",
      "<li><a data-lang=\"id\" href=\"/id/youtube/TaBZmyGeUXI\">Indonesian</a></li>\n",
      "<li><a data-lang=\"it\" href=\"/it/youtube/TaBZmyGeUXI\">Italiano</a></li>\n",
      "<li><a data-lang=\"jp\" href=\"/jp/youtube/TaBZmyGeUXI\">日本語</a></li>\n",
      "<li><a data-lang=\"kr\" href=\"/kr/youtube/TaBZmyGeUXI\">한국어</a></li>\n",
      "<li><a data-lang=\"mm\" href=\"/mm/youtube/TaBZmyGeUXI\">Myanmar (မြန်မာ)</a></li>\n",
      "<li><a data-lang=\"my\" href=\"/my/youtube/TaBZmyGeUXI\">Malay</a></li>\n",
      "<li><a data-lang=\"ph\" href=\"/ph/youtube/TaBZmyGeUXI\">Filipino</a></li>\n",
      "<li><a data-lang=\"pt\" href=\"/pt/youtube/TaBZmyGeUXI\">Português</a></li>\n",
      "<li><a data-lang=\"ru\" href=\"/ru/youtube/TaBZmyGeUXI\">Русский</a></li>\n",
      "<li><a data-lang=\"th\" href=\"/th/youtube/TaBZmyGeUXI\">ไทย</a></li>\n",
      "<li><a data-lang=\"tr\" href=\"/tr/youtube/TaBZmyGeUXI\">Türkçe</a></li>\n",
      "<li><a data-lang=\"vi\" href=\"/vi/youtube/TaBZmyGeUXI\">Tiếng Việt</a></li>\n",
      "<li><a data-lang=\"zh-cn\" href=\"/zh-cn/youtube/TaBZmyGeUXI\">简体中文</a></li>\n",
      "<li><a data-lang=\"zh-tw\" href=\"/zh-tw/youtube/TaBZmyGeUXI\">繁體中文</a></li>\n",
      "<li><a data-lang=\"sa\" href=\"/sa/youtube/TaBZmyGeUXI\">العربية</a></li>\n",
      "<li><a data-lang=\"bn\" href=\"/bn/youtube/TaBZmyGeUXI\">বাঙালি</a></li>\n",
      "</ul>\n",
      "</li>\n",
      "</ul>\n",
      "</div>\n",
      "</div>\n",
      "</div>\n",
      "</nav>\n",
      "<div style=\"clear: both\">\n",
      "<div>\n",
      "<div class=\"container\">\n",
      "<div class=\"panel panel-default m-b-0\">\n",
      "<div class=\"panel-body\">\n",
      "<div class=\"div-form\">\n",
      "<div class=\"hero hero-homepage\">\n",
      "<h1 class=\"hero-header\">Download Video and Audio from YouTube</h1>\n",
      "<div class=\"ads_banner m-t m-b\">\n",
      "</div>\n",
      "<div>\n",
      "<form action=\"/en65\" class=\"form-inline form-search\" id=\"search-form\" name=\"mc-embedded-subscribe-form\">\n",
      "<input class=\"form-control input-lg\" id=\"txt-url\" name=\"query\" placeholder=\"Search or paste link here...\" type=\"text\" value=\"https://www.youtube.com/watch?v=TaBZmyGeUXI\"/>\n",
      "<button class=\"btn btn-lg\" id=\"btn-submit\" onclick=\"analyze();\" type=\"button\" value=\"Start\">\n",
      "<span class=\"hidden-xs\">Start </span> <span class=\"glyphicon glyphicon-arrow-right\"></span>\n",
      "</button>\n",
      "<div id=\"result-suggest-container\"></div>\n",
      "<p class=\"small\">By using our service you are accepting our <a class=\"active\" href=\"/terms-of-service\" target=\"_blank\">Terms of Use</a>. </p>\n",
      "<img id=\"loading_img\" src=\"//www.y2mate.com/themes/images/loading.gif\" style=\"display: none\"/>\n",
      "</form>\n",
      "</div>\n",
      "<div id=\"ads_spot1\" style=\"max-width: 100%; margin-bottom: 15px; text-align: center\"> </div>\n",
      "<div id=\"result\">\n",
      "</div>\n",
      "</div>\n",
      "</div>\n",
      "</div>\n",
      "</div>\n",
      "<div class=\"row row-padded row-bordered row-centered p-l-md p-r-md\">\n",
      "<div class=\"col-sm-12\">\n",
      "<div class=\"text-center\">\n",
      "<h2><strong>YouTube Video Downloader</strong></h2>\n",
      "<h4>\n",
      "Y2mate allows you to convert &amp; download video from YouTube, Facebook, Video, Dailymotion, Youku, etc. to Mp3, Mp4 in HD quality. Y2mate supports downloading all video formats such as: MP4, M4V, 3GP, WMV, FLV, MO, MP3, WEBM, etc. You can easily download for free thousands of videos from YouTube and other websites. </h4>\n",
      "</div>\n",
      "</div>\n",
      "</div>\n",
      "<div class=\"row row-padded row-bordered homepage-grid text-center p-l-md p-r-md\">\n",
      "<div class=\"col-xs-12 col-sm-7 text-left\">\n",
      "<h5><strong>Instructions</strong></h5>\n",
      "<p>1. Search by name or directly paste the link of video you want to convert</p>\n",
      "<p>2. Click \"Start\" button to begin converting process</p>\n",
      "<p>3. Select the video/audio format you want to download, then click \"Download\" button</p>\n",
      "</div>\n",
      "<div class=\"col-xs-12 col-sm-5 text-left\">\n",
      "<h5><strong>Features</strong></h5>\n",
      "<p>• Unlimited downloads and always free</p>\n",
      "<p>• High-speed video converter</p>\n",
      "<p>• No registration required</p>\n",
      "<p>• Support downloading with all formats</p>\n",
      "</div>\n",
      "</div>\n",
      "<div class=\"clearfix\"></div>\n",
      "<div class=\"row row-padded row-bordered homepage-grid text-center p-l-md p-r-md featured\">\n",
      "<div class=\"col-sm-4\">\n",
      "<span aria-hidden=\"true\" class=\"glyphicon glyphicon-gift\"> </span>\n",
      "<h3><strong>Free Download</strong></h3>\n",
      "<h4>Unlimited conversion and free download.</h4>\n",
      "</div>\n",
      "<div class=\"col-sm-4\">\n",
      "<span aria-hidden=\"true\" class=\"glyphicon glyphicon-film\"> </span>\n",
      "<h3><strong>Video &amp; Audio</strong></h3>\n",
      "<h4>Directly Download Video &amp; Music.</h4>\n",
      "</div>\n",
      "<div class=\"col-sm-4\">\n",
      "<span aria-hidden=\"true\" class=\"glyphicon glyphicon-saved\"> </span>\n",
      "<h3><strong>Easy Download</strong></h3>\n",
      "<h4>Fully compatible with all browsers.</h4>\n",
      "</div>\n",
      "</div>\n",
      "<div class=\"row row-padded homepage-grid text-center m-t p-l-md p-r-md\">\n",
      "<div class=\"col-md-12\">\n",
      "<div class=\"box-guide text-left\">\n",
      "<p><b>Tip:</b> Insert \"<b>pp</b>\" after the word \"youtube\" in the link to download videos and mp3 files from YouTube as a faster way.</p>\n",
      "<p><img alt=\"tip how to quick download youtube video mp3\" src=\"//www.y2mate.com/themes/images/tip-download-youtube.jpg\" style=\"max-height: 50px; max-width: 100%\"/> </p>\n",
      "<div>\n",
      "<div class=\"box-guide text-left\">\n",
      "<p>If you can’t directly download video to your PC, please follow the guidelines below:</p>\n",
      "<p>Step1: Select the format you want and click \"Download\" button. </p>\n",
      "<p>Step2: In new window, press \"CTRL + S\" to save video OR right click to video, then select \"Save as Video\".</p>\n",
      "</div>\n",
      "</div>\n",
      "</div>\n",
      "</div>\n",
      "</div>\n",
      "</div>\n",
      "</div>\n",
      "</div>\n",
      "<div aria-labelledby=\"exampleModalLabel\" class=\"modal fade\" id=\"progress\" role=\"dialog\" tabindex=\"1\">\n",
      "<div class=\"modal-dialog\" role=\"document\" style=\"z-index: 999999\">\n",
      "<div class=\"modal-content\">\n",
      "<div class=\"modal-header\">\n",
      "<button aria-label=\"Close\" class=\"close\" data-dismiss=\"modal\" type=\"button\"><span aria-hidden=\"true\">×</span>\n",
      "</button>\n",
      "<b class=\"modal-title\" id=\"exampleModalLabel\"> </b>\n",
      "</div>\n",
      "<div class=\"modal-body text-center\">\n",
      "<div id=\"process-waiting\">\n",
      "<img class=\"m-t\" id=\"loading_img\" src=\"//www.y2mate.com/themes/images/loading.gif\"/>\n",
      "<p class=\"p-t\"><b>Please wait while the file is being prepared for downloading</b></p>\n",
      "</div>\n",
      "<div id=\"process-result\">\n",
      "</div>\n",
      "<div id=\"share-place-download\">\n",
      "<p class=\"text-left\">\n",
      "Thank you for using our service. If you could share our website with your friends, that would be a great help.\n",
      "<br/>\n",
      "</p>\n",
      "<div class=\"text-center\">\n",
      "<div class=\"addthis_inline_share_toolbox_u0o6\"></div>\n",
      "</div>\n",
      "<p class=\"text-left\">\n",
      "<br/>\n",
      "<strong>Thank you.</strong>\n",
      "</p>\n",
      "</div>\n",
      "</div>\n",
      "</div>\n",
      "</div>\n",
      "</div>\n",
      "<script type=\"text/javascript\">\r\n",
      "    var k_page = 'home';\r\n",
      "    var g_token = '';\r\n",
      "    var k_get_query = \"https:\\/\\/www.youtube.com\\/watch?v=TaBZmyGeUXI\";\r\n",
      "    var k_data_vid = '';\r\n",
      "    var k_data_vtitle = '';\r\n",
      "    var k__id = '';\r\n",
      "    var k_busy = false;\r\n",
      "    var p_b = false;\r\n",
      "    var k_analyze_url = \"https:\\/\\/www.y2mate.com\\/mates\\/analyze\\/ajax\";\r\n",
      "    var k_convert_url = \"https:\\/\\/www.y2mate.com\\/mates\\/convert\";\r\n",
      "    var k_tmp_url = \"\\/_hl_\\/\";\r\n",
      "    var wLocation = \"\\/\";\r\n",
      "    function parse_query_string(query) {\r\n",
      "        var vars = query.split(\"&\");\r\n",
      "        var query_string = {};\r\n",
      "        for (var i = 0; i < vars.length; i++) {\r\n",
      "            var pair = vars[i].split(\"=\");\r\n",
      "            if (typeof query_string[pair[0]] === \"undefined\") {\r\n",
      "                query_string[pair[0]] = decodeURIComponent(pair[1]);\r\n",
      "            } else if (typeof query_string[pair[0]] === \"string\") {\r\n",
      "                var arr = [query_string[pair[0]], decodeURIComponent(pair[1])];\r\n",
      "                query_string[pair[0]] = arr;\r\n",
      "            } else {\r\n",
      "                query_string[pair[0]].push(decodeURIComponent(pair[1]));\r\n",
      "            }\r\n",
      "        }\r\n",
      "        return query_string;\r\n",
      "    };\r\n",
      "    var k_qs = parse_query_string(window.location.search.substring(1));\r\n",
      "</script>\n",
      "<footer class=\"footer clearfix footer-borderless\">\n",
      "<p>@2021 y2mate.com</p>\n",
      "<ul class=\"footer-list\">\n",
      "<li class=\"footer-list-item\">\n",
      "<a class=\"footer-list-link\" href=\"/about-us\">About</a>\n",
      "</li>\n",
      "<li class=\"footer-list-item\">\n",
      "<a class=\"footer-list-link\" href=\"/faq\">FAQ</a>\n",
      "</li>\n",
      "<li class=\"footer-list-item\">\n",
      "<a class=\"footer-list-link\" href=\"/contact-us\">Contact</a>\n",
      "</li>\n",
      "<li class=\"footer-list-item\">\n",
      "<a class=\"footer-list-link\" href=\"/terms-of-service\">Terms of Service</a>\n",
      "</li>\n",
      "<li class=\"footer-list-item\">\n",
      "<a class=\"footer-list-link\" href=\"/privacy-policy\">Privacy Policy</a>\n",
      "</li>\n",
      "</ul>\n",
      "</footer>\n",
      "</div>\n",
      "<script async=\"\" charset=\"utf-8\" src=\"//www.y2mate.com/themes/js/main.js?v=1.2\" type=\"text/javascript\"></script>\n",
      "<script async=\"\" charset=\"utf-8\" src=\"https://www.googletagmanager.com/gtag/js?id=UA-84863187-21\" type=\"text/javascript\"></script>\n",
      "<script charset=\"utf-8\" type=\"text/javascript\">\r\n",
      "    window.dataLayer = window.dataLayer || [];\r\n",
      "    function gtag(){dataLayer.push(arguments);}\r\n",
      "    gtag('js', new Date());\r\n",
      "\r\n",
      "    gtag('config', 'UA-84863187-21');\r\n",
      "</script>\n",
      "</body>\n",
      "</html>\n",
      "\n"
     ]
    }
   ],
   "source": [
    "pprint(soup)"
   ]
  },
  {
   "cell_type": "code",
   "execution_count": 343,
   "metadata": {},
   "outputs": [],
   "source": [
    "rows = soup.find_all('div',{'class':'container-overflow-wrap'})"
   ]
  },
  {
   "cell_type": "code",
   "execution_count": 362,
   "metadata": {
    "scrolled": true
   },
   "outputs": [
    {
     "name": "stdout",
     "output_type": "stream",
     "text": [
      "<div class=\"container\">\n",
      "<div class=\"navbar-header\">\n",
      "<div class=\"navbar-brand logo-cont\">\n",
      "<a class=\"\" href=\"/en65\" style=\"padding: 0;\">\n",
      "<img alt=\"Logo y2mate.com\" height=\"46px\" src=\"//www.y2mate.com/themes/images/logo.png\" style=\"height:46px;\" width=\"46px\"/>\n",
      "<span id=\"logo-name\">\n",
      "y2mate.com\n",
      "</span>\n",
      "</a>\n",
      "</div>\n",
      "<button class=\"navbar-toggle collapsed pull-right\" data-target=\"#global-nav\" data-toggle=\"collapse\" type=\"button\">\n",
      "<span class=\"sr-only\">Y2Mate.com</span>\n",
      "<span class=\"icon-bar\"></span>\n",
      "<span class=\"icon-bar\"></span>\n",
      "<span class=\"icon-bar\"></span>\n",
      "</button>\n",
      "</div>\n",
      "<div class=\"collapse navbar-collapse\" id=\"global-nav\">\n",
      "<div class=\"navbar-right\">\n",
      "<ul class=\"nav navbar-nav\">\n",
      "<li>\n",
      "<a href=\"/en5/download-youtube\">YouTube Downloader</a>\n",
      "</li>\n",
      "<li>\n",
      "<a href=\"/en30/convert-youtube\">YouTube Converter</a>\n",
      "</li>\n",
      "<li>\n",
      "<a href=\"/en30/youtube-mp3\">YouTube to MP3 Converter</a>\n",
      "</li>\n",
      "<li class=\"dropdown\">\n",
      "<a aria-expanded=\"false\" aria-haspopup=\"true\" class=\"dropdown-toggle\" data-toggle=\"dropdown\" href=\"javascript:void(0)\" role=\"button\">English <span class=\"caret\"></span></a>\n",
      "<ul class=\"dropdown-menu\" id=\"menu-lang\">\n",
      "<li><a data-lang=\"en\" href=\"/en/youtube/TaBZmyGeUXI\">English</a></li>\n",
      "<li><a data-lang=\"de\" href=\"/de/youtube/TaBZmyGeUXI\">Deutsch</a></li>\n",
      "<li><a data-lang=\"es\" href=\"/es/youtube/TaBZmyGeUXI\">Español</a></li>\n",
      "<li><a data-lang=\"fr\" href=\"/fr/youtube/TaBZmyGeUXI\">Français</a></li>\n",
      "<li><a data-lang=\"hi\" href=\"/hi/youtube/TaBZmyGeUXI\">हिन्दी / Hindī</a></li>\n",
      "<li><a data-lang=\"id\" href=\"/id/youtube/TaBZmyGeUXI\">Indonesian</a></li>\n",
      "<li><a data-lang=\"it\" href=\"/it/youtube/TaBZmyGeUXI\">Italiano</a></li>\n",
      "<li><a data-lang=\"jp\" href=\"/jp/youtube/TaBZmyGeUXI\">日本語</a></li>\n",
      "<li><a data-lang=\"kr\" href=\"/kr/youtube/TaBZmyGeUXI\">한국어</a></li>\n",
      "<li><a data-lang=\"mm\" href=\"/mm/youtube/TaBZmyGeUXI\">Myanmar (မြန်မာ)</a></li>\n",
      "<li><a data-lang=\"my\" href=\"/my/youtube/TaBZmyGeUXI\">Malay</a></li>\n",
      "<li><a data-lang=\"ph\" href=\"/ph/youtube/TaBZmyGeUXI\">Filipino</a></li>\n",
      "<li><a data-lang=\"pt\" href=\"/pt/youtube/TaBZmyGeUXI\">Português</a></li>\n",
      "<li><a data-lang=\"ru\" href=\"/ru/youtube/TaBZmyGeUXI\">Русский</a></li>\n",
      "<li><a data-lang=\"th\" href=\"/th/youtube/TaBZmyGeUXI\">ไทย</a></li>\n",
      "<li><a data-lang=\"tr\" href=\"/tr/youtube/TaBZmyGeUXI\">Türkçe</a></li>\n",
      "<li><a data-lang=\"vi\" href=\"/vi/youtube/TaBZmyGeUXI\">Tiếng Việt</a></li>\n",
      "<li><a data-lang=\"zh-cn\" href=\"/zh-cn/youtube/TaBZmyGeUXI\">简体中文</a></li>\n",
      "<li><a data-lang=\"zh-tw\" href=\"/zh-tw/youtube/TaBZmyGeUXI\">繁體中文</a></li>\n",
      "<li><a data-lang=\"sa\" href=\"/sa/youtube/TaBZmyGeUXI\">العربية</a></li>\n",
      "<li><a data-lang=\"bn\" href=\"/bn/youtube/TaBZmyGeUXI\">বাঙালি</a></li>\n",
      "</ul>\n",
      "</li>\n",
      "</ul>\n",
      "</div>\n",
      "</div>\n",
      "</div>\n",
      "\n",
      "\n",
      "--------------<div class=\"navbar-header\">\n",
      "<div class=\"navbar-brand logo-cont\">\n",
      "<a class=\"\" href=\"/en65\" style=\"padding: 0;\">\n",
      "<img alt=\"Logo y2mate.com\" height=\"46px\" src=\"//www.y2mate.com/themes/images/logo.png\" style=\"height:46px;\" width=\"46px\"/>\n",
      "<span id=\"logo-name\">\n",
      "y2mate.com\n",
      "</span>\n",
      "</a>\n",
      "</div>\n",
      "<button class=\"navbar-toggle collapsed pull-right\" data-target=\"#global-nav\" data-toggle=\"collapse\" type=\"button\">\n",
      "<span class=\"sr-only\">Y2Mate.com</span>\n",
      "<span class=\"icon-bar\"></span>\n",
      "<span class=\"icon-bar\"></span>\n",
      "<span class=\"icon-bar\"></span>\n",
      "</button>\n",
      "</div>\n",
      "\n",
      "\n",
      "--------------<div class=\"navbar-brand logo-cont\">\n",
      "<a class=\"\" href=\"/en65\" style=\"padding: 0;\">\n",
      "<img alt=\"Logo y2mate.com\" height=\"46px\" src=\"//www.y2mate.com/themes/images/logo.png\" style=\"height:46px;\" width=\"46px\"/>\n",
      "<span id=\"logo-name\">\n",
      "y2mate.com\n",
      "</span>\n",
      "</a>\n",
      "</div>\n",
      "\n",
      "\n",
      "--------------<div class=\"collapse navbar-collapse\" id=\"global-nav\">\n",
      "<div class=\"navbar-right\">\n",
      "<ul class=\"nav navbar-nav\">\n",
      "<li>\n",
      "<a href=\"/en5/download-youtube\">YouTube Downloader</a>\n",
      "</li>\n",
      "<li>\n",
      "<a href=\"/en30/convert-youtube\">YouTube Converter</a>\n",
      "</li>\n",
      "<li>\n",
      "<a href=\"/en30/youtube-mp3\">YouTube to MP3 Converter</a>\n",
      "</li>\n",
      "<li class=\"dropdown\">\n",
      "<a aria-expanded=\"false\" aria-haspopup=\"true\" class=\"dropdown-toggle\" data-toggle=\"dropdown\" href=\"javascript:void(0)\" role=\"button\">English <span class=\"caret\"></span></a>\n",
      "<ul class=\"dropdown-menu\" id=\"menu-lang\">\n",
      "<li><a data-lang=\"en\" href=\"/en/youtube/TaBZmyGeUXI\">English</a></li>\n",
      "<li><a data-lang=\"de\" href=\"/de/youtube/TaBZmyGeUXI\">Deutsch</a></li>\n",
      "<li><a data-lang=\"es\" href=\"/es/youtube/TaBZmyGeUXI\">Español</a></li>\n",
      "<li><a data-lang=\"fr\" href=\"/fr/youtube/TaBZmyGeUXI\">Français</a></li>\n",
      "<li><a data-lang=\"hi\" href=\"/hi/youtube/TaBZmyGeUXI\">हिन्दी / Hindī</a></li>\n",
      "<li><a data-lang=\"id\" href=\"/id/youtube/TaBZmyGeUXI\">Indonesian</a></li>\n",
      "<li><a data-lang=\"it\" href=\"/it/youtube/TaBZmyGeUXI\">Italiano</a></li>\n",
      "<li><a data-lang=\"jp\" href=\"/jp/youtube/TaBZmyGeUXI\">日本語</a></li>\n",
      "<li><a data-lang=\"kr\" href=\"/kr/youtube/TaBZmyGeUXI\">한국어</a></li>\n",
      "<li><a data-lang=\"mm\" href=\"/mm/youtube/TaBZmyGeUXI\">Myanmar (မြန်မာ)</a></li>\n",
      "<li><a data-lang=\"my\" href=\"/my/youtube/TaBZmyGeUXI\">Malay</a></li>\n",
      "<li><a data-lang=\"ph\" href=\"/ph/youtube/TaBZmyGeUXI\">Filipino</a></li>\n",
      "<li><a data-lang=\"pt\" href=\"/pt/youtube/TaBZmyGeUXI\">Português</a></li>\n",
      "<li><a data-lang=\"ru\" href=\"/ru/youtube/TaBZmyGeUXI\">Русский</a></li>\n",
      "<li><a data-lang=\"th\" href=\"/th/youtube/TaBZmyGeUXI\">ไทย</a></li>\n",
      "<li><a data-lang=\"tr\" href=\"/tr/youtube/TaBZmyGeUXI\">Türkçe</a></li>\n",
      "<li><a data-lang=\"vi\" href=\"/vi/youtube/TaBZmyGeUXI\">Tiếng Việt</a></li>\n",
      "<li><a data-lang=\"zh-cn\" href=\"/zh-cn/youtube/TaBZmyGeUXI\">简体中文</a></li>\n",
      "<li><a data-lang=\"zh-tw\" href=\"/zh-tw/youtube/TaBZmyGeUXI\">繁體中文</a></li>\n",
      "<li><a data-lang=\"sa\" href=\"/sa/youtube/TaBZmyGeUXI\">العربية</a></li>\n",
      "<li><a data-lang=\"bn\" href=\"/bn/youtube/TaBZmyGeUXI\">বাঙালি</a></li>\n",
      "</ul>\n",
      "</li>\n",
      "</ul>\n",
      "</div>\n",
      "</div>\n",
      "\n",
      "\n",
      "--------------<div class=\"navbar-right\">\n",
      "<ul class=\"nav navbar-nav\">\n",
      "<li>\n",
      "<a href=\"/en5/download-youtube\">YouTube Downloader</a>\n",
      "</li>\n",
      "<li>\n",
      "<a href=\"/en30/convert-youtube\">YouTube Converter</a>\n",
      "</li>\n",
      "<li>\n",
      "<a href=\"/en30/youtube-mp3\">YouTube to MP3 Converter</a>\n",
      "</li>\n",
      "<li class=\"dropdown\">\n",
      "<a aria-expanded=\"false\" aria-haspopup=\"true\" class=\"dropdown-toggle\" data-toggle=\"dropdown\" href=\"javascript:void(0)\" role=\"button\">English <span class=\"caret\"></span></a>\n",
      "<ul class=\"dropdown-menu\" id=\"menu-lang\">\n",
      "<li><a data-lang=\"en\" href=\"/en/youtube/TaBZmyGeUXI\">English</a></li>\n",
      "<li><a data-lang=\"de\" href=\"/de/youtube/TaBZmyGeUXI\">Deutsch</a></li>\n",
      "<li><a data-lang=\"es\" href=\"/es/youtube/TaBZmyGeUXI\">Español</a></li>\n",
      "<li><a data-lang=\"fr\" href=\"/fr/youtube/TaBZmyGeUXI\">Français</a></li>\n",
      "<li><a data-lang=\"hi\" href=\"/hi/youtube/TaBZmyGeUXI\">हिन्दी / Hindī</a></li>\n",
      "<li><a data-lang=\"id\" href=\"/id/youtube/TaBZmyGeUXI\">Indonesian</a></li>\n",
      "<li><a data-lang=\"it\" href=\"/it/youtube/TaBZmyGeUXI\">Italiano</a></li>\n",
      "<li><a data-lang=\"jp\" href=\"/jp/youtube/TaBZmyGeUXI\">日本語</a></li>\n",
      "<li><a data-lang=\"kr\" href=\"/kr/youtube/TaBZmyGeUXI\">한국어</a></li>\n",
      "<li><a data-lang=\"mm\" href=\"/mm/youtube/TaBZmyGeUXI\">Myanmar (မြန်မာ)</a></li>\n",
      "<li><a data-lang=\"my\" href=\"/my/youtube/TaBZmyGeUXI\">Malay</a></li>\n",
      "<li><a data-lang=\"ph\" href=\"/ph/youtube/TaBZmyGeUXI\">Filipino</a></li>\n",
      "<li><a data-lang=\"pt\" href=\"/pt/youtube/TaBZmyGeUXI\">Português</a></li>\n",
      "<li><a data-lang=\"ru\" href=\"/ru/youtube/TaBZmyGeUXI\">Русский</a></li>\n",
      "<li><a data-lang=\"th\" href=\"/th/youtube/TaBZmyGeUXI\">ไทย</a></li>\n",
      "<li><a data-lang=\"tr\" href=\"/tr/youtube/TaBZmyGeUXI\">Türkçe</a></li>\n",
      "<li><a data-lang=\"vi\" href=\"/vi/youtube/TaBZmyGeUXI\">Tiếng Việt</a></li>\n",
      "<li><a data-lang=\"zh-cn\" href=\"/zh-cn/youtube/TaBZmyGeUXI\">简体中文</a></li>\n",
      "<li><a data-lang=\"zh-tw\" href=\"/zh-tw/youtube/TaBZmyGeUXI\">繁體中文</a></li>\n",
      "<li><a data-lang=\"sa\" href=\"/sa/youtube/TaBZmyGeUXI\">العربية</a></li>\n",
      "<li><a data-lang=\"bn\" href=\"/bn/youtube/TaBZmyGeUXI\">বাঙালি</a></li>\n",
      "</ul>\n",
      "</li>\n",
      "</ul>\n",
      "</div>\n",
      "\n",
      "\n",
      "--------------<div style=\"clear: both\">\n",
      "<div>\n",
      "<div class=\"container\">\n",
      "<div class=\"panel panel-default m-b-0\">\n",
      "<div class=\"panel-body\">\n",
      "<div class=\"div-form\">\n",
      "<div class=\"hero hero-homepage\">\n",
      "<h1 class=\"hero-header\">Download Video and Audio from YouTube</h1>\n",
      "<div class=\"ads_banner m-t m-b\">\n",
      "</div>\n",
      "<div>\n",
      "<form action=\"/en65\" class=\"form-inline form-search\" id=\"search-form\" name=\"mc-embedded-subscribe-form\">\n",
      "<input class=\"form-control input-lg\" id=\"txt-url\" name=\"query\" placeholder=\"Search or paste link here...\" type=\"text\" value=\"https://www.youtube.com/watch?v=TaBZmyGeUXI\"/>\n",
      "<button class=\"btn btn-lg\" id=\"btn-submit\" onclick=\"analyze();\" type=\"button\" value=\"Start\">\n",
      "<span class=\"hidden-xs\">Start </span> <span class=\"glyphicon glyphicon-arrow-right\"></span>\n",
      "</button>\n",
      "<div id=\"result-suggest-container\"></div>\n",
      "<p class=\"small\">By using our service you are accepting our <a class=\"active\" href=\"/terms-of-service\" target=\"_blank\">Terms of Use</a>. </p>\n",
      "<img id=\"loading_img\" src=\"//www.y2mate.com/themes/images/loading.gif\" style=\"display: none\"/>\n",
      "</form>\n",
      "</div>\n",
      "<div id=\"ads_spot1\" style=\"max-width: 100%; margin-bottom: 15px; text-align: center\"> </div>\n",
      "<div id=\"result\">\n",
      "</div>\n",
      "</div>\n",
      "</div>\n",
      "</div>\n",
      "</div>\n",
      "<div class=\"row row-padded row-bordered row-centered p-l-md p-r-md\">\n",
      "<div class=\"col-sm-12\">\n",
      "<div class=\"text-center\">\n",
      "<h2><strong>YouTube Video Downloader</strong></h2>\n",
      "<h4>\n",
      "Y2mate allows you to convert &amp; download video from YouTube, Facebook, Video, Dailymotion, Youku, etc. to Mp3, Mp4 in HD quality. Y2mate supports downloading all video formats such as: MP4, M4V, 3GP, WMV, FLV, MO, MP3, WEBM, etc. You can easily download for free thousands of videos from YouTube and other websites. </h4>\n",
      "</div>\n",
      "</div>\n",
      "</div>\n",
      "<div class=\"row row-padded row-bordered homepage-grid text-center p-l-md p-r-md\">\n",
      "<div class=\"col-xs-12 col-sm-7 text-left\">\n",
      "<h5><strong>Instructions</strong></h5>\n",
      "<p>1. Search by name or directly paste the link of video you want to convert</p>\n",
      "<p>2. Click \"Start\" button to begin converting process</p>\n",
      "<p>3. Select the video/audio format you want to download, then click \"Download\" button</p>\n",
      "</div>\n",
      "<div class=\"col-xs-12 col-sm-5 text-left\">\n",
      "<h5><strong>Features</strong></h5>\n",
      "<p>• Unlimited downloads and always free</p>\n",
      "<p>• High-speed video converter</p>\n",
      "<p>• No registration required</p>\n",
      "<p>• Support downloading with all formats</p>\n",
      "</div>\n",
      "</div>\n",
      "<div class=\"clearfix\"></div>\n",
      "<div class=\"row row-padded row-bordered homepage-grid text-center p-l-md p-r-md featured\">\n",
      "<div class=\"col-sm-4\">\n",
      "<span aria-hidden=\"true\" class=\"glyphicon glyphicon-gift\"> </span>\n",
      "<h3><strong>Free Download</strong></h3>\n",
      "<h4>Unlimited conversion and free download.</h4>\n",
      "</div>\n",
      "<div class=\"col-sm-4\">\n",
      "<span aria-hidden=\"true\" class=\"glyphicon glyphicon-film\"> </span>\n",
      "<h3><strong>Video &amp; Audio</strong></h3>\n",
      "<h4>Directly Download Video &amp; Music.</h4>\n",
      "</div>\n",
      "<div class=\"col-sm-4\">\n",
      "<span aria-hidden=\"true\" class=\"glyphicon glyphicon-saved\"> </span>\n",
      "<h3><strong>Easy Download</strong></h3>\n",
      "<h4>Fully compatible with all browsers.</h4>\n",
      "</div>\n",
      "</div>\n",
      "<div class=\"row row-padded homepage-grid text-center m-t p-l-md p-r-md\">\n",
      "<div class=\"col-md-12\">\n",
      "<div class=\"box-guide text-left\">\n",
      "<p><b>Tip:</b> Insert \"<b>pp</b>\" after the word \"youtube\" in the link to download videos and mp3 files from YouTube as a faster way.</p>\n",
      "<p><img alt=\"tip how to quick download youtube video mp3\" src=\"//www.y2mate.com/themes/images/tip-download-youtube.jpg\" style=\"max-height: 50px; max-width: 100%\"/> </p>\n",
      "<div>\n",
      "<div class=\"box-guide text-left\">\n",
      "<p>If you can’t directly download video to your PC, please follow the guidelines below:</p>\n",
      "<p>Step1: Select the format you want and click \"Download\" button. </p>\n",
      "<p>Step2: In new window, press \"CTRL + S\" to save video OR right click to video, then select \"Save as Video\".</p>\n",
      "</div>\n",
      "</div>\n",
      "</div>\n",
      "</div>\n",
      "</div>\n",
      "</div>\n",
      "</div>\n",
      "</div>\n",
      "\n",
      "\n",
      "--------------<div>\n",
      "<div class=\"container\">\n",
      "<div class=\"panel panel-default m-b-0\">\n",
      "<div class=\"panel-body\">\n",
      "<div class=\"div-form\">\n",
      "<div class=\"hero hero-homepage\">\n",
      "<h1 class=\"hero-header\">Download Video and Audio from YouTube</h1>\n",
      "<div class=\"ads_banner m-t m-b\">\n",
      "</div>\n",
      "<div>\n",
      "<form action=\"/en65\" class=\"form-inline form-search\" id=\"search-form\" name=\"mc-embedded-subscribe-form\">\n",
      "<input class=\"form-control input-lg\" id=\"txt-url\" name=\"query\" placeholder=\"Search or paste link here...\" type=\"text\" value=\"https://www.youtube.com/watch?v=TaBZmyGeUXI\"/>\n",
      "<button class=\"btn btn-lg\" id=\"btn-submit\" onclick=\"analyze();\" type=\"button\" value=\"Start\">\n",
      "<span class=\"hidden-xs\">Start </span> <span class=\"glyphicon glyphicon-arrow-right\"></span>\n",
      "</button>\n",
      "<div id=\"result-suggest-container\"></div>\n",
      "<p class=\"small\">By using our service you are accepting our <a class=\"active\" href=\"/terms-of-service\" target=\"_blank\">Terms of Use</a>. </p>\n",
      "<img id=\"loading_img\" src=\"//www.y2mate.com/themes/images/loading.gif\" style=\"display: none\"/>\n",
      "</form>\n",
      "</div>\n",
      "<div id=\"ads_spot1\" style=\"max-width: 100%; margin-bottom: 15px; text-align: center\"> </div>\n",
      "<div id=\"result\">\n",
      "</div>\n",
      "</div>\n",
      "</div>\n",
      "</div>\n",
      "</div>\n",
      "<div class=\"row row-padded row-bordered row-centered p-l-md p-r-md\">\n",
      "<div class=\"col-sm-12\">\n",
      "<div class=\"text-center\">\n",
      "<h2><strong>YouTube Video Downloader</strong></h2>\n",
      "<h4>\n",
      "Y2mate allows you to convert &amp; download video from YouTube, Facebook, Video, Dailymotion, Youku, etc. to Mp3, Mp4 in HD quality. Y2mate supports downloading all video formats such as: MP4, M4V, 3GP, WMV, FLV, MO, MP3, WEBM, etc. You can easily download for free thousands of videos from YouTube and other websites. </h4>\n",
      "</div>\n",
      "</div>\n",
      "</div>\n",
      "<div class=\"row row-padded row-bordered homepage-grid text-center p-l-md p-r-md\">\n",
      "<div class=\"col-xs-12 col-sm-7 text-left\">\n",
      "<h5><strong>Instructions</strong></h5>\n",
      "<p>1. Search by name or directly paste the link of video you want to convert</p>\n",
      "<p>2. Click \"Start\" button to begin converting process</p>\n",
      "<p>3. Select the video/audio format you want to download, then click \"Download\" button</p>\n",
      "</div>\n",
      "<div class=\"col-xs-12 col-sm-5 text-left\">\n",
      "<h5><strong>Features</strong></h5>\n",
      "<p>• Unlimited downloads and always free</p>\n",
      "<p>• High-speed video converter</p>\n",
      "<p>• No registration required</p>\n",
      "<p>• Support downloading with all formats</p>\n",
      "</div>\n",
      "</div>\n",
      "<div class=\"clearfix\"></div>\n",
      "<div class=\"row row-padded row-bordered homepage-grid text-center p-l-md p-r-md featured\">\n",
      "<div class=\"col-sm-4\">\n",
      "<span aria-hidden=\"true\" class=\"glyphicon glyphicon-gift\"> </span>\n",
      "<h3><strong>Free Download</strong></h3>\n",
      "<h4>Unlimited conversion and free download.</h4>\n",
      "</div>\n",
      "<div class=\"col-sm-4\">\n",
      "<span aria-hidden=\"true\" class=\"glyphicon glyphicon-film\"> </span>\n",
      "<h3><strong>Video &amp; Audio</strong></h3>\n",
      "<h4>Directly Download Video &amp; Music.</h4>\n",
      "</div>\n",
      "<div class=\"col-sm-4\">\n",
      "<span aria-hidden=\"true\" class=\"glyphicon glyphicon-saved\"> </span>\n",
      "<h3><strong>Easy Download</strong></h3>\n",
      "<h4>Fully compatible with all browsers.</h4>\n",
      "</div>\n",
      "</div>\n",
      "<div class=\"row row-padded homepage-grid text-center m-t p-l-md p-r-md\">\n",
      "<div class=\"col-md-12\">\n",
      "<div class=\"box-guide text-left\">\n",
      "<p><b>Tip:</b> Insert \"<b>pp</b>\" after the word \"youtube\" in the link to download videos and mp3 files from YouTube as a faster way.</p>\n",
      "<p><img alt=\"tip how to quick download youtube video mp3\" src=\"//www.y2mate.com/themes/images/tip-download-youtube.jpg\" style=\"max-height: 50px; max-width: 100%\"/> </p>\n",
      "<div>\n",
      "<div class=\"box-guide text-left\">\n",
      "<p>If you can’t directly download video to your PC, please follow the guidelines below:</p>\n",
      "<p>Step1: Select the format you want and click \"Download\" button. </p>\n",
      "<p>Step2: In new window, press \"CTRL + S\" to save video OR right click to video, then select \"Save as Video\".</p>\n",
      "</div>\n",
      "</div>\n",
      "</div>\n",
      "</div>\n",
      "</div>\n",
      "</div>\n",
      "</div>\n",
      "\n",
      "\n",
      "--------------<div class=\"container\">\n",
      "<div class=\"panel panel-default m-b-0\">\n",
      "<div class=\"panel-body\">\n",
      "<div class=\"div-form\">\n",
      "<div class=\"hero hero-homepage\">\n",
      "<h1 class=\"hero-header\">Download Video and Audio from YouTube</h1>\n",
      "<div class=\"ads_banner m-t m-b\">\n",
      "</div>\n",
      "<div>\n",
      "<form action=\"/en65\" class=\"form-inline form-search\" id=\"search-form\" name=\"mc-embedded-subscribe-form\">\n",
      "<input class=\"form-control input-lg\" id=\"txt-url\" name=\"query\" placeholder=\"Search or paste link here...\" type=\"text\" value=\"https://www.youtube.com/watch?v=TaBZmyGeUXI\"/>\n",
      "<button class=\"btn btn-lg\" id=\"btn-submit\" onclick=\"analyze();\" type=\"button\" value=\"Start\">\n",
      "<span class=\"hidden-xs\">Start </span> <span class=\"glyphicon glyphicon-arrow-right\"></span>\n",
      "</button>\n",
      "<div id=\"result-suggest-container\"></div>\n",
      "<p class=\"small\">By using our service you are accepting our <a class=\"active\" href=\"/terms-of-service\" target=\"_blank\">Terms of Use</a>. </p>\n",
      "<img id=\"loading_img\" src=\"//www.y2mate.com/themes/images/loading.gif\" style=\"display: none\"/>\n",
      "</form>\n",
      "</div>\n",
      "<div id=\"ads_spot1\" style=\"max-width: 100%; margin-bottom: 15px; text-align: center\"> </div>\n",
      "<div id=\"result\">\n",
      "</div>\n",
      "</div>\n",
      "</div>\n",
      "</div>\n",
      "</div>\n",
      "<div class=\"row row-padded row-bordered row-centered p-l-md p-r-md\">\n",
      "<div class=\"col-sm-12\">\n",
      "<div class=\"text-center\">\n",
      "<h2><strong>YouTube Video Downloader</strong></h2>\n",
      "<h4>\n",
      "Y2mate allows you to convert &amp; download video from YouTube, Facebook, Video, Dailymotion, Youku, etc. to Mp3, Mp4 in HD quality. Y2mate supports downloading all video formats such as: MP4, M4V, 3GP, WMV, FLV, MO, MP3, WEBM, etc. You can easily download for free thousands of videos from YouTube and other websites. </h4>\n",
      "</div>\n",
      "</div>\n",
      "</div>\n",
      "<div class=\"row row-padded row-bordered homepage-grid text-center p-l-md p-r-md\">\n",
      "<div class=\"col-xs-12 col-sm-7 text-left\">\n",
      "<h5><strong>Instructions</strong></h5>\n",
      "<p>1. Search by name or directly paste the link of video you want to convert</p>\n",
      "<p>2. Click \"Start\" button to begin converting process</p>\n",
      "<p>3. Select the video/audio format you want to download, then click \"Download\" button</p>\n",
      "</div>\n",
      "<div class=\"col-xs-12 col-sm-5 text-left\">\n",
      "<h5><strong>Features</strong></h5>\n",
      "<p>• Unlimited downloads and always free</p>\n",
      "<p>• High-speed video converter</p>\n",
      "<p>• No registration required</p>\n",
      "<p>• Support downloading with all formats</p>\n",
      "</div>\n",
      "</div>\n",
      "<div class=\"clearfix\"></div>\n",
      "<div class=\"row row-padded row-bordered homepage-grid text-center p-l-md p-r-md featured\">\n",
      "<div class=\"col-sm-4\">\n",
      "<span aria-hidden=\"true\" class=\"glyphicon glyphicon-gift\"> </span>\n",
      "<h3><strong>Free Download</strong></h3>\n",
      "<h4>Unlimited conversion and free download.</h4>\n",
      "</div>\n",
      "<div class=\"col-sm-4\">\n",
      "<span aria-hidden=\"true\" class=\"glyphicon glyphicon-film\"> </span>\n",
      "<h3><strong>Video &amp; Audio</strong></h3>\n",
      "<h4>Directly Download Video &amp; Music.</h4>\n",
      "</div>\n",
      "<div class=\"col-sm-4\">\n",
      "<span aria-hidden=\"true\" class=\"glyphicon glyphicon-saved\"> </span>\n",
      "<h3><strong>Easy Download</strong></h3>\n",
      "<h4>Fully compatible with all browsers.</h4>\n",
      "</div>\n",
      "</div>\n",
      "<div class=\"row row-padded homepage-grid text-center m-t p-l-md p-r-md\">\n",
      "<div class=\"col-md-12\">\n",
      "<div class=\"box-guide text-left\">\n",
      "<p><b>Tip:</b> Insert \"<b>pp</b>\" after the word \"youtube\" in the link to download videos and mp3 files from YouTube as a faster way.</p>\n",
      "<p><img alt=\"tip how to quick download youtube video mp3\" src=\"//www.y2mate.com/themes/images/tip-download-youtube.jpg\" style=\"max-height: 50px; max-width: 100%\"/> </p>\n",
      "<div>\n",
      "<div class=\"box-guide text-left\">\n",
      "<p>If you can’t directly download video to your PC, please follow the guidelines below:</p>\n",
      "<p>Step1: Select the format you want and click \"Download\" button. </p>\n",
      "<p>Step2: In new window, press \"CTRL + S\" to save video OR right click to video, then select \"Save as Video\".</p>\n",
      "</div>\n",
      "</div>\n",
      "</div>\n",
      "</div>\n",
      "</div>\n",
      "</div>\n",
      "\n",
      "\n",
      "--------------<div class=\"panel panel-default m-b-0\">\n",
      "<div class=\"panel-body\">\n",
      "<div class=\"div-form\">\n",
      "<div class=\"hero hero-homepage\">\n",
      "<h1 class=\"hero-header\">Download Video and Audio from YouTube</h1>\n",
      "<div class=\"ads_banner m-t m-b\">\n",
      "</div>\n",
      "<div>\n",
      "<form action=\"/en65\" class=\"form-inline form-search\" id=\"search-form\" name=\"mc-embedded-subscribe-form\">\n",
      "<input class=\"form-control input-lg\" id=\"txt-url\" name=\"query\" placeholder=\"Search or paste link here...\" type=\"text\" value=\"https://www.youtube.com/watch?v=TaBZmyGeUXI\"/>\n",
      "<button class=\"btn btn-lg\" id=\"btn-submit\" onclick=\"analyze();\" type=\"button\" value=\"Start\">\n",
      "<span class=\"hidden-xs\">Start </span> <span class=\"glyphicon glyphicon-arrow-right\"></span>\n",
      "</button>\n",
      "<div id=\"result-suggest-container\"></div>\n",
      "<p class=\"small\">By using our service you are accepting our <a class=\"active\" href=\"/terms-of-service\" target=\"_blank\">Terms of Use</a>. </p>\n",
      "<img id=\"loading_img\" src=\"//www.y2mate.com/themes/images/loading.gif\" style=\"display: none\"/>\n",
      "</form>\n",
      "</div>\n",
      "<div id=\"ads_spot1\" style=\"max-width: 100%; margin-bottom: 15px; text-align: center\"> </div>\n",
      "<div id=\"result\">\n",
      "</div>\n",
      "</div>\n",
      "</div>\n",
      "</div>\n",
      "</div>\n",
      "\n",
      "\n",
      "--------------<div class=\"panel-body\">\n",
      "<div class=\"div-form\">\n",
      "<div class=\"hero hero-homepage\">\n",
      "<h1 class=\"hero-header\">Download Video and Audio from YouTube</h1>\n",
      "<div class=\"ads_banner m-t m-b\">\n",
      "</div>\n",
      "<div>\n",
      "<form action=\"/en65\" class=\"form-inline form-search\" id=\"search-form\" name=\"mc-embedded-subscribe-form\">\n",
      "<input class=\"form-control input-lg\" id=\"txt-url\" name=\"query\" placeholder=\"Search or paste link here...\" type=\"text\" value=\"https://www.youtube.com/watch?v=TaBZmyGeUXI\"/>\n",
      "<button class=\"btn btn-lg\" id=\"btn-submit\" onclick=\"analyze();\" type=\"button\" value=\"Start\">\n",
      "<span class=\"hidden-xs\">Start </span> <span class=\"glyphicon glyphicon-arrow-right\"></span>\n",
      "</button>\n",
      "<div id=\"result-suggest-container\"></div>\n",
      "<p class=\"small\">By using our service you are accepting our <a class=\"active\" href=\"/terms-of-service\" target=\"_blank\">Terms of Use</a>. </p>\n",
      "<img id=\"loading_img\" src=\"//www.y2mate.com/themes/images/loading.gif\" style=\"display: none\"/>\n",
      "</form>\n",
      "</div>\n",
      "<div id=\"ads_spot1\" style=\"max-width: 100%; margin-bottom: 15px; text-align: center\"> </div>\n",
      "<div id=\"result\">\n",
      "</div>\n",
      "</div>\n",
      "</div>\n",
      "</div>\n",
      "\n",
      "\n",
      "--------------<div class=\"div-form\">\n",
      "<div class=\"hero hero-homepage\">\n",
      "<h1 class=\"hero-header\">Download Video and Audio from YouTube</h1>\n",
      "<div class=\"ads_banner m-t m-b\">\n",
      "</div>\n",
      "<div>\n",
      "<form action=\"/en65\" class=\"form-inline form-search\" id=\"search-form\" name=\"mc-embedded-subscribe-form\">\n",
      "<input class=\"form-control input-lg\" id=\"txt-url\" name=\"query\" placeholder=\"Search or paste link here...\" type=\"text\" value=\"https://www.youtube.com/watch?v=TaBZmyGeUXI\"/>\n",
      "<button class=\"btn btn-lg\" id=\"btn-submit\" onclick=\"analyze();\" type=\"button\" value=\"Start\">\n",
      "<span class=\"hidden-xs\">Start </span> <span class=\"glyphicon glyphicon-arrow-right\"></span>\n",
      "</button>\n",
      "<div id=\"result-suggest-container\"></div>\n",
      "<p class=\"small\">By using our service you are accepting our <a class=\"active\" href=\"/terms-of-service\" target=\"_blank\">Terms of Use</a>. </p>\n",
      "<img id=\"loading_img\" src=\"//www.y2mate.com/themes/images/loading.gif\" style=\"display: none\"/>\n",
      "</form>\n",
      "</div>\n",
      "<div id=\"ads_spot1\" style=\"max-width: 100%; margin-bottom: 15px; text-align: center\"> </div>\n",
      "<div id=\"result\">\n",
      "</div>\n",
      "</div>\n",
      "</div>\n",
      "\n",
      "\n",
      "--------------<div class=\"hero hero-homepage\">\n",
      "<h1 class=\"hero-header\">Download Video and Audio from YouTube</h1>\n",
      "<div class=\"ads_banner m-t m-b\">\n",
      "</div>\n",
      "<div>\n",
      "<form action=\"/en65\" class=\"form-inline form-search\" id=\"search-form\" name=\"mc-embedded-subscribe-form\">\n",
      "<input class=\"form-control input-lg\" id=\"txt-url\" name=\"query\" placeholder=\"Search or paste link here...\" type=\"text\" value=\"https://www.youtube.com/watch?v=TaBZmyGeUXI\"/>\n",
      "<button class=\"btn btn-lg\" id=\"btn-submit\" onclick=\"analyze();\" type=\"button\" value=\"Start\">\n",
      "<span class=\"hidden-xs\">Start </span> <span class=\"glyphicon glyphicon-arrow-right\"></span>\n",
      "</button>\n",
      "<div id=\"result-suggest-container\"></div>\n",
      "<p class=\"small\">By using our service you are accepting our <a class=\"active\" href=\"/terms-of-service\" target=\"_blank\">Terms of Use</a>. </p>\n",
      "<img id=\"loading_img\" src=\"//www.y2mate.com/themes/images/loading.gif\" style=\"display: none\"/>\n",
      "</form>\n",
      "</div>\n",
      "<div id=\"ads_spot1\" style=\"max-width: 100%; margin-bottom: 15px; text-align: center\"> </div>\n",
      "<div id=\"result\">\n",
      "</div>\n",
      "</div>\n",
      "\n",
      "\n",
      "--------------<div class=\"ads_banner m-t m-b\">\n",
      "</div>\n",
      "\n",
      "\n",
      "--------------<div>\n",
      "<form action=\"/en65\" class=\"form-inline form-search\" id=\"search-form\" name=\"mc-embedded-subscribe-form\">\n",
      "<input class=\"form-control input-lg\" id=\"txt-url\" name=\"query\" placeholder=\"Search or paste link here...\" type=\"text\" value=\"https://www.youtube.com/watch?v=TaBZmyGeUXI\"/>\n",
      "<button class=\"btn btn-lg\" id=\"btn-submit\" onclick=\"analyze();\" type=\"button\" value=\"Start\">\n",
      "<span class=\"hidden-xs\">Start </span> <span class=\"glyphicon glyphicon-arrow-right\"></span>\n",
      "</button>\n",
      "<div id=\"result-suggest-container\"></div>\n",
      "<p class=\"small\">By using our service you are accepting our <a class=\"active\" href=\"/terms-of-service\" target=\"_blank\">Terms of Use</a>. </p>\n",
      "<img id=\"loading_img\" src=\"//www.y2mate.com/themes/images/loading.gif\" style=\"display: none\"/>\n",
      "</form>\n",
      "</div>\n",
      "\n",
      "\n",
      "--------------<div id=\"result-suggest-container\"></div>\n",
      "\n",
      "\n",
      "--------------<div id=\"ads_spot1\" style=\"max-width: 100%; margin-bottom: 15px; text-align: center\"> </div>\n",
      "\n",
      "\n",
      "--------------<div id=\"result\">\n",
      "</div>\n",
      "\n",
      "\n",
      "--------------<div class=\"row row-padded row-bordered row-centered p-l-md p-r-md\">\n",
      "<div class=\"col-sm-12\">\n",
      "<div class=\"text-center\">\n",
      "<h2><strong>YouTube Video Downloader</strong></h2>\n",
      "<h4>\n",
      "Y2mate allows you to convert &amp; download video from YouTube, Facebook, Video, Dailymotion, Youku, etc. to Mp3, Mp4 in HD quality. Y2mate supports downloading all video formats such as: MP4, M4V, 3GP, WMV, FLV, MO, MP3, WEBM, etc. You can easily download for free thousands of videos from YouTube and other websites. </h4>\n",
      "</div>\n",
      "</div>\n",
      "</div>\n",
      "\n",
      "\n",
      "--------------<div class=\"col-sm-12\">\n",
      "<div class=\"text-center\">\n",
      "<h2><strong>YouTube Video Downloader</strong></h2>\n",
      "<h4>\n",
      "Y2mate allows you to convert &amp; download video from YouTube, Facebook, Video, Dailymotion, Youku, etc. to Mp3, Mp4 in HD quality. Y2mate supports downloading all video formats such as: MP4, M4V, 3GP, WMV, FLV, MO, MP3, WEBM, etc. You can easily download for free thousands of videos from YouTube and other websites. </h4>\n",
      "</div>\n",
      "</div>\n",
      "\n",
      "\n",
      "--------------<div class=\"text-center\">\n",
      "<h2><strong>YouTube Video Downloader</strong></h2>\n",
      "<h4>\n",
      "Y2mate allows you to convert &amp; download video from YouTube, Facebook, Video, Dailymotion, Youku, etc. to Mp3, Mp4 in HD quality. Y2mate supports downloading all video formats such as: MP4, M4V, 3GP, WMV, FLV, MO, MP3, WEBM, etc. You can easily download for free thousands of videos from YouTube and other websites. </h4>\n",
      "</div>\n",
      "\n",
      "\n",
      "--------------<div class=\"row row-padded row-bordered homepage-grid text-center p-l-md p-r-md\">\n",
      "<div class=\"col-xs-12 col-sm-7 text-left\">\n",
      "<h5><strong>Instructions</strong></h5>\n",
      "<p>1. Search by name or directly paste the link of video you want to convert</p>\n",
      "<p>2. Click \"Start\" button to begin converting process</p>\n",
      "<p>3. Select the video/audio format you want to download, then click \"Download\" button</p>\n",
      "</div>\n",
      "<div class=\"col-xs-12 col-sm-5 text-left\">\n",
      "<h5><strong>Features</strong></h5>\n",
      "<p>• Unlimited downloads and always free</p>\n",
      "<p>• High-speed video converter</p>\n",
      "<p>• No registration required</p>\n",
      "<p>• Support downloading with all formats</p>\n",
      "</div>\n",
      "</div>\n",
      "\n",
      "\n",
      "--------------<div class=\"col-xs-12 col-sm-7 text-left\">\n",
      "<h5><strong>Instructions</strong></h5>\n",
      "<p>1. Search by name or directly paste the link of video you want to convert</p>\n",
      "<p>2. Click \"Start\" button to begin converting process</p>\n",
      "<p>3. Select the video/audio format you want to download, then click \"Download\" button</p>\n",
      "</div>\n",
      "\n",
      "\n",
      "--------------<div class=\"col-xs-12 col-sm-5 text-left\">\n",
      "<h5><strong>Features</strong></h5>\n",
      "<p>• Unlimited downloads and always free</p>\n",
      "<p>• High-speed video converter</p>\n",
      "<p>• No registration required</p>\n",
      "<p>• Support downloading with all formats</p>\n",
      "</div>\n",
      "\n",
      "\n",
      "--------------<div class=\"clearfix\"></div>\n",
      "\n",
      "\n",
      "--------------<div class=\"row row-padded row-bordered homepage-grid text-center p-l-md p-r-md featured\">\n",
      "<div class=\"col-sm-4\">\n",
      "<span aria-hidden=\"true\" class=\"glyphicon glyphicon-gift\"> </span>\n",
      "<h3><strong>Free Download</strong></h3>\n",
      "<h4>Unlimited conversion and free download.</h4>\n",
      "</div>\n",
      "<div class=\"col-sm-4\">\n",
      "<span aria-hidden=\"true\" class=\"glyphicon glyphicon-film\"> </span>\n",
      "<h3><strong>Video &amp; Audio</strong></h3>\n",
      "<h4>Directly Download Video &amp; Music.</h4>\n",
      "</div>\n",
      "<div class=\"col-sm-4\">\n",
      "<span aria-hidden=\"true\" class=\"glyphicon glyphicon-saved\"> </span>\n",
      "<h3><strong>Easy Download</strong></h3>\n",
      "<h4>Fully compatible with all browsers.</h4>\n",
      "</div>\n",
      "</div>\n",
      "\n",
      "\n",
      "--------------<div class=\"col-sm-4\">\n",
      "<span aria-hidden=\"true\" class=\"glyphicon glyphicon-gift\"> </span>\n",
      "<h3><strong>Free Download</strong></h3>\n",
      "<h4>Unlimited conversion and free download.</h4>\n",
      "</div>\n",
      "\n",
      "\n",
      "--------------<div class=\"col-sm-4\">\n",
      "<span aria-hidden=\"true\" class=\"glyphicon glyphicon-film\"> </span>\n",
      "<h3><strong>Video &amp; Audio</strong></h3>\n",
      "<h4>Directly Download Video &amp; Music.</h4>\n",
      "</div>\n",
      "\n",
      "\n",
      "--------------<div class=\"col-sm-4\">\n",
      "<span aria-hidden=\"true\" class=\"glyphicon glyphicon-saved\"> </span>\n",
      "<h3><strong>Easy Download</strong></h3>\n",
      "<h4>Fully compatible with all browsers.</h4>\n",
      "</div>\n",
      "\n",
      "\n",
      "--------------<div class=\"row row-padded homepage-grid text-center m-t p-l-md p-r-md\">\n",
      "<div class=\"col-md-12\">\n",
      "<div class=\"box-guide text-left\">\n",
      "<p><b>Tip:</b> Insert \"<b>pp</b>\" after the word \"youtube\" in the link to download videos and mp3 files from YouTube as a faster way.</p>\n",
      "<p><img alt=\"tip how to quick download youtube video mp3\" src=\"//www.y2mate.com/themes/images/tip-download-youtube.jpg\" style=\"max-height: 50px; max-width: 100%\"/> </p>\n",
      "<div>\n",
      "<div class=\"box-guide text-left\">\n",
      "<p>If you can’t directly download video to your PC, please follow the guidelines below:</p>\n",
      "<p>Step1: Select the format you want and click \"Download\" button. </p>\n",
      "<p>Step2: In new window, press \"CTRL + S\" to save video OR right click to video, then select \"Save as Video\".</p>\n",
      "</div>\n",
      "</div>\n",
      "</div>\n",
      "</div>\n",
      "</div>\n",
      "\n",
      "\n",
      "--------------<div class=\"col-md-12\">\n",
      "<div class=\"box-guide text-left\">\n",
      "<p><b>Tip:</b> Insert \"<b>pp</b>\" after the word \"youtube\" in the link to download videos and mp3 files from YouTube as a faster way.</p>\n",
      "<p><img alt=\"tip how to quick download youtube video mp3\" src=\"//www.y2mate.com/themes/images/tip-download-youtube.jpg\" style=\"max-height: 50px; max-width: 100%\"/> </p>\n",
      "<div>\n",
      "<div class=\"box-guide text-left\">\n",
      "<p>If you can’t directly download video to your PC, please follow the guidelines below:</p>\n",
      "<p>Step1: Select the format you want and click \"Download\" button. </p>\n",
      "<p>Step2: In new window, press \"CTRL + S\" to save video OR right click to video, then select \"Save as Video\".</p>\n",
      "</div>\n",
      "</div>\n",
      "</div>\n",
      "</div>\n",
      "\n",
      "\n",
      "--------------<div class=\"box-guide text-left\">\n",
      "<p><b>Tip:</b> Insert \"<b>pp</b>\" after the word \"youtube\" in the link to download videos and mp3 files from YouTube as a faster way.</p>\n",
      "<p><img alt=\"tip how to quick download youtube video mp3\" src=\"//www.y2mate.com/themes/images/tip-download-youtube.jpg\" style=\"max-height: 50px; max-width: 100%\"/> </p>\n",
      "<div>\n",
      "<div class=\"box-guide text-left\">\n",
      "<p>If you can’t directly download video to your PC, please follow the guidelines below:</p>\n",
      "<p>Step1: Select the format you want and click \"Download\" button. </p>\n",
      "<p>Step2: In new window, press \"CTRL + S\" to save video OR right click to video, then select \"Save as Video\".</p>\n",
      "</div>\n",
      "</div>\n",
      "</div>\n",
      "\n",
      "\n",
      "--------------<div>\n",
      "<div class=\"box-guide text-left\">\n",
      "<p>If you can’t directly download video to your PC, please follow the guidelines below:</p>\n",
      "<p>Step1: Select the format you want and click \"Download\" button. </p>\n",
      "<p>Step2: In new window, press \"CTRL + S\" to save video OR right click to video, then select \"Save as Video\".</p>\n",
      "</div>\n",
      "</div>\n",
      "\n",
      "\n",
      "--------------<div class=\"box-guide text-left\">\n",
      "<p>If you can’t directly download video to your PC, please follow the guidelines below:</p>\n",
      "<p>Step1: Select the format you want and click \"Download\" button. </p>\n",
      "<p>Step2: In new window, press \"CTRL + S\" to save video OR right click to video, then select \"Save as Video\".</p>\n",
      "</div>\n",
      "\n",
      "\n",
      "--------------<div aria-labelledby=\"exampleModalLabel\" class=\"modal fade\" id=\"progress\" role=\"dialog\" tabindex=\"1\">\n",
      "<div class=\"modal-dialog\" role=\"document\" style=\"z-index: 999999\">\n",
      "<div class=\"modal-content\">\n",
      "<div class=\"modal-header\">\n",
      "<button aria-label=\"Close\" class=\"close\" data-dismiss=\"modal\" type=\"button\"><span aria-hidden=\"true\">×</span>\n",
      "</button>\n",
      "<b class=\"modal-title\" id=\"exampleModalLabel\"> </b>\n",
      "</div>\n",
      "<div class=\"modal-body text-center\">\n",
      "<div id=\"process-waiting\">\n",
      "<img class=\"m-t\" id=\"loading_img\" src=\"//www.y2mate.com/themes/images/loading.gif\"/>\n",
      "<p class=\"p-t\"><b>Please wait while the file is being prepared for downloading</b></p>\n",
      "</div>\n",
      "<div id=\"process-result\">\n",
      "</div>\n",
      "<div id=\"share-place-download\">\n",
      "<p class=\"text-left\">\n",
      "Thank you for using our service. If you could share our website with your friends, that would be a great help.\n",
      "<br/>\n",
      "</p>\n",
      "<div class=\"text-center\">\n",
      "<div class=\"addthis_inline_share_toolbox_u0o6\"></div>\n",
      "</div>\n",
      "<p class=\"text-left\">\n",
      "<br/>\n",
      "<strong>Thank you.</strong>\n",
      "</p>\n",
      "</div>\n",
      "</div>\n",
      "</div>\n",
      "</div>\n",
      "</div>\n",
      "\n",
      "\n",
      "--------------<div class=\"modal-dialog\" role=\"document\" style=\"z-index: 999999\">\n",
      "<div class=\"modal-content\">\n",
      "<div class=\"modal-header\">\n",
      "<button aria-label=\"Close\" class=\"close\" data-dismiss=\"modal\" type=\"button\"><span aria-hidden=\"true\">×</span>\n",
      "</button>\n",
      "<b class=\"modal-title\" id=\"exampleModalLabel\"> </b>\n",
      "</div>\n",
      "<div class=\"modal-body text-center\">\n",
      "<div id=\"process-waiting\">\n",
      "<img class=\"m-t\" id=\"loading_img\" src=\"//www.y2mate.com/themes/images/loading.gif\"/>\n",
      "<p class=\"p-t\"><b>Please wait while the file is being prepared for downloading</b></p>\n",
      "</div>\n",
      "<div id=\"process-result\">\n",
      "</div>\n",
      "<div id=\"share-place-download\">\n",
      "<p class=\"text-left\">\n",
      "Thank you for using our service. If you could share our website with your friends, that would be a great help.\n",
      "<br/>\n",
      "</p>\n",
      "<div class=\"text-center\">\n",
      "<div class=\"addthis_inline_share_toolbox_u0o6\"></div>\n",
      "</div>\n",
      "<p class=\"text-left\">\n",
      "<br/>\n",
      "<strong>Thank you.</strong>\n",
      "</p>\n",
      "</div>\n",
      "</div>\n",
      "</div>\n",
      "</div>\n",
      "\n",
      "\n",
      "--------------<div class=\"modal-content\">\n",
      "<div class=\"modal-header\">\n",
      "<button aria-label=\"Close\" class=\"close\" data-dismiss=\"modal\" type=\"button\"><span aria-hidden=\"true\">×</span>\n",
      "</button>\n",
      "<b class=\"modal-title\" id=\"exampleModalLabel\"> </b>\n",
      "</div>\n",
      "<div class=\"modal-body text-center\">\n",
      "<div id=\"process-waiting\">\n",
      "<img class=\"m-t\" id=\"loading_img\" src=\"//www.y2mate.com/themes/images/loading.gif\"/>\n",
      "<p class=\"p-t\"><b>Please wait while the file is being prepared for downloading</b></p>\n",
      "</div>\n",
      "<div id=\"process-result\">\n",
      "</div>\n",
      "<div id=\"share-place-download\">\n",
      "<p class=\"text-left\">\n",
      "Thank you for using our service. If you could share our website with your friends, that would be a great help.\n",
      "<br/>\n",
      "</p>\n",
      "<div class=\"text-center\">\n",
      "<div class=\"addthis_inline_share_toolbox_u0o6\"></div>\n",
      "</div>\n",
      "<p class=\"text-left\">\n",
      "<br/>\n",
      "<strong>Thank you.</strong>\n",
      "</p>\n",
      "</div>\n",
      "</div>\n",
      "</div>\n",
      "\n",
      "\n",
      "--------------<div class=\"modal-header\">\n",
      "<button aria-label=\"Close\" class=\"close\" data-dismiss=\"modal\" type=\"button\"><span aria-hidden=\"true\">×</span>\n",
      "</button>\n",
      "<b class=\"modal-title\" id=\"exampleModalLabel\"> </b>\n",
      "</div>\n",
      "\n",
      "\n",
      "--------------<div class=\"modal-body text-center\">\n",
      "<div id=\"process-waiting\">\n",
      "<img class=\"m-t\" id=\"loading_img\" src=\"//www.y2mate.com/themes/images/loading.gif\"/>\n",
      "<p class=\"p-t\"><b>Please wait while the file is being prepared for downloading</b></p>\n",
      "</div>\n",
      "<div id=\"process-result\">\n",
      "</div>\n",
      "<div id=\"share-place-download\">\n",
      "<p class=\"text-left\">\n",
      "Thank you for using our service. If you could share our website with your friends, that would be a great help.\n",
      "<br/>\n",
      "</p>\n",
      "<div class=\"text-center\">\n",
      "<div class=\"addthis_inline_share_toolbox_u0o6\"></div>\n",
      "</div>\n",
      "<p class=\"text-left\">\n",
      "<br/>\n",
      "<strong>Thank you.</strong>\n",
      "</p>\n",
      "</div>\n",
      "</div>\n",
      "\n",
      "\n",
      "--------------<div id=\"process-waiting\">\n",
      "<img class=\"m-t\" id=\"loading_img\" src=\"//www.y2mate.com/themes/images/loading.gif\"/>\n",
      "<p class=\"p-t\"><b>Please wait while the file is being prepared for downloading</b></p>\n",
      "</div>\n",
      "\n",
      "\n",
      "--------------<div id=\"process-result\">\n",
      "</div>\n",
      "\n",
      "\n",
      "--------------<div id=\"share-place-download\">\n",
      "<p class=\"text-left\">\n",
      "Thank you for using our service. If you could share our website with your friends, that would be a great help.\n",
      "<br/>\n",
      "</p>\n",
      "<div class=\"text-center\">\n",
      "<div class=\"addthis_inline_share_toolbox_u0o6\"></div>\n",
      "</div>\n",
      "<p class=\"text-left\">\n",
      "<br/>\n",
      "<strong>Thank you.</strong>\n",
      "</p>\n",
      "</div>\n",
      "\n",
      "\n",
      "--------------<div class=\"text-center\">\n",
      "<div class=\"addthis_inline_share_toolbox_u0o6\"></div>\n",
      "</div>\n",
      "\n",
      "\n",
      "--------------<div class=\"addthis_inline_share_toolbox_u0o6\"></div>\n",
      "\n",
      "\n",
      "--------------"
     ]
    }
   ],
   "source": [
    "for i in rows[0].findAll('div'):\n",
    "    print (i, end=\"\\n\\n\\n--------------\")"
   ]
  },
  {
   "cell_type": "code",
   "execution_count": 363,
   "metadata": {},
   "outputs": [
    {
     "ename": "ModuleNotFoundError",
     "evalue": "No module named 'selenium'",
     "output_type": "error",
     "traceback": [
      "\u001b[1;31mModuleNotFoundError\u001b[0m\u001b[1;31m:\u001b[0m No module named 'selenium'\n"
     ]
    }
   ],
   "source": [
    "from selenium.webdriver.support.ui import WebDriverWait as wait"
   ]
  },
  {
   "cell_type": "markdown",
   "metadata": {},
   "source": [
    "###  "
   ]
  },
  {
   "cell_type": "code",
   "execution_count": 2,
   "metadata": {},
   "outputs": [],
   "source": [
    "data = np.random.randint(1,10,(8,2))"
   ]
  },
  {
   "cell_type": "code",
   "execution_count": 13,
   "metadata": {},
   "outputs": [],
   "source": [
    "indices = [ list('aaaabbbb'),[1,1,2,2,1,1,2,2],list('ghghghgh') ]"
   ]
  },
  {
   "cell_type": "code",
   "execution_count": 14,
   "metadata": {},
   "outputs": [],
   "source": [
    "columns = ['Col1','Col2']"
   ]
  },
  {
   "cell_type": "code",
   "execution_count": 15,
   "metadata": {},
   "outputs": [],
   "source": [
    "df = pd.DataFrame(data, index=indices, columns=columns)"
   ]
  },
  {
   "cell_type": "code",
   "execution_count": 16,
   "metadata": {},
   "outputs": [
    {
     "data": {
      "text/html": [
       "<div>\n",
       "<style scoped>\n",
       "    .dataframe tbody tr th:only-of-type {\n",
       "        vertical-align: middle;\n",
       "    }\n",
       "\n",
       "    .dataframe tbody tr th {\n",
       "        vertical-align: top;\n",
       "    }\n",
       "\n",
       "    .dataframe thead th {\n",
       "        text-align: right;\n",
       "    }\n",
       "</style>\n",
       "<table border=\"1\" class=\"dataframe\">\n",
       "  <thead>\n",
       "    <tr style=\"text-align: right;\">\n",
       "      <th></th>\n",
       "      <th></th>\n",
       "      <th></th>\n",
       "      <th>Col1</th>\n",
       "      <th>Col2</th>\n",
       "    </tr>\n",
       "  </thead>\n",
       "  <tbody>\n",
       "    <tr>\n",
       "      <th rowspan=\"4\" valign=\"top\">a</th>\n",
       "      <th rowspan=\"2\" valign=\"top\">1</th>\n",
       "      <th>g</th>\n",
       "      <td>5</td>\n",
       "      <td>7</td>\n",
       "    </tr>\n",
       "    <tr>\n",
       "      <th>h</th>\n",
       "      <td>6</td>\n",
       "      <td>6</td>\n",
       "    </tr>\n",
       "    <tr>\n",
       "      <th rowspan=\"2\" valign=\"top\">2</th>\n",
       "      <th>g</th>\n",
       "      <td>2</td>\n",
       "      <td>1</td>\n",
       "    </tr>\n",
       "    <tr>\n",
       "      <th>h</th>\n",
       "      <td>2</td>\n",
       "      <td>8</td>\n",
       "    </tr>\n",
       "    <tr>\n",
       "      <th rowspan=\"4\" valign=\"top\">b</th>\n",
       "      <th rowspan=\"2\" valign=\"top\">1</th>\n",
       "      <th>g</th>\n",
       "      <td>9</td>\n",
       "      <td>1</td>\n",
       "    </tr>\n",
       "    <tr>\n",
       "      <th>h</th>\n",
       "      <td>9</td>\n",
       "      <td>7</td>\n",
       "    </tr>\n",
       "    <tr>\n",
       "      <th rowspan=\"2\" valign=\"top\">2</th>\n",
       "      <th>g</th>\n",
       "      <td>1</td>\n",
       "      <td>9</td>\n",
       "    </tr>\n",
       "    <tr>\n",
       "      <th>h</th>\n",
       "      <td>6</td>\n",
       "      <td>3</td>\n",
       "    </tr>\n",
       "  </tbody>\n",
       "</table>\n",
       "</div>"
      ],
      "text/plain": [
       "       Col1  Col2\n",
       "a 1 g     5     7\n",
       "    h     6     6\n",
       "  2 g     2     1\n",
       "    h     2     8\n",
       "b 1 g     9     1\n",
       "    h     9     7\n",
       "  2 g     1     9\n",
       "    h     6     3"
      ]
     },
     "execution_count": 16,
     "metadata": {},
     "output_type": "execute_result"
    }
   ],
   "source": [
    "df"
   ]
  },
  {
   "cell_type": "code",
   "execution_count": 23,
   "metadata": {},
   "outputs": [],
   "source": [
    "index = pd.MultiIndex.from_product([['a','b'],[1,2],['g','h']])"
   ]
  },
  {
   "cell_type": "code",
   "execution_count": 46,
   "metadata": {},
   "outputs": [
    {
     "ename": "TypeError",
     "evalue": "'property' object is not subscriptable",
     "output_type": "error",
     "traceback": [
      "\u001b[1;31mTypeError\u001b[0m\u001b[1;31m:\u001b[0m 'property' object is not subscriptable\n"
     ]
    }
   ],
   "source": [
    "index.to_frame(True).drop(pd.DataFrame.iloc[-1],axis=1)"
   ]
  },
  {
   "cell_type": "code",
   "execution_count": 29,
   "metadata": {},
   "outputs": [],
   "source": [
    "kaka = pd.DataFrame({'Col1':[],'Col2':[]})"
   ]
  },
  {
   "cell_type": "code",
   "execution_count": 28,
   "metadata": {
    "scrolled": true
   },
   "outputs": [
    {
     "data": {
      "text/html": [
       "<div>\n",
       "<style scoped>\n",
       "    .dataframe tbody tr th:only-of-type {\n",
       "        vertical-align: middle;\n",
       "    }\n",
       "\n",
       "    .dataframe tbody tr th {\n",
       "        vertical-align: top;\n",
       "    }\n",
       "\n",
       "    .dataframe thead th {\n",
       "        text-align: right;\n",
       "    }\n",
       "</style>\n",
       "<table border=\"1\" class=\"dataframe\">\n",
       "  <thead>\n",
       "    <tr style=\"text-align: right;\">\n",
       "      <th></th>\n",
       "      <th></th>\n",
       "      <th></th>\n",
       "      <th>Col1</th>\n",
       "      <th>Col2</th>\n",
       "    </tr>\n",
       "  </thead>\n",
       "  <tbody>\n",
       "    <tr>\n",
       "      <th rowspan=\"4\" valign=\"top\">a</th>\n",
       "      <th rowspan=\"2\" valign=\"top\">1</th>\n",
       "      <th>g</th>\n",
       "      <td>NaN</td>\n",
       "      <td>NaN</td>\n",
       "    </tr>\n",
       "    <tr>\n",
       "      <th>h</th>\n",
       "      <td>NaN</td>\n",
       "      <td>NaN</td>\n",
       "    </tr>\n",
       "    <tr>\n",
       "      <th rowspan=\"2\" valign=\"top\">2</th>\n",
       "      <th>g</th>\n",
       "      <td>NaN</td>\n",
       "      <td>NaN</td>\n",
       "    </tr>\n",
       "    <tr>\n",
       "      <th>h</th>\n",
       "      <td>NaN</td>\n",
       "      <td>NaN</td>\n",
       "    </tr>\n",
       "    <tr>\n",
       "      <th rowspan=\"4\" valign=\"top\">b</th>\n",
       "      <th rowspan=\"2\" valign=\"top\">1</th>\n",
       "      <th>g</th>\n",
       "      <td>NaN</td>\n",
       "      <td>NaN</td>\n",
       "    </tr>\n",
       "    <tr>\n",
       "      <th>h</th>\n",
       "      <td>NaN</td>\n",
       "      <td>NaN</td>\n",
       "    </tr>\n",
       "    <tr>\n",
       "      <th rowspan=\"2\" valign=\"top\">2</th>\n",
       "      <th>g</th>\n",
       "      <td>NaN</td>\n",
       "      <td>NaN</td>\n",
       "    </tr>\n",
       "    <tr>\n",
       "      <th>h</th>\n",
       "      <td>NaN</td>\n",
       "      <td>NaN</td>\n",
       "    </tr>\n",
       "  </tbody>\n",
       "</table>\n",
       "</div>"
      ],
      "text/plain": [
       "       Col1  Col2\n",
       "a 1 g   NaN   NaN\n",
       "    h   NaN   NaN\n",
       "  2 g   NaN   NaN\n",
       "    h   NaN   NaN\n",
       "b 1 g   NaN   NaN\n",
       "    h   NaN   NaN\n",
       "  2 g   NaN   NaN\n",
       "    h   NaN   NaN"
      ]
     },
     "execution_count": 28,
     "metadata": {},
     "output_type": "execute_result"
    }
   ],
   "source": [
    "kaka.reindex(index)"
   ]
  },
  {
   "cell_type": "code",
   "execution_count": 54,
   "metadata": {},
   "outputs": [],
   "source": [
    "dict_= [1,1,2,2,3,3]\n",
    "dictt= [0,1,0,1,0,1]\n",
    "dicttt= [20,23,20,23,20,23]\n",
    "Series = pd.Series(data= [25, 4, 2000,25,4,2000], index= [dict_, dictt, dicttt])"
   ]
  },
  {
   "cell_type": "code",
   "execution_count": 59,
   "metadata": {},
   "outputs": [
    {
     "data": {
      "text/plain": [
       "1  0  20      25\n",
       "   1  23       4\n",
       "2  0  20    2000\n",
       "   1  23      25\n",
       "3  0  20       4\n",
       "   1  23    2000\n",
       "dtype: int64"
      ]
     },
     "execution_count": 59,
     "metadata": {},
     "output_type": "execute_result"
    }
   ],
   "source": [
    "Series"
   ]
  },
  {
   "cell_type": "code",
   "execution_count": 71,
   "metadata": {},
   "outputs": [],
   "source": [
    "indices = pd.MultiIndex.from_product([['Bhuj','Anjar','Gandhidham','Ahmedabad'],\n",
    "           ['Male','Female'],\n",
    "           ['15 >','40 >','40 <']])\n",
    "\n",
    "cols = pd.MultiIndex.from_product([['Graduate','Ungraduate'],\n",
    "        ['A+','A-','B+','B-'],\n",
    "        [1_00_000,50_000]])\n",
    "\n",
    "data = np.random.randint(1,100,(24,16))\n",
    "\n",
    "dfofData = pd.DataFrame(data, index=indices, columns=cols)\n",
    "\n",
    "dfofData.index.names = ['City','Gender','Age']\n",
    "dfofData.columns.names = ['Study','Blood Group','Salary']"
   ]
  },
  {
   "cell_type": "code",
   "execution_count": 73,
   "metadata": {
    "scrolled": true
   },
   "outputs": [
    {
     "data": {
      "text/html": [
       "<div>\n",
       "<style scoped>\n",
       "    .dataframe tbody tr th:only-of-type {\n",
       "        vertical-align: middle;\n",
       "    }\n",
       "\n",
       "    .dataframe tbody tr th {\n",
       "        vertical-align: top;\n",
       "    }\n",
       "\n",
       "    .dataframe thead tr th {\n",
       "        text-align: left;\n",
       "    }\n",
       "\n",
       "    .dataframe thead tr:last-of-type th {\n",
       "        text-align: right;\n",
       "    }\n",
       "</style>\n",
       "<table border=\"1\" class=\"dataframe\">\n",
       "  <thead>\n",
       "    <tr>\n",
       "      <th></th>\n",
       "      <th></th>\n",
       "      <th>Study</th>\n",
       "      <th colspan=\"8\" halign=\"left\">Graduate</th>\n",
       "      <th colspan=\"8\" halign=\"left\">Ungraduate</th>\n",
       "    </tr>\n",
       "    <tr>\n",
       "      <th></th>\n",
       "      <th></th>\n",
       "      <th>Blood Group</th>\n",
       "      <th colspan=\"2\" halign=\"left\">A+</th>\n",
       "      <th colspan=\"2\" halign=\"left\">A-</th>\n",
       "      <th colspan=\"2\" halign=\"left\">B+</th>\n",
       "      <th colspan=\"2\" halign=\"left\">B-</th>\n",
       "      <th colspan=\"2\" halign=\"left\">A+</th>\n",
       "      <th colspan=\"2\" halign=\"left\">A-</th>\n",
       "      <th colspan=\"2\" halign=\"left\">B+</th>\n",
       "      <th colspan=\"2\" halign=\"left\">B-</th>\n",
       "    </tr>\n",
       "    <tr>\n",
       "      <th></th>\n",
       "      <th></th>\n",
       "      <th>Salary</th>\n",
       "      <th>100000</th>\n",
       "      <th>50000</th>\n",
       "      <th>100000</th>\n",
       "      <th>50000</th>\n",
       "      <th>100000</th>\n",
       "      <th>50000</th>\n",
       "      <th>100000</th>\n",
       "      <th>50000</th>\n",
       "      <th>100000</th>\n",
       "      <th>50000</th>\n",
       "      <th>100000</th>\n",
       "      <th>50000</th>\n",
       "      <th>100000</th>\n",
       "      <th>50000</th>\n",
       "      <th>100000</th>\n",
       "      <th>50000</th>\n",
       "    </tr>\n",
       "    <tr>\n",
       "      <th>City</th>\n",
       "      <th>Gender</th>\n",
       "      <th>Age</th>\n",
       "      <th></th>\n",
       "      <th></th>\n",
       "      <th></th>\n",
       "      <th></th>\n",
       "      <th></th>\n",
       "      <th></th>\n",
       "      <th></th>\n",
       "      <th></th>\n",
       "      <th></th>\n",
       "      <th></th>\n",
       "      <th></th>\n",
       "      <th></th>\n",
       "      <th></th>\n",
       "      <th></th>\n",
       "      <th></th>\n",
       "      <th></th>\n",
       "    </tr>\n",
       "  </thead>\n",
       "  <tbody>\n",
       "    <tr>\n",
       "      <th rowspan=\"5\" valign=\"top\">Bhuj</th>\n",
       "      <th rowspan=\"3\" valign=\"top\">Male</th>\n",
       "      <th>15 &gt;</th>\n",
       "      <td>78</td>\n",
       "      <td>57</td>\n",
       "      <td>52</td>\n",
       "      <td>39</td>\n",
       "      <td>56</td>\n",
       "      <td>53</td>\n",
       "      <td>81</td>\n",
       "      <td>35</td>\n",
       "      <td>35</td>\n",
       "      <td>1</td>\n",
       "      <td>22</td>\n",
       "      <td>60</td>\n",
       "      <td>28</td>\n",
       "      <td>4</td>\n",
       "      <td>98</td>\n",
       "      <td>75</td>\n",
       "    </tr>\n",
       "    <tr>\n",
       "      <th>40 &gt;</th>\n",
       "      <td>69</td>\n",
       "      <td>35</td>\n",
       "      <td>65</td>\n",
       "      <td>6</td>\n",
       "      <td>64</td>\n",
       "      <td>42</td>\n",
       "      <td>39</td>\n",
       "      <td>27</td>\n",
       "      <td>4</td>\n",
       "      <td>56</td>\n",
       "      <td>21</td>\n",
       "      <td>97</td>\n",
       "      <td>20</td>\n",
       "      <td>77</td>\n",
       "      <td>23</td>\n",
       "      <td>5</td>\n",
       "    </tr>\n",
       "    <tr>\n",
       "      <th>40 &lt;</th>\n",
       "      <td>8</td>\n",
       "      <td>54</td>\n",
       "      <td>34</td>\n",
       "      <td>91</td>\n",
       "      <td>70</td>\n",
       "      <td>37</td>\n",
       "      <td>14</td>\n",
       "      <td>83</td>\n",
       "      <td>65</td>\n",
       "      <td>34</td>\n",
       "      <td>59</td>\n",
       "      <td>62</td>\n",
       "      <td>99</td>\n",
       "      <td>9</td>\n",
       "      <td>77</td>\n",
       "      <td>88</td>\n",
       "    </tr>\n",
       "    <tr>\n",
       "      <th rowspan=\"2\" valign=\"top\">Female</th>\n",
       "      <th>15 &gt;</th>\n",
       "      <td>52</td>\n",
       "      <td>42</td>\n",
       "      <td>55</td>\n",
       "      <td>33</td>\n",
       "      <td>82</td>\n",
       "      <td>32</td>\n",
       "      <td>97</td>\n",
       "      <td>66</td>\n",
       "      <td>65</td>\n",
       "      <td>10</td>\n",
       "      <td>18</td>\n",
       "      <td>39</td>\n",
       "      <td>61</td>\n",
       "      <td>17</td>\n",
       "      <td>45</td>\n",
       "      <td>63</td>\n",
       "    </tr>\n",
       "    <tr>\n",
       "      <th>40 &gt;</th>\n",
       "      <td>68</td>\n",
       "      <td>78</td>\n",
       "      <td>6</td>\n",
       "      <td>96</td>\n",
       "      <td>77</td>\n",
       "      <td>26</td>\n",
       "      <td>27</td>\n",
       "      <td>48</td>\n",
       "      <td>61</td>\n",
       "      <td>63</td>\n",
       "      <td>35</td>\n",
       "      <td>38</td>\n",
       "      <td>39</td>\n",
       "      <td>60</td>\n",
       "      <td>21</td>\n",
       "      <td>42</td>\n",
       "    </tr>\n",
       "  </tbody>\n",
       "</table>\n",
       "</div>"
      ],
      "text/plain": [
       "Study            Graduate                                                   \\\n",
       "Blood Group            A+            A-            B+            B-          \n",
       "Salary             100000 50000  100000 50000  100000 50000  100000 50000    \n",
       "City Gender Age                                                              \n",
       "Bhuj Male   15 >       78     57     52     39     56     53     81     35   \n",
       "            40 >       69     35     65      6     64     42     39     27   \n",
       "            40 <        8     54     34     91     70     37     14     83   \n",
       "     Female 15 >       52     42     55     33     82     32     97     66   \n",
       "            40 >       68     78      6     96     77     26     27     48   \n",
       "\n",
       "Study            Ungraduate                                                   \n",
       "Blood Group              A+            A-            B+            B-         \n",
       "Salary               100000 50000  100000 50000  100000 50000  100000 50000   \n",
       "City Gender Age                                                               \n",
       "Bhuj Male   15 >         35      1     22     60     28      4     98     75  \n",
       "            40 >          4     56     21     97     20     77     23      5  \n",
       "            40 <         65     34     59     62     99      9     77     88  \n",
       "     Female 15 >         65     10     18     39     61     17     45     63  \n",
       "            40 >         61     63     35     38     39     60     21     42  "
      ]
     },
     "execution_count": 73,
     "metadata": {},
     "output_type": "execute_result"
    }
   ],
   "source": [
    "dfofData.head()"
   ]
  },
  {
   "cell_type": "code",
   "execution_count": 115,
   "metadata": {},
   "outputs": [],
   "source": [
    "tempdata = np.ones((6,6))"
   ]
  },
  {
   "cell_type": "markdown",
   "metadata": {},
   "source": [
    "**indicesarray_like or tuple** <br>\n",
    "\n",
    "    Array like index object or slice object for indexing into first operand. If first operand has multiple \n",
    "    dimensions, indices can be a tuple of array like index objects or slice objects."
   ]
  },
  {
   "cell_type": "code",
   "execution_count": 116,
   "metadata": {},
   "outputs": [],
   "source": [
    "np.multiply.at(tempdata,(slice(0,6),slice(0,6,2)), 10)"
   ]
  },
  {
   "cell_type": "code",
   "execution_count": 117,
   "metadata": {},
   "outputs": [
    {
     "data": {
      "text/plain": [
       "array([[10.,  1., 10.,  1., 10.,  1.],\n",
       "       [10.,  1., 10.,  1., 10.,  1.],\n",
       "       [10.,  1., 10.,  1., 10.,  1.],\n",
       "       [10.,  1., 10.,  1., 10.,  1.],\n",
       "       [10.,  1., 10.,  1., 10.,  1.],\n",
       "       [10.,  1., 10.,  1., 10.,  1.]])"
      ]
     },
     "execution_count": 117,
     "metadata": {},
     "output_type": "execute_result"
    }
   ],
   "source": [
    "tempdata"
   ]
  },
  {
   "cell_type": "code",
   "execution_count": 81,
   "metadata": {},
   "outputs": [],
   "source": [
    "tempdata[:, ::2] *= 10\n"
   ]
  },
  {
   "cell_type": "code",
   "execution_count": 82,
   "metadata": {},
   "outputs": [
    {
     "data": {
      "text/plain": [
       "array([[10.,  1., 10.,  1., 10.,  1.],\n",
       "       [10.,  1., 10.,  1., 10.,  1.],\n",
       "       [10.,  1., 10.,  1., 10.,  1.],\n",
       "       [10.,  1., 10.,  1., 10.,  1.],\n",
       "       [10.,  1., 10.,  1., 10.,  1.],\n",
       "       [10.,  1., 10.,  1., 10.,  1.]])"
      ]
     },
     "execution_count": 82,
     "metadata": {},
     "output_type": "execute_result"
    }
   ],
   "source": [
    "tempdata"
   ]
  },
  {
   "cell_type": "code",
   "execution_count": 118,
   "metadata": {},
   "outputs": [],
   "source": [
    "index = [('Bhuj',2000),('Bhuj',2010),('Surat',2000),('Surat',2010),('Ahmedabad',2000),('Ahmedabad',2010)]"
   ]
  },
  {
   "cell_type": "code",
   "execution_count": 119,
   "metadata": {},
   "outputs": [],
   "source": [
    "population = [1_00_000,11_00_000,2_00_000,22_00_000,3_00_000,33_00_000]"
   ]
  },
  {
   "cell_type": "code",
   "execution_count": 124,
   "metadata": {},
   "outputs": [],
   "source": [
    "multiindex = pd.MultiIndex.from_tuples(index)"
   ]
  },
  {
   "cell_type": "code",
   "execution_count": 130,
   "metadata": {},
   "outputs": [],
   "source": [
    "SeriesPop = pd.Series(population,index).reindex(multiindex)"
   ]
  },
  {
   "cell_type": "code",
   "execution_count": 137,
   "metadata": {},
   "outputs": [
    {
     "data": {
      "text/plain": [
       "Bhuj       2000     100000\n",
       "           2010    1100000\n",
       "Ahmedabad  2000     300000\n",
       "           2010    3300000\n",
       "dtype: int64"
      ]
     },
     "execution_count": 137,
     "metadata": {},
     "output_type": "execute_result"
    }
   ],
   "source": [
    "SeriesPop[['Bhuj','Ahmedabad']]"
   ]
  },
  {
   "cell_type": "code",
   "execution_count": 141,
   "metadata": {},
   "outputs": [
    {
     "data": {
      "text/plain": [
       "Bhuj       2010    1100000\n",
       "Surat      2010    2200000\n",
       "Ahmedabad  2000     300000\n",
       "           2010    3300000\n",
       "dtype: int64"
      ]
     },
     "execution_count": 141,
     "metadata": {},
     "output_type": "execute_result"
    }
   ],
   "source": [
    "SeriesPop[SeriesPop > 200000]"
   ]
  },
  {
   "cell_type": "code",
   "execution_count": 143,
   "metadata": {},
   "outputs": [
    {
     "data": {
      "text/plain": [
       "2000     100000\n",
       "2010    1100000\n",
       "dtype: int64"
      ]
     },
     "execution_count": 143,
     "metadata": {},
     "output_type": "execute_result"
    }
   ],
   "source": [
    "SeriesPop['Bhuj',:]"
   ]
  },
  {
   "cell_type": "code",
   "execution_count": 154,
   "metadata": {},
   "outputs": [
    {
     "data": {
      "text/html": [
       "<div>\n",
       "<style scoped>\n",
       "    .dataframe tbody tr th:only-of-type {\n",
       "        vertical-align: middle;\n",
       "    }\n",
       "\n",
       "    .dataframe tbody tr th {\n",
       "        vertical-align: top;\n",
       "    }\n",
       "\n",
       "    .dataframe thead tr th {\n",
       "        text-align: left;\n",
       "    }\n",
       "\n",
       "    .dataframe thead tr:last-of-type th {\n",
       "        text-align: right;\n",
       "    }\n",
       "</style>\n",
       "<table border=\"1\" class=\"dataframe\">\n",
       "  <thead>\n",
       "    <tr>\n",
       "      <th></th>\n",
       "      <th></th>\n",
       "      <th>Study</th>\n",
       "      <th colspan=\"8\" halign=\"left\">Graduate</th>\n",
       "      <th colspan=\"2\" halign=\"left\">Ungraduate</th>\n",
       "    </tr>\n",
       "    <tr>\n",
       "      <th></th>\n",
       "      <th></th>\n",
       "      <th>Blood Group</th>\n",
       "      <th colspan=\"2\" halign=\"left\">A+</th>\n",
       "      <th colspan=\"2\" halign=\"left\">A-</th>\n",
       "      <th colspan=\"2\" halign=\"left\">B+</th>\n",
       "      <th colspan=\"2\" halign=\"left\">B-</th>\n",
       "      <th colspan=\"2\" halign=\"left\">A+</th>\n",
       "    </tr>\n",
       "    <tr>\n",
       "      <th></th>\n",
       "      <th></th>\n",
       "      <th>Salary</th>\n",
       "      <th>100000</th>\n",
       "      <th>50000</th>\n",
       "      <th>100000</th>\n",
       "      <th>50000</th>\n",
       "      <th>100000</th>\n",
       "      <th>50000</th>\n",
       "      <th>100000</th>\n",
       "      <th>50000</th>\n",
       "      <th>100000</th>\n",
       "      <th>50000</th>\n",
       "    </tr>\n",
       "    <tr>\n",
       "      <th>City</th>\n",
       "      <th>Gender</th>\n",
       "      <th>Age</th>\n",
       "      <th></th>\n",
       "      <th></th>\n",
       "      <th></th>\n",
       "      <th></th>\n",
       "      <th></th>\n",
       "      <th></th>\n",
       "      <th></th>\n",
       "      <th></th>\n",
       "      <th></th>\n",
       "      <th></th>\n",
       "    </tr>\n",
       "  </thead>\n",
       "  <tbody>\n",
       "    <tr>\n",
       "      <th>Bhuj</th>\n",
       "      <th>Female</th>\n",
       "      <th>40 &lt;</th>\n",
       "      <td>77</td>\n",
       "      <td>19</td>\n",
       "      <td>49</td>\n",
       "      <td>23</td>\n",
       "      <td>98</td>\n",
       "      <td>47</td>\n",
       "      <td>15</td>\n",
       "      <td>22</td>\n",
       "      <td>88</td>\n",
       "      <td>68</td>\n",
       "    </tr>\n",
       "    <tr>\n",
       "      <th rowspan=\"4\" valign=\"top\">Anjar</th>\n",
       "      <th rowspan=\"3\" valign=\"top\">Male</th>\n",
       "      <th>15 &gt;</th>\n",
       "      <td>43</td>\n",
       "      <td>56</td>\n",
       "      <td>8</td>\n",
       "      <td>30</td>\n",
       "      <td>38</td>\n",
       "      <td>24</td>\n",
       "      <td>48</td>\n",
       "      <td>49</td>\n",
       "      <td>63</td>\n",
       "      <td>4</td>\n",
       "    </tr>\n",
       "    <tr>\n",
       "      <th>40 &gt;</th>\n",
       "      <td>19</td>\n",
       "      <td>50</td>\n",
       "      <td>48</td>\n",
       "      <td>18</td>\n",
       "      <td>4</td>\n",
       "      <td>27</td>\n",
       "      <td>54</td>\n",
       "      <td>97</td>\n",
       "      <td>79</td>\n",
       "      <td>36</td>\n",
       "    </tr>\n",
       "    <tr>\n",
       "      <th>40 &lt;</th>\n",
       "      <td>25</td>\n",
       "      <td>16</td>\n",
       "      <td>6</td>\n",
       "      <td>38</td>\n",
       "      <td>10</td>\n",
       "      <td>2</td>\n",
       "      <td>63</td>\n",
       "      <td>18</td>\n",
       "      <td>99</td>\n",
       "      <td>75</td>\n",
       "    </tr>\n",
       "    <tr>\n",
       "      <th>Female</th>\n",
       "      <th>15 &gt;</th>\n",
       "      <td>89</td>\n",
       "      <td>32</td>\n",
       "      <td>24</td>\n",
       "      <td>4</td>\n",
       "      <td>97</td>\n",
       "      <td>86</td>\n",
       "      <td>11</td>\n",
       "      <td>44</td>\n",
       "      <td>12</td>\n",
       "      <td>59</td>\n",
       "    </tr>\n",
       "  </tbody>\n",
       "</table>\n",
       "</div>"
      ],
      "text/plain": [
       "Study             Graduate                                                   \\\n",
       "Blood Group             A+            A-            B+            B-          \n",
       "Salary              100000 50000  100000 50000  100000 50000  100000 50000    \n",
       "City  Gender Age                                                              \n",
       "Bhuj  Female 40 <       77     19     49     23     98     47     15     22   \n",
       "Anjar Male   15 >       43     56      8     30     38     24     48     49   \n",
       "             40 >       19     50     48     18      4     27     54     97   \n",
       "             40 <       25     16      6     38     10      2     63     18   \n",
       "      Female 15 >       89     32     24      4     97     86     11     44   \n",
       "\n",
       "Study             Ungraduate         \n",
       "Blood Group               A+         \n",
       "Salary                100000 50000   \n",
       "City  Gender Age                     \n",
       "Bhuj  Female 40 <         88     68  \n",
       "Anjar Male   15 >         63      4  \n",
       "             40 >         79     36  \n",
       "             40 <         99     75  \n",
       "      Female 15 >         12     59  "
      ]
     },
     "execution_count": 154,
     "metadata": {},
     "output_type": "execute_result"
    }
   ],
   "source": [
    "dfofData.iloc[5:10,:10]"
   ]
  },
  {
   "cell_type": "code",
   "execution_count": 177,
   "metadata": {},
   "outputs": [
    {
     "data": {
      "text/html": [
       "<div>\n",
       "<style scoped>\n",
       "    .dataframe tbody tr th:only-of-type {\n",
       "        vertical-align: middle;\n",
       "    }\n",
       "\n",
       "    .dataframe tbody tr th {\n",
       "        vertical-align: top;\n",
       "    }\n",
       "\n",
       "    .dataframe thead tr th {\n",
       "        text-align: left;\n",
       "    }\n",
       "\n",
       "    .dataframe thead tr:last-of-type th {\n",
       "        text-align: right;\n",
       "    }\n",
       "</style>\n",
       "<table border=\"1\" class=\"dataframe\">\n",
       "  <thead>\n",
       "    <tr>\n",
       "      <th></th>\n",
       "      <th></th>\n",
       "      <th>Study</th>\n",
       "      <th colspan=\"8\" halign=\"left\">Graduate</th>\n",
       "      <th colspan=\"8\" halign=\"left\">Ungraduate</th>\n",
       "    </tr>\n",
       "    <tr>\n",
       "      <th></th>\n",
       "      <th></th>\n",
       "      <th>Blood Group</th>\n",
       "      <th colspan=\"2\" halign=\"left\">A+</th>\n",
       "      <th colspan=\"2\" halign=\"left\">A-</th>\n",
       "      <th colspan=\"2\" halign=\"left\">B+</th>\n",
       "      <th colspan=\"2\" halign=\"left\">B-</th>\n",
       "      <th colspan=\"2\" halign=\"left\">A+</th>\n",
       "      <th colspan=\"2\" halign=\"left\">A-</th>\n",
       "      <th colspan=\"2\" halign=\"left\">B+</th>\n",
       "      <th colspan=\"2\" halign=\"left\">B-</th>\n",
       "    </tr>\n",
       "    <tr>\n",
       "      <th></th>\n",
       "      <th></th>\n",
       "      <th>Salary</th>\n",
       "      <th>100000</th>\n",
       "      <th>50000</th>\n",
       "      <th>100000</th>\n",
       "      <th>50000</th>\n",
       "      <th>100000</th>\n",
       "      <th>50000</th>\n",
       "      <th>100000</th>\n",
       "      <th>50000</th>\n",
       "      <th>100000</th>\n",
       "      <th>50000</th>\n",
       "      <th>100000</th>\n",
       "      <th>50000</th>\n",
       "      <th>100000</th>\n",
       "      <th>50000</th>\n",
       "      <th>100000</th>\n",
       "      <th>50000</th>\n",
       "    </tr>\n",
       "    <tr>\n",
       "      <th>City</th>\n",
       "      <th>Gender</th>\n",
       "      <th>Age</th>\n",
       "      <th></th>\n",
       "      <th></th>\n",
       "      <th></th>\n",
       "      <th></th>\n",
       "      <th></th>\n",
       "      <th></th>\n",
       "      <th></th>\n",
       "      <th></th>\n",
       "      <th></th>\n",
       "      <th></th>\n",
       "      <th></th>\n",
       "      <th></th>\n",
       "      <th></th>\n",
       "      <th></th>\n",
       "      <th></th>\n",
       "      <th></th>\n",
       "    </tr>\n",
       "  </thead>\n",
       "  <tbody>\n",
       "    <tr>\n",
       "      <th rowspan=\"6\" valign=\"top\">Bhuj</th>\n",
       "      <th rowspan=\"3\" valign=\"top\">Male</th>\n",
       "      <th>15 &gt;</th>\n",
       "      <td>78</td>\n",
       "      <td>57</td>\n",
       "      <td>52</td>\n",
       "      <td>39</td>\n",
       "      <td>56</td>\n",
       "      <td>53</td>\n",
       "      <td>81</td>\n",
       "      <td>35</td>\n",
       "      <td>35</td>\n",
       "      <td>1</td>\n",
       "      <td>22</td>\n",
       "      <td>60</td>\n",
       "      <td>28</td>\n",
       "      <td>4</td>\n",
       "      <td>98</td>\n",
       "      <td>75</td>\n",
       "    </tr>\n",
       "    <tr>\n",
       "      <th>40 &gt;</th>\n",
       "      <td>69</td>\n",
       "      <td>35</td>\n",
       "      <td>65</td>\n",
       "      <td>6</td>\n",
       "      <td>64</td>\n",
       "      <td>42</td>\n",
       "      <td>39</td>\n",
       "      <td>27</td>\n",
       "      <td>4</td>\n",
       "      <td>56</td>\n",
       "      <td>21</td>\n",
       "      <td>97</td>\n",
       "      <td>20</td>\n",
       "      <td>77</td>\n",
       "      <td>23</td>\n",
       "      <td>5</td>\n",
       "    </tr>\n",
       "    <tr>\n",
       "      <th>40 &lt;</th>\n",
       "      <td>8</td>\n",
       "      <td>54</td>\n",
       "      <td>34</td>\n",
       "      <td>91</td>\n",
       "      <td>70</td>\n",
       "      <td>37</td>\n",
       "      <td>14</td>\n",
       "      <td>83</td>\n",
       "      <td>65</td>\n",
       "      <td>34</td>\n",
       "      <td>59</td>\n",
       "      <td>62</td>\n",
       "      <td>99</td>\n",
       "      <td>9</td>\n",
       "      <td>77</td>\n",
       "      <td>88</td>\n",
       "    </tr>\n",
       "    <tr>\n",
       "      <th rowspan=\"3\" valign=\"top\">Female</th>\n",
       "      <th>15 &gt;</th>\n",
       "      <td>52</td>\n",
       "      <td>42</td>\n",
       "      <td>55</td>\n",
       "      <td>33</td>\n",
       "      <td>82</td>\n",
       "      <td>32</td>\n",
       "      <td>97</td>\n",
       "      <td>66</td>\n",
       "      <td>65</td>\n",
       "      <td>10</td>\n",
       "      <td>18</td>\n",
       "      <td>39</td>\n",
       "      <td>61</td>\n",
       "      <td>17</td>\n",
       "      <td>45</td>\n",
       "      <td>63</td>\n",
       "    </tr>\n",
       "    <tr>\n",
       "      <th>40 &gt;</th>\n",
       "      <td>68</td>\n",
       "      <td>78</td>\n",
       "      <td>6</td>\n",
       "      <td>96</td>\n",
       "      <td>77</td>\n",
       "      <td>26</td>\n",
       "      <td>27</td>\n",
       "      <td>48</td>\n",
       "      <td>61</td>\n",
       "      <td>63</td>\n",
       "      <td>35</td>\n",
       "      <td>38</td>\n",
       "      <td>39</td>\n",
       "      <td>60</td>\n",
       "      <td>21</td>\n",
       "      <td>42</td>\n",
       "    </tr>\n",
       "    <tr>\n",
       "      <th>40 &lt;</th>\n",
       "      <td>77</td>\n",
       "      <td>19</td>\n",
       "      <td>49</td>\n",
       "      <td>23</td>\n",
       "      <td>98</td>\n",
       "      <td>47</td>\n",
       "      <td>15</td>\n",
       "      <td>22</td>\n",
       "      <td>88</td>\n",
       "      <td>68</td>\n",
       "      <td>48</td>\n",
       "      <td>76</td>\n",
       "      <td>83</td>\n",
       "      <td>75</td>\n",
       "      <td>98</td>\n",
       "      <td>30</td>\n",
       "    </tr>\n",
       "    <tr>\n",
       "      <th rowspan=\"6\" valign=\"top\">Anjar</th>\n",
       "      <th rowspan=\"3\" valign=\"top\">Male</th>\n",
       "      <th>15 &gt;</th>\n",
       "      <td>43</td>\n",
       "      <td>56</td>\n",
       "      <td>8</td>\n",
       "      <td>30</td>\n",
       "      <td>38</td>\n",
       "      <td>24</td>\n",
       "      <td>48</td>\n",
       "      <td>49</td>\n",
       "      <td>63</td>\n",
       "      <td>4</td>\n",
       "      <td>4</td>\n",
       "      <td>57</td>\n",
       "      <td>24</td>\n",
       "      <td>46</td>\n",
       "      <td>69</td>\n",
       "      <td>98</td>\n",
       "    </tr>\n",
       "    <tr>\n",
       "      <th>40 &gt;</th>\n",
       "      <td>19</td>\n",
       "      <td>50</td>\n",
       "      <td>48</td>\n",
       "      <td>18</td>\n",
       "      <td>4</td>\n",
       "      <td>27</td>\n",
       "      <td>54</td>\n",
       "      <td>97</td>\n",
       "      <td>79</td>\n",
       "      <td>36</td>\n",
       "      <td>97</td>\n",
       "      <td>84</td>\n",
       "      <td>89</td>\n",
       "      <td>23</td>\n",
       "      <td>24</td>\n",
       "      <td>18</td>\n",
       "    </tr>\n",
       "    <tr>\n",
       "      <th>40 &lt;</th>\n",
       "      <td>25</td>\n",
       "      <td>16</td>\n",
       "      <td>6</td>\n",
       "      <td>38</td>\n",
       "      <td>10</td>\n",
       "      <td>2</td>\n",
       "      <td>63</td>\n",
       "      <td>18</td>\n",
       "      <td>99</td>\n",
       "      <td>75</td>\n",
       "      <td>81</td>\n",
       "      <td>73</td>\n",
       "      <td>86</td>\n",
       "      <td>31</td>\n",
       "      <td>63</td>\n",
       "      <td>47</td>\n",
       "    </tr>\n",
       "    <tr>\n",
       "      <th rowspan=\"3\" valign=\"top\">Female</th>\n",
       "      <th>15 &gt;</th>\n",
       "      <td>89</td>\n",
       "      <td>32</td>\n",
       "      <td>24</td>\n",
       "      <td>4</td>\n",
       "      <td>97</td>\n",
       "      <td>86</td>\n",
       "      <td>11</td>\n",
       "      <td>44</td>\n",
       "      <td>12</td>\n",
       "      <td>59</td>\n",
       "      <td>30</td>\n",
       "      <td>96</td>\n",
       "      <td>37</td>\n",
       "      <td>17</td>\n",
       "      <td>93</td>\n",
       "      <td>30</td>\n",
       "    </tr>\n",
       "    <tr>\n",
       "      <th>40 &gt;</th>\n",
       "      <td>52</td>\n",
       "      <td>16</td>\n",
       "      <td>86</td>\n",
       "      <td>78</td>\n",
       "      <td>39</td>\n",
       "      <td>3</td>\n",
       "      <td>40</td>\n",
       "      <td>55</td>\n",
       "      <td>44</td>\n",
       "      <td>51</td>\n",
       "      <td>64</td>\n",
       "      <td>49</td>\n",
       "      <td>58</td>\n",
       "      <td>11</td>\n",
       "      <td>85</td>\n",
       "      <td>30</td>\n",
       "    </tr>\n",
       "    <tr>\n",
       "      <th>40 &lt;</th>\n",
       "      <td>59</td>\n",
       "      <td>6</td>\n",
       "      <td>80</td>\n",
       "      <td>12</td>\n",
       "      <td>19</td>\n",
       "      <td>24</td>\n",
       "      <td>10</td>\n",
       "      <td>60</td>\n",
       "      <td>97</td>\n",
       "      <td>60</td>\n",
       "      <td>76</td>\n",
       "      <td>41</td>\n",
       "      <td>73</td>\n",
       "      <td>75</td>\n",
       "      <td>33</td>\n",
       "      <td>52</td>\n",
       "    </tr>\n",
       "    <tr>\n",
       "      <th rowspan=\"6\" valign=\"top\">Gandhidham</th>\n",
       "      <th rowspan=\"3\" valign=\"top\">Male</th>\n",
       "      <th>15 &gt;</th>\n",
       "      <td>79</td>\n",
       "      <td>60</td>\n",
       "      <td>81</td>\n",
       "      <td>24</td>\n",
       "      <td>87</td>\n",
       "      <td>98</td>\n",
       "      <td>28</td>\n",
       "      <td>92</td>\n",
       "      <td>83</td>\n",
       "      <td>36</td>\n",
       "      <td>70</td>\n",
       "      <td>94</td>\n",
       "      <td>19</td>\n",
       "      <td>39</td>\n",
       "      <td>9</td>\n",
       "      <td>79</td>\n",
       "    </tr>\n",
       "    <tr>\n",
       "      <th>40 &gt;</th>\n",
       "      <td>36</td>\n",
       "      <td>73</td>\n",
       "      <td>19</td>\n",
       "      <td>68</td>\n",
       "      <td>90</td>\n",
       "      <td>9</td>\n",
       "      <td>95</td>\n",
       "      <td>84</td>\n",
       "      <td>34</td>\n",
       "      <td>43</td>\n",
       "      <td>37</td>\n",
       "      <td>10</td>\n",
       "      <td>59</td>\n",
       "      <td>46</td>\n",
       "      <td>25</td>\n",
       "      <td>12</td>\n",
       "    </tr>\n",
       "    <tr>\n",
       "      <th>40 &lt;</th>\n",
       "      <td>82</td>\n",
       "      <td>69</td>\n",
       "      <td>24</td>\n",
       "      <td>86</td>\n",
       "      <td>59</td>\n",
       "      <td>47</td>\n",
       "      <td>49</td>\n",
       "      <td>76</td>\n",
       "      <td>84</td>\n",
       "      <td>89</td>\n",
       "      <td>41</td>\n",
       "      <td>95</td>\n",
       "      <td>72</td>\n",
       "      <td>16</td>\n",
       "      <td>45</td>\n",
       "      <td>64</td>\n",
       "    </tr>\n",
       "    <tr>\n",
       "      <th rowspan=\"3\" valign=\"top\">Female</th>\n",
       "      <th>15 &gt;</th>\n",
       "      <td>88</td>\n",
       "      <td>86</td>\n",
       "      <td>79</td>\n",
       "      <td>19</td>\n",
       "      <td>81</td>\n",
       "      <td>63</td>\n",
       "      <td>32</td>\n",
       "      <td>19</td>\n",
       "      <td>61</td>\n",
       "      <td>56</td>\n",
       "      <td>63</td>\n",
       "      <td>5</td>\n",
       "      <td>58</td>\n",
       "      <td>34</td>\n",
       "      <td>90</td>\n",
       "      <td>31</td>\n",
       "    </tr>\n",
       "    <tr>\n",
       "      <th>40 &gt;</th>\n",
       "      <td>21</td>\n",
       "      <td>26</td>\n",
       "      <td>25</td>\n",
       "      <td>78</td>\n",
       "      <td>8</td>\n",
       "      <td>41</td>\n",
       "      <td>83</td>\n",
       "      <td>90</td>\n",
       "      <td>64</td>\n",
       "      <td>63</td>\n",
       "      <td>31</td>\n",
       "      <td>97</td>\n",
       "      <td>85</td>\n",
       "      <td>32</td>\n",
       "      <td>48</td>\n",
       "      <td>78</td>\n",
       "    </tr>\n",
       "    <tr>\n",
       "      <th>40 &lt;</th>\n",
       "      <td>3</td>\n",
       "      <td>5</td>\n",
       "      <td>75</td>\n",
       "      <td>81</td>\n",
       "      <td>45</td>\n",
       "      <td>87</td>\n",
       "      <td>54</td>\n",
       "      <td>4</td>\n",
       "      <td>68</td>\n",
       "      <td>66</td>\n",
       "      <td>2</td>\n",
       "      <td>56</td>\n",
       "      <td>3</td>\n",
       "      <td>85</td>\n",
       "      <td>96</td>\n",
       "      <td>73</td>\n",
       "    </tr>\n",
       "    <tr>\n",
       "      <th rowspan=\"6\" valign=\"top\">Ahmedabad</th>\n",
       "      <th rowspan=\"3\" valign=\"top\">Male</th>\n",
       "      <th>15 &gt;</th>\n",
       "      <td>25</td>\n",
       "      <td>72</td>\n",
       "      <td>13</td>\n",
       "      <td>90</td>\n",
       "      <td>59</td>\n",
       "      <td>45</td>\n",
       "      <td>25</td>\n",
       "      <td>6</td>\n",
       "      <td>14</td>\n",
       "      <td>89</td>\n",
       "      <td>66</td>\n",
       "      <td>92</td>\n",
       "      <td>96</td>\n",
       "      <td>87</td>\n",
       "      <td>66</td>\n",
       "      <td>87</td>\n",
       "    </tr>\n",
       "    <tr>\n",
       "      <th>40 &gt;</th>\n",
       "      <td>89</td>\n",
       "      <td>41</td>\n",
       "      <td>46</td>\n",
       "      <td>81</td>\n",
       "      <td>43</td>\n",
       "      <td>72</td>\n",
       "      <td>18</td>\n",
       "      <td>84</td>\n",
       "      <td>21</td>\n",
       "      <td>43</td>\n",
       "      <td>67</td>\n",
       "      <td>53</td>\n",
       "      <td>64</td>\n",
       "      <td>81</td>\n",
       "      <td>73</td>\n",
       "      <td>56</td>\n",
       "    </tr>\n",
       "    <tr>\n",
       "      <th>40 &lt;</th>\n",
       "      <td>29</td>\n",
       "      <td>99</td>\n",
       "      <td>63</td>\n",
       "      <td>34</td>\n",
       "      <td>35</td>\n",
       "      <td>98</td>\n",
       "      <td>99</td>\n",
       "      <td>10</td>\n",
       "      <td>42</td>\n",
       "      <td>74</td>\n",
       "      <td>56</td>\n",
       "      <td>38</td>\n",
       "      <td>37</td>\n",
       "      <td>3</td>\n",
       "      <td>60</td>\n",
       "      <td>20</td>\n",
       "    </tr>\n",
       "    <tr>\n",
       "      <th rowspan=\"3\" valign=\"top\">Female</th>\n",
       "      <th>15 &gt;</th>\n",
       "      <td>7</td>\n",
       "      <td>37</td>\n",
       "      <td>32</td>\n",
       "      <td>71</td>\n",
       "      <td>86</td>\n",
       "      <td>15</td>\n",
       "      <td>36</td>\n",
       "      <td>15</td>\n",
       "      <td>69</td>\n",
       "      <td>32</td>\n",
       "      <td>27</td>\n",
       "      <td>47</td>\n",
       "      <td>65</td>\n",
       "      <td>88</td>\n",
       "      <td>83</td>\n",
       "      <td>82</td>\n",
       "    </tr>\n",
       "    <tr>\n",
       "      <th>40 &gt;</th>\n",
       "      <td>43</td>\n",
       "      <td>28</td>\n",
       "      <td>76</td>\n",
       "      <td>20</td>\n",
       "      <td>96</td>\n",
       "      <td>93</td>\n",
       "      <td>67</td>\n",
       "      <td>98</td>\n",
       "      <td>86</td>\n",
       "      <td>10</td>\n",
       "      <td>98</td>\n",
       "      <td>11</td>\n",
       "      <td>15</td>\n",
       "      <td>42</td>\n",
       "      <td>36</td>\n",
       "      <td>92</td>\n",
       "    </tr>\n",
       "    <tr>\n",
       "      <th>40 &lt;</th>\n",
       "      <td>59</td>\n",
       "      <td>70</td>\n",
       "      <td>13</td>\n",
       "      <td>17</td>\n",
       "      <td>73</td>\n",
       "      <td>57</td>\n",
       "      <td>94</td>\n",
       "      <td>23</td>\n",
       "      <td>2</td>\n",
       "      <td>94</td>\n",
       "      <td>83</td>\n",
       "      <td>54</td>\n",
       "      <td>30</td>\n",
       "      <td>90</td>\n",
       "      <td>65</td>\n",
       "      <td>92</td>\n",
       "    </tr>\n",
       "  </tbody>\n",
       "</table>\n",
       "</div>"
      ],
      "text/plain": [
       "Study                  Graduate                                            \\\n",
       "Blood Group                  A+            A-            B+            B-   \n",
       "Salary                   100000 50000  100000 50000  100000 50000  100000   \n",
       "City       Gender Age                                                       \n",
       "Bhuj       Male   15 >       78     57     52     39     56     53     81   \n",
       "                  40 >       69     35     65      6     64     42     39   \n",
       "                  40 <        8     54     34     91     70     37     14   \n",
       "           Female 15 >       52     42     55     33     82     32     97   \n",
       "                  40 >       68     78      6     96     77     26     27   \n",
       "                  40 <       77     19     49     23     98     47     15   \n",
       "Anjar      Male   15 >       43     56      8     30     38     24     48   \n",
       "                  40 >       19     50     48     18      4     27     54   \n",
       "                  40 <       25     16      6     38     10      2     63   \n",
       "           Female 15 >       89     32     24      4     97     86     11   \n",
       "                  40 >       52     16     86     78     39      3     40   \n",
       "                  40 <       59      6     80     12     19     24     10   \n",
       "Gandhidham Male   15 >       79     60     81     24     87     98     28   \n",
       "                  40 >       36     73     19     68     90      9     95   \n",
       "                  40 <       82     69     24     86     59     47     49   \n",
       "           Female 15 >       88     86     79     19     81     63     32   \n",
       "                  40 >       21     26     25     78      8     41     83   \n",
       "                  40 <        3      5     75     81     45     87     54   \n",
       "Ahmedabad  Male   15 >       25     72     13     90     59     45     25   \n",
       "                  40 >       89     41     46     81     43     72     18   \n",
       "                  40 <       29     99     63     34     35     98     99   \n",
       "           Female 15 >        7     37     32     71     86     15     36   \n",
       "                  40 >       43     28     76     20     96     93     67   \n",
       "                  40 <       59     70     13     17     73     57     94   \n",
       "\n",
       "Study                         Ungraduate                                     \\\n",
       "Blood Group                           A+            A-            B+          \n",
       "Salary                 50000      100000 50000  100000 50000  100000 50000    \n",
       "City       Gender Age                                                         \n",
       "Bhuj       Male   15 >     35         35      1     22     60     28      4   \n",
       "                  40 >     27          4     56     21     97     20     77   \n",
       "                  40 <     83         65     34     59     62     99      9   \n",
       "           Female 15 >     66         65     10     18     39     61     17   \n",
       "                  40 >     48         61     63     35     38     39     60   \n",
       "                  40 <     22         88     68     48     76     83     75   \n",
       "Anjar      Male   15 >     49         63      4      4     57     24     46   \n",
       "                  40 >     97         79     36     97     84     89     23   \n",
       "                  40 <     18         99     75     81     73     86     31   \n",
       "           Female 15 >     44         12     59     30     96     37     17   \n",
       "                  40 >     55         44     51     64     49     58     11   \n",
       "                  40 <     60         97     60     76     41     73     75   \n",
       "Gandhidham Male   15 >     92         83     36     70     94     19     39   \n",
       "                  40 >     84         34     43     37     10     59     46   \n",
       "                  40 <     76         84     89     41     95     72     16   \n",
       "           Female 15 >     19         61     56     63      5     58     34   \n",
       "                  40 >     90         64     63     31     97     85     32   \n",
       "                  40 <      4         68     66      2     56      3     85   \n",
       "Ahmedabad  Male   15 >      6         14     89     66     92     96     87   \n",
       "                  40 >     84         21     43     67     53     64     81   \n",
       "                  40 <     10         42     74     56     38     37      3   \n",
       "           Female 15 >     15         69     32     27     47     65     88   \n",
       "                  40 >     98         86     10     98     11     15     42   \n",
       "                  40 <     23          2     94     83     54     30     90   \n",
       "\n",
       "Study                                 \n",
       "Blood Group                B-         \n",
       "Salary                 100000 50000   \n",
       "City       Gender Age                 \n",
       "Bhuj       Male   15 >     98     75  \n",
       "                  40 >     23      5  \n",
       "                  40 <     77     88  \n",
       "           Female 15 >     45     63  \n",
       "                  40 >     21     42  \n",
       "                  40 <     98     30  \n",
       "Anjar      Male   15 >     69     98  \n",
       "                  40 >     24     18  \n",
       "                  40 <     63     47  \n",
       "           Female 15 >     93     30  \n",
       "                  40 >     85     30  \n",
       "                  40 <     33     52  \n",
       "Gandhidham Male   15 >      9     79  \n",
       "                  40 >     25     12  \n",
       "                  40 <     45     64  \n",
       "           Female 15 >     90     31  \n",
       "                  40 >     48     78  \n",
       "                  40 <     96     73  \n",
       "Ahmedabad  Male   15 >     66     87  \n",
       "                  40 >     73     56  \n",
       "                  40 <     60     20  \n",
       "           Female 15 >     83     82  \n",
       "                  40 >     36     92  \n",
       "                  40 <     65     92  "
      ]
     },
     "execution_count": 177,
     "metadata": {},
     "output_type": "execute_result"
    }
   ],
   "source": [
    "dfofData.loc[:,['Graduate','Ungraduate']]"
   ]
  },
  {
   "cell_type": "code",
   "execution_count": 3,
   "metadata": {},
   "outputs": [],
   "source": [
    "import pandas as pd\n",
    "import numpy as np\n",
    "from numpy.random import randint\n",
    "from pandas import DataFrame, Series"
   ]
  },
  {
   "cell_type": "code",
   "execution_count": 46,
   "metadata": {},
   "outputs": [],
   "source": [
    "data = randint(100,110,8)"
   ]
  },
  {
   "cell_type": "code",
   "execution_count": 47,
   "metadata": {},
   "outputs": [],
   "source": [
    "index = pd.MultiIndex.from_product([ ['a','b','c','b'], [1,2] ])"
   ]
  },
  {
   "cell_type": "code",
   "execution_count": 48,
   "metadata": {},
   "outputs": [],
   "source": [
    "df = Series(data, index)"
   ]
  },
  {
   "cell_type": "code",
   "execution_count": 49,
   "metadata": {},
   "outputs": [
    {
     "data": {
      "text/plain": [
       "a  1    105\n",
       "   2    109\n",
       "b  1    107\n",
       "   2    102\n",
       "c  1    103\n",
       "   2    104\n",
       "b  1    109\n",
       "   2    101\n",
       "dtype: int32"
      ]
     },
     "execution_count": 49,
     "metadata": {},
     "output_type": "execute_result"
    }
   ],
   "source": [
    "df"
   ]
  },
  {
   "cell_type": "code",
   "execution_count": 51,
   "metadata": {},
   "outputs": [
    {
     "data": {
      "text/plain": [
       "1    107\n",
       "2    102\n",
       "1    109\n",
       "2    101\n",
       "dtype: int32"
      ]
     },
     "execution_count": 51,
     "metadata": {},
     "output_type": "execute_result"
    }
   ],
   "source": [
    "df['b']"
   ]
  },
  {
   "cell_type": "code",
   "execution_count": 99,
   "metadata": {},
   "outputs": [],
   "source": [
    "s1 = Series([1,2,3], index= [1,2,3])\n",
    "s2 = Series([1,2,3], index= ['1','2','3'])"
   ]
  },
  {
   "cell_type": "code",
   "execution_count": 101,
   "metadata": {},
   "outputs": [],
   "source": [
    "df = DataFrame({'Col1':s1, 'Col2':s2})"
   ]
  },
  {
   "cell_type": "code",
   "execution_count": 102,
   "metadata": {},
   "outputs": [
    {
     "data": {
      "text/html": [
       "<div>\n",
       "<style scoped>\n",
       "    .dataframe tbody tr th:only-of-type {\n",
       "        vertical-align: middle;\n",
       "    }\n",
       "\n",
       "    .dataframe tbody tr th {\n",
       "        vertical-align: top;\n",
       "    }\n",
       "\n",
       "    .dataframe thead th {\n",
       "        text-align: right;\n",
       "    }\n",
       "</style>\n",
       "<table border=\"1\" class=\"dataframe\">\n",
       "  <thead>\n",
       "    <tr style=\"text-align: right;\">\n",
       "      <th></th>\n",
       "      <th>Col1</th>\n",
       "      <th>Col2</th>\n",
       "    </tr>\n",
       "  </thead>\n",
       "  <tbody>\n",
       "    <tr>\n",
       "      <th>1</th>\n",
       "      <td>1.0</td>\n",
       "      <td>NaN</td>\n",
       "    </tr>\n",
       "    <tr>\n",
       "      <th>2</th>\n",
       "      <td>2.0</td>\n",
       "      <td>NaN</td>\n",
       "    </tr>\n",
       "    <tr>\n",
       "      <th>3</th>\n",
       "      <td>3.0</td>\n",
       "      <td>NaN</td>\n",
       "    </tr>\n",
       "    <tr>\n",
       "      <th>1</th>\n",
       "      <td>NaN</td>\n",
       "      <td>1.0</td>\n",
       "    </tr>\n",
       "    <tr>\n",
       "      <th>2</th>\n",
       "      <td>NaN</td>\n",
       "      <td>2.0</td>\n",
       "    </tr>\n",
       "    <tr>\n",
       "      <th>3</th>\n",
       "      <td>NaN</td>\n",
       "      <td>3.0</td>\n",
       "    </tr>\n",
       "  </tbody>\n",
       "</table>\n",
       "</div>"
      ],
      "text/plain": [
       "   Col1  Col2\n",
       "1   1.0   NaN\n",
       "2   2.0   NaN\n",
       "3   3.0   NaN\n",
       "1   NaN   1.0\n",
       "2   NaN   2.0\n",
       "3   NaN   3.0"
      ]
     },
     "execution_count": 102,
     "metadata": {},
     "output_type": "execute_result"
    }
   ],
   "source": [
    "df"
   ]
  },
  {
   "cell_type": "code",
   "execution_count": 103,
   "metadata": {},
   "outputs": [
    {
     "ename": "TypeError",
     "evalue": "cannot do slice indexing on Index with these indexers [1] of type int",
     "output_type": "error",
     "traceback": [
      "\u001b[1;31mTypeError\u001b[0m\u001b[1;31m:\u001b[0m cannot do slice indexing on Index with these indexers [1] of type int\n"
     ]
    }
   ],
   "source": [
    "dfTemp.loc[1:'3']"
   ]
  },
  {
   "cell_type": "code",
   "execution_count": 104,
   "metadata": {},
   "outputs": [],
   "source": [
    "# Trying Stack and Unstack"
   ]
  },
  {
   "cell_type": "code",
   "execution_count": 105,
   "metadata": {},
   "outputs": [],
   "source": [
    "indices = pd.MultiIndex.from_product([['Bhuj','Anjar','Gandhidham','Ahmedabad'],\n",
    "           ['Male','Female'],\n",
    "           ['15 >','40 >','40 <']])\n",
    "\n",
    "cols = pd.MultiIndex.from_product([['Graduate','Ungraduate'],\n",
    "        ['A+','A-','B+','B-'],\n",
    "        [1_00_000,50_000]])\n",
    "\n",
    "data = np.random.randint(1,100,(24,16))\n",
    "\n",
    "dfofData = pd.DataFrame(data, index=indices, columns=cols)\n",
    "\n",
    "dfofData.index.names = ['City','Gender','Age']\n",
    "dfofData.columns.names = ['Study','Blood Group','Salary']"
   ]
  },
  {
   "cell_type": "code",
   "execution_count": 148,
   "metadata": {},
   "outputs": [],
   "source": [
    "data= randint(0,100,(12,2))"
   ]
  },
  {
   "cell_type": "code",
   "execution_count": 176,
   "metadata": {},
   "outputs": [],
   "source": [
    "indices = pd.MultiIndex.from_product([['Aayush','Sameer','Heena'],['Contact','Blood'], ['ZAKA','KAKA']])"
   ]
  },
  {
   "cell_type": "code",
   "execution_count": 177,
   "metadata": {},
   "outputs": [],
   "source": [
    "df = DataFrame(data, indices, columns= ['Bhuj','Ahmedabad'])"
   ]
  },
  {
   "cell_type": "code",
   "execution_count": 179,
   "metadata": {},
   "outputs": [
    {
     "data": {
      "text/html": [
       "<div>\n",
       "<style scoped>\n",
       "    .dataframe tbody tr th:only-of-type {\n",
       "        vertical-align: middle;\n",
       "    }\n",
       "\n",
       "    .dataframe tbody tr th {\n",
       "        vertical-align: top;\n",
       "    }\n",
       "\n",
       "    .dataframe thead th {\n",
       "        text-align: right;\n",
       "    }\n",
       "</style>\n",
       "<table border=\"1\" class=\"dataframe\">\n",
       "  <thead>\n",
       "    <tr style=\"text-align: right;\">\n",
       "      <th></th>\n",
       "      <th></th>\n",
       "      <th></th>\n",
       "      <th>Bhuj</th>\n",
       "      <th>Ahmedabad</th>\n",
       "    </tr>\n",
       "  </thead>\n",
       "  <tbody>\n",
       "    <tr>\n",
       "      <th rowspan=\"4\" valign=\"top\">Aayush</th>\n",
       "      <th rowspan=\"2\" valign=\"top\">Blood</th>\n",
       "      <th>KAKA</th>\n",
       "      <td>6</td>\n",
       "      <td>45</td>\n",
       "    </tr>\n",
       "    <tr>\n",
       "      <th>ZAKA</th>\n",
       "      <td>18</td>\n",
       "      <td>91</td>\n",
       "    </tr>\n",
       "    <tr>\n",
       "      <th rowspan=\"2\" valign=\"top\">Contact</th>\n",
       "      <th>KAKA</th>\n",
       "      <td>52</td>\n",
       "      <td>10</td>\n",
       "    </tr>\n",
       "    <tr>\n",
       "      <th>ZAKA</th>\n",
       "      <td>49</td>\n",
       "      <td>32</td>\n",
       "    </tr>\n",
       "    <tr>\n",
       "      <th rowspan=\"4\" valign=\"top\">Heena</th>\n",
       "      <th rowspan=\"2\" valign=\"top\">Blood</th>\n",
       "      <th>KAKA</th>\n",
       "      <td>91</td>\n",
       "      <td>48</td>\n",
       "    </tr>\n",
       "    <tr>\n",
       "      <th>ZAKA</th>\n",
       "      <td>12</td>\n",
       "      <td>25</td>\n",
       "    </tr>\n",
       "    <tr>\n",
       "      <th rowspan=\"2\" valign=\"top\">Contact</th>\n",
       "      <th>KAKA</th>\n",
       "      <td>60</td>\n",
       "      <td>77</td>\n",
       "    </tr>\n",
       "    <tr>\n",
       "      <th>ZAKA</th>\n",
       "      <td>96</td>\n",
       "      <td>91</td>\n",
       "    </tr>\n",
       "    <tr>\n",
       "      <th rowspan=\"4\" valign=\"top\">Sameer</th>\n",
       "      <th rowspan=\"2\" valign=\"top\">Blood</th>\n",
       "      <th>KAKA</th>\n",
       "      <td>20</td>\n",
       "      <td>31</td>\n",
       "    </tr>\n",
       "    <tr>\n",
       "      <th>ZAKA</th>\n",
       "      <td>94</td>\n",
       "      <td>12</td>\n",
       "    </tr>\n",
       "    <tr>\n",
       "      <th rowspan=\"2\" valign=\"top\">Contact</th>\n",
       "      <th>KAKA</th>\n",
       "      <td>86</td>\n",
       "      <td>35</td>\n",
       "    </tr>\n",
       "    <tr>\n",
       "      <th>ZAKA</th>\n",
       "      <td>45</td>\n",
       "      <td>55</td>\n",
       "    </tr>\n",
       "  </tbody>\n",
       "</table>\n",
       "</div>"
      ],
      "text/plain": [
       "                     Bhuj  Ahmedabad\n",
       "Aayush Blood   KAKA     6         45\n",
       "               ZAKA    18         91\n",
       "       Contact KAKA    52         10\n",
       "               ZAKA    49         32\n",
       "Heena  Blood   KAKA    91         48\n",
       "               ZAKA    12         25\n",
       "       Contact KAKA    60         77\n",
       "               ZAKA    96         91\n",
       "Sameer Blood   KAKA    20         31\n",
       "               ZAKA    94         12\n",
       "       Contact KAKA    86         35\n",
       "               ZAKA    45         55"
      ]
     },
     "execution_count": 179,
     "metadata": {},
     "output_type": "execute_result"
    }
   ],
   "source": [
    "df.sort_index(level=0)"
   ]
  },
  {
   "cell_type": "code",
   "execution_count": 185,
   "metadata": {},
   "outputs": [],
   "source": [
    "kaka = df.reset_index()"
   ]
  },
  {
   "cell_type": "code",
   "execution_count": 190,
   "metadata": {},
   "outputs": [
    {
     "data": {
      "text/plain": [
       "Index(['level_0', 'level_1', 'level_2', 'Bhuj', 'Ahmedabad'], dtype='object')"
      ]
     },
     "execution_count": 190,
     "metadata": {},
     "output_type": "execute_result"
    }
   ],
   "source": [
    "kaka.columns"
   ]
  },
  {
   "cell_type": "code",
   "execution_count": 199,
   "metadata": {},
   "outputs": [],
   "source": [
    "kaka = kaka.set_index(['level_0','level_1'])"
   ]
  },
  {
   "cell_type": "code",
   "execution_count": 205,
   "metadata": {},
   "outputs": [
    {
     "name": "stderr",
     "output_type": "stream",
     "text": [
      "<ipython-input-205-5a43c3db1490>:1: PerformanceWarning: indexing past lexsort depth may impact performance.\n",
      "  kaka.loc['Aayush','Contact']\n"
     ]
    },
    {
     "data": {
      "text/html": [
       "<div>\n",
       "<style scoped>\n",
       "    .dataframe tbody tr th:only-of-type {\n",
       "        vertical-align: middle;\n",
       "    }\n",
       "\n",
       "    .dataframe tbody tr th {\n",
       "        vertical-align: top;\n",
       "    }\n",
       "\n",
       "    .dataframe thead th {\n",
       "        text-align: right;\n",
       "    }\n",
       "</style>\n",
       "<table border=\"1\" class=\"dataframe\">\n",
       "  <thead>\n",
       "    <tr style=\"text-align: right;\">\n",
       "      <th></th>\n",
       "      <th></th>\n",
       "      <th>level_2</th>\n",
       "      <th>Bhuj</th>\n",
       "      <th>Ahmedabad</th>\n",
       "    </tr>\n",
       "    <tr>\n",
       "      <th>level_0</th>\n",
       "      <th>level_1</th>\n",
       "      <th></th>\n",
       "      <th></th>\n",
       "      <th></th>\n",
       "    </tr>\n",
       "  </thead>\n",
       "  <tbody>\n",
       "    <tr>\n",
       "      <th rowspan=\"2\" valign=\"top\">Aayush</th>\n",
       "      <th>Contact</th>\n",
       "      <td>ZAKA</td>\n",
       "      <td>49</td>\n",
       "      <td>32</td>\n",
       "    </tr>\n",
       "    <tr>\n",
       "      <th>Contact</th>\n",
       "      <td>KAKA</td>\n",
       "      <td>52</td>\n",
       "      <td>10</td>\n",
       "    </tr>\n",
       "  </tbody>\n",
       "</table>\n",
       "</div>"
      ],
      "text/plain": [
       "                level_2  Bhuj  Ahmedabad\n",
       "level_0 level_1                         \n",
       "Aayush  Contact    ZAKA    49         32\n",
       "        Contact    KAKA    52         10"
      ]
     },
     "execution_count": 205,
     "metadata": {},
     "output_type": "execute_result"
    }
   ],
   "source": [
    "kaka.loc['Aayush','Contact']"
   ]
  },
  {
   "cell_type": "code",
   "execution_count": 2,
   "metadata": {},
   "outputs": [],
   "source": [
    "def DF(index, cols):\n",
    "    data = np.random.randint( 0,100,(len(index), len(cols)) )\n",
    "    return pd.DataFrame(data, columns= list(cols), index= index)"
   ]
  },
  {
   "cell_type": "code",
   "execution_count": 26,
   "metadata": {},
   "outputs": [],
   "source": [
    "df1 = DF([1,2],'ABC')\n",
    "df2 = DF([1,2],'BCA')"
   ]
  },
  {
   "cell_type": "code",
   "execution_count": 33,
   "metadata": {},
   "outputs": [
    {
     "data": {
      "text/html": [
       "<div>\n",
       "<style scoped>\n",
       "    .dataframe tbody tr th:only-of-type {\n",
       "        vertical-align: middle;\n",
       "    }\n",
       "\n",
       "    .dataframe tbody tr th {\n",
       "        vertical-align: top;\n",
       "    }\n",
       "\n",
       "    .dataframe thead th {\n",
       "        text-align: right;\n",
       "    }\n",
       "</style>\n",
       "<table border=\"1\" class=\"dataframe\">\n",
       "  <thead>\n",
       "    <tr style=\"text-align: right;\">\n",
       "      <th></th>\n",
       "      <th>A</th>\n",
       "      <th>B</th>\n",
       "      <th>C</th>\n",
       "    </tr>\n",
       "  </thead>\n",
       "  <tbody>\n",
       "    <tr>\n",
       "      <th>1</th>\n",
       "      <td>81</td>\n",
       "      <td>46</td>\n",
       "      <td>65</td>\n",
       "    </tr>\n",
       "    <tr>\n",
       "      <th>2</th>\n",
       "      <td>74</td>\n",
       "      <td>89</td>\n",
       "      <td>24</td>\n",
       "    </tr>\n",
       "  </tbody>\n",
       "</table>\n",
       "</div>"
      ],
      "text/plain": [
       "    A   B   C\n",
       "1  81  46  65\n",
       "2  74  89  24"
      ]
     },
     "metadata": {},
     "output_type": "display_data"
    },
    {
     "data": {
      "text/html": [
       "<div>\n",
       "<style scoped>\n",
       "    .dataframe tbody tr th:only-of-type {\n",
       "        vertical-align: middle;\n",
       "    }\n",
       "\n",
       "    .dataframe tbody tr th {\n",
       "        vertical-align: top;\n",
       "    }\n",
       "\n",
       "    .dataframe thead th {\n",
       "        text-align: right;\n",
       "    }\n",
       "</style>\n",
       "<table border=\"1\" class=\"dataframe\">\n",
       "  <thead>\n",
       "    <tr style=\"text-align: right;\">\n",
       "      <th></th>\n",
       "      <th>B</th>\n",
       "      <th>C</th>\n",
       "      <th>A</th>\n",
       "    </tr>\n",
       "  </thead>\n",
       "  <tbody>\n",
       "    <tr>\n",
       "      <th>1</th>\n",
       "      <td>36</td>\n",
       "      <td>14</td>\n",
       "      <td>69</td>\n",
       "    </tr>\n",
       "    <tr>\n",
       "      <th>2</th>\n",
       "      <td>70</td>\n",
       "      <td>51</td>\n",
       "      <td>47</td>\n",
       "    </tr>\n",
       "  </tbody>\n",
       "</table>\n",
       "</div>"
      ],
      "text/plain": [
       "    B   C   A\n",
       "1  36  14  69\n",
       "2  70  51  47"
      ]
     },
     "metadata": {},
     "output_type": "display_data"
    },
    {
     "data": {
      "text/html": [
       "<div>\n",
       "<style scoped>\n",
       "    .dataframe tbody tr th:only-of-type {\n",
       "        vertical-align: middle;\n",
       "    }\n",
       "\n",
       "    .dataframe tbody tr th {\n",
       "        vertical-align: top;\n",
       "    }\n",
       "\n",
       "    .dataframe thead th {\n",
       "        text-align: right;\n",
       "    }\n",
       "</style>\n",
       "<table border=\"1\" class=\"dataframe\">\n",
       "  <thead>\n",
       "    <tr style=\"text-align: right;\">\n",
       "      <th></th>\n",
       "      <th>A</th>\n",
       "      <th>B</th>\n",
       "      <th>C</th>\n",
       "    </tr>\n",
       "  </thead>\n",
       "  <tbody>\n",
       "    <tr>\n",
       "      <th>0</th>\n",
       "      <td>81</td>\n",
       "      <td>46</td>\n",
       "      <td>65</td>\n",
       "    </tr>\n",
       "    <tr>\n",
       "      <th>1</th>\n",
       "      <td>74</td>\n",
       "      <td>89</td>\n",
       "      <td>24</td>\n",
       "    </tr>\n",
       "    <tr>\n",
       "      <th>2</th>\n",
       "      <td>69</td>\n",
       "      <td>36</td>\n",
       "      <td>14</td>\n",
       "    </tr>\n",
       "    <tr>\n",
       "      <th>3</th>\n",
       "      <td>47</td>\n",
       "      <td>70</td>\n",
       "      <td>51</td>\n",
       "    </tr>\n",
       "  </tbody>\n",
       "</table>\n",
       "</div>"
      ],
      "text/plain": [
       "    A   B   C\n",
       "0  81  46  65\n",
       "1  74  89  24\n",
       "2  69  36  14\n",
       "3  47  70  51"
      ]
     },
     "metadata": {},
     "output_type": "display_data"
    },
    {
     "data": {
      "text/html": [
       "<div>\n",
       "<style scoped>\n",
       "    .dataframe tbody tr th:only-of-type {\n",
       "        vertical-align: middle;\n",
       "    }\n",
       "\n",
       "    .dataframe tbody tr th {\n",
       "        vertical-align: top;\n",
       "    }\n",
       "\n",
       "    .dataframe thead th {\n",
       "        text-align: right;\n",
       "    }\n",
       "</style>\n",
       "<table border=\"1\" class=\"dataframe\">\n",
       "  <thead>\n",
       "    <tr style=\"text-align: right;\">\n",
       "      <th></th>\n",
       "      <th>0</th>\n",
       "      <th>1</th>\n",
       "      <th>2</th>\n",
       "      <th>3</th>\n",
       "      <th>4</th>\n",
       "      <th>5</th>\n",
       "    </tr>\n",
       "  </thead>\n",
       "  <tbody>\n",
       "    <tr>\n",
       "      <th>1</th>\n",
       "      <td>81</td>\n",
       "      <td>46</td>\n",
       "      <td>65</td>\n",
       "      <td>36</td>\n",
       "      <td>14</td>\n",
       "      <td>69</td>\n",
       "    </tr>\n",
       "    <tr>\n",
       "      <th>2</th>\n",
       "      <td>74</td>\n",
       "      <td>89</td>\n",
       "      <td>24</td>\n",
       "      <td>70</td>\n",
       "      <td>51</td>\n",
       "      <td>47</td>\n",
       "    </tr>\n",
       "  </tbody>\n",
       "</table>\n",
       "</div>"
      ],
      "text/plain": [
       "    0   1   2   3   4   5\n",
       "1  81  46  65  36  14  69\n",
       "2  74  89  24  70  51  47"
      ]
     },
     "metadata": {},
     "output_type": "display_data"
    }
   ],
   "source": [
    "display(df1)\n",
    "display(df2)\n",
    "display(pd.concat([df1, df2], ignore_index= True))\n",
    "display(pd.concat([df1, df2], axis= 1, ignore_index=True))"
   ]
  },
  {
   "cell_type": "code",
   "execution_count": 15,
   "metadata": {},
   "outputs": [],
   "source": [
    "df1 = DF([1,2,3], 'ACB')\n",
    "df2 = DF([4,5,6], 'BCD')"
   ]
  },
  {
   "cell_type": "code",
   "execution_count": 16,
   "metadata": {},
   "outputs": [
    {
     "data": {
      "text/html": [
       "<div>\n",
       "<style scoped>\n",
       "    .dataframe tbody tr th:only-of-type {\n",
       "        vertical-align: middle;\n",
       "    }\n",
       "\n",
       "    .dataframe tbody tr th {\n",
       "        vertical-align: top;\n",
       "    }\n",
       "\n",
       "    .dataframe thead th {\n",
       "        text-align: right;\n",
       "    }\n",
       "</style>\n",
       "<table border=\"1\" class=\"dataframe\">\n",
       "  <thead>\n",
       "    <tr style=\"text-align: right;\">\n",
       "      <th></th>\n",
       "      <th>A</th>\n",
       "      <th>C</th>\n",
       "      <th>B</th>\n",
       "    </tr>\n",
       "  </thead>\n",
       "  <tbody>\n",
       "    <tr>\n",
       "      <th>1</th>\n",
       "      <td>59</td>\n",
       "      <td>80</td>\n",
       "      <td>85</td>\n",
       "    </tr>\n",
       "    <tr>\n",
       "      <th>2</th>\n",
       "      <td>18</td>\n",
       "      <td>67</td>\n",
       "      <td>16</td>\n",
       "    </tr>\n",
       "    <tr>\n",
       "      <th>3</th>\n",
       "      <td>98</td>\n",
       "      <td>24</td>\n",
       "      <td>69</td>\n",
       "    </tr>\n",
       "  </tbody>\n",
       "</table>\n",
       "</div>"
      ],
      "text/plain": [
       "    A   C   B\n",
       "1  59  80  85\n",
       "2  18  67  16\n",
       "3  98  24  69"
      ]
     },
     "metadata": {},
     "output_type": "display_data"
    },
    {
     "data": {
      "text/html": [
       "<div>\n",
       "<style scoped>\n",
       "    .dataframe tbody tr th:only-of-type {\n",
       "        vertical-align: middle;\n",
       "    }\n",
       "\n",
       "    .dataframe tbody tr th {\n",
       "        vertical-align: top;\n",
       "    }\n",
       "\n",
       "    .dataframe thead th {\n",
       "        text-align: right;\n",
       "    }\n",
       "</style>\n",
       "<table border=\"1\" class=\"dataframe\">\n",
       "  <thead>\n",
       "    <tr style=\"text-align: right;\">\n",
       "      <th></th>\n",
       "      <th>B</th>\n",
       "      <th>C</th>\n",
       "      <th>D</th>\n",
       "    </tr>\n",
       "  </thead>\n",
       "  <tbody>\n",
       "    <tr>\n",
       "      <th>4</th>\n",
       "      <td>18</td>\n",
       "      <td>83</td>\n",
       "      <td>31</td>\n",
       "    </tr>\n",
       "    <tr>\n",
       "      <th>5</th>\n",
       "      <td>99</td>\n",
       "      <td>40</td>\n",
       "      <td>23</td>\n",
       "    </tr>\n",
       "    <tr>\n",
       "      <th>6</th>\n",
       "      <td>3</td>\n",
       "      <td>80</td>\n",
       "      <td>4</td>\n",
       "    </tr>\n",
       "  </tbody>\n",
       "</table>\n",
       "</div>"
      ],
      "text/plain": [
       "    B   C   D\n",
       "4  18  83  31\n",
       "5  99  40  23\n",
       "6   3  80   4"
      ]
     },
     "metadata": {},
     "output_type": "display_data"
    }
   ],
   "source": [
    "display(df1);\n",
    "display(df2)"
   ]
  },
  {
   "cell_type": "code",
   "execution_count": 27,
   "metadata": {},
   "outputs": [
    {
     "data": {
      "text/html": [
       "<div>\n",
       "<style scoped>\n",
       "    .dataframe tbody tr th:only-of-type {\n",
       "        vertical-align: middle;\n",
       "    }\n",
       "\n",
       "    .dataframe tbody tr th {\n",
       "        vertical-align: top;\n",
       "    }\n",
       "\n",
       "    .dataframe thead th {\n",
       "        text-align: right;\n",
       "    }\n",
       "</style>\n",
       "<table border=\"1\" class=\"dataframe\">\n",
       "  <thead>\n",
       "    <tr style=\"text-align: right;\">\n",
       "      <th></th>\n",
       "      <th>A</th>\n",
       "      <th>C</th>\n",
       "      <th>B</th>\n",
       "      <th>D</th>\n",
       "    </tr>\n",
       "  </thead>\n",
       "  <tbody>\n",
       "    <tr>\n",
       "      <th>1</th>\n",
       "      <td>59.0</td>\n",
       "      <td>80</td>\n",
       "      <td>85</td>\n",
       "      <td>NaN</td>\n",
       "    </tr>\n",
       "    <tr>\n",
       "      <th>2</th>\n",
       "      <td>18.0</td>\n",
       "      <td>67</td>\n",
       "      <td>16</td>\n",
       "      <td>NaN</td>\n",
       "    </tr>\n",
       "    <tr>\n",
       "      <th>3</th>\n",
       "      <td>98.0</td>\n",
       "      <td>24</td>\n",
       "      <td>69</td>\n",
       "      <td>NaN</td>\n",
       "    </tr>\n",
       "    <tr>\n",
       "      <th>4</th>\n",
       "      <td>NaN</td>\n",
       "      <td>83</td>\n",
       "      <td>18</td>\n",
       "      <td>31.0</td>\n",
       "    </tr>\n",
       "    <tr>\n",
       "      <th>5</th>\n",
       "      <td>NaN</td>\n",
       "      <td>40</td>\n",
       "      <td>99</td>\n",
       "      <td>23.0</td>\n",
       "    </tr>\n",
       "    <tr>\n",
       "      <th>6</th>\n",
       "      <td>NaN</td>\n",
       "      <td>80</td>\n",
       "      <td>3</td>\n",
       "      <td>4.0</td>\n",
       "    </tr>\n",
       "  </tbody>\n",
       "</table>\n",
       "</div>"
      ],
      "text/plain": [
       "      A   C   B     D\n",
       "1  59.0  80  85   NaN\n",
       "2  18.0  67  16   NaN\n",
       "3  98.0  24  69   NaN\n",
       "4   NaN  83  18  31.0\n",
       "5   NaN  40  99  23.0\n",
       "6   NaN  80   3   4.0"
      ]
     },
     "execution_count": 27,
     "metadata": {},
     "output_type": "execute_result"
    }
   ],
   "source": [
    "pd.concat([df1,df2])"
   ]
  },
  {
   "cell_type": "code",
   "execution_count": 28,
   "metadata": {},
   "outputs": [
    {
     "data": {
      "text/html": [
       "<div>\n",
       "<style scoped>\n",
       "    .dataframe tbody tr th:only-of-type {\n",
       "        vertical-align: middle;\n",
       "    }\n",
       "\n",
       "    .dataframe tbody tr th {\n",
       "        vertical-align: top;\n",
       "    }\n",
       "\n",
       "    .dataframe thead th {\n",
       "        text-align: right;\n",
       "    }\n",
       "</style>\n",
       "<table border=\"1\" class=\"dataframe\">\n",
       "  <thead>\n",
       "    <tr style=\"text-align: right;\">\n",
       "      <th></th>\n",
       "      <th>A</th>\n",
       "      <th>C</th>\n",
       "      <th>B</th>\n",
       "    </tr>\n",
       "  </thead>\n",
       "  <tbody>\n",
       "    <tr>\n",
       "      <th>1</th>\n",
       "      <td>59</td>\n",
       "      <td>80</td>\n",
       "      <td>85</td>\n",
       "    </tr>\n",
       "    <tr>\n",
       "      <th>2</th>\n",
       "      <td>18</td>\n",
       "      <td>67</td>\n",
       "      <td>16</td>\n",
       "    </tr>\n",
       "    <tr>\n",
       "      <th>3</th>\n",
       "      <td>98</td>\n",
       "      <td>24</td>\n",
       "      <td>69</td>\n",
       "    </tr>\n",
       "  </tbody>\n",
       "</table>\n",
       "</div>"
      ],
      "text/plain": [
       "    A   C   B\n",
       "1  59  80  85\n",
       "2  18  67  16\n",
       "3  98  24  69"
      ]
     },
     "execution_count": 28,
     "metadata": {},
     "output_type": "execute_result"
    }
   ],
   "source": [
    "df1"
   ]
  },
  {
   "cell_type": "code",
   "execution_count": 43,
   "metadata": {},
   "outputs": [],
   "source": [
    "s1 = pd.Series([1,2,3,4])"
   ]
  },
  {
   "cell_type": "code",
   "execution_count": 45,
   "metadata": {},
   "outputs": [
    {
     "data": {
      "text/html": [
       "<div>\n",
       "<style scoped>\n",
       "    .dataframe tbody tr th:only-of-type {\n",
       "        vertical-align: middle;\n",
       "    }\n",
       "\n",
       "    .dataframe tbody tr th {\n",
       "        vertical-align: top;\n",
       "    }\n",
       "\n",
       "    .dataframe thead th {\n",
       "        text-align: right;\n",
       "    }\n",
       "</style>\n",
       "<table border=\"1\" class=\"dataframe\">\n",
       "  <thead>\n",
       "    <tr style=\"text-align: right;\">\n",
       "      <th></th>\n",
       "      <th>A</th>\n",
       "      <th>C</th>\n",
       "      <th>B</th>\n",
       "      <th>0</th>\n",
       "    </tr>\n",
       "  </thead>\n",
       "  <tbody>\n",
       "    <tr>\n",
       "      <th>0</th>\n",
       "      <td>NaN</td>\n",
       "      <td>NaN</td>\n",
       "      <td>NaN</td>\n",
       "      <td>1</td>\n",
       "    </tr>\n",
       "    <tr>\n",
       "      <th>1</th>\n",
       "      <td>59.0</td>\n",
       "      <td>80.0</td>\n",
       "      <td>85.0</td>\n",
       "      <td>2</td>\n",
       "    </tr>\n",
       "    <tr>\n",
       "      <th>2</th>\n",
       "      <td>18.0</td>\n",
       "      <td>67.0</td>\n",
       "      <td>16.0</td>\n",
       "      <td>3</td>\n",
       "    </tr>\n",
       "    <tr>\n",
       "      <th>3</th>\n",
       "      <td>98.0</td>\n",
       "      <td>24.0</td>\n",
       "      <td>69.0</td>\n",
       "      <td>4</td>\n",
       "    </tr>\n",
       "  </tbody>\n",
       "</table>\n",
       "</div>"
      ],
      "text/plain": [
       "      A     C     B  0\n",
       "0   NaN   NaN   NaN  1\n",
       "1  59.0  80.0  85.0  2\n",
       "2  18.0  67.0  16.0  3\n",
       "3  98.0  24.0  69.0  4"
      ]
     },
     "execution_count": 45,
     "metadata": {},
     "output_type": "execute_result"
    }
   ],
   "source": [
    "pd.concat([df1,s1], axis=1)"
   ]
  },
  {
   "cell_type": "markdown",
   "metadata": {},
   "source": [
    "### After stuff"
   ]
  },
  {
   "cell_type": "code",
   "execution_count": 59,
   "metadata": {},
   "outputs": [
    {
     "data": {
      "text/html": [
       "<div>\n",
       "<style scoped>\n",
       "    .dataframe tbody tr th:only-of-type {\n",
       "        vertical-align: middle;\n",
       "    }\n",
       "\n",
       "    .dataframe tbody tr th {\n",
       "        vertical-align: top;\n",
       "    }\n",
       "\n",
       "    .dataframe thead th {\n",
       "        text-align: right;\n",
       "    }\n",
       "</style>\n",
       "<table border=\"1\" class=\"dataframe\">\n",
       "  <thead>\n",
       "    <tr style=\"text-align: right;\">\n",
       "      <th></th>\n",
       "      <th>A</th>\n",
       "      <th>C</th>\n",
       "      <th>B</th>\n",
       "      <th>D</th>\n",
       "    </tr>\n",
       "  </thead>\n",
       "  <tbody>\n",
       "    <tr>\n",
       "      <th>a</th>\n",
       "      <td>1</td>\n",
       "      <td>0</td>\n",
       "      <td>1</td>\n",
       "      <td>9</td>\n",
       "    </tr>\n",
       "    <tr>\n",
       "      <th>d</th>\n",
       "      <td>9</td>\n",
       "      <td>2</td>\n",
       "      <td>7</td>\n",
       "      <td>2</td>\n",
       "    </tr>\n",
       "    <tr>\n",
       "      <th>c</th>\n",
       "      <td>3</td>\n",
       "      <td>2</td>\n",
       "      <td>9</td>\n",
       "      <td>5</td>\n",
       "    </tr>\n",
       "    <tr>\n",
       "      <th>b</th>\n",
       "      <td>7</td>\n",
       "      <td>0</td>\n",
       "      <td>6</td>\n",
       "      <td>2</td>\n",
       "    </tr>\n",
       "  </tbody>\n",
       "</table>\n",
       "</div>"
      ],
      "text/plain": [
       "   A  C  B  D\n",
       "a  1  0  1  9\n",
       "d  9  2  7  2\n",
       "c  3  2  9  5\n",
       "b  7  0  6  2"
      ]
     },
     "execution_count": 59,
     "metadata": {},
     "output_type": "execute_result"
    }
   ],
   "source": [
    "df"
   ]
  },
  {
   "cell_type": "code",
   "execution_count": 61,
   "metadata": {},
   "outputs": [],
   "source": [
    "df = df.stack()"
   ]
  },
  {
   "cell_type": "code",
   "execution_count": 62,
   "metadata": {},
   "outputs": [
    {
     "data": {
      "text/plain": [
       "a  A    1\n",
       "   C    0\n",
       "   B    1\n",
       "   D    9\n",
       "d  A    9\n",
       "   C    2\n",
       "   B    7\n",
       "   D    2\n",
       "c  A    3\n",
       "   C    2\n",
       "   B    9\n",
       "   D    5\n",
       "b  A    7\n",
       "   C    0\n",
       "   B    6\n",
       "   D    2\n",
       "dtype: int32"
      ]
     },
     "execution_count": 62,
     "metadata": {},
     "output_type": "execute_result"
    }
   ],
   "source": [
    "df"
   ]
  },
  {
   "cell_type": "code",
   "execution_count": 63,
   "metadata": {},
   "outputs": [
    {
     "data": {
      "text/plain": [
       "MultiIndex([('a', 'A'),\n",
       "            ('a', 'C'),\n",
       "            ('a', 'B'),\n",
       "            ('a', 'D'),\n",
       "            ('d', 'A'),\n",
       "            ('d', 'C'),\n",
       "            ('d', 'B'),\n",
       "            ('d', 'D'),\n",
       "            ('c', 'A'),\n",
       "            ('c', 'C'),\n",
       "            ('c', 'B'),\n",
       "            ('c', 'D'),\n",
       "            ('b', 'A'),\n",
       "            ('b', 'C'),\n",
       "            ('b', 'B'),\n",
       "            ('b', 'D')],\n",
       "           )"
      ]
     },
     "execution_count": 63,
     "metadata": {},
     "output_type": "execute_result"
    }
   ],
   "source": [
    "df.index"
   ]
  },
  {
   "cell_type": "code",
   "execution_count": 65,
   "metadata": {},
   "outputs": [
    {
     "data": {
      "text/plain": [
       "d  A    9\n",
       "   C    2\n",
       "   B    7\n",
       "   D    2\n",
       "c  A    3\n",
       "   C    2\n",
       "   B    9\n",
       "   D    5\n",
       "b  A    7\n",
       "   C    0\n",
       "   B    6\n",
       "   D    2\n",
       "dtype: int32"
      ]
     },
     "execution_count": 65,
     "metadata": {},
     "output_type": "execute_result"
    }
   ],
   "source": [
    "df['d': 'b']"
   ]
  },
  {
   "cell_type": "markdown",
   "metadata": {},
   "source": [
    "# "
   ]
  },
  {
   "cell_type": "code",
   "execution_count": 68,
   "metadata": {},
   "outputs": [
    {
     "data": {
      "text/plain": [
       "MultiIndex([('a', 1),\n",
       "            ('a', 2),\n",
       "            ('c', 1),\n",
       "            ('c', 2),\n",
       "            ('b', 1),\n",
       "            ('b', 2)],\n",
       "           )"
      ]
     },
     "execution_count": 68,
     "metadata": {},
     "output_type": "execute_result"
    }
   ],
   "source": [
    "index= pd.MultiIndex.from_product([['a', 'c', 'b'], [1, 2]])\n",
    "index"
   ]
  },
  {
   "cell_type": "code",
   "execution_count": 70,
   "metadata": {},
   "outputs": [
    {
     "data": {
      "text/plain": [
       "a  1    0.361909\n",
       "   2    0.617210\n",
       "c  1    0.544724\n",
       "   2    0.346865\n",
       "b  1    0.257721\n",
       "   2    0.714942\n",
       "dtype: float64"
      ]
     },
     "execution_count": 70,
     "metadata": {},
     "output_type": "execute_result"
    }
   ],
   "source": [
    "data = pd.Series(np.random.rand(6), index= index)\n",
    "data"
   ]
  },
  {
   "cell_type": "code",
   "execution_count": 71,
   "metadata": {},
   "outputs": [
    {
     "ename": "UnsortedIndexError",
     "evalue": "'Key length (1) was greater than MultiIndex lexsort depth (0)'",
     "output_type": "error",
     "traceback": [
      "\u001b[1;31mUnsortedIndexError\u001b[0m\u001b[1;31m:\u001b[0m 'Key length (1) was greater than MultiIndex lexsort depth (0)'\n"
     ]
    }
   ],
   "source": [
    "data['a': 'b']"
   ]
  },
  {
   "cell_type": "code",
   "execution_count": 72,
   "metadata": {},
   "outputs": [
    {
     "data": {
      "text/plain": [
       "MultiIndex([('a', 1),\n",
       "            ('a', 2),\n",
       "            ('c', 1),\n",
       "            ('c', 2),\n",
       "            ('b', 1),\n",
       "            ('b', 2)],\n",
       "           )"
      ]
     },
     "execution_count": 72,
     "metadata": {},
     "output_type": "execute_result"
    }
   ],
   "source": [
    "data.index"
   ]
  },
  {
   "cell_type": "code",
   "execution_count": 73,
   "metadata": {},
   "outputs": [
    {
     "data": {
      "text/plain": [
       "pandas.core.series.Series"
      ]
     },
     "execution_count": 73,
     "metadata": {},
     "output_type": "execute_result"
    }
   ],
   "source": [
    "type(df)"
   ]
  },
  {
   "cell_type": "code",
   "execution_count": 74,
   "metadata": {},
   "outputs": [
    {
     "data": {
      "text/plain": [
       "pandas.core.series.Series"
      ]
     },
     "execution_count": 74,
     "metadata": {},
     "output_type": "execute_result"
    }
   ],
   "source": [
    "type(data)"
   ]
  },
  {
   "cell_type": "code",
   "execution_count": 83,
   "metadata": {},
   "outputs": [
    {
     "ename": "UnsortedIndexError",
     "evalue": "'Key length (1) was greater than MultiIndex lexsort depth (0)'",
     "output_type": "error",
     "traceback": [
      "\u001b[1;31mUnsortedIndexError\u001b[0m\u001b[1;31m:\u001b[0m 'Key length (1) was greater than MultiIndex lexsort depth (0)'\n"
     ]
    }
   ],
   "source": [
    "data['a':'d']"
   ]
  },
  {
   "cell_type": "code",
   "execution_count": null,
   "metadata": {},
   "outputs": [],
   "source": []
  },
  {
   "cell_type": "code",
   "execution_count": null,
   "metadata": {},
   "outputs": [],
   "source": []
  },
  {
   "cell_type": "code",
   "execution_count": null,
   "metadata": {},
   "outputs": [],
   "source": []
  },
  {
   "cell_type": "code",
   "execution_count": null,
   "metadata": {},
   "outputs": [],
   "source": []
  },
  {
   "cell_type": "code",
   "execution_count": null,
   "metadata": {},
   "outputs": [],
   "source": []
  },
  {
   "cell_type": "code",
   "execution_count": null,
   "metadata": {},
   "outputs": [],
   "source": []
  },
  {
   "cell_type": "code",
   "execution_count": null,
   "metadata": {},
   "outputs": [],
   "source": []
  },
  {
   "cell_type": "code",
   "execution_count": 1,
   "metadata": {},
   "outputs": [
    {
     "data": {
      "text/html": [
       "<style>\n",
       ".output {\n",
       "    flex-direction: row;\n",
       "}\n",
       "</style>"
      ],
      "text/plain": [
       "<IPython.core.display.HTML object>"
      ]
     },
     "execution_count": 1,
     "metadata": {},
     "output_type": "execute_result"
    }
   ],
   "source": [
    "import pandas as pd\n",
    "import numpy as np\n",
    "from IPython.display import display, HTML\n",
    "\n",
    "CSS = \"\"\"\n",
    ".output {\n",
    "    flex-direction: row;\n",
    "}\n",
    "\"\"\"\n",
    "\n",
    "HTML('<style>{}</style>'.format(CSS))"
   ]
  },
  {
   "cell_type": "code",
   "execution_count": null,
   "metadata": {},
   "outputs": [],
   "source": []
  }
 ],
 "metadata": {
  "kernelspec": {
   "display_name": "Python 3",
   "language": "python",
   "name": "python3"
  },
  "language_info": {
   "codemirror_mode": {
    "name": "ipython",
    "version": 3
   },
   "file_extension": ".py",
   "mimetype": "text/x-python",
   "name": "python",
   "nbconvert_exporter": "python",
   "pygments_lexer": "ipython3",
   "version": "3.8.5"
  }
 },
 "nbformat": 4,
 "nbformat_minor": 4
}
